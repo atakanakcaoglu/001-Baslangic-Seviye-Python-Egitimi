{
 "cells": [
  {
   "cell_type": "markdown",
   "id": "57f755f5",
   "metadata": {},
   "source": [
    "# Python Veri Tipleri"
   ]
  },
  {
   "cell_type": "markdown",
   "id": "0c72386a",
   "metadata": {},
   "source": [
    "Python'da veri tipleri, bir değişkenin tutabileceği değerlerin türünü tanımlar. Python'da aşağıdaki veri tipleri bulunur:\n",
    "\n",
    "- Temel veri tipleri:\n",
    "    - **Tamsayılar (int):** Pozitif veya negatif tamsayılar.\n",
    "    - **Ondalık sayılar (float):** Ondalık basamaklı sayılar.\n",
    "    - **Kompleks sayılar(complex):** Kompleks sayılar.\n",
    "    - **Karakterler (str):** Tek bir karakteri temsil eden karakter dizileri.\n",
    "    - **Mantıksal değerler (bool):** Doğru veya yanlış değerleri temsil eden değerler.\n",
    "- Derleme zamanı veri tipleri:\n",
    "    - **Diziler (list):** Değişken uzunlukta veri saklar.\n",
    "    - **Sözlükler (dict):** Anahtar-değer çiftleri saklar.\n",
    "    - **Kümeler (set):** Benzersiz öğeler saklar.\n",
    "    - **Tuple'lar (tuple):** Sabit uzunlukta veri saklar.\n",
    "    - **Veri yapıları (collections):** Listeler, sözlükler, kümeler ve tuple'lar gibi veri yapılarını kapsar."
   ]
  },
  {
   "cell_type": "markdown",
   "id": "77a4c513",
   "metadata": {},
   "source": [
    "## Tam Sayılar"
   ]
  },
  {
   "cell_type": "code",
   "execution_count": null,
   "id": "26697857",
   "metadata": {},
   "outputs": [],
   "source": [
    "x = 10\n",
    "y = -123\n"
   ]
  },
  {
   "cell_type": "markdown",
   "id": "eaeef50b",
   "metadata": {},
   "source": [
    "## Ondalık sayılar (float):"
   ]
  },
  {
   "cell_type": "code",
   "execution_count": 2,
   "id": "f9058ef5",
   "metadata": {},
   "outputs": [],
   "source": [
    "x = 3.14\n",
    "y = -123.456"
   ]
  },
  {
   "cell_type": "markdown",
   "id": "1717202e",
   "metadata": {},
   "source": [
    "## Karakterler (str):"
   ]
  },
  {
   "cell_type": "code",
   "execution_count": 3,
   "id": "e83c162b",
   "metadata": {},
   "outputs": [],
   "source": [
    "x = \"Merhaba Dünya!\"\n",
    "y = \"Python\""
   ]
  },
  {
   "cell_type": "markdown",
   "id": "fe0c2223",
   "metadata": {},
   "source": [
    "## Mantıksal değerler (bool):"
   ]
  },
  {
   "cell_type": "code",
   "execution_count": 4,
   "id": "80d97c66",
   "metadata": {},
   "outputs": [],
   "source": [
    "x = True\n",
    "y = False"
   ]
  },
  {
   "cell_type": "markdown",
   "id": "9c0a34d5",
   "metadata": {},
   "source": [
    "## Diziler (list):"
   ]
  },
  {
   "cell_type": "code",
   "execution_count": 5,
   "id": "21d59e1d",
   "metadata": {},
   "outputs": [],
   "source": [
    "x = [1, 2, 3]\n",
    "y = [\"Merhaba\", \"Dünya!\"]"
   ]
  },
  {
   "cell_type": "markdown",
   "id": "90087147",
   "metadata": {},
   "source": [
    "## Sözlükler (dict):"
   ]
  },
  {
   "cell_type": "code",
   "execution_count": 6,
   "id": "bb14e93d",
   "metadata": {},
   "outputs": [],
   "source": [
    "x = {\"isim\": \"Bard\", \"yas\": 20}\n",
    "y = {1: \"Merhaba\", 2: \"Dünya!\"}"
   ]
  },
  {
   "cell_type": "markdown",
   "id": "8829f733",
   "metadata": {},
   "source": [
    "## Kümeler (set):"
   ]
  },
  {
   "cell_type": "code",
   "execution_count": 7,
   "id": "50567146",
   "metadata": {},
   "outputs": [],
   "source": [
    "x = {1, 2, 3}\n",
    "y = {\"Merhaba\", \"Dünya!\"}"
   ]
  },
  {
   "cell_type": "markdown",
   "id": "e4166285",
   "metadata": {},
   "source": [
    "## Tuple'lar (tuple):"
   ]
  },
  {
   "cell_type": "code",
   "execution_count": 8,
   "id": "9c278a1b",
   "metadata": {},
   "outputs": [],
   "source": [
    "x = (1, 2, 3)\n",
    "y = (\"Merhaba\", \"Dünya!\")"
   ]
  },
  {
   "cell_type": "markdown",
   "id": "42187a7c",
   "metadata": {},
   "source": [
    "## Veri yapıları (collections):"
   ]
  },
  {
   "cell_type": "code",
   "execution_count": 9,
   "id": "52951ebd",
   "metadata": {},
   "outputs": [
    {
     "name": "stdout",
     "output_type": "stream",
     "text": [
      "Counter({'a': 3, 'M': 1, 'e': 1, 'r': 1, 'h': 1, 'b': 1, ' ': 1, 'D': 1, 'ü': 1, 'n': 1, 'y': 1, '!': 1})\n"
     ]
    }
   ],
   "source": [
    "from collections import Counter\n",
    "\n",
    "x = Counter(\"Merhaba Dünya!\")\n",
    "print(x)"
   ]
  },
  {
   "cell_type": "markdown",
   "id": "82a921e6",
   "metadata": {},
   "source": [
    "## Veri tipleri nasıl kontrol edilir?"
   ]
  },
  {
   "cell_type": "markdown",
   "id": "70bd5108",
   "metadata": {},
   "source": [
    "Python'da veri tiplerini kontrol etmek için aşağıdaki yöntemleri kullanabilirsiniz:\n",
    "\n",
    "- **type():** Bir değişkenin veri tipini döndürür.\n",
    "- **isinstance():** Bir değişkenin belirli bir veri tipine ait olup olmadığını kontrol eder.\n",
    "- **dir():** Bir değişkenin sahip olduğu tüm özelliklerin ve metotların listesini döndürür."
   ]
  },
  {
   "cell_type": "code",
   "execution_count": 10,
   "id": "4fef7934",
   "metadata": {},
   "outputs": [
    {
     "name": "stdout",
     "output_type": "stream",
     "text": [
      "<class 'int'>\n",
      "True\n",
      "['__abs__', '__add__', '__and__', '__bool__', '__ceil__', '__class__', '__delattr__', '__dir__', '__divmod__', '__doc__', '__eq__', '__float__', '__floor__', '__floordiv__', '__format__', '__ge__', '__getattribute__', '__getnewargs__', '__getstate__', '__gt__', '__hash__', '__index__', '__init__', '__init_subclass__', '__int__', '__invert__', '__le__', '__lshift__', '__lt__', '__mod__', '__mul__', '__ne__', '__neg__', '__new__', '__or__', '__pos__', '__pow__', '__radd__', '__rand__', '__rdivmod__', '__reduce__', '__reduce_ex__', '__repr__', '__rfloordiv__', '__rlshift__', '__rmod__', '__rmul__', '__ror__', '__round__', '__rpow__', '__rrshift__', '__rshift__', '__rsub__', '__rtruediv__', '__rxor__', '__setattr__', '__sizeof__', '__str__', '__sub__', '__subclasshook__', '__truediv__', '__trunc__', '__xor__', 'as_integer_ratio', 'bit_count', 'bit_length', 'conjugate', 'denominator', 'from_bytes', 'imag', 'numerator', 'real', 'to_bytes']\n"
     ]
    }
   ],
   "source": [
    "x = 10\n",
    "\n",
    "# type() yöntemi\n",
    "print(type(x))\n",
    "# <class 'int'>\n",
    "\n",
    "# isinstance() yöntemi\n",
    "print(isinstance(x, int))\n",
    "# True\n",
    "\n",
    "# dir() yöntemi\n",
    "print(dir(x))\n",
    "# ['__abs__', '__add__', '__and__', '__bool__', '__ceil__', '__class__', '__delattr__', '__divmod__', '__eq__', '__float__', '__floor__', '__ge__', '__gt__', '__hash__', '__iadd__', '__idivmod__', '__imul__', '__init__', '__int__', '__invert__', '__le__', '__lt__', '__lshift__', '__mod__', '__mul__', '__ne__', '__neg__', '__or__', '__pos__', '__pow__', '__radd__', '__rand__', '__rdivmod__', '__repr__', '__rfloordiv__', '__rlshift__', '__rmod__', '__rmul__', '__ror\n"
   ]
  }
 ],
 "metadata": {
  "kernelspec": {
   "display_name": "Python 3 (ipykernel)",
   "language": "python",
   "name": "python3"
  },
  "language_info": {
   "codemirror_mode": {
    "name": "ipython",
    "version": 3
   },
   "file_extension": ".py",
   "mimetype": "text/x-python",
   "name": "python",
   "nbconvert_exporter": "python",
   "pygments_lexer": "ipython3",
   "version": "3.11.5"
  },
  "nbTranslate": {
   "displayLangs": [
    "en",
    "tr"
   ],
   "hotkey": "alt-t",
   "langInMainMenu": true,
   "sourceLang": "tr",
   "targetLang": "en",
   "useGoogleTranslate": true
  }
 },
 "nbformat": 4,
 "nbformat_minor": 5
}
