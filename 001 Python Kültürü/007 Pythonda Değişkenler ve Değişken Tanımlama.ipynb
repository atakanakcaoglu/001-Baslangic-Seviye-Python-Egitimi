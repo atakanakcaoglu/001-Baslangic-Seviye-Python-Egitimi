{
 "cells": [
  {
   "attachments": {
    "image.png": {
     "image/png": "[encoded data removed]"
    }
   },
   "cell_type": "markdown",
   "id": "painful-bennett",
   "metadata": {},
   "source": [
    "# Değişkenler ve Değişken Tanımlama\n",
    "\n",
    "## Değişken Nedir?\n",
    "\n",
    "\n",
    "Programlama yaparken, aritmetik işlemlerden çıkan sonuçlarının başka işlemlerde vb. kullanmak gerekecektir.\n",
    "\n",
    "Ara sonuçları nasıl kaydeceğiz ve sonraki sonuçları üretmek için bunları tekrar nasıl kullanacağız?\n",
    "\n",
    "Python bu konuda size yardımcı olacaktır. Bu amaç için özel \"kutular\" (kaplar) sunar ve bu kutulara değişkenler denir - adın kendisi, bu kapların içeriğinin (neredeyse) herhangi bir şekilde değiştirilebileceğini gösterir.\n",
    "\n",
    "![image.png](attachment:image.png)\n",
    "\n",
    "Her Python değişkeni nelere sahiptir?\n",
    "\n",
    "* bir isim;\n",
    "* bir değer (kabın içeriği)\n",
    "\n",
    "\n",
    "Değişkenler bir programda otomatik olarak görünmez. Geliştirici olarak programlarınızda kaç tane ve hangi değişkenlerin kullanılacağına karar vermelisiniz.\n",
    "\n",
    "Ayrıca onlara isim vermelisiniz."
   ]
  },
  {
   "cell_type": "code",
   "execution_count": 2,
   "id": "professional-signal",
   "metadata": {},
   "outputs": [],
   "source": [
    "i = 10"
   ]
  },
  {
   "cell_type": "code",
   "execution_count": 3,
   "id": "reliable-knitting",
   "metadata": {},
   "outputs": [],
   "source": [
    "j = \"ahmet\""
   ]
  },
  {
   "cell_type": "code",
   "execution_count": 4,
   "id": "universal-welsh",
   "metadata": {},
   "outputs": [],
   "source": [
    "k = 3.14"
   ]
  },
  {
   "cell_type": "code",
   "execution_count": 5,
   "id": "atomic-paris",
   "metadata": {},
   "outputs": [],
   "source": [
    "c = complex(3,4)"
   ]
  },
  {
   "cell_type": "markdown",
   "id": "oriental-daily",
   "metadata": {},
   "source": [
    "Değişkeni oluşturduktan sonra jupyter'de ekrana bastırabiliriz."
   ]
  },
  {
   "cell_type": "code",
   "execution_count": 6,
   "id": "extraordinary-evans",
   "metadata": {},
   "outputs": [
    {
     "data": {
      "text/plain": [
       "'ahmet'"
      ]
     },
     "execution_count": 6,
     "metadata": {},
     "output_type": "execute_result"
    }
   ],
   "source": [
    "j"
   ]
  },
  {
   "cell_type": "markdown",
   "id": "cellular-writing",
   "metadata": {},
   "source": [
    "Bu değişkenin değerini değiştirebiliriz. Bunun için , yeni değerimizi **\"=\"** operatörüyle değişkenimize **atamamız** gerekiyor."
   ]
  },
  {
   "cell_type": "code",
   "execution_count": 6,
   "id": "engaged-shakespeare",
   "metadata": {},
   "outputs": [],
   "source": [
    "j = 3"
   ]
  },
  {
   "cell_type": "code",
   "execution_count": 7,
   "id": "improved-discovery",
   "metadata": {},
   "outputs": [
    {
     "data": {
      "text/plain": [
       "3"
      ]
     },
     "execution_count": 7,
     "metadata": {},
     "output_type": "execute_result"
    }
   ],
   "source": [
    "j"
   ]
  },
  {
   "cell_type": "markdown",
   "id": "derived-proxy",
   "metadata": {},
   "source": [
    "Yeni bir değişkene eski değişkenlerin değerlerini kullanarak değer atayabiliriz."
   ]
  },
  {
   "cell_type": "code",
   "execution_count": 3,
   "id": "secret-malawi",
   "metadata": {},
   "outputs": [],
   "source": [
    "l = i + k"
   ]
  },
  {
   "cell_type": "code",
   "execution_count": 4,
   "id": "parliamentary-mystery",
   "metadata": {},
   "outputs": [
    {
     "data": {
      "text/plain": [
       "13.14"
      ]
     },
     "execution_count": 4,
     "metadata": {},
     "output_type": "execute_result"
    }
   ],
   "source": [
    "l"
   ]
  },
  {
   "cell_type": "markdown",
   "id": "recent-bridal",
   "metadata": {},
   "source": [
    "## Değişkenlere isim vermek"
   ]
  },
  {
   "cell_type": "markdown",
   "id": "theoretical-induction",
   "metadata": {},
   "source": [
    "### Python kuralları"
   ]
  },
  {
   "cell_type": "markdown",
   "id": "dated-material",
   "metadata": {},
   "source": [
    "1. Değişken isimleri bir sayı ile başlayamaz.\n",
    "2. Değişken ismi kelimelerden oluşuyorsa aralarında boşluk olamaz.\n",
    "3. :'\",<>/?|\\()!@#$%^&*~-+ Buradaki semboller değişken ismi içinde kullanılamaz.(Sadece _ sembolü kullanılabilir)\n",
    "4. Pythonda tanımlı anahtar kelimeler değişken ismi olarak kullanılamaz.(while, not vs. )"
   ]
  },
  {
   "cell_type": "code",
   "execution_count": 11,
   "id": "altered-concord",
   "metadata": {},
   "outputs": [
    {
     "ename": "SyntaxError",
     "evalue": "invalid syntax (<ipython-input-11-687cb8aeaa4f>, line 2)",
     "output_type": "error",
     "traceback": [
      "\u001b[1;36m  File \u001b[1;32m\"<ipython-input-11-687cb8aeaa4f>\"\u001b[1;36m, line \u001b[1;32m2\u001b[0m\n\u001b[1;33m    i? = 5\u001b[0m\n\u001b[1;37m     ^\u001b[0m\n\u001b[1;31mSyntaxError\u001b[0m\u001b[1;31m:\u001b[0m invalid syntax\n"
     ]
    }
   ],
   "source": [
    "i? = 5 # Bu kod hata verir."
   ]
  },
  {
   "cell_type": "code",
   "execution_count": 12,
   "id": "naval-librarian",
   "metadata": {},
   "outputs": [],
   "source": [
    "_i = 5 # Bu kod hata vermez."
   ]
  },
  {
   "cell_type": "code",
   "execution_count": 5,
   "id": "manufactured-value",
   "metadata": {},
   "outputs": [],
   "source": [
    "pi_number = 3.14\n",
    "perimeter = 4\n",
    "cevre = pi_sayisi * cap"
   ]
  },
  {
   "cell_type": "code",
   "execution_count": 7,
   "id": "placed-vertex",
   "metadata": {},
   "outputs": [
    {
     "data": {
      "text/plain": [
       "12.56"
      ]
     },
     "execution_count": 7,
     "metadata": {},
     "output_type": "execute_result"
    }
   ],
   "source": [
    "cevre"
   ]
  },
  {
   "cell_type": "markdown",
   "id": "a783363e",
   "metadata": {},
   "source": [
    "### Mevcut bir değişkene yeni bir değer atamak\n",
    "\n",
    "Önceden oluşturulmuş bir değişkene yeni bir değeri nasıl atarsınız? Aynı şekilde. Eşittir işaretini kullanmanız yeterlidir.\n",
    "\n",
    "Eşittir işareti aslında bir atama operatörüdür. Bu garip gelse de operatörün basit bir söz dizimi ve net bir yorumu vardır.\n",
    "\n",
    "Sağ argümanının değerini sola atar, sağ argüman ise değişmez değerleri, operatörleri ve önceden tanımlanmış değişkenleri içeren keyfi olarak karmaşık bir ifade olabilir.\n",
    "\n",
    "Aşağıdaki koda bakın:"
   ]
  },
  {
   "cell_type": "code",
   "execution_count": 1,
   "id": "63aaa985",
   "metadata": {},
   "outputs": [
    {
     "name": "stdout",
     "output_type": "stream",
     "text": [
      "1\n",
      "2\n"
     ]
    }
   ],
   "source": [
    "var = 1\n",
    "print(var)\n",
    "var = var + 1\n",
    "print(var)"
   ]
  },
  {
   "cell_type": "markdown",
   "id": "f9e5d3e5",
   "metadata": {},
   "source": [
    "Parçacığın ilk satırı var adında yeni bir değişken oluşturur ve ona 1 değerini atar.\n",
    "\n",
    "\n",
    "\n",
    "İfade şu şekildedir: var adlı bir değişkene 1 değerini atayın.\n",
    "\n",
    "Daha kısa diyebiliriz: var'a 1 atayın.\n",
    "\n",
    "Bazıları şu şekilde bir ifade okumayı tercih eder: var 1 olur.\n",
    "\n",
    "Üçüncü satır, aynı değişkeni, değişkenin kendisinden alınan ve 1 ile toplanan yeni değerle atar. Böyle bir kayıt gören bir matematikçi muhtemelen itiraz eder; hiçbir değer kendisinin artı birine eşit olamaz. Bu bir çelişkidir. Ancak Python = işaretini eşit olarak değil, bir değer atamış gibi ele alır.\n",
    "\n",
    "Peki böyle bir kaydı programda nasıl okursunuz?\n",
    "\n",
    "Var değişkeninin mevcut değerini alın, buna 1 ekleyin ve sonucu var değişkeninde saklayın.\n",
    "\n",
    "Aslında var değişkeninin değeri bir artırılmıştır, bunun değişkeni herhangi bir değerle karşılaştırmayla hiçbir ilgisi yoktur."
   ]
  },
  {
   "cell_type": "markdown",
   "id": "4f080d28",
   "metadata": {},
   "source": [
    "### Clean Code Kuralları"
   ]
  },
  {
   "cell_type": "markdown",
   "id": "4dd513fe",
   "metadata": {},
   "source": [
    "- **Açıklayıcı adlar kullanın.** Değişken adları açık ve kısa olmalı ve değişkenin içerdiği verileri doğru bir şekilde tanımlamalıdır. İyi bilinmediği ve yaygın olarak anlaşılmadığı sürece kısaltmalar veya kısaltmalar kullanmaktan kaçının.\n",
    "\n",
    "- **Tutarlı adlandırma kuralları kullanın.** Değişkenleriniz için bir adlandırma kuralı seçin ve buna bağlı kalın. Bu, kodunuzu daha okunabilir ve anlaşılması daha kolay hale getirecektir. Örneğin değişken adlarınız için camelCase veya Snake_case kullanmayı seçebilirsiniz.\n",
    "\n",
    "- **Global değişkenleri kullanmaktan kaçının.** Global değişkenler programınızın herhangi bir yerinden erişilebilen değişkenlerdir. Kodunuzun anlaşılmasını ve bakımını zorlaştırabilirler. Bunun yerine mümkün olduğunca yerel değişkenleri kullanın. Yerel değişkenler yalnızca tanımlandıkları işlev veya kapsam içinden erişilebilen değişkenlerdir.\n",
    "\n",
    "- **Değişkenleri kullanıldıkları yerde bildirin.** Değişkenlerinizi ilk kullanıldıkları yere mümkün olduğunca yakın bir şekilde bildirin. Bu, kodunuzu daha okunabilir ve anlaşılması daha kolay hale getirecektir.\n",
    "\n",
    "- **Değişkenleri bildirdiğinizde ilk değerleri verin.** Değişkenlerinizi bildirdiğinizde varsayılan bir değerle başlatın. Bu, hataları önlemeye ve kodunuzu daha sağlam hale getirmeye yardımcı olacaktır."
   ]
  },
  {
   "cell_type": "markdown",
   "id": "global-international",
   "metadata": {},
   "source": [
    "Programlama dilleri kendi kuralları dahilinde değişkenlere isim vermemizi sağlasa da, program dilinin okunabilirliği açısından \"insan odaklı\" değişken oluşturmak bizim yararımıza olacaktır. Ayrıca disiplinli bir kod yazmak için değişkenler standart oluşturulmalıdır."
   ]
  },
  {
   "cell_type": "markdown",
   "id": "pharmaceutical-symposium",
   "metadata": {},
   "source": [
    "#### Okunabilirlik"
   ]
  },
  {
   "cell_type": "markdown",
   "id": "juvenile-stuff",
   "metadata": {},
   "source": [
    "İyi bir programcı, geliştiricilerin ve analistlerin sistemin ne yaptığını anlamasını ve yeni ihtiyaçlara başvurmak için kaynak kodun nasıl düzeltileceğini veya genişletileceğini önemli ölçüde kolaylaştırmalıdır."
   ]
  },
  {
   "cell_type": "code",
   "execution_count": null,
   "id": "b25c34bc",
   "metadata": {},
   "outputs": [],
   "source": [
    "# İyi değişken adları\n",
    "user_name\n",
    "customer_id\n",
    "product_price\n",
    "total_amount\n",
    "\n",
    "# Kötü Değişken adları\n",
    "user\n",
    "cust_id\n",
    "price\n",
    "total\n"
   ]
  },
  {
   "cell_type": "code",
   "execution_count": 22,
   "id": "laden-ladder",
   "metadata": {},
   "outputs": [
    {
     "data": {
      "text/plain": [
       "15"
      ]
     },
     "execution_count": 22,
     "metadata": {},
     "output_type": "execute_result"
    }
   ],
   "source": [
    "# İyi değişken adları\n",
    "gunluk_calisma_saati = 3\n",
    "gunluk_calisma_ucreti = 5\n",
    "haftalık_ucret = gunluk_calisma_saati*gunluk_calisma_ucreti\n",
    "haftalık_ucret\n",
    "\n",
    "# Kötü Değişken adları\n",
    "a = 3\n",
    "b = 5\n",
    "c = a * b\n",
    "c"
   ]
  },
  {
   "cell_type": "markdown",
   "id": "cacabee6",
   "metadata": {},
   "source": [
    "İyi değişken adları açıklayıcı ve kısadır ve değişkenlerin içerdiği verileri doğru şekilde tanımlar. Kötü değişken adları kısaltmalar veya kısaltmalardır ve iyi değişken adları kadar açıklayıcı değildirler.\n",
    "\n",
    "İyi ve kötü değişken kullanımına bazı örnekler:"
   ]
  },
  {
   "cell_type": "code",
   "execution_count": null,
   "id": "6b6ab10a",
   "metadata": {},
   "outputs": [],
   "source": [
    "# İyi değişken adları\n",
    "def calculate_total_price(product_price, quantity):\n",
    "    total_price = product_price * quantity\n",
    "    return total_price\n",
    "\n",
    "# Kötü Değişken adları\n",
    "def calculate_total_price(price, quantity):\n",
    "    total_price = price * quantity\n",
    "    return total_price\n"
   ]
  },
  {
   "cell_type": "markdown",
   "id": "dfef46d6",
   "metadata": {},
   "source": [
    "İyi değişken kullanımı, total_price değişkenini ilk kullanıldığı yere mümkün olduğunca yakın olarak bildirir. Kötü değişken kullanımı, fonksiyonun sonuna kadar kullanılmasa da total_price değişkenini fonksiyonun başında bildirir.\n",
    "\n",
    "Değişkenleri tanımlamak için bu temiz kod kurallarını izleyerek kodunuzu daha okunabilir, bakımı yapılabilir ve sağlam hale getirebilirsiniz."
   ]
  },
  {
   "cell_type": "markdown",
   "id": "european-dayton",
   "metadata": {},
   "source": [
    "### Python Programcılığı Kuralları"
   ]
  },
  {
   "cell_type": "markdown",
   "id": "human-bobby",
   "metadata": {},
   "source": [
    "#### Programcılıkta Formatlar"
   ]
  },
  {
   "cell_type": "markdown",
   "id": "distinguished-acquisition",
   "metadata": {},
   "source": [
    "| Formatting | Naming |\n",
    "|:-|:-|\n",
    "| twowords | flat case |\n",
    "| TWOWORDS | upper flat case |\n",
    "| twoWords | (lower) camelCase, dromedaryCase |\n",
    "| TwoWords | PascalCase,Upper Camel Case,StudlyCase |\n",
    "| two_words | snake_case, pothole_case |\n",
    "| TWO_WORDS | SCREAMING_SNAKE_CASE, MACRO_CASE, CONSTANT_CASE |\n",
    "| two_Words | camel_Snake_Case |\n",
    "| Two_Words | Pascal_Snake_Case |\n",
    "| two-words | kebab-case, dash-case, lisp-case |\n",
    "| Two-Words | rain-Case HTTP-Header-Case |"
   ]
  },
  {
   "cell_type": "markdown",
   "id": "velvet-confusion",
   "metadata": {},
   "source": [
    "Bu formatlar genel geçer olmamakla birlikte kabul gören formatlardır."
   ]
  },
  {
   "cell_type": "markdown",
   "id": "ranging-borough",
   "metadata": {},
   "source": [
    "#### Python'da kullanacağımız formatlar"
   ]
  },
  {
   "cell_type": "markdown",
   "id": "sacred-cooperation",
   "metadata": {},
   "source": [
    "**Değişken/Fonksiyon adları:** snake_case, pothole_case ile\n",
    "\n",
    "**Constants(Sabitler):** SCREAMING_SNAKE_CASE, MACRO_CASE, CONSTANT_CASE ile\n",
    "\n",
    "**Classes(Sınıflar):** PascalCase,Upper Camel Case,StudlyCase\n",
    "\n",
    "**Modül İsimleri:** small case"
   ]
  },
  {
   "cell_type": "markdown",
   "id": "hidden-proxy",
   "metadata": {},
   "source": [
    "olacaktır."
   ]
  },
  {
   "cell_type": "markdown",
   "id": "hourly-hudson",
   "metadata": {},
   "source": [
    "Ayrıca değişken isimleri Türkçe olsa bile ingilizce karakterlerle tanımlanacaktır."
   ]
  },
  {
   "cell_type": "code",
   "execution_count": null,
   "id": "057bb82c",
   "metadata": {},
   "outputs": [],
   "source": [
    "#Let's get id value from the user\n",
    "user_id = input(\"değer giriniz\")"
   ]
  },
  {
   "cell_type": "markdown",
   "id": "addressed-mistake",
   "metadata": {},
   "source": [
    "### Kısa Yollar"
   ]
  },
  {
   "cell_type": "markdown",
   "id": "original-underwear",
   "metadata": {},
   "source": [
    "#### Birden çok değişkene birden çok değer atama"
   ]
  },
  {
   "cell_type": "code",
   "execution_count": 1,
   "id": "stopped-valley",
   "metadata": {},
   "outputs": [],
   "source": [
    "a, b, c = 5, 3.2, \"Hello\""
   ]
  },
  {
   "cell_type": "code",
   "execution_count": 2,
   "id": "organized-singer",
   "metadata": {},
   "outputs": [
    {
     "name": "stdout",
     "output_type": "stream",
     "text": [
      "5\n",
      "3.2\n",
      "Hello\n"
     ]
    }
   ],
   "source": [
    "print(a)\n",
    "print(b)\n",
    "print(c)"
   ]
  },
  {
   "cell_type": "markdown",
   "id": "empty-sheffield",
   "metadata": {},
   "source": [
    "#### Aynı değeri aynı anda birden çok değişkene atama"
   ]
  },
  {
   "cell_type": "code",
   "execution_count": 3,
   "id": "comparative-harbor",
   "metadata": {},
   "outputs": [
    {
     "name": "stdout",
     "output_type": "stream",
     "text": [
      "aynı\n",
      "aynı\n",
      "aynı\n"
     ]
    }
   ],
   "source": [
    "x = y = z = \"aynı\"\n",
    "\n",
    "print (x)\n",
    "print (y)\n",
    "print (z)"
   ]
  },
  {
   "cell_type": "markdown",
   "id": "excessive-natural",
   "metadata": {},
   "source": [
    "#### Python'da iki değişkenin değerini birbiriyle değiştirme"
   ]
  },
  {
   "cell_type": "code",
   "execution_count": 4,
   "id": "republican-print",
   "metadata": {},
   "outputs": [],
   "source": [
    "a, b = b, a"
   ]
  },
  {
   "cell_type": "code",
   "execution_count": 5,
   "id": "palestinian-thought",
   "metadata": {},
   "outputs": [
    {
     "data": {
      "text/plain": [
       "3.2"
      ]
     },
     "execution_count": 5,
     "metadata": {},
     "output_type": "execute_result"
    }
   ],
   "source": [
    "a"
   ]
  },
  {
   "cell_type": "code",
   "execution_count": 6,
   "id": "short-german",
   "metadata": {},
   "outputs": [
    {
     "data": {
      "text/plain": [
       "5"
      ]
     },
     "execution_count": 6,
     "metadata": {},
     "output_type": "execute_result"
    }
   ],
   "source": [
    "b"
   ]
  },
  {
   "cell_type": "markdown",
   "id": "chinese-invalid",
   "metadata": {},
   "source": [
    "#### Bir değişkenin değerini artırma"
   ]
  },
  {
   "cell_type": "code",
   "execution_count": 14,
   "id": "saved-adoption",
   "metadata": {},
   "outputs": [
    {
     "data": {
      "text/plain": [
       "6"
      ]
     },
     "execution_count": 14,
     "metadata": {},
     "output_type": "execute_result"
    }
   ],
   "source": [
    "x = 5\n",
    "x =x + 1\n",
    "x"
   ]
  },
  {
   "cell_type": "markdown",
   "id": "moving-commissioner",
   "metadata": {},
   "source": [
    "veya"
   ]
  },
  {
   "cell_type": "code",
   "execution_count": 7,
   "id": "every-military",
   "metadata": {},
   "outputs": [
    {
     "data": {
      "text/plain": [
       "6"
      ]
     },
     "execution_count": 7,
     "metadata": {},
     "output_type": "execute_result"
    }
   ],
   "source": [
    "x = 5\n",
    "x += 1\n",
    "x"
   ]
  },
  {
   "cell_type": "markdown",
   "id": "variable-atlanta",
   "metadata": {},
   "source": [
    "Bunu diğer aritmetik operatörlerle de yapabiliriz."
   ]
  },
  {
   "cell_type": "code",
   "execution_count": 36,
   "id": "sudden-generator",
   "metadata": {},
   "outputs": [
    {
     "data": {
      "text/plain": [
       "30"
      ]
     },
     "execution_count": 36,
     "metadata": {},
     "output_type": "execute_result"
    }
   ],
   "source": [
    "y = 10\n",
    "y *= 3\n",
    "y"
   ]
  }
 ],
 "metadata": {
  "kernelspec": {
   "display_name": "Python 3 (ipykernel)",
   "language": "python",
   "name": "python3"
  },
  "language_info": {
   "codemirror_mode": {
    "name": "ipython",
    "version": 3
   },
   "file_extension": ".py",
   "mimetype": "text/x-python",
   "name": "python",
   "nbconvert_exporter": "python",
   "pygments_lexer": "ipython3",
   "version": "3.11.5"
  },
  "nbTranslate": {
   "displayLangs": [
    "*"
   ],
   "hotkey": "alt-t",
   "langInMainMenu": true,
   "sourceLang": "en",
   "targetLang": "fr",
   "useGoogleTranslate": true
  }
 },
 "nbformat": 4,
 "nbformat_minor": 5
}
