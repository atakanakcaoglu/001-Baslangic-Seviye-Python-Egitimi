{
 "cells": [
  {
   "cell_type": "markdown",
   "id": "coupled-laser",
   "metadata": {},
   "source": [
    "### String bir değişkenin n'inci karakterini öğrenmek"
   ]
  },
  {
   "cell_type": "markdown",
   "id": "revised-patent",
   "metadata": {},
   "source": [
    "String değişkenlerinin birer \"karakter dizgisi\" olduğunu söylemiştik. Biz [] operatörü ile dizinin n'inci elemanında hangi karakter var bunu öğrenebiliriz."
   ]
  },
  {
   "cell_type": "markdown",
   "id": "piano-programmer",
   "metadata": {},
   "source": [
    "**NOT:** dizilerde ilk elemanın indis numarası 0'dan başlar."
   ]
  },
  {
   "cell_type": "code",
   "execution_count": 2,
   "id": "certified-sphere",
   "metadata": {},
   "outputs": [],
   "source": [
    "string = \"HELLO\""
   ]
  },
  {
   "cell_type": "raw",
   "id": "dd179556",
   "metadata": {},
   "source": [
    "H E L L O\n",
    "0 1 2 3 4"
   ]
  },
  {
   "cell_type": "code",
   "execution_count": 3,
   "id": "79b3cc88",
   "metadata": {},
   "outputs": [
    {
     "data": {
      "text/plain": [
       "'H'"
      ]
     },
     "execution_count": 3,
     "metadata": {},
     "output_type": "execute_result"
    }
   ],
   "source": [
    "string[0]"
   ]
  },
  {
   "cell_type": "code",
   "execution_count": 4,
   "id": "surface-future",
   "metadata": {},
   "outputs": [
    {
     "data": {
      "text/plain": [
       "'L'"
      ]
     },
     "execution_count": 4,
     "metadata": {},
     "output_type": "execute_result"
    }
   ],
   "source": [
    "string[2]"
   ]
  },
  {
   "cell_type": "markdown",
   "id": "visible-pride",
   "metadata": {},
   "source": [
    "Eğer biz en son karakteri istiyorsak indis sayısını -1 vermemiz gerekiyor."
   ]
  },
  {
   "cell_type": "code",
   "execution_count": 12,
   "id": "imposed-saskatchewan",
   "metadata": {},
   "outputs": [
    {
     "data": {
      "text/plain": [
       "'O'"
      ]
     },
     "execution_count": 12,
     "metadata": {},
     "output_type": "execute_result"
    }
   ],
   "source": [
    "string[-1]"
   ]
  },
  {
   "cell_type": "markdown",
   "id": "incorporate-better",
   "metadata": {},
   "source": [
    "Ya da -4'üncü (sondan 4'üncü) elamana ulaşmak istersek de"
   ]
  },
  {
   "cell_type": "code",
   "execution_count": 25,
   "id": "republican-wright",
   "metadata": {},
   "outputs": [
    {
     "data": {
      "text/plain": [
       "'E'"
      ]
     },
     "execution_count": 25,
     "metadata": {},
     "output_type": "execute_result"
    }
   ],
   "source": [
    "string[-4]"
   ]
  },
  {
   "cell_type": "code",
   "execution_count": 27,
   "id": "suspended-connectivity",
   "metadata": {},
   "outputs": [
    {
     "ename": "IndexError",
     "evalue": "string index out of range",
     "output_type": "error",
     "traceback": [
      "\u001b[1;31m---------------------------------------------------------------------------\u001b[0m",
      "\u001b[1;31mIndexError\u001b[0m                                Traceback (most recent call last)",
      "\u001b[1;32m~\\AppData\\Local\\Temp/ipykernel_15048/3025129674.py\u001b[0m in \u001b[0;36m<module>\u001b[1;34m\u001b[0m\n\u001b[1;32m----> 1\u001b[1;33m \u001b[0mstring\u001b[0m\u001b[1;33m[\u001b[0m\u001b[1;33m-\u001b[0m\u001b[1;36m8\u001b[0m\u001b[1;33m]\u001b[0m\u001b[1;33m\u001b[0m\u001b[1;33m\u001b[0m\u001b[0m\n\u001b[0m",
      "\u001b[1;31mIndexError\u001b[0m: string index out of range"
     ]
    }
   ],
   "source": [
    "string[-8] # Bu kod hata verir."
   ]
  },
  {
   "cell_type": "markdown",
   "id": "eight-bahrain",
   "metadata": {},
   "source": [
    "### String Parçalama"
   ]
  },
  {
   "cell_type": "markdown",
   "id": "small-bankruptcy",
   "metadata": {},
   "source": [
    "String bir değişkenin n'inci karakterini öğrenmek istiyorsak, değişken_adı[n] olduğunu öğrenmiştik. Belirli bir parşasını almak istiyorsak, benzer bir işlem uygulayabiliriz."
   ]
  },
  {
   "cell_type": "markdown",
   "id": "illegal-sauce",
   "metadata": {},
   "source": [
    "*[başlama indeksi : bitiş indeksi : atlama değeri]*"
   ]
  },
  {
   "cell_type": "markdown",
   "id": "deadly-relief",
   "metadata": {},
   "source": [
    "Örnek :3. indeksten başla 8.indekse kadar(dahil değil) al."
   ]
  },
  {
   "cell_type": "code",
   "execution_count": 29,
   "id": "brave-reset",
   "metadata": {},
   "outputs": [
    {
     "data": {
      "text/plain": [
       "'LO'"
      ]
     },
     "execution_count": 29,
     "metadata": {},
     "output_type": "execute_result"
    }
   ],
   "source": [
    "\"HELLO\"\n",
    "string[3:8]"
   ]
  },
  {
   "cell_type": "markdown",
   "id": "silver-conversion",
   "metadata": {},
   "source": [
    "Başlangıç değeri belirtilmemişse en baştan başlayarak alır."
   ]
  },
  {
   "cell_type": "code",
   "execution_count": 30,
   "id": "universal-surrey",
   "metadata": {},
   "outputs": [
    {
     "data": {
      "text/plain": [
       "'HELLO'"
      ]
     },
     "execution_count": 30,
     "metadata": {},
     "output_type": "execute_result"
    }
   ],
   "source": [
    "string[:8]"
   ]
  },
  {
   "cell_type": "markdown",
   "id": "prostate-tablet",
   "metadata": {},
   "source": [
    "Bitiş değeri belirtilmemişse en sonuna kadar alır."
   ]
  },
  {
   "cell_type": "code",
   "execution_count": 31,
   "id": "competent-activation",
   "metadata": {},
   "outputs": [
    {
     "data": {
      "text/plain": [
       "'LO'"
      ]
     },
     "execution_count": 31,
     "metadata": {},
     "output_type": "execute_result"
    }
   ],
   "source": [
    "string[3:]"
   ]
  },
  {
   "cell_type": "markdown",
   "id": "japanese-asthma",
   "metadata": {},
   "source": [
    "İki değer de belirtilmemişse tüm stringi alır."
   ]
  },
  {
   "cell_type": "code",
   "execution_count": 33,
   "id": "committed-anatomy",
   "metadata": {},
   "outputs": [
    {
     "data": {
      "text/plain": [
       "'HELLO'"
      ]
     },
     "execution_count": 33,
     "metadata": {},
     "output_type": "execute_result"
    }
   ],
   "source": [
    "string"
   ]
  },
  {
   "cell_type": "markdown",
   "id": "english-charm",
   "metadata": {},
   "source": [
    "Baştan sona 2 değer atlaya atlaya stringi alma"
   ]
  },
  {
   "cell_type": "code",
   "execution_count": 34,
   "id": "colonial-freight",
   "metadata": {},
   "outputs": [
    {
     "data": {
      "text/plain": [
       "'HLO'"
      ]
     },
     "execution_count": 34,
     "metadata": {},
     "output_type": "execute_result"
    }
   ],
   "source": [
    "string[::2]"
   ]
  },
  {
   "cell_type": "markdown",
   "id": "split-medication",
   "metadata": {},
   "source": [
    "2.indeksten 10'nci indekse 3'er atlayarak stringi al."
   ]
  },
  {
   "cell_type": "code",
   "execution_count": 35,
   "id": "aggregate-contact",
   "metadata": {},
   "outputs": [
    {
     "data": {
      "text/plain": [
       "'L'"
      ]
     },
     "execution_count": 35,
     "metadata": {},
     "output_type": "execute_result"
    }
   ],
   "source": [
    "string[2:10:3]"
   ]
  },
  {
   "cell_type": "markdown",
   "id": "pacific-driving",
   "metadata": {},
   "source": [
    "Baştan sona -1 atlayarak stringi al. (String'i ters çevirme)"
   ]
  },
  {
   "cell_type": "code",
   "execution_count": 25,
   "id": "smoking-rogers",
   "metadata": {},
   "outputs": [
    {
     "data": {
      "text/plain": [
       "'ZARİK ruğU taruM'"
      ]
     },
     "execution_count": 25,
     "metadata": {},
     "output_type": "execute_result"
    }
   ],
   "source": [
    "string[::-1]"
   ]
  }
 ],
 "metadata": {
  "kernelspec": {
   "display_name": "Python 3 (ipykernel)",
   "language": "python",
   "name": "python3"
  },
  "language_info": {
   "codemirror_mode": {
    "name": "ipython",
    "version": 3
   },
   "file_extension": ".py",
   "mimetype": "text/x-python",
   "name": "python",
   "nbconvert_exporter": "python",
   "pygments_lexer": "ipython3",
   "version": "3.11.4"
  }
 },
 "nbformat": 4,
 "nbformat_minor": 5
}
