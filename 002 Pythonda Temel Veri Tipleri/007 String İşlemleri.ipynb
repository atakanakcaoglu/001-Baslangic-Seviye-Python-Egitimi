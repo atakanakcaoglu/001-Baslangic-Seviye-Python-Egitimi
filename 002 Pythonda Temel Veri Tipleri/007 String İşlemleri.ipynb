{
 "cells": [
  {
   "cell_type": "markdown",
   "id": "095fc4b0",
   "metadata": {},
   "source": [
    "# String İşlemleri"
   ]
  },
  {
   "cell_type": "markdown",
   "id": "heard-oakland",
   "metadata": {},
   "source": [
    "### String bir değişkenin karakter sayısını öğrenmek"
   ]
  },
  {
   "cell_type": "markdown",
   "id": "northern-attribute",
   "metadata": {},
   "source": [
    "Eğer string bir değişkenin kaç karaktere sahip olduğunu öğrenmek istersek len() metodunu kullanabiliriz."
   ]
  },
  {
   "cell_type": "code",
   "execution_count": 27,
   "id": "color-segment",
   "metadata": {},
   "outputs": [
    {
     "data": {
      "text/plain": [
       "16"
      ]
     },
     "execution_count": 27,
     "metadata": {},
     "output_type": "execute_result"
    }
   ],
   "source": [
    "len(string)"
   ]
  },
  {
   "cell_type": "markdown",
   "id": "visible-petite",
   "metadata": {},
   "source": [
    "## String Operatörleri\n",
    "\n",
    "### Birleştirme Operatörü (+) ile İki Stringi toplamak (İki stringi eklemek)\n",
    "\n",
    "+ (artı) işareti iki dizeye uygulandığında birleştirme operatörü haline gelir:\n",
    "\n",
    "dize + dize\n",
    "\n",
    "Basitçe iki dizeyi birleştirir (yapıştırır). Elbette aritmetik kardeşi gibi bir ifadede birden fazla kullanılabilir ve böyle bir bağlamda sol bağlamaya göre davranır.\n",
    "\n",
    "Aritmetik kardeşinin aksine, birleştirme operatörü değişmeli değildir, yani \"ab\" + \"ba\", \"ba\" + \"ab\" ile aynı değildir.\n",
    "\n",
    "Unutmayın - + işaretinin toplayıcı değil de birleştirici olmasını istiyorsanız, her iki argümanının da dize olduğundan emin olmalısınız.\n",
    "\n",
    "Burada türleri karıştıramazsınız.\n"
   ]
  },
  {
   "cell_type": "code",
   "execution_count": 1,
   "id": "latter-differential",
   "metadata": {},
   "outputs": [
    {
     "data": {
      "text/plain": [
       "'Murat KIRAZ'"
      ]
     },
     "execution_count": 1,
     "metadata": {},
     "output_type": "execute_result"
    }
   ],
   "source": [
    "name = \"Murat\"\n",
    "surname = \" KIRAZ\"\n",
    "name + surname"
   ]
  },
  {
   "cell_type": "markdown",
   "id": "auburn-afternoon",
   "metadata": {},
   "source": [
    "### Tekrar (*) Operatörü İle String Çarpımı\n",
    "\n",
    "*(yıldız işareti) işareti, bir dizeye ve sayıya (veya bu konumda değişmeli kaldığı için bir sayıya ve dizeye) uygulandığında bir çoğaltma operatörü haline gelir:\n",
    "\n",
    "dize * sayı\n",
    "sayı * dize\n",
    "\n",
    "\n",
    "Dizeyi sayıyla belirtilen sayıda çoğaltır"
   ]
  },
  {
   "cell_type": "code",
   "execution_count": 2,
   "id": "atomic-elimination",
   "metadata": {},
   "outputs": [
    {
     "data": {
      "text/plain": [
       "'MuratMuratMuratMuratMurat'"
      ]
     },
     "execution_count": 2,
     "metadata": {},
     "output_type": "execute_result"
    }
   ],
   "source": [
    "name* 5\n"
   ]
  },
  {
   "cell_type": "markdown",
   "id": "c6658841",
   "metadata": {},
   "source": [
    "Sıfırdan küçük veya sıfıra eşit bir sayı boş bir dize üretir."
   ]
  },
  {
   "cell_type": "code",
   "execution_count": 6,
   "id": "657955e8",
   "metadata": {},
   "outputs": [
    {
     "data": {
      "text/plain": [
       "''"
      ]
     },
     "execution_count": 6,
     "metadata": {},
     "output_type": "execute_result"
    }
   ],
   "source": [
    "name * -5"
   ]
  },
  {
   "cell_type": "markdown",
   "id": "fee6091c",
   "metadata": {},
   "source": [
    "Bu basit program, eski bir operatörü (+) yeni bir rolde kullanarak bir dikdörtgen \"çizir\":"
   ]
  },
  {
   "cell_type": "code",
   "execution_count": 8,
   "id": "23b5b11b",
   "metadata": {},
   "outputs": [
    {
     "name": "stdout",
     "output_type": "stream",
     "text": [
      "+----------+\n",
      "|          |\n",
      "|          |\n",
      "|          |\n",
      "|          |\n",
      "|          |\n",
      "+----------+\n"
     ]
    }
   ],
   "source": [
    "print(\"+\" + 10 * \"-\" + \"+\")\n",
    "print((\"|\" + \" \" * 10 + \"|\\n\") * 5, end=\"\")\n",
    "print(\"+\" + 10 * \"-\" + \"+\")"
   ]
  },
  {
   "cell_type": "markdown",
   "id": "6a89b11d",
   "metadata": {},
   "source": [
    "### Boş Bir String Oluşturmak"
   ]
  },
  {
   "cell_type": "markdown",
   "id": "7b084923",
   "metadata": {},
   "source": [
    "Boş bir string'i iki şekilde oluşturabiliriz.\n",
    "#### Tırnak Açıp Kapatarak"
   ]
  },
  {
   "cell_type": "code",
   "execution_count": 6,
   "id": "0c7e6232",
   "metadata": {},
   "outputs": [],
   "source": [
    "s = '' \n",
    "s = \"\"\n",
    "s = \"\"\"\"\"\""
   ]
  },
  {
   "cell_type": "markdown",
   "id": "91e1ff8c",
   "metadata": {},
   "source": [
    "#### String Metodu İle"
   ]
  },
  {
   "cell_type": "code",
   "execution_count": 7,
   "id": "fb00a919",
   "metadata": {},
   "outputs": [],
   "source": [
    "s = str()"
   ]
  },
  {
   "cell_type": "markdown",
   "id": "db39b6b9",
   "metadata": {},
   "source": [
    "### String'in İçerisinde bir alt stringin olup olmadığını öğrenme"
   ]
  },
  {
   "cell_type": "markdown",
   "id": "74a10ba2",
   "metadata": {},
   "source": [
    "Bunun için in operatörü kullanılabilir."
   ]
  },
  {
   "cell_type": "code",
   "execution_count": 12,
   "id": "cd51d49e",
   "metadata": {},
   "outputs": [
    {
     "data": {
      "text/plain": [
       "True"
      ]
     },
     "execution_count": 12,
     "metadata": {},
     "output_type": "execute_result"
    }
   ],
   "source": [
    "s = \"Hello\"\n",
    "\n",
    "\"H\" in s # True Döner"
   ]
  },
  {
   "cell_type": "code",
   "execution_count": 14,
   "id": "a0849b45",
   "metadata": {},
   "outputs": [
    {
     "data": {
      "text/plain": [
       "False"
      ]
     },
     "execution_count": 14,
     "metadata": {},
     "output_type": "execute_result"
    }
   ],
   "source": [
    "\"K\" in s # False Döner"
   ]
  }
 ],
 "metadata": {
  "kernelspec": {
   "display_name": "Python 3 (ipykernel)",
   "language": "python",
   "name": "python3"
  },
  "language_info": {
   "codemirror_mode": {
    "name": "ipython",
    "version": 3
   },
   "file_extension": ".py",
   "mimetype": "text/x-python",
   "name": "python",
   "nbconvert_exporter": "python",
   "pygments_lexer": "ipython3",
   "version": "3.11.5"
  },
  "nbTranslate": {
   "displayLangs": [
    "en",
    "tr"
   ],
   "hotkey": "alt-t",
   "langInMainMenu": true,
   "sourceLang": "tr",
   "targetLang": "en",
   "useGoogleTranslate": true
  }
 },
 "nbformat": 4,
 "nbformat_minor": 5
}
