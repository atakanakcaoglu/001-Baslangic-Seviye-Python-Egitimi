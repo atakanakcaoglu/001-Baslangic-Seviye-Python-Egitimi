{
 "cells": [
  {
   "cell_type": "markdown",
   "id": "insured-awareness",
   "metadata": {},
   "source": [
    "# String Metotları"
   ]
  },
  {
   "cell_type": "markdown",
   "id": "verified-southwest",
   "metadata": {},
   "source": [
    "## String Metotları"
   ]
  },
  {
   "cell_type": "markdown",
   "id": "qualified-complex",
   "metadata": {},
   "source": [
    "Pythonda string yani karakter dizilerinde işlem yapmamıza olanak tanıyan metotları tanımamız yerinde olacaktır.\n",
    "\n",
    "Örneğin string bir ifadenin harflerini büyütmek isteyebiliriz. Ya da belirli bir harf dizisinin yine belirli bir string ifade içinde olup olmadığını öğrenmek isteyebilirz.\n",
    "\n",
    "Bunun gibi işlemleri yapmak için bir çok metot bulunmaktadır. Bunlara https://docs.python.org/2.5/lib/string-methods.html sayfasından erişebilirsiniz. Şimdi sizinle bu metotlardan bazılarını inceleyelim.\n"
   ]
  },
  {
   "cell_type": "markdown",
   "id": "partial-anger",
   "metadata": {},
   "source": [
    "### capitalize(\t)"
   ]
  },
  {
   "cell_type": "markdown",
   "id": "raising-means",
   "metadata": {},
   "source": [
    "String ifadenin sadece ilk harfini büyük yapar."
   ]
  },
  {
   "cell_type": "code",
   "execution_count": 1,
   "id": "protected-domain",
   "metadata": {},
   "outputs": [
    {
     "name": "stdout",
     "output_type": "stream",
     "text": [
      "Bu bir string ifadedir\n",
      "36 benim yaşımdır\n",
      "Yeni bir örnek daha\n"
     ]
    }
   ],
   "source": [
    "string = \"bu bir string ifadedir\"\n",
    "string2 = \"36 benim yaşımdır\"\n",
    "string3 = \"yeni Bir örnek DAHA\"\n",
    "\n",
    "print(string.capitalize())\n",
    "print(string2.capitalize())\n",
    "print(string3.capitalize())"
   ]
  },
  {
   "cell_type": "markdown",
   "id": "innovative-caution",
   "metadata": {},
   "source": [
    "### count(\tsub[, start[, end]])"
   ]
  },
  {
   "cell_type": "markdown",
   "id": "mechanical-nation",
   "metadata": {},
   "source": [
    "Bir string dizi içerisinde bir alt ifadenin (başka bir string dizisinin) **kaç tane** olduğunu bize söyler. Bu methodun parametreleri şu şekildedir;\n",
    "\n",
    "**value:** Zorunludur. Aranacak string dizi burada tanımlanır.\n",
    "\n",
    "**start:** String dizi içerisinde aramanın nereden başlayacağı belirtilir.\n",
    "\n",
    "**end:** String dizi içerisinde aramanın nereye kadar yapılacağı belirtilir.\n"
   ]
  },
  {
   "cell_type": "code",
   "execution_count": 5,
   "id": "civic-representation",
   "metadata": {},
   "outputs": [
    {
     "name": "stdout",
     "output_type": "stream",
     "text": [
      "2\n",
      "1\n",
      "3\n"
     ]
    }
   ],
   "source": [
    "txt = \"elmaları çok severim, elmalar diğer meyveler arasında en sevdiğim meyvedir.\"\n",
    "\n",
    "count1 = txt.count(\"elma\")\n",
    "count2=txt.count(\"elmaları\")\n",
    "count3=txt.count(\"el\")\n",
    "\n",
    "print(count1)\n",
    "print(count2)\n",
    "print(count3)"
   ]
  },
  {
   "cell_type": "markdown",
   "id": "impressive-pressure",
   "metadata": {},
   "source": [
    "### find(sub[,start[,end]])"
   ]
  },
  {
   "cell_type": "markdown",
   "id": "israeli-rouge",
   "metadata": {},
   "source": [
    "Bir alt ifadenin (sub), string ifadenin içerisindeki değerini (konumunu) döndürür. Eğer ki alt ifade bulunmazsa -1 değeri dönecektir. Bu methodun parametreleri şu şekildedir;\n",
    "\n",
    "**value:** Zorunludur. Aranacak string dizi burada tanımlanır.\n",
    "\n",
    "**start:** String dizi içerisinde aramanın nereden başlayacağı belirtilir.\n",
    "\n",
    "**end:** String dizi içerisinde aramanın nereye kadar yapılacağı belirtilir."
   ]
  },
  {
   "cell_type": "code",
   "execution_count": 10,
   "id": "fluid-original",
   "metadata": {},
   "outputs": [
    {
     "name": "stdout",
     "output_type": "stream",
     "text": [
      "0\n",
      "4\n",
      "9\n",
      "30\n",
      "17\n",
      "-1\n"
     ]
    }
   ],
   "source": [
    "txt = \"Merhaba, dünyama hoş geldiniz.\"\n",
    "\n",
    "print(txt.find(\"Merhaba\"))\n",
    "print(txt.find(\"aba\"))\n",
    "print(txt.find(\"dünyama\"))\n",
    "print(txt.find(\"hoş\",5,29))\n",
    "print(txt.find(\"elma\"))\n"
   ]
  },
  {
   "cell_type": "markdown",
   "id": "muslim-isaac",
   "metadata": {},
   "source": [
    "### index(sub[,start[,end]])"
   ]
  },
  {
   "cell_type": "markdown",
   "id": "legitimate-focus",
   "metadata": {},
   "source": [
    "find() fonksiyonu ile aynı görevi yapar. Yalnız alt stringi bulamadığı zaman - yerine hata kodu fırlatır."
   ]
  },
  {
   "cell_type": "code",
   "execution_count": 11,
   "id": "incident-vegetation",
   "metadata": {},
   "outputs": [
    {
     "name": "stdout",
     "output_type": "stream",
     "text": [
      "0\n",
      "4\n",
      "9\n",
      "17\n"
     ]
    },
    {
     "ename": "ValueError",
     "evalue": "substring not found",
     "output_type": "error",
     "traceback": [
      "\u001b[1;31m---------------------------------------------------------------------------\u001b[0m",
      "\u001b[1;31mValueError\u001b[0m                                Traceback (most recent call last)",
      "\u001b[1;32m<ipython-input-11-a1e45ce8b27a>\u001b[0m in \u001b[0;36m<module>\u001b[1;34m\u001b[0m\n\u001b[0;32m      5\u001b[0m \u001b[0mprint\u001b[0m\u001b[1;33m(\u001b[0m\u001b[0mtxt\u001b[0m\u001b[1;33m.\u001b[0m\u001b[0mindex\u001b[0m\u001b[1;33m(\u001b[0m\u001b[1;34m\"dünyama\"\u001b[0m\u001b[1;33m)\u001b[0m\u001b[1;33m)\u001b[0m\u001b[1;33m\u001b[0m\u001b[1;33m\u001b[0m\u001b[0m\n\u001b[0;32m      6\u001b[0m \u001b[0mprint\u001b[0m\u001b[1;33m(\u001b[0m\u001b[0mtxt\u001b[0m\u001b[1;33m.\u001b[0m\u001b[0mindex\u001b[0m\u001b[1;33m(\u001b[0m\u001b[1;34m\"hoş\"\u001b[0m\u001b[1;33m,\u001b[0m\u001b[1;36m5\u001b[0m\u001b[1;33m,\u001b[0m\u001b[1;36m29\u001b[0m\u001b[1;33m)\u001b[0m\u001b[1;33m)\u001b[0m\u001b[1;33m\u001b[0m\u001b[1;33m\u001b[0m\u001b[0m\n\u001b[1;32m----> 7\u001b[1;33m \u001b[0mprint\u001b[0m\u001b[1;33m(\u001b[0m\u001b[0mtxt\u001b[0m\u001b[1;33m.\u001b[0m\u001b[0mindex\u001b[0m\u001b[1;33m(\u001b[0m\u001b[1;34m\"elma\"\u001b[0m\u001b[1;33m)\u001b[0m\u001b[1;33m)\u001b[0m\u001b[1;33m\u001b[0m\u001b[1;33m\u001b[0m\u001b[0m\n\u001b[0m",
      "\u001b[1;31mValueError\u001b[0m: substring not found"
     ]
    }
   ],
   "source": [
    "txt = \"Merhaba, dünyama hoş geldiniz.\"\n",
    "\n",
    "print(txt.index(\"Merhaba\"))\n",
    "print(txt.index(\"aba\"))\n",
    "print(txt.index(\"dünyama\"))\n",
    "print(txt.index(\"hoş\",5,29))\n",
    "print(txt.index(\"elma\"))"
   ]
  },
  {
   "cell_type": "markdown",
   "id": "killing-parent",
   "metadata": {},
   "source": [
    "### isalnum()"
   ]
  },
  {
   "cell_type": "markdown",
   "id": "alert-grace",
   "metadata": {},
   "source": [
    "**Alfanumerik kavramı:** A ile Z arasındaki harfler ile 0 – 9 arasındaki rakamları kapsayan karakter topluluğudur.\n",
    "\n",
    "*isalnum()* methodu ile string ifadenin sadece alfanumerik karakterlerden oluşup oluşmadığını kontrol ederiz."
   ]
  },
  {
   "cell_type": "code",
   "execution_count": 2,
   "id": "helpful-tuner",
   "metadata": {},
   "outputs": [
    {
     "name": "stdout",
     "output_type": "stream",
     "text": [
      "Parolanızı Giriniz:Murat13++++\n",
      "False\n"
     ]
    }
   ],
   "source": [
    "\"\"\"\n",
    "Örneğin kullanıcılardan parola girmesini istiyoruz. ve bu parolanın özel karakterler ( boşluk ) vs içermemesini yani\n",
    "alfanumerik olmasını istiyoruz.\n",
    "Doğru ya da yanlış değer döndüren kod aşağıdadır.\n",
    "\n",
    "\"\"\"\n",
    "parola=input(\"Parolanızı Giriniz:\")\n",
    "sonuc=parola.isalnum()\n",
    "\n",
    "print(sonuc)"
   ]
  },
  {
   "cell_type": "markdown",
   "id": "expired-express",
   "metadata": {},
   "source": [
    "### isalpha()"
   ]
  },
  {
   "cell_type": "markdown",
   "id": "higher-organic",
   "metadata": {},
   "source": [
    "Dizi içerisindeki tüm karakterlerin alfabetik (a-z) olup olmadığını kontrol eder. \n",
    "\n",
    "String dizi içerisinde en az bir karakter var ve tümü alfabetik ise **true**, aksi takdirde **false** geri dönüşü alırız."
   ]
  },
  {
   "cell_type": "code",
   "execution_count": 27,
   "id": "corporate-cabinet",
   "metadata": {},
   "outputs": [
    {
     "name": "stdout",
     "output_type": "stream",
     "text": [
      "İsminizi Giriniz:12kk\n",
      "False\n"
     ]
    }
   ],
   "source": [
    "\"\"\"\n",
    "Kişinin isim ve soyisim bilgisini isteyelim.\n",
    "İsim ve soy isim bilgisinde rakam varsa bize false değeri döndüren, yoksa true değeri döndüren kodumuzu yazalım.\n",
    "\n",
    "\"\"\"\n",
    "isim=input(\"İsminizi Giriniz:\")\n",
    "sonuc=isim.isalpha()\n",
    "\n",
    "print(sonuc)"
   ]
  },
  {
   "cell_type": "markdown",
   "id": "confused-discovery",
   "metadata": {},
   "source": [
    "### isdigit()"
   ]
  },
  {
   "cell_type": "markdown",
   "id": "sunset-twins",
   "metadata": {},
   "source": [
    "Dizedeki tüm karakterler numerikse ve en az bir karakter varsa **true**, aksi takdirde **false** geri dönüşü alırız."
   ]
  },
  {
   "cell_type": "code",
   "execution_count": 30,
   "id": "colored-source",
   "metadata": {},
   "outputs": [
    {
     "name": "stdout",
     "output_type": "stream",
     "text": [
      "TC Kimlik Numaranızı Giriniz:kjfdkgdf44\n",
      "False\n"
     ]
    }
   ],
   "source": [
    "\"\"\"\n",
    "Örneğin,\n",
    "Kişinin TC Kimlik Numarasını isteyelim.\n",
    "TC Kİmlik numarası rakamlardan oluşmalıdır. Girilen string değer rakamlardan oluşmuyorsa eğer, false, \n",
    "girilen string değer rakamlardan oluşuyorsa true değerini döndüren kodumuzu yazalım.\n",
    "\n",
    "\"\"\"\n",
    "TC_Kimlik_No=input(\"TC Kimlik Numaranızı Giriniz:\")\n",
    "sonuc=TC_Kimlik_No.isdigit()\n",
    "\n",
    "print(sonuc)"
   ]
  },
  {
   "cell_type": "markdown",
   "id": "shared-remainder",
   "metadata": {},
   "source": [
    "### isspace()"
   ]
  },
  {
   "cell_type": "markdown",
   "id": "loaded-cooking",
   "metadata": {},
   "source": [
    "Dizede yalnızca boşluk karakterleri varsa ve en az bir karakter varsa true, aksi takdirde false döndürür."
   ]
  },
  {
   "cell_type": "code",
   "execution_count": 31,
   "id": "magnetic-shame",
   "metadata": {},
   "outputs": [
    {
     "name": "stdout",
     "output_type": "stream",
     "text": [
      "True\n",
      "False\n"
     ]
    }
   ],
   "source": [
    "txt = \"   \"\n",
    "\n",
    "x = txt.isspace()\n",
    "\n",
    "print(x)\n",
    "\n",
    "# x=True döner\n",
    "\n",
    "txt = \"   s   \"\n",
    "\n",
    "x = txt.isspace()\n",
    "\n",
    "print(x)\n",
    "# x=false döner"
   ]
  },
  {
   "cell_type": "markdown",
   "id": "smart-coalition",
   "metadata": {},
   "source": [
    "### isupper()"
   ]
  },
  {
   "cell_type": "markdown",
   "id": "alternative-nutrition",
   "metadata": {},
   "source": [
    "Dizedeki harfler büyükse ve en az bir harf varsa **true**, aksi takdirde **false** döndürür."
   ]
  },
  {
   "cell_type": "code",
   "execution_count": 34,
   "id": "expanded-academy",
   "metadata": {},
   "outputs": [
    {
     "name": "stdout",
     "output_type": "stream",
     "text": [
      "False\n",
      "False\n",
      "True\n"
     ]
    }
   ],
   "source": [
    "a = \"Merhaba Dünya\"\n",
    "b = \"Merhaba 123\"\n",
    "c = \"BENİM ADIM CEMİL\"\n",
    "\n",
    "print(a.isupper())\n",
    "print(b.isupper())\n",
    "print(c.isupper())\n",
    "\n"
   ]
  },
  {
   "cell_type": "markdown",
   "id": "824b67a1",
   "metadata": {},
   "source": [
    "### title()"
   ]
  },
  {
   "cell_type": "markdown",
   "id": "2fd37584",
   "metadata": {},
   "source": [
    "Dizenin başlık tabanlı bir versiyonunu döndür: kelimeler büyük harfli karakterlerle başlar, kalan tüm büyük / küçük harfli karakterler küçüktür."
   ]
  },
  {
   "cell_type": "code",
   "execution_count": 54,
   "id": "cafb5826",
   "metadata": {},
   "outputs": [
    {
     "data": {
      "text/plain": [
       "'Beni̇m Adim Cemi̇l'"
      ]
     },
     "execution_count": 54,
     "metadata": {},
     "output_type": "execute_result"
    }
   ],
   "source": [
    "c = \"BENİM ADIM CEMİL\"\n",
    "\n",
    "c.title()"
   ]
  },
  {
   "cell_type": "markdown",
   "id": "bcb49cef",
   "metadata": {},
   "source": [
    "### lower()"
   ]
  },
  {
   "cell_type": "markdown",
   "id": "25420cdd",
   "metadata": {},
   "source": [
    "String ifade içerisindeki bütün karakteri **büyük** yapar."
   ]
  },
  {
   "cell_type": "code",
   "execution_count": 8,
   "id": "upper-nickname",
   "metadata": {
    "scrolled": true
   },
   "outputs": [
    {
     "name": "stdout",
     "output_type": "stream",
     "text": [
      "merhaba dostlar\n",
      "Baki̇ Olan Bu Kubbede Bir Hoş Sada İMiş\n"
     ]
    }
   ],
   "source": [
    "txt = \"mERHABA dOSTlar\"\n",
    "\n",
    "x = txt.lower()\n",
    "\n",
    "print(x)\n",
    "\n",
    "# Şimdi de büyük küçük harf girilmiş bir metnin sadece ilk harfini büyük, diğerlerini küçük yapalım.\n",
    "\n",
    "cumle = \"BaKİ Olan bU KUBBEDE bir HoŞ SaDa İmiş\"\n",
    "\n",
    "#önce tamamını küçük harf yapalım.\n",
    "\n",
    "cumle=cumle.lower().title()\n",
    "\n",
    "print(cumle)"
   ]
  },
  {
   "cell_type": "markdown",
   "id": "4055a245",
   "metadata": {},
   "source": [
    "### upper()"
   ]
  },
  {
   "cell_type": "markdown",
   "id": "2ceb7322",
   "metadata": {},
   "source": [
    "Dizenin büyük harfe dönüştürülmüş bir kopyasını döndürür."
   ]
  },
  {
   "cell_type": "code",
   "execution_count": 55,
   "id": "4a03af06",
   "metadata": {},
   "outputs": [
    {
     "name": "stdout",
     "output_type": "stream",
     "text": [
      "MERHABA DOSTLAR\n"
     ]
    }
   ],
   "source": [
    "txt = \"merhaba dostlar\"\n",
    "\n",
    "x = txt.upper()\n",
    "\n",
    "print(x)"
   ]
  },
  {
   "cell_type": "markdown",
   "id": "creative-hazard",
   "metadata": {},
   "source": [
    "### replace(old, new[,count])"
   ]
  },
  {
   "cell_type": "markdown",
   "id": "dedicated-sweet",
   "metadata": {},
   "source": [
    "String bir ifadenin içerisindeki belirli bir alt değeri başka bir alt değer ile değiştirmemizi sağlar. Tam olarak wordde, excellde ya da herhangi bir text editördeki CTRL+H komutunun yaptığını yapar."
   ]
  },
  {
   "cell_type": "code",
   "execution_count": 3,
   "id": "revolutionary-support",
   "metadata": {},
   "outputs": [
    {
     "name": "stdout",
     "output_type": "stream",
     "text": [
      "muzları severim\n"
     ]
    }
   ],
   "source": [
    "txt = \"elmaları severim\"\n",
    "\n",
    "x = txt.replace(\"elma\", \"muz\")\n",
    "\n",
    "print(x)"
   ]
  },
  {
   "cell_type": "code",
   "execution_count": 6,
   "id": "warming-simpson",
   "metadata": {},
   "outputs": [
    {
     "name": "stdout",
     "output_type": "stream",
     "text": [
      "iki berber iki berbere gel beraber iki berber dükkanı açalım demiş.\n"
     ]
    }
   ],
   "source": [
    "txt = \"bir berber bir berbere gel beraber bir berber dükkanı açalım demiş.\"\n",
    "\n",
    "x = txt.replace(\"bir\", \"iki\")\n",
    "\n",
    "print(x)"
   ]
  },
  {
   "cell_type": "markdown",
   "id": "external-judges",
   "metadata": {},
   "source": [
    "### split([sep [,maxsplit]])"
   ]
  },
  {
   "cell_type": "markdown",
   "id": "considerable-innocent",
   "metadata": {},
   "source": [
    "Bir dizeyi, her kelimenin bir liste öğesi olduğu bir listeye böler. Sonuç liste olarak döner."
   ]
  },
  {
   "cell_type": "code",
   "execution_count": 45,
   "id": "indirect-spider",
   "metadata": {},
   "outputs": [
    {
     "name": "stdout",
     "output_type": "stream",
     "text": [
      "['Bir', 'zamanlar', 'buraları', 'dutluktu']\n"
     ]
    }
   ],
   "source": [
    "txt = \"Bir zamanlar buraları dutluktu\"\n",
    "\n",
    "x = txt.split()\n",
    "\n",
    "print(x)"
   ]
  },
  {
   "cell_type": "code",
   "execution_count": 46,
   "id": "conceptual-forty",
   "metadata": {},
   "outputs": [
    {
     "name": "stdout",
     "output_type": "stream",
     "text": [
      "['Merhaba', 'benim adım Uğur', 'ben 37 yaşındayım']\n"
     ]
    }
   ],
   "source": [
    "txt = \"Merhaba, benim adım Uğur, ben 37 yaşındayım\"\n",
    "\n",
    "x = txt.split(\", \")\n",
    "\n",
    "print(x)"
   ]
  },
  {
   "cell_type": "code",
   "execution_count": 4,
   "id": "fifteen-constitution",
   "metadata": {},
   "outputs": [
    {
     "name": "stdout",
     "output_type": "stream",
     "text": [
      "['elma', 'muz', 'kiraz#portakal']\n"
     ]
    }
   ],
   "source": [
    "txt = \"elma#muz#kiraz#portakal\"\n",
    "\n",
    "# maxsplit'i tanımlarsak eğer en fazla maxsplit sayısı kadar elemana bölecektir\n",
    "x = txt.split(\"#\", 2)\n",
    "\n",
    "print(x)"
   ]
  },
  {
   "cell_type": "markdown",
   "id": "centered-ottawa",
   "metadata": {},
   "source": [
    "### strip([chars])"
   ]
  },
  {
   "cell_type": "markdown",
   "id": "dominant-plaza",
   "metadata": {},
   "source": [
    "Dizenin başındaki ve sonundaki boşlukları kaldırır. [chars] parametreleri ile kullanılırsa, girilen karakterleri string ifadeden çıkarır."
   ]
  },
  {
   "cell_type": "code",
   "execution_count": 51,
   "id": "exciting-corpus",
   "metadata": {},
   "outputs": [
    {
     "name": "stdout",
     "output_type": "stream",
     "text": [
      "Mütün meyveler içinde elma en sevdiğimdir\n"
     ]
    }
   ],
   "source": [
    "txt = \"     elma     \"\n",
    "\n",
    "x = txt.strip()\n",
    "\n",
    "print(\"Mütün meyveler içinde\", x, \"en sevdiğimdir\")"
   ]
  },
  {
   "cell_type": "code",
   "execution_count": 53,
   "id": "parental-uganda",
   "metadata": {},
   "outputs": [
    {
     "name": "stdout",
     "output_type": "stream",
     "text": [
      "muz\n"
     ]
    }
   ],
   "source": [
    "txt = \",,,,,rrttgg.....muz....rrr\"\n",
    "\n",
    "x = txt.strip(\",.grt\")\n",
    "\n",
    "print(x)"
   ]
  }
 ],
 "metadata": {
  "kernelspec": {
   "display_name": "Python 3 (ipykernel)",
   "language": "python",
   "name": "python3"
  },
  "language_info": {
   "codemirror_mode": {
    "name": "ipython",
    "version": 3
   },
   "file_extension": ".py",
   "mimetype": "text/x-python",
   "name": "python",
   "nbconvert_exporter": "python",
   "pygments_lexer": "ipython3",
   "version": "3.11.4"
  },
  "nbTranslate": {
   "displayLangs": [
    "*"
   ],
   "hotkey": "alt-t",
   "langInMainMenu": true,
   "sourceLang": "en",
   "targetLang": "fr",
   "useGoogleTranslate": true
  }
 },
 "nbformat": 4,
 "nbformat_minor": 5
}
