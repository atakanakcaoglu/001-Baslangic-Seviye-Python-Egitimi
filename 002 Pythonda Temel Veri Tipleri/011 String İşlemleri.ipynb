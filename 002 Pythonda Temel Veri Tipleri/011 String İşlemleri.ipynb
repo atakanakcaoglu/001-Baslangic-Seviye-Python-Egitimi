{
 "cells": [
  {
   "cell_type": "markdown",
   "id": "095fc4b0",
   "metadata": {},
   "source": [
    "# String İşlemleri"
   ]
  },
  {
   "cell_type": "markdown",
   "id": "heard-oakland",
   "metadata": {},
   "source": [
    "### String bir değişkenin karakter sayısını öğrenmek"
   ]
  },
  {
   "cell_type": "markdown",
   "id": "northern-attribute",
   "metadata": {},
   "source": [
    "Eğer string bir değişkenin kaç karaktere sahip olduğunu öğrenmek istersek len() metodunu kullanabiliriz."
   ]
  },
  {
   "cell_type": "code",
   "execution_count": 27,
   "id": "color-segment",
   "metadata": {},
   "outputs": [
    {
     "data": {
      "text/plain": [
       "16"
      ]
     },
     "execution_count": 27,
     "metadata": {},
     "output_type": "execute_result"
    }
   ],
   "source": [
    "len(string)"
   ]
  },
  {
   "cell_type": "markdown",
   "id": "visible-petite",
   "metadata": {},
   "source": [
    "### İki Stringi toplamak (İki stringi eklemek)"
   ]
  },
  {
   "cell_type": "code",
   "execution_count": 40,
   "id": "latter-differential",
   "metadata": {},
   "outputs": [],
   "source": [
    "string2=\" Ali TATAR\""
   ]
  },
  {
   "cell_type": "code",
   "execution_count": 41,
   "id": "fuzzy-paradise",
   "metadata": {},
   "outputs": [
    {
     "data": {
      "text/plain": [
       "'HELLO'"
      ]
     },
     "execution_count": 41,
     "metadata": {},
     "output_type": "execute_result"
    }
   ],
   "source": [
    "string"
   ]
  },
  {
   "cell_type": "code",
   "execution_count": 42,
   "id": "universal-holly",
   "metadata": {},
   "outputs": [
    {
     "data": {
      "text/plain": [
       "'HELLO Ali TATAR'"
      ]
     },
     "execution_count": 42,
     "metadata": {},
     "output_type": "execute_result"
    }
   ],
   "source": [
    "string + string2"
   ]
  },
  {
   "cell_type": "markdown",
   "id": "auburn-afternoon",
   "metadata": {},
   "source": [
    "### String Çarpımı (Tekrar)"
   ]
  },
  {
   "cell_type": "markdown",
   "id": "nonprofit-rouge",
   "metadata": {},
   "source": [
    "Bir string ile bir sayıyı da çarpabiliriz."
   ]
  },
  {
   "cell_type": "code",
   "execution_count": 3,
   "id": "atomic-elimination",
   "metadata": {},
   "outputs": [
    {
     "ename": "NameError",
     "evalue": "name 'string2' is not defined",
     "output_type": "error",
     "traceback": [
      "\u001b[1;31m---------------------------------------------------------------------------\u001b[0m",
      "\u001b[1;31mNameError\u001b[0m                                 Traceback (most recent call last)",
      "Cell \u001b[1;32mIn[3], line 1\u001b[0m\n\u001b[1;32m----> 1\u001b[0m string2 \u001b[38;5;241m*\u001b[39m \u001b[38;5;241m5\u001b[39m\n",
      "\u001b[1;31mNameError\u001b[0m: name 'string2' is not defined"
     ]
    }
   ],
   "source": [
    "string2 * 5\n"
   ]
  },
  {
   "cell_type": "markdown",
   "id": "6a89b11d",
   "metadata": {},
   "source": [
    "### Boş Bir String Oluşturmak"
   ]
  },
  {
   "cell_type": "markdown",
   "id": "7b084923",
   "metadata": {},
   "source": [
    "Boş bir string'i iki şekilde oluşturabiliriz.\n",
    "#### Tırnak Açıp Kapatarak"
   ]
  },
  {
   "cell_type": "code",
   "execution_count": 6,
   "id": "0c7e6232",
   "metadata": {},
   "outputs": [],
   "source": [
    "s = '' \n",
    "s = \"\"\n",
    "s = \"\"\"\"\"\""
   ]
  },
  {
   "cell_type": "markdown",
   "id": "91e1ff8c",
   "metadata": {},
   "source": [
    "#### String Metodu İle"
   ]
  },
  {
   "cell_type": "code",
   "execution_count": 7,
   "id": "fb00a919",
   "metadata": {},
   "outputs": [],
   "source": [
    "s = str()"
   ]
  },
  {
   "cell_type": "markdown",
   "id": "db39b6b9",
   "metadata": {},
   "source": [
    "### String'in İçerisinde bir alt stringin olup olmadığını öğrenme"
   ]
  },
  {
   "cell_type": "markdown",
   "id": "74a10ba2",
   "metadata": {},
   "source": [
    "Bunun için in operatörü kullanılabilir."
   ]
  },
  {
   "cell_type": "code",
   "execution_count": 12,
   "id": "cd51d49e",
   "metadata": {},
   "outputs": [
    {
     "data": {
      "text/plain": [
       "True"
      ]
     },
     "execution_count": 12,
     "metadata": {},
     "output_type": "execute_result"
    }
   ],
   "source": [
    "s = \"Hello\"\n",
    "\n",
    "\"H\" in s # True Döner"
   ]
  },
  {
   "cell_type": "code",
   "execution_count": 14,
   "id": "a0849b45",
   "metadata": {},
   "outputs": [
    {
     "data": {
      "text/plain": [
       "False"
      ]
     },
     "execution_count": 14,
     "metadata": {},
     "output_type": "execute_result"
    }
   ],
   "source": [
    "\"K\" in s # False Döner"
   ]
  }
 ],
 "metadata": {
  "kernelspec": {
   "display_name": "Python 3 (ipykernel)",
   "language": "python",
   "name": "python3"
  },
  "language_info": {
   "codemirror_mode": {
    "name": "ipython",
    "version": 3
   },
   "file_extension": ".py",
   "mimetype": "text/x-python",
   "name": "python",
   "nbconvert_exporter": "python",
   "pygments_lexer": "ipython3",
   "version": "3.11.4"
  }
 },
 "nbformat": 4,
 "nbformat_minor": 5
}
