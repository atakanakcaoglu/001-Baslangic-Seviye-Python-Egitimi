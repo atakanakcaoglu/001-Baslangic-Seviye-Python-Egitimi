{
 "cells": [
  {
   "cell_type": "markdown",
   "id": "final-steel",
   "metadata": {},
   "source": [
    "# Python'da Yorum Satırları"
   ]
  },
  {
   "cell_type": "markdown",
   "id": "olympic-convenience",
   "metadata": {},
   "source": [
    "Programlama dillerinde kodlama yaparken yorum satırları kullanılmalıdır. Yorum satırları, programın nasıl oluşturulduğunu, mimarinin nasıl yapıldığını, hangi işlem yapıldığını vs. yazmamızı sağlar. Bunun avantajı, sonradan kodlara baktığımızda yazdığımız kodu neden yazdığımızı hatırlamak ve aslında daha önemlisi, bizden sonra kodda değişiklik yapacak ya da kodu okuyacak kişiye bilgi vermektir. Eğer bir programda yorum satırları kullanılmışsa bu satırlar Python tarafından görülmez ve çalıştırılmaz.\n",
    "\n",
    "Yorumlar, kodunuzu daha okunabilir ve bakımı kolay hale getirmenin iyi bir yoludur. Ayrıca karmaşık kodu açıklamak veya kodunuzu belgelemek için de kullanılabilirler.\n",
    "\n",
    "Python'da yorumları kullanmaya ilişkin bazı ipuçları:\n",
    "\n",
    "- Yorumları yalnızca kodunuzu açıklamak için değil, kodunuzun ne yaptığını açıklamak için kullanın.\n",
    "- Özellikle karmaşık veya anlaşılması zorsa kodunuzu belgelemek için yorumları kullanın.\n",
    "- Kod seçimlerinizi açıklamak için yorumları kullanın.\n",
    "- Henüz uygulanmamış veya gözden geçirilmesi gereken kod bölümlerini işaretlemek için yorumları kullanın.\n",
    "- Kullanımdan kaldırılmış kodu veya kullanılmaması gereken kodu işaretlemek için yorumları kullanın.\n",
    "\n",
    "Yorumlar Python programcıları için önemli bir araçtır. Yorumları etkili bir şekilde kullanarak kodunuzu daha okunabilir, bakımı yapılabilir ve belgelenebilir hale getirebilirsiniz."
   ]
  },
  {
   "cell_type": "markdown",
   "id": "d8f58f6a",
   "metadata": {},
   "source": [
    "## Tekli Yorum Satırı"
   ]
  },
  {
   "cell_type": "code",
   "execution_count": 33,
   "id": "coastal-volume",
   "metadata": {},
   "outputs": [
    {
     "name": "stdout",
     "output_type": "stream",
     "text": [
      "murat\n"
     ]
    }
   ],
   "source": [
    "# Tekli Yorum Satırı için # ifadesi kullanırız.\n",
    "print(\"murat\")"
   ]
  },
  {
   "cell_type": "markdown",
   "id": "9e21059b",
   "metadata": {},
   "source": [
    "## Çoklu Yorum Satırı"
   ]
  },
  {
   "cell_type": "code",
   "execution_count": 34,
   "id": "necessary-director",
   "metadata": {},
   "outputs": [
    {
     "name": "stdout",
     "output_type": "stream",
     "text": [
      "murat\n"
     ]
    }
   ],
   "source": [
    "\"\"\"\n",
    "Çoklu Yorum Satırı için üç tırnak işareti kullanırız.\n",
    "\n",
    "\"\"\"\n",
    "print(\"murat\")"
   ]
  },
  {
   "cell_type": "markdown",
   "id": "d181ccef",
   "metadata": {},
   "source": [
    "## Bir sınıfın veya fonksiyonun bilgisi - dokümantasyon"
   ]
  },
  {
   "cell_type": "markdown",
   "id": "0748c960",
   "metadata": {},
   "source": [
    "Bir fonksiyon oluşturduğumuzda, mutlaka o fonksiyonu tanıtmamız gerekir. Bunu çoklu yorum satırı ile yaparız."
   ]
  },
  {
   "cell_type": "code",
   "execution_count": 8,
   "id": "e1de4ab2",
   "metadata": {},
   "outputs": [],
   "source": [
    "def get_square(number:int) -> int:\n",
    "    \"\"\"\n",
    "    ----------------------\n",
    "    get_square(number:int)\n",
    "    returns integer\n",
    "    ----------------------\n",
    "    This function gives the square of a given number.\n",
    "    number: integer\n",
    "    \"\"\"    \n",
    "    return number ** 2\n",
    "    "
   ]
  },
  {
   "cell_type": "markdown",
   "id": "d1ffca5f",
   "metadata": {},
   "source": [
    "Dokümantasyonu, Python'da oluşturulan get_square'e ait objenin __doc__ attribute'u ile öğrenebiliriz"
   ]
  },
  {
   "cell_type": "code",
   "execution_count": 10,
   "id": "eb04f47a",
   "metadata": {},
   "outputs": [
    {
     "name": "stdout",
     "output_type": "stream",
     "text": [
      "\n",
      "    ----------------------\n",
      "    get_square(number:int)\n",
      "    returns integer\n",
      "    ----------------------\n",
      "    This function gives the square of a given number.\n",
      "    number: integer\n",
      "    \n"
     ]
    }
   ],
   "source": [
    "print(get_square.__doc__)"
   ]
  },
  {
   "cell_type": "code",
   "execution_count": null,
   "id": "5ecd5fd6",
   "metadata": {},
   "outputs": [],
   "source": []
  }
 ],
 "metadata": {
  "kernelspec": {
   "display_name": "Python 3 (ipykernel)",
   "language": "python",
   "name": "python3"
  },
  "language_info": {
   "codemirror_mode": {
    "name": "ipython",
    "version": 3
   },
   "file_extension": ".py",
   "mimetype": "text/x-python",
   "name": "python",
   "nbconvert_exporter": "python",
   "pygments_lexer": "ipython3",
   "version": "3.11.4"
  }
 },
 "nbformat": 4,
 "nbformat_minor": 5
}
