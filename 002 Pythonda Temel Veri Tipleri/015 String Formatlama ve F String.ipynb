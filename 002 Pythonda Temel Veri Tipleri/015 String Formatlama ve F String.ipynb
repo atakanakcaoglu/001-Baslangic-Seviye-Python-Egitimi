{
 "cells": [
  {
   "cell_type": "markdown",
   "id": "d5f8078e",
   "metadata": {},
   "source": [
    "# Python String Formatlama"
   ]
  },
  {
   "cell_type": "markdown",
   "id": "310028dc",
   "metadata": {},
   "source": [
    "Python dize biçimlendirmesi, bir dize şablonuna değer ekleme işlemidir. Karmaşık ve esnek dize formatları oluşturmanıza ve bireysel değerlerin formatını kontrol etmenize olanak tanır.\n",
    "\n",
    "Python'da dizeleri biçimlendirmenin iki ana yolu vardır:\n",
    "\n",
    "- format() yöntemini kullanma: format() yöntemi, dizeleri biçimlendirmek için güçlü ve çok yönlü bir araçtır. Bir dize şablonuna değerler eklemenizi ve bu değerlerin biçimlendirmesini kontrol etmenizi sağlar.\n",
    "\n",
    "- F-dizelerini kullanma: F-dizeleri, Python'da dizeleri biçimlendirmenin daha yeni bir yoludur. format() yöntemine göre daha özlü ve okunması daha kolaydır.\n",
    "\n",
    "## format() yöntemini kullanma\n",
    "\n",
    "format() yöntemi iki argüman alır:\n",
    "\n",
    "- Dize şablonu: Bu, biçimlendirmek istediğiniz dizedir. format() yöntemine ilettiğiniz değerlerle değiştirilecek yer tutucu dizeleri içerebilir.\n",
    "\n",
    "- Değerler: Bunlar dize şablonuna eklemek istediğiniz değerlerdir. Sayılar, dizeler, listeler ve sözlükler de dahil olmak üzere herhangi bir nesne türü olabilirler.\n",
    "\n",
    "Dize şablonundaki yer tutucu dizeler küme parantezleri ({}) kullanılarak belirtilir. Örneğin, aşağıdaki dize şablonu iki yer tutucu dize içerir:"
   ]
  },
  {
   "cell_type": "code",
   "execution_count": 1,
   "id": "66e09a3d",
   "metadata": {},
   "outputs": [
    {
     "data": {
      "text/plain": [
       "'Hello, {name}! You are {age} years old.'"
      ]
     },
     "execution_count": 1,
     "metadata": {},
     "output_type": "execute_result"
    }
   ],
   "source": [
    "\"Merhaba, {name}! Siz {age} yaşındasınız.\""
   ]
  },
  {
   "cell_type": "markdown",
   "id": "84e33523",
   "metadata": {},
   "source": [
    "Bu dize şablonunu biçimlendirmek için kişinin adını ve yaşını format() yöntemine iletirsiniz:"
   ]
  },
  {
   "cell_type": "code",
   "execution_count": 2,
   "id": "7e0c50ec",
   "metadata": {},
   "outputs": [
    {
     "name": "stdout",
     "output_type": "stream",
     "text": [
      "Merhaba, Bard! Siz 20 yaşındasınız.\n"
     ]
    }
   ],
   "source": [
    "name = \"Bard\"\n",
    "age = 20\n",
    "\n",
    "formatted_string = \"Merhaba, {name}! Siz {age} yaşındasınız.\".format(name=name, age=age)\n",
    "\n",
    "print(formatted_string)\n"
   ]
  },
  {
   "cell_type": "markdown",
   "id": "0700ecdf",
   "metadata": {},
   "source": [
    "Bu, aşağıdaki çıktıyı yazdırır:\n",
    "\n",
    "    Merhaba, Bard! Siz 20 yaşındasınız.\n",
    " \n",
    "Sayıları biçimlendirmek için format() yöntemini de kullanabilirsiniz. Örneğin, aşağıdaki kod 3,14 sayısını yüzde olarak biçimlendirir:"
   ]
  },
  {
   "cell_type": "code",
   "execution_count": 3,
   "id": "829316ee",
   "metadata": {},
   "outputs": [
    {
     "name": "stdout",
     "output_type": "stream",
     "text": [
      "314.00%\n"
     ]
    }
   ],
   "source": [
    "percentage = \"{:.2f}%\".format(3.14 * 100)\n",
    "\n",
    "print(percentage)\n"
   ]
  },
  {
   "cell_type": "markdown",
   "id": "c5a4127e",
   "metadata": {},
   "source": [
    "format() yöntemi Python'da dizeleri biçimlendirmek için çok güçlü bir araçtır. Karmaşık ve esnek dize formatları oluşturmanıza ve bireysel değerlerin formatını kontrol etmenize olanak tanır."
   ]
  },
  {
   "cell_type": "markdown",
   "id": "4eb252c1",
   "metadata": {},
   "source": [
    "## f-String'leri Kullanma"
   ]
  },
  {
   "cell_type": "markdown",
   "id": "7f610adf",
   "metadata": {},
   "source": [
    "F-dizeleri Python'da dizeleri biçimlendirmenin daha yeni bir yoludur. format() yöntemine göre daha özlü ve okunması daha kolaydır.\n",
    "\n",
    "Bir f-dizgesi kullanmak için, dize şablonunu f\"\" parantezleri içine almanız yeterlidir. Dize şablonunun içinde, dizeye değer eklemek için ${variable_name} ifadelerini kullanabilirsiniz.\n",
    "\n",
    "Örneğin, aşağıdaki f-string önceki örneğe eşdeğerdir:"
   ]
  },
  {
   "cell_type": "code",
   "execution_count": null,
   "id": "bcff3476",
   "metadata": {},
   "outputs": [],
   "source": [
    "f\"Merhaba, {name}! Siz {age} yaşındasınız.\""
   ]
  },
  {
   "cell_type": "markdown",
   "id": "975bf96b",
   "metadata": {},
   "source": [
    "Sayıları biçimlendirmek için f dizelerini de kullanabilirsiniz. Örneğin, aşağıdaki kod 3,14 sayısını yüzde olarak biçimlendirir:"
   ]
  },
  {
   "cell_type": "code",
   "execution_count": 3,
   "id": "2cb35675",
   "metadata": {},
   "outputs": [
    {
     "data": {
      "text/plain": [
       "'314.00%'"
      ]
     },
     "execution_count": 3,
     "metadata": {},
     "output_type": "execute_result"
    }
   ],
   "source": [
    "f\"{3.14 * 100:.2f}%\""
   ]
  },
  {
   "cell_type": "markdown",
   "id": "f816bd04",
   "metadata": {},
   "source": [
    "F-stringler Python'da dizeleri biçimlendirmenin güçlü ve kısa bir yoludur. Özellikle basit dize formatları için format() yöntemine iyi bir alternatiftirler."
   ]
  },
  {
   "cell_type": "markdown",
   "id": "f7843823",
   "metadata": {},
   "source": [
    "## Örnek Uygulama"
   ]
  },
  {
   "cell_type": "markdown",
   "id": "1ca487cf",
   "metadata": {},
   "source": [
    "### format()"
   ]
  },
  {
   "cell_type": "code",
   "execution_count": 4,
   "id": "interstate-radiation",
   "metadata": {},
   "outputs": [
    {
     "name": "stdout",
     "output_type": "stream",
     "text": [
      "\n",
      "Sayın Murat Uğur KİRAZ\n",
      "Şu anda sistemimizde ikamet adresiniz Kavaklı Mahallesi Aylık Caddesi Güliz Sokak No:48/3 İstanbul ve cep telefonunuz 0 547 789 99 99 olarak kayıtlıdır.\n",
      "\n",
      "Sayın Murat Uğur KİRAZ\n",
      "\n",
      "Eğer adresiniz Kavaklı Mahallesi Aylık Caddesi Güliz Sokak No:48/3 İstanbul değilse lütfen 0 212 258 88 88 numaralı telefonu arayınız.\n",
      "\n",
      "Eğer telefon numaranız 0 547 789 99 99 değilse 0 212 258 88 89 numaralı telefonu arayınız.\n",
      "\n",
      "Saygılarımızla.\n",
      "\n",
      "\n"
     ]
    }
   ],
   "source": [
    "name_surname = \"Murat Uğur KİRAZ\"\n",
    "adress = \"Kavaklı Mahallesi Aylık Caddesi Güliz Sokak No:48/3 İstanbul\"\n",
    "telephone = \"0 547 789 99 99\"\n",
    "\n",
    "print(\n",
    "\"\"\"\n",
    "Sayın {0}\n",
    "Şu anda sistemimizde ikamet adresiniz {1} ve cep telefonunuz {2} olarak kayıtlıdır.\n",
    "\n",
    "Sayın {0}\n",
    "\n",
    "Eğer adresiniz {1} değilse lütfen 0 212 258 88 88 numaralı telefonu arayınız.\n",
    "\n",
    "Eğer telefon numaranız {2} değilse 0 212 258 88 89 numaralı telefonu arayınız.\n",
    "\n",
    "Saygılarımızla.\n",
    "\n",
    "\"\"\".format(name_surname, adress, telephone)\n",
    "\n",
    ")"
   ]
  },
  {
   "cell_type": "markdown",
   "id": "e1331ea7",
   "metadata": {},
   "source": [
    "### f-string"
   ]
  },
  {
   "cell_type": "code",
   "execution_count": 5,
   "id": "c3d78017",
   "metadata": {},
   "outputs": [
    {
     "name": "stdout",
     "output_type": "stream",
     "text": [
      "\n",
      "Sayın Murat Uğur KİRAZ\n",
      "Şu anda sistemimizde ikamet adresiniz Kavaklı Mahallesi Aylık Caddesi Güliz Sokak No:48/3 İstanbul ve cep telefonunuz 0 547 789 99 99 olarak kayıtlıdır.\n",
      "\n",
      "Sayın Murat Uğur KİRAZ\n",
      "\n",
      "Eğer adresiniz Kavaklı Mahallesi Aylık Caddesi Güliz Sokak No:48/3 İstanbul değilse lütfen 0 212 258 88 88 numaralı telefonu arayınız.\n",
      "\n",
      "Eğer telefon numaranız 0 547 789 99 99 değilse 0 212 258 88 89 numaralı telefonu arayınız.\n",
      "\n",
      "Saygılarımızla.\n",
      "\n",
      "\n"
     ]
    }
   ],
   "source": [
    "name_surname = \"Murat Uğur KİRAZ\"\n",
    "adress = \"Kavaklı Mahallesi Aylık Caddesi Güliz Sokak No:48/3 İstanbul\"\n",
    "telephone = \"0 547 789 99 99\"\n",
    "\n",
    "print(\n",
    "f\"\"\"\n",
    "Sayın {name_surname}\n",
    "Şu anda sistemimizde ikamet adresiniz {adress} ve cep telefonunuz {telephone} olarak kayıtlıdır.\n",
    "\n",
    "Sayın {name_surname}\n",
    "\n",
    "Eğer adresiniz {adress} değilse lütfen 0 212 258 88 88 numaralı telefonu arayınız.\n",
    "\n",
    "Eğer telefon numaranız {telephone} değilse 0 212 258 88 89 numaralı telefonu arayınız.\n",
    "\n",
    "Saygılarımızla.\n",
    "\n",
    "\"\"\".format(name_surname, adress, telephone)\n",
    "\n",
    ")"
   ]
  },
  {
   "cell_type": "code",
   "execution_count": null,
   "id": "0be96cb0",
   "metadata": {},
   "outputs": [],
   "source": []
  }
 ],
 "metadata": {
  "kernelspec": {
   "display_name": "Python 3 (ipykernel)",
   "language": "python",
   "name": "python3"
  },
  "language_info": {
   "codemirror_mode": {
    "name": "ipython",
    "version": 3
   },
   "file_extension": ".py",
   "mimetype": "text/x-python",
   "name": "python",
   "nbconvert_exporter": "python",
   "pygments_lexer": "ipython3",
   "version": "3.11.4"
  }
 },
 "nbformat": 4,
 "nbformat_minor": 5
}
