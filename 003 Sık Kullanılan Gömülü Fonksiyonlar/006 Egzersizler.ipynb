{
 "cells": [
  {
   "cell_type": "markdown",
   "id": "8457d5c1",
   "metadata": {},
   "source": [
    "# Egzersizler"
   ]
  },
  {
   "cell_type": "markdown",
   "id": "01f949fd",
   "metadata": {
    "lang": "tr"
   },
   "source": [
    "## Egzersiz - 1\n",
    "Beklenen çıktıyla eşleşecek şekilde sep ve end anahtar sözcüklerini kullanarak aşağıdaki kod satırını değiştirin. Aşağıdaki iki print() işlevini kullanın.\n",
    "\n",
    "İkinci print() çağrısında hiçbir şeyi değiştirmeyin.\n",
    "Beklenen çıktı:"
   ]
  },
  {
   "cell_type": "raw",
   "id": "85e6d788",
   "metadata": {},
   "source": [
    "Python***Öğrenmek***Bize***Çok...Fayda Sağlayacak"
   ]
  },
  {
   "cell_type": "code",
   "execution_count": null,
   "id": "8ad0b665",
   "metadata": {},
   "outputs": [],
   "source": [
    "print(\"Python\",\"Öğrenmek\",\"Bize\", \"Çok\")\n",
    "print(\"Fayda\", \"Sağlayacak\")"
   ]
  },
  {
   "cell_type": "markdown",
   "id": "9264c4f8",
   "metadata": {
    "lang": "tr"
   },
   "source": [
    "## Egzersiz - 2\n",
    "\n",
    "* \\n dizisini dizelere yerleştirerek print() işlevi çağrılarının sayısını en aza indirin\n",
    "* Oku iki kat daha büyük yapın (ancak oranları koruyun)\n",
    "* Her iki oku da yan yana yerleştirerek oku çoğaltın; not: bir dize aşağıdaki hile kullanılarak çarpılabilir: \"string\" * 2, \"stringstring\" sonucunu üretecektir (bu konuda size yakında daha fazla bilgi vereceğiz)\n",
    "* Alıntılardan herhangi birini kaldırın ve Python'un yanıtına dikkatlice bakın; Python'un hatayı nerede gördüğüne dikkat edin; hatanın gerçekten var olduğu yer burası mı?\n",
    "* Aynısını bazı parantezlerle yapın;\n",
    "* Yazdırma sözcüklerinden herhangi birini yalnızca büyük/küçük harfe göre farklı olacak şekilde başka bir şeye dönüştürün (örneğin, Yazdır) - şimdi ne olacak?\n",
    "* Bazı alıntıları kesme işaretiyle değiştirin; Olan biteni dikkatle izleyin."
   ]
  },
  {
   "cell_type": "code",
   "execution_count": null,
   "id": "fc423aec",
   "metadata": {},
   "outputs": [],
   "source": [
    "print(\"    *\")\n",
    "print(\"   * *\")\n",
    "print(\"  *   *\")\n",
    "print(\" *     *\")\n",
    "print(\"***   ***\")\n",
    "print(\"  *   *\")\n",
    "print(\"  *   *\")\n",
    "print(\"  *****\")"
   ]
  },
  {
   "cell_type": "markdown",
   "id": "942d9ee2",
   "metadata": {},
   "source": [
    "## Egzersiz - 3\n",
    "\n",
    "Göreviniz dört temel aritmetik işlemin sonuçlarını değerlendirmek için kodu tamamlamaktır.\n",
    "\n",
    "Sonuçların konsola yazdırılması gerekir.\n",
    "\n",
    "Sıfıra bölmek isteyen bir kullanıcıdan kodu koruyamayabilirsiniz. Sorun değil, şimdilik endişelenmeyin.\n",
    "\n",
    "Kodunuzu test edin; beklediğiniz sonuçları üretiyor mu?"
   ]
  },
  {
   "cell_type": "code",
   "execution_count": null,
   "id": "f40fa594",
   "metadata": {},
   "outputs": [],
   "source": [
    "# input a float value for variable a here\n",
    "# input a float value for variable b here\n",
    "\n",
    "# output the result of addition here\n",
    "# output the result of subtraction here\n",
    "# output the result of multiplication here\n",
    "# output the result of division here\n",
    "\n",
    "print(\"\\nThat's all, folks!\")"
   ]
  },
  {
   "attachments": {
    "image.png": {
     "image/png": "[encoded data removed]"
    }
   },
   "cell_type": "markdown",
   "id": "ef667a4c",
   "metadata": {},
   "source": [
    "## Egzersiz - 4\n",
    "\n",
    "Göreviniz aşağıdaki ifadeyi değerlendirmek için kodu tamamlamaktır:\n",
    "\n",
    "![image.png](attachment:image.png)\n",
    "\n",
    "\n",
    "Sonuç y'ye atanmalıdır. Dikkatli olun; operatörleri izleyin ve önceliklerini aklınızda bulundurun. İhtiyacınız olduğu kadar parantez kullanmaktan çekinmeyin.\n",
    "\n",
    "İfadeyi kısaltmak için ek değişkenler kullanabilirsiniz (ancak bu gerekli değildir). Kodunuzu dikkatlice test edin."
   ]
  },
  {
   "cell_type": "code",
   "execution_count": null,
   "id": "ca286023",
   "metadata": {},
   "outputs": [],
   "source": [
    "x = float(input(\"x değerini giriniz: \"))\n",
    "\n",
    "# Write your code here.\n",
    "\n",
    "print(\"y =\", y)\n"
   ]
  },
  {
   "cell_type": "markdown",
   "id": "3782ff75",
   "metadata": {},
   "source": [
    "## Egzersiz - 5\n",
    "\n",
    "Göreviniz, dakika sayısı olarak verilen (isteğe bağlı olarak büyük olabilir) bir sürenin bitiş zamanını değerlendirebilecek basit bir kod hazırlamaktır. Başlangıç zamanı saat (0..23) ve dakika (0..59) çifti olarak verilir. Sonucun konsola yazdırılması gerekir.\n",
    "\n",
    "Örneğin bir etkinlik 12:17'de başlayıp 59 dakika sürüyorsa 13:16'da sona erecektir.\n",
    "\n",
    "Kodunuzdaki herhangi bir kusur hakkında endişelenmeyin - geçersiz bir zamanı kabul etmesi sorun değil - en önemli şey, kodun geçerli giriş verileri için geçerli sonuçlar üretmesidir.\n",
    "\n",
    "Kodunuzu dikkatlice test edin. \n",
    "\n",
    "İpucu: % operatörünü kullanabilirsiniz."
   ]
  },
  {
   "cell_type": "code",
   "execution_count": null,
   "id": "30df7838",
   "metadata": {},
   "outputs": [],
   "source": [
    "hour = int(input(\"Başlangıç zamanı (saat): \"))\n",
    "mins = int(input(\"Başlangıç zamanı (dakika): \"))\n",
    "dura = int(input(\"Etkinlik süresi (dakika): \"))\n",
    "\n",
    "# Write your code here."
   ]
  },
  {
   "cell_type": "code",
   "execution_count": 3,
   "id": "a1a5a6cf",
   "metadata": {},
   "outputs": [
    {
     "data": {
      "text/plain": [
       "1"
      ]
     },
     "execution_count": 3,
     "metadata": {},
     "output_type": "execute_result"
    }
   ],
   "source": [
    "x = 11\n",
    "y = 4\n",
    "x = x % y\n",
    "x = x % y\n",
    "y = y % x\n",
    "y"
   ]
  },
  {
   "cell_type": "code",
   "execution_count": 4,
   "id": "c711f12b",
   "metadata": {},
   "outputs": [
    {
     "data": {
      "text/plain": [
       "0"
      ]
     },
     "execution_count": 4,
     "metadata": {},
     "output_type": "execute_result"
    }
   ],
   "source": [
    "2 // 4"
   ]
  }
 ],
 "metadata": {
  "kernelspec": {
   "display_name": "Python 3 (ipykernel)",
   "language": "python",
   "name": "python3"
  },
  "language_info": {
   "codemirror_mode": {
    "name": "ipython",
    "version": 3
   },
   "file_extension": ".py",
   "mimetype": "text/x-python",
   "name": "python",
   "nbconvert_exporter": "python",
   "pygments_lexer": "ipython3",
   "version": "3.11.5"
  },
  "nbTranslate": {
   "displayLangs": [
    "tr",
    "en"
   ],
   "hotkey": "alt-t",
   "langInMainMenu": true,
   "sourceLang": "tr",
   "targetLang": "en",
   "useGoogleTranslate": true
  }
 },
 "nbformat": 4,
 "nbformat_minor": 5
}
