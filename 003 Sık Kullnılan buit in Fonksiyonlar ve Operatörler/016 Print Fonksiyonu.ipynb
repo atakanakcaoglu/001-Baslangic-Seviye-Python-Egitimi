{
 "cells": [
  {
   "cell_type": "markdown",
   "id": "86b37acf",
   "metadata": {},
   "source": [
    "# Print Fonksiyonu"
   ]
  },
  {
   "cell_type": "markdown",
   "id": "8aee0b03",
   "metadata": {},
   "source": [
    "Bu bölümde veri tiplerini ekrana yazdırmak için print() fonksiyonunu ve kullandığımız formatlama yöntemlerini öğreneceğiz."
   ]
  },
  {
   "cell_type": "markdown",
   "id": "9210a712",
   "metadata": {},
   "source": [
    "Python'daki print() fonksiyonu, bağımsız değişkenlerini standart çıktı aygıtına (genellikle konsol) yazdıran yerleşik bir işlevdir. Print() fonksiyonu    herhangi bir sayıda bağımsız değişken alabilir ve bunlar, işleve aktarıldıkları sıraya göre standart çıktı aygıtına yazdırılır.\n",
    "\n",
    "Print() işlevini kullanmak için, yazdırmak istediğiniz bağımsız değişkenlerle işlevi çağırmanız yeterlidir. Örneğin, aşağıdaki kod \"Merhaba dünya!\" dizesini konsola yazdıracaktır."
   ]
  },
  {
   "cell_type": "code",
   "execution_count": 1,
   "id": "8f5c6ff9",
   "metadata": {},
   "outputs": [
    {
     "name": "stdout",
     "output_type": "stream",
     "text": [
      "Merhaba dünya!\n"
     ]
    }
   ],
   "source": [
    "print(\"Merhaba dünya!\")"
   ]
  },
  {
   "cell_type": "code",
   "execution_count": 2,
   "id": "22dcc43a",
   "metadata": {},
   "outputs": [
    {
     "name": "stdout",
     "output_type": "stream",
     "text": [
      "45\n"
     ]
    }
   ],
   "source": [
    "print(45)"
   ]
  },
  {
   "cell_type": "code",
   "execution_count": 3,
   "id": "5bf8dc7e",
   "metadata": {},
   "outputs": [
    {
     "name": "stdout",
     "output_type": "stream",
     "text": [
      "3.14\n"
     ]
    }
   ],
   "source": [
    "print(3.14)"
   ]
  },
  {
   "cell_type": "markdown",
   "id": "3b51acf7",
   "metadata": {},
   "source": [
    "Değişkenleri yazdırmak için print() metodunu da kullanabilirsiniz. Örneğin, aşağıdaki kod değişken adının değerini konsola yazdıracaktır:"
   ]
  },
  {
   "cell_type": "code",
   "execution_count": 4,
   "id": "1754a57b",
   "metadata": {},
   "outputs": [
    {
     "name": "stdout",
     "output_type": "stream",
     "text": [
      "19\n"
     ]
    }
   ],
   "source": [
    "a = 4\n",
    "b = 15\n",
    "print(a+b)"
   ]
  },
  {
   "cell_type": "code",
   "execution_count": 5,
   "id": "5d56f0ad",
   "metadata": {},
   "outputs": [
    {
     "name": "stdout",
     "output_type": "stream",
     "text": [
      "Murat\n"
     ]
    }
   ],
   "source": [
    "name = \"Murat\"\n",
    "\n",
    "print(name)"
   ]
  },
  {
   "cell_type": "markdown",
   "id": "62b9482f",
   "metadata": {},
   "source": [
    "Aynı satıra birden fazla değer yazdırmak için print() fonksiyonunu da kullanabilirsiniz. Bunu yapmak için değerleri virgülle ayırmanız yeterlidir. Örneğin aşağıdaki kod \"Murat\", \"Uğur\" ve \"KIRAZ\" karakterlerini aynı satırda konsola yazdıracaktır:"
   ]
  },
  {
   "cell_type": "code",
   "execution_count": 6,
   "id": "ac4ba161",
   "metadata": {},
   "outputs": [
    {
     "name": "stdout",
     "output_type": "stream",
     "text": [
      "Murat Uğur KİRAZ\n"
     ]
    }
   ],
   "source": [
    "print(\"Murat\",\"Uğur\",\"KİRAZ\")"
   ]
  },
  {
   "cell_type": "code",
   "execution_count": 7,
   "id": "41e1a84c",
   "metadata": {},
   "outputs": [
    {
     "name": "stdout",
     "output_type": "stream",
     "text": [
      "Murat 12 545 66767 3.56\n"
     ]
    }
   ],
   "source": [
    "print(\"Murat\",12,545,66767,3.56)"
   ]
  },
  {
   "cell_type": "markdown",
   "id": "d1d6d6e0",
   "metadata": {},
   "source": [
    "Birden çok değeri ayrı satırlara yazdırmak için print() işlevini de kullanabilirsiniz. Bunu yapmak için her satırı yeni satır karakteriyle (\\n) bitirmeniz yeterlidir. Örneğin aşağıdaki kod, \"Merhaba dünya\" ve \"Ben Murat\" dizelerini konsola ayrı satırlarda yazdıracaktır:"
   ]
  },
  {
   "cell_type": "code",
   "execution_count": 2,
   "id": "77ff5bf0",
   "metadata": {},
   "outputs": [
    {
     "name": "stdout",
     "output_type": "stream",
     "text": [
      "Merhaba dünya\n",
      "Ben Murat\n"
     ]
    }
   ],
   "source": [
    "print(\"Merhaba dünya\")\n",
    "print(\"Ben Murat\")"
   ]
  },
  {
   "cell_type": "markdown",
   "id": "a9b40111",
   "metadata": {},
   "source": [
    "Print() fonksiyonu, Python'da çıktıyı konsola yazdırmak için çok güçlü bir araçtır. Basit veya karmaşık çıktıları yazdırmak için kullanılabilir ve kullanımı çok kolaydır.\n",
    "\n",
    "Print() fonksiyonunun nasıl kullanılacağına ilişkin bazı ek örnekler:"
   ]
  },
  {
   "cell_type": "code",
   "execution_count": 3,
   "id": "ea6ccce9",
   "metadata": {},
   "outputs": [
    {
     "name": "stdout",
     "output_type": "stream",
     "text": [
      "Hello, Murat! You are 20 years old.\n",
      "[1, 2, 3, 4, 5]\n",
      "{'name': 'Murat', 'age': 20}\n",
      "\n"
     ]
    }
   ],
   "source": [
    "# Print a formatted string\n",
    "print(\"Hello, {}! You are {} years old.\".format(\"Murat\", 20))\n",
    "\n",
    "# Print a list\n",
    "print([1, 2, 3, 4, 5])\n",
    "\n",
    "# Print a dictionary\n",
    "print({\"name\": \"Murat\", \"age\": 20})\n",
    "\n",
    "# Print a newline character\n",
    "print()"
   ]
  },
  {
   "cell_type": "markdown",
   "id": "d78c4ce8",
   "metadata": {},
   "source": [
    "Print() fonksiyonu, Python'da çıktıyı konsola yazdırmak için çok yönlü bir araçtır. Basit veya karmaşık çıktıları yazdırmak için kullanılabilir ve kullanımı çok kolaydır."
   ]
  },
  {
   "cell_type": "markdown",
   "id": "482731bf",
   "metadata": {},
   "source": [
    "## Python'da print Fonksiyonunun parametreleri"
   ]
  },
  {
   "cell_type": "markdown",
   "id": "548b8da4",
   "metadata": {},
   "source": [
    "Python'daki **help()** fonksiyonu, Python nesneleri için yardım belgeleri sağlayan yerleşik bir fonksiyondur. Modüller, fonksiyonlar, sınıflar, yöntemler, anahtar sözcükler ve diğer Python nesneleri hakkında yardım almak için kullanılabilir.\n",
    "\n",
    "**print()** fonksiyonunu **help()** fonksiyonuyla birlikte görelim."
   ]
  },
  {
   "cell_type": "code",
   "execution_count": 4,
   "id": "ef1a1c0e",
   "metadata": {},
   "outputs": [
    {
     "name": "stdout",
     "output_type": "stream",
     "text": [
      "Help on built-in function print in module builtins:\n",
      "\n",
      "print(*args, sep=' ', end='\\n', file=None, flush=False)\n",
      "    Prints the values to a stream, or to sys.stdout by default.\n",
      "    \n",
      "    sep\n",
      "      string inserted between values, default a space.\n",
      "    end\n",
      "      string appended after the last value, default a newline.\n",
      "    file\n",
      "      a file-like object (stream); defaults to the current sys.stdout.\n",
      "    flush\n",
      "      whether to forcibly flush the stream.\n",
      "\n"
     ]
    }
   ],
   "source": [
    "help(print)"
   ]
  },
  {
   "cell_type": "markdown",
   "id": "1d48ae7a",
   "metadata": {},
   "source": [
    "Bir fonksiyonda **parametreler** hakkında daha fazla ayrıntı göreceğiz."
   ]
  },
  {
   "cell_type": "markdown",
   "id": "ec316467",
   "metadata": {},
   "source": [
    "Python'daki print() işlevi aşağıdaki parametrelere sahiptir:\n",
    "\n",
    "- **args:** Yazdırılacak herhangi bir nesne veya nesnelerdir. Basılmadan önce dizeye dönüştürülecektir.\n",
    "- **sep:** Birden fazla yazdırılan nesne arasındaki ayırıcıdır. Varsayılan ' ' (boşluk) şeklindedir.\n",
    "- **bitiş:** Nesneden sonra yazdırılan karakter veya dize. Varsayılan '\\n' (yeni satır karakteri) şeklindedir.\n",
    "- **dosya:** Çıktının gideceği dosyayı belirtir. Varsayılan olarak, ekrandaki nesneleri yazdıran sys.stdout kullanılacaktır.\n",
    "- **flush:** Akışın hemen temizlenip temizlenmeyeceğini kontrol eder. True ise akış hemen temizlenecektir. Yanlışsa akış daha sonra temizlenecektir."
   ]
  },
  {
   "cell_type": "markdown",
   "id": "91a00754",
   "metadata": {},
   "source": [
    "### *args parametresi"
   ]
  },
  {
   "cell_type": "markdown",
   "id": "409d635b",
   "metadata": {},
   "source": [
    "args parametresi veya *argümanlar* parametresi, yazdırmak istediğiniz herhangi bir nesne veya nesneler olabilir. *args Python'da özel bir gösterimdir. Bu, aralarında virgül kullanarak birden fazla değer ayarlayabileceğiniz anlamına gelir. Nesneler yazdırılmadan önce dizelere dönüştürülecektir."
   ]
  },
  {
   "cell_type": "code",
   "execution_count": 8,
   "id": "17244207",
   "metadata": {},
   "outputs": [
    {
     "name": "stdout",
     "output_type": "stream",
     "text": [
      "3 4 5 6 7 8 9\n"
     ]
    }
   ],
   "source": [
    "print(3,4,5,6,7,8,9)"
   ]
  },
  {
   "cell_type": "code",
   "execution_count": 6,
   "id": "b905c3b7",
   "metadata": {},
   "outputs": [
    {
     "name": "stdout",
     "output_type": "stream",
     "text": [
      "3 4 5 6 7\n"
     ]
    }
   ],
   "source": [
    "print(3,4,5,6,7)"
   ]
  },
  {
   "cell_type": "markdown",
   "id": "47e5833c",
   "metadata": {},
   "source": [
    "### sep parametresi"
   ]
  },
  {
   "cell_type": "markdown",
   "id": "52d23540",
   "metadata": {},
   "source": [
    "sep parametresi birden fazla yazdırılan nesne arasındaki ayırıcıyı belirtir. Varsayılan olarak ayırıcı bir boşluk karakteridir ('')."
   ]
  },
  {
   "cell_type": "code",
   "execution_count": 7,
   "id": "4c64729a",
   "metadata": {},
   "outputs": [
    {
     "name": "stdout",
     "output_type": "stream",
     "text": [
      "3;4;5;6;7;8;9\n"
     ]
    }
   ],
   "source": [
    "print(3,4,5,6,7,8,9, sep=\";\")"
   ]
  },
  {
   "cell_type": "code",
   "execution_count": 8,
   "id": "caae7f48",
   "metadata": {},
   "outputs": [
    {
     "name": "stdout",
     "output_type": "stream",
     "text": [
      "3-4-5-6-7-8-9\n"
     ]
    }
   ],
   "source": [
    "print(3,4,5,6,7,8,9, sep=\"-\")"
   ]
  },
  {
   "cell_type": "code",
   "execution_count": 9,
   "id": "ec84a928",
   "metadata": {},
   "outputs": [
    {
     "name": "stdout",
     "output_type": "stream",
     "text": [
      "3,4,5,6,7,8,9\n"
     ]
    }
   ],
   "source": [
    "print(3,4,5,6,7,8,9, sep=\",\")"
   ]
  },
  {
   "cell_type": "code",
   "execution_count": 10,
   "id": "ad68eba7",
   "metadata": {},
   "outputs": [
    {
     "name": "stdout",
     "output_type": "stream",
     "text": [
      "3\n",
      "4\n",
      "5\n",
      "6\n",
      "7\n",
      "8\n",
      "9\n"
     ]
    }
   ],
   "source": [
    "print(3,4,5,6,7,8,9, sep=\"\\n\")"
   ]
  },
  {
   "cell_type": "markdown",
   "id": "0ef05fa8",
   "metadata": {},
   "source": [
    "### end parametresi\n",
    "\n",
    "end parametresi, nesneden sonra yazdırılan karakteri veya dizeyi belirtir. Varsayılan olarak bitiş parametresi yeni satır karakteridir ('\\n').\n",
    "\n",
    "Python'daki \\n karakteri bir yeni satır karakteridir. Çıkışta yeni bir satır başlatmak için kullanılır."
   ]
  },
  {
   "cell_type": "code",
   "execution_count": 12,
   "id": "5d66c575",
   "metadata": {},
   "outputs": [
    {
     "name": "stdout",
     "output_type": "stream",
     "text": [
      "Hello world\n",
      "Hello world\n",
      "Hello world,Hello worldHello world..."
     ]
    }
   ],
   "source": [
    "print(\"Hello world\")\n",
    "print(\"Hello world\", end=\"\\n\") # Bu aslında varsayılan değerdir. Yukarıdaki kodla aynı şeyi yapar\n",
    "print(\"Hello world\", end=\",\") # \\n (yeni satır) karakterini geçersiz kıldığımız için her yazdırma fonksiyonunun bu kısmı aynı satırda olacaktır.\n",
    "print(\"Hello world\", end=\"\")\n",
    "print(\"Hello world\", end=\"...\")"
   ]
  },
  {
   "cell_type": "markdown",
   "id": "47158665",
   "metadata": {},
   "source": [
    "### file parametresi"
   ]
  },
  {
   "cell_type": "markdown",
   "id": "0fabba29",
   "metadata": {},
   "source": [
    "file parametresi çıktının gideceği dosyayı belirtir. Varsayılan olarak dosya parametresi, çıktıyı konsola yazdıran sys.stdout'tur. Örneğin, aşağıdaki kod \"Merhaba dünya!\" dizesini output.txt dosyasına yazdıracaktır."
   ]
  },
  {
   "cell_type": "code",
   "execution_count": 13,
   "id": "2f958608",
   "metadata": {},
   "outputs": [],
   "source": [
    "with open(\"output.txt\", \"w\") as f:\n",
    "    print(\"Merhaba dünya!\", file=f)"
   ]
  },
  {
   "cell_type": "markdown",
   "id": "7458d649",
   "metadata": {},
   "source": [
    "### flush parametresi"
   ]
  },
  {
   "cell_type": "markdown",
   "id": "894c3092",
   "metadata": {},
   "source": [
    "\"flush\" parametresi akışın hemen temizlenip temizlenmeyeceğini kontrol eder. True ise akış hemen temizlenecektir. Yanlışsa akış daha sonra temizlenecektir. Varsayılan olarak temizleme parametresi Yanlış'tır.\n",
    "\n",
    "Akışın hemen temizlenmesi, çıktının hemen dosyaya veya konsola yazılacağı anlamına gelir. Kodunuzu çalıştırmaya devam etmeden önce çıktının dosyaya veya konsola yazıldığından emin olmanız gerekiyorsa bu yararlı olabilir.\n",
    "\n",
    "Örneğin, aşağıdaki kod \"Merhaba dünya!\" dizesini yazdıracaktır. Output.txt dosyasına ekleyin ve akışı hemen temizleyin:"
   ]
  },
  {
   "cell_type": "code",
   "execution_count": 14,
   "id": "b9644a7b",
   "metadata": {},
   "outputs": [],
   "source": [
    "with open(\"output.txt\", \"w\") as f:\n",
    "    print(\"Hello, world!\", file=f, flush=True)"
   ]
  },
  {
   "cell_type": "markdown",
   "id": "ac6297d1",
   "metadata": {},
   "source": [
    "### print fonksiyonunda yıldız (*) kullanımı"
   ]
  },
  {
   "cell_type": "markdown",
   "id": "b20c084f",
   "metadata": {},
   "source": [
    "Bir stringin başına * işaretini koyup print fonksiyonuna gönderirsek string karakterlerine bölünecek ve her karakter ayrı bir string olarak değerlendirilip ekrana yazdırılacaktır."
   ]
  },
  {
   "cell_type": "code",
   "execution_count": 15,
   "id": "6e168218",
   "metadata": {},
   "outputs": [
    {
     "name": "stdout",
     "output_type": "stream",
     "text": [
      "P y t h o n\n"
     ]
    }
   ],
   "source": [
    "print(*\"Python\")"
   ]
  },
  {
   "cell_type": "code",
   "execution_count": 16,
   "id": "4596f3b6",
   "metadata": {},
   "outputs": [
    {
     "name": "stdout",
     "output_type": "stream",
     "text": [
      "P\n",
      "y\n",
      "t\n",
      "h\n",
      "o\n",
      "n\n"
     ]
    }
   ],
   "source": [
    "print(*\"Python\",sep = \"\\n\")"
   ]
  },
  {
   "cell_type": "code",
   "execution_count": 17,
   "id": "88cbcc9d",
   "metadata": {},
   "outputs": [
    {
     "name": "stdout",
     "output_type": "stream",
     "text": [
      "1 2 3\n"
     ]
    }
   ],
   "source": [
    "print(*[1,2,3])"
   ]
  },
  {
   "cell_type": "code",
   "execution_count": 18,
   "id": "7b6991eb",
   "metadata": {},
   "outputs": [
    {
     "name": "stdout",
     "output_type": "stream",
     "text": [
      "0 1 2 3 4\n"
     ]
    }
   ],
   "source": [
    "print(*range(5))"
   ]
  }
 ],
 "metadata": {
  "kernelspec": {
   "display_name": "Python 3 (ipykernel)",
   "language": "python",
   "name": "python3"
  },
  "language_info": {
   "codemirror_mode": {
    "name": "ipython",
    "version": 3
   },
   "file_extension": ".py",
   "mimetype": "text/x-python",
   "name": "python",
   "nbconvert_exporter": "python",
   "pygments_lexer": "ipython3",
   "version": "3.11.4"
  },
  "nbTranslate": {
   "displayLangs": [
    "tr"
   ],
   "hotkey": "alt-t",
   "langInMainMenu": true,
   "sourceLang": "en",
   "targetLang": "tr",
   "useGoogleTranslate": true
  }
 },
 "nbformat": 4,
 "nbformat_minor": 5
}
