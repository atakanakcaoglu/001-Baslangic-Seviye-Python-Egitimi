{
 "cells": [
  {
   "cell_type": "markdown",
   "id": "1baf7608",
   "metadata": {
    "lang": "tr"
   },
   "source": [
    "# Python'da özel karakterler"
   ]
  },
  {
   "cell_type": "markdown",
   "id": "06f1b781",
   "metadata": {
    "lang": "tr"
   },
   "source": [
    "Python'daki özel karakterler, Python yorumlayıcısı için özel bir anlam taşıyan karakterlerdir. Bir programın akışını kontrol etmek, farklı veri türlerini temsil etmek ve diğer özel görevleri gerçekleştirmek için kullanılırlar.\n",
    "\n",
    "Python'daki bazı yaygın özel karakterler şunları içerir:\n",
    "\n",
    "* **Yeni satır karakteri (`\\n`):** Yeni satır karakteri çıktıda yeni bir satır başlatır.\n",
    "* **Sekme karakteri (`\\t`):** Sekme karakteri çıktıda bir sekme oluşturur.\n",
    "* **Satırbaşı karakteri (`\\r`):** Satırbaşı karakteri, imleci geçerli satırın başına taşır.\n",
    "* **Geri silme karakteri (`\\b`):** Geri silme karakteri önceki karakteri siler.\n",
    "* **Tek tırnak (`'`) ve çift tırnak (`\"`):** Tek ve çift tırnak, dizeleri içine almak için kullanılır.\n",
    "* **Ters Eğik Çizgi (`\\`)**: Ters eğik çizgi karakteri özel karakterlerden kaçmak için kullanılır. Örneğin, yeni satır karakterini yazdırmak için `\\n' dizisini kullanırsınız.\n",
    "\n",
    "Bu ortak özel karakterlerin yanı sıra Python'da kullanılabilecek birçok başka özel karakter de vardır. Özel karakterlerin tam listesi için lütfen Python belgelerine bakın.\n",
    "\n",
    "Python'da özel karakterlerin nasıl kullanılacağına dair bazı örnekler:"
   ]
  },
  {
   "cell_type": "code",
   "execution_count": 1,
   "id": "35748b45",
   "metadata": {
    "lang": "tr"
   },
   "outputs": [
    {
     "name": "stdout",
     "output_type": "stream",
     "text": [
      "Merhaba dünya!\n",
      "apple\n",
      "banana\n",
      "orange\n",
      "Merhaba\tdünya!\n",
      "Bu, kaçan satırsonu karakterine sahip bir dizedir: \n",
      "\n",
      "Bu bir ham dizedir\n"
     ]
    }
   ],
   "source": [
    "# Konsola yeni bir satırda bir dize yazdır\n",
    "print(\"Merhaba dünya!\")\n",
    "\n",
    "# Her öğe yeni bir satırda olacak şekilde öğelerin listesini konsola yazdırın\n",
    "items = [\"apple\", \"banana\", \"orange\"]\n",
    "for item in items:\n",
    "    print(item)\n",
    "\n",
    "# Sekme karakteri içeren bir dize oluşturun\n",
    "my_string = \"Merhaba\\tdünya!\"\n",
    "\n",
    "# Diziyi konsola yazdır\n",
    "print(my_string)\n",
    "\n",
    "# Özel bir karakterden kaçış\n",
    "print(\"Bu, kaçan satırsonu karakterine sahip bir dizedir: \\n\")\n",
    "\n",
    "# Ham bir dize yazdır\n",
    "print(r\"Bu bir ham dizedir\")"
   ]
  },
  {
   "cell_type": "markdown",
   "id": "ee727159",
   "metadata": {
    "lang": "tr"
   },
   "source": [
    "Ham dizeler Python yorumlayıcısı tarafından yorumlanmayan dizelerdir. Bu, ham dizelerdeki özel karakterlerin kaçmayacağı anlamına gelir.\n",
    "\n",
    "Özel karakterler, bir programın akışını kontrol etmek, farklı veri türlerini temsil etmek ve diğer özel görevleri gerçekleştirmek için kullanılabilecek güçlü bir araçtır. Kodunuzu daha okunabilir ve bakımı kolay hale getireceğinden, özel karakterleri etkili bir şekilde nasıl kullanacağınızı öğrenmek iyi bir fikirdir."
   ]
  }
 ],
 "metadata": {
  "kernelspec": {
   "display_name": "Python 3 (ipykernel)",
   "language": "python",
   "name": "python3"
  },
  "language_info": {
   "codemirror_mode": {
    "name": "ipython",
    "version": 3
   },
   "file_extension": ".py",
   "mimetype": "text/x-python",
   "name": "python",
   "nbconvert_exporter": "python",
   "pygments_lexer": "ipython3",
   "version": "3.11.4"
  },
  "nbTranslate": {
   "displayLangs": [
    "tr"
   ],
   "hotkey": "alt-t",
   "langInMainMenu": true,
   "sourceLang": "en",
   "targetLang": "tr",
   "useGoogleTranslate": true
  }
 },
 "nbformat": 4,
 "nbformat_minor": 5
}
