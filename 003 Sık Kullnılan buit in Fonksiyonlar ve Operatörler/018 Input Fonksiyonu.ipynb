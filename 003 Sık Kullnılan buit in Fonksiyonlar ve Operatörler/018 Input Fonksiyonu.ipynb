{
 "cells": [
  {
   "cell_type": "markdown",
   "id": "ae172013",
   "metadata": {},
   "source": [
    "# Input Fonksiyonu\n",
    "\n",
    "Bu bölümde kullanıcıdan veri girişi almamıza olanak sağlayan *input()* fonksiyonunu öğreneceğiz.\n",
    "\n",
    "\n",
    "### input() Fonkisyonu\n",
    "\n",
    "Programımızın çalışması esnasında kullanıcıdan bilgi girişi yapmasını istediğimizde *input()* fonksiyonunu kullanabiliriz. Bu fonksiyon programımızın kullanıcı ile etkilişimli çalışmasına olanak sağlacaktır. \n"
   ]
  },
  {
   "cell_type": "code",
   "execution_count": 1,
   "id": "a64abda0",
   "metadata": {},
   "outputs": [
    {
     "name": "stdout",
     "output_type": "stream",
     "text": [
      "değer\n"
     ]
    },
    {
     "data": {
      "text/plain": [
       "'değer'"
      ]
     },
     "execution_count": 1,
     "metadata": {},
     "output_type": "execute_result"
    }
   ],
   "source": [
    "input()"
   ]
  },
  {
   "cell_type": "markdown",
   "id": "f30726fb",
   "metadata": {},
   "source": [
    "#### Kullacıdan Alınan Değerin Değişkene Atanması\n",
    "\n",
    "Kullanıcı tarafından girilen bilgiler bir değişkene atanarak program içerisinde kullanımı sağlanabilir. Bunun için;"
   ]
  },
  {
   "cell_type": "code",
   "execution_count": 23,
   "id": "304911c0",
   "metadata": {},
   "outputs": [
    {
     "name": "stdout",
     "output_type": "stream",
     "text": [
      "Hello World\n"
     ]
    }
   ],
   "source": [
    "a = input()"
   ]
  },
  {
   "cell_type": "code",
   "execution_count": 10,
   "id": "b29fbe39",
   "metadata": {},
   "outputs": [
    {
     "data": {
      "text/plain": [
       "str"
      ]
     },
     "execution_count": 10,
     "metadata": {},
     "output_type": "execute_result"
    }
   ],
   "source": [
    "type(a)"
   ]
  },
  {
   "cell_type": "markdown",
   "id": "9e547e0d",
   "metadata": {},
   "source": [
    "Yukarıda kullanıcı tarafından girilen *Hello World* bilgisini *a* değişkeni içerisine atadık. *a* değişkenininin tipi kontrol edildiğinde *string* olduğu görülmektedir. \n",
    "\n",
    "*print()* fonksiyonu kullanarak ekrana yazdırmayı deneyelim;\n"
   ]
  },
  {
   "cell_type": "code",
   "execution_count": 9,
   "id": "ef70e8cf",
   "metadata": {},
   "outputs": [
    {
     "name": "stdout",
     "output_type": "stream",
     "text": [
      "Hello World\n"
     ]
    }
   ],
   "source": [
    "print(a)"
   ]
  },
  {
   "cell_type": "markdown",
   "id": "a1b1f44e",
   "metadata": {},
   "source": [
    "\n",
    "#### *input()* ile Ekrana Veri Yazdırma\n",
    "\n",
    "Kullanıcıdan veri girişi yapmasını isterken ona bir açıklama göstermek isteyebiliriz. Bu işlem için ek olarak *print()* kullanmamıza gerek yok. *input()* fonksiyonu içerisinde bunu yapabiliriz. "
   ]
  },
  {
   "cell_type": "code",
   "execution_count": 11,
   "id": "1d629163",
   "metadata": {},
   "outputs": [
    {
     "name": "stdout",
     "output_type": "stream",
     "text": [
      "Lütfen Firma İsmini Giriniz: ACME\n"
     ]
    }
   ],
   "source": [
    "company = input('Lütfen Firma İsmini Giriniz: ')"
   ]
  },
  {
   "cell_type": "code",
   "execution_count": 12,
   "id": "57ca0727",
   "metadata": {},
   "outputs": [
    {
     "name": "stdout",
     "output_type": "stream",
     "text": [
      "ACME\n"
     ]
    }
   ],
   "source": [
    "print(company)"
   ]
  },
  {
   "cell_type": "markdown",
   "id": "87caf223",
   "metadata": {},
   "source": [
    "\n",
    "#### *input()* ile Matematiksel İşlemler\n",
    "\n",
    "*input()* fonkisyonu aracılığı ile kullanıcıdan alınan veriler *string* veri tipinde olacaktır. Matematiksel işlemler yapılacaksa bu durumun gözönün bulundurulması gerekmektedir."
   ]
  },
  {
   "cell_type": "code",
   "execution_count": 13,
   "id": "0420f645",
   "metadata": {},
   "outputs": [
    {
     "name": "stdout",
     "output_type": "stream",
     "text": [
      "Lütfen Bardak Birim Fiyatını Giriniz: 55\n"
     ]
    }
   ],
   "source": [
    "glass_price = input('Lütfen Bardak Birim Fiyatını Giriniz: ')"
   ]
  },
  {
   "cell_type": "code",
   "execution_count": 14,
   "id": "ce719ed9",
   "metadata": {},
   "outputs": [
    {
     "data": {
      "text/plain": [
       "str"
      ]
     },
     "execution_count": 14,
     "metadata": {},
     "output_type": "execute_result"
    }
   ],
   "source": [
    "type(glass_price)"
   ]
  },
  {
   "cell_type": "code",
   "execution_count": 22,
   "id": "05c54da3",
   "metadata": {},
   "outputs": [
    {
     "name": "stdout",
     "output_type": "stream",
     "text": [
      "\n",
      "Toplam Tutarınız:\n",
      "                 55 TL\n",
      "\n",
      "\n"
     ]
    }
   ],
   "source": [
    "total_price = int(glass_price)\n",
    "\n",
    "bill_text = \"\"\"\n",
    "Toplam Tutarınız:\n",
    "                 {0} TL\n",
    "\n",
    "\"\"\"\n",
    "\n",
    "print(bill_text.format(total_price))"
   ]
  },
  {
   "cell_type": "markdown",
   "id": "03374d6a",
   "metadata": {},
   "source": [
    "\n",
    "Başka bir örnek yapalım;"
   ]
  },
  {
   "cell_type": "code",
   "execution_count": 35,
   "id": "8c37950c",
   "metadata": {
    "scrolled": true
   },
   "outputs": [
    {
     "name": "stdout",
     "output_type": "stream",
     "text": [
      "Yüklemek istediğiniz tutarı giriniz: 22.5\n"
     ]
    },
    {
     "ename": "ValueError",
     "evalue": "invalid literal for int() with base 10: '22.5'",
     "output_type": "error",
     "traceback": [
      "\u001b[1;31m---------------------------------------------------------------------------\u001b[0m",
      "\u001b[1;31mValueError\u001b[0m                                Traceback (most recent call last)",
      "Cell \u001b[1;32mIn[35], line 4\u001b[0m\n\u001b[0;32m      1\u001b[0m current_wallet \u001b[38;5;241m=\u001b[39m \u001b[38;5;241m1.5\u001b[39m\n\u001b[0;32m      2\u001b[0m cash_amount \u001b[38;5;241m=\u001b[39m \u001b[38;5;28minput\u001b[39m(\u001b[38;5;124m\"\u001b[39m\u001b[38;5;124mYüklemek istediğiniz tutarı giriniz: \u001b[39m\u001b[38;5;124m\"\u001b[39m)\n\u001b[1;32m----> 4\u001b[0m current_wallet \u001b[38;5;241m=\u001b[39m current_wallet \u001b[38;5;241m+\u001b[39m \u001b[38;5;28mint\u001b[39m(cash_amount)\n",
      "\u001b[1;31mValueError\u001b[0m: invalid literal for int() with base 10: '22.5'"
     ]
    }
   ],
   "source": [
    "current_wallet = 1.5\n",
    "cash_amount = input(\"Yüklemek istediğiniz tutarı giriniz: \")\n",
    "\n",
    "current_wallet = current_wallet + int(cash_amount)"
   ]
  },
  {
   "cell_type": "markdown",
   "id": "d451baa8",
   "metadata": {},
   "source": [
    "\n",
    "\n",
    "Kullanıcı girişi olarak *22.5* girişi yapıldı. Bu bir *float* değer. Dönüşüm de hata yaptık. Kodumuzu düzenliyoruz;\n"
   ]
  },
  {
   "cell_type": "code",
   "execution_count": 36,
   "id": "dfd971a9",
   "metadata": {},
   "outputs": [
    {
     "name": "stdout",
     "output_type": "stream",
     "text": [
      "Yüklemek istediğiniz tutarı giriniz: 22.5\n",
      "\n",
      "Güncel Bakiyeniz:\n",
      "                 24.0 EU\n",
      "\n",
      "\n"
     ]
    }
   ],
   "source": [
    "current_wallet = 1.5\n",
    "cash_amount = input(\"Yüklemek istediğiniz tutarı giriniz: \")\n",
    "\n",
    "current_wallet += float(cash_amount)\n",
    "\n",
    "bill_text = \"\"\"\n",
    "Güncel Bakiyeniz:\n",
    "                 {0} EU\n",
    "\n",
    "\"\"\"\n",
    "\n",
    "\n",
    "print(bill_text.format(current_wallet))"
   ]
  },
  {
   "cell_type": "code",
   "execution_count": null,
   "id": "53dd86b6",
   "metadata": {},
   "outputs": [],
   "source": []
  }
 ],
 "metadata": {
  "kernelspec": {
   "display_name": "Python 3 (ipykernel)",
   "language": "python",
   "name": "python3"
  },
  "language_info": {
   "codemirror_mode": {
    "name": "ipython",
    "version": 3
   },
   "file_extension": ".py",
   "mimetype": "text/x-python",
   "name": "python",
   "nbconvert_exporter": "python",
   "pygments_lexer": "ipython3",
   "version": "3.11.4"
  }
 },
 "nbformat": 4,
 "nbformat_minor": 5
}
