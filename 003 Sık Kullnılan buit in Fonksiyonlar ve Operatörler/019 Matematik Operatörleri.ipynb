{
 "cells": [
  {
   "cell_type": "markdown",
   "id": "premium-depth",
   "metadata": {},
   "source": [
    "# Matematik Operatörleri\n",
    "\n",
    "Python'da ve diğer programlama dillerinde matematik operatörleri oldukça önemlidir.\n",
    "### Toplama İşlemi (+)\n",
    "\n",
    "Python'da toplama işlemi şu şekilde yapılabilmektedir."
   ]
  },
  {
   "cell_type": "code",
   "execution_count": 1,
   "id": "seven-pension",
   "metadata": {},
   "outputs": [
    {
     "data": {
      "text/plain": [
       "29"
      ]
     },
     "execution_count": 1,
     "metadata": {},
     "output_type": "execute_result"
    }
   ],
   "source": [
    "birinci_sayi = 14\n",
    "ikinci_sayi = 15\n",
    "birinci_sayi + ikinci_sayi"
   ]
  },
  {
   "cell_type": "code",
   "execution_count": 2,
   "id": "cloudy-rapid",
   "metadata": {},
   "outputs": [
    {
     "data": {
      "text/plain": [
       "(9+12j)"
      ]
     },
     "execution_count": 2,
     "metadata": {},
     "output_type": "execute_result"
    }
   ],
   "source": [
    "birinci_sayi = complex(3,4)\n",
    "ikinci_sayi = complex(6,8)\n",
    "birinci_sayi + ikinci_sayi"
   ]
  },
  {
   "cell_type": "markdown",
   "id": "8b88ce72",
   "metadata": {},
   "source": [
    "#### Hatırlatma\n",
    "\n",
    "Toplama operatörü aynı zamanda iki string ifadeyi birleştirmek için de kullanılır"
   ]
  },
  {
   "cell_type": "code",
   "execution_count": 1,
   "id": "fe7c8e7d",
   "metadata": {},
   "outputs": [
    {
     "data": {
      "text/plain": [
       "'Merhaba World'"
      ]
     },
     "execution_count": 1,
     "metadata": {},
     "output_type": "execute_result"
    }
   ],
   "source": [
    "str_1 = \"Merhaba\"\n",
    "str_2 = \" World\"\n",
    "str_1 + str_2"
   ]
  },
  {
   "cell_type": "markdown",
   "id": "musical-aquatic",
   "metadata": {},
   "source": [
    "### Çıkarma İşlemi (-)\n",
    "\n",
    "Python'da çıkarma işlemi şu şekilde yapılabilmektedir."
   ]
  },
  {
   "cell_type": "code",
   "execution_count": 1,
   "id": "killing-coalition",
   "metadata": {},
   "outputs": [
    {
     "data": {
      "text/plain": [
       "-47"
      ]
     },
     "execution_count": 1,
     "metadata": {},
     "output_type": "execute_result"
    }
   ],
   "source": [
    "birinci_sayi =  28\n",
    "ikinci_sayi = 35\n",
    "ucuncu_sayi = 40\n",
    "birinci_sayi - ikinci_sayi - ucuncu_sayi"
   ]
  },
  {
   "cell_type": "code",
   "execution_count": 5,
   "id": "infectious-faith",
   "metadata": {},
   "outputs": [
    {
     "data": {
      "text/plain": [
       "-3.3000000000000007"
      ]
     },
     "execution_count": 5,
     "metadata": {},
     "output_type": "execute_result"
    }
   ],
   "source": [
    "k = 5.6\n",
    "l = 8.9\n",
    "k -l "
   ]
  },
  {
   "cell_type": "markdown",
   "id": "olympic-raleigh",
   "metadata": {},
   "source": [
    "### Çarpma İşlemi (*)\n",
    "Python'da çarpma işlemi şu şekilde yapılabilmektedir."
   ]
  },
  {
   "cell_type": "code",
   "execution_count": 8,
   "id": "threaded-cylinder",
   "metadata": {},
   "outputs": [
    {
     "data": {
      "text/plain": [
       "20"
      ]
     },
     "execution_count": 8,
     "metadata": {},
     "output_type": "execute_result"
    }
   ],
   "source": [
    "birinci_sayi = 4\n",
    "ikinci_sayi = 5\n",
    "birinci_sayi *ikinci_sayi"
   ]
  },
  {
   "cell_type": "code",
   "execution_count": 7,
   "id": "charming-exchange",
   "metadata": {},
   "outputs": [
    {
     "data": {
      "text/plain": [
       "(-14+48j)"
      ]
     },
     "execution_count": 7,
     "metadata": {},
     "output_type": "execute_result"
    }
   ],
   "source": [
    "birinci_sayi = complex(3,4)\n",
    "ikinci_sayi = complex(6,8)\n",
    "birinci_sayi * ikinci_sayi"
   ]
  },
  {
   "cell_type": "markdown",
   "id": "9046b870",
   "metadata": {},
   "source": [
    "#### Hatırlatma - 1\n",
    "\n",
    "Çarpma operatörü aynı zamanda strng bir ifadeyi ard arda yazdırmak için kullanılır."
   ]
  },
  {
   "cell_type": "code",
   "execution_count": 3,
   "id": "51306bc2",
   "metadata": {},
   "outputs": [
    {
     "data": {
      "text/plain": [
       "'Merhaba Merhaba Merhaba Merhaba Merhaba '"
      ]
     },
     "execution_count": 3,
     "metadata": {},
     "output_type": "execute_result"
    }
   ],
   "source": [
    "str_1 = \"Merhaba \"\n",
    "str_1 * 5"
   ]
  },
  {
   "cell_type": "markdown",
   "id": "floating-flight",
   "metadata": {},
   "source": [
    "### Bölme İşlemi (/)\n",
    "Python'da bölme işlemi şu şekilde yapılabilmektedir."
   ]
  },
  {
   "cell_type": "code",
   "execution_count": 12,
   "id": "elementary-trail",
   "metadata": {},
   "outputs": [
    {
     "data": {
      "text/plain": [
       "20.0"
      ]
     },
     "execution_count": 12,
     "metadata": {},
     "output_type": "execute_result"
    }
   ],
   "source": [
    "100 / 5"
   ]
  },
  {
   "cell_type": "code",
   "execution_count": 11,
   "id": "unable-drive",
   "metadata": {},
   "outputs": [
    {
     "data": {
      "text/plain": [
       "6.666666666666667"
      ]
     },
     "execution_count": 11,
     "metadata": {},
     "output_type": "execute_result"
    }
   ],
   "source": [
    "20 / 3"
   ]
  },
  {
   "cell_type": "markdown",
   "id": "subtle-garlic",
   "metadata": {},
   "source": [
    "**NOT:** Python'da bölme işleminin sonucu float olur. İşte ispatı:"
   ]
  },
  {
   "cell_type": "code",
   "execution_count": 13,
   "id": "thirty-honolulu",
   "metadata": {},
   "outputs": [
    {
     "data": {
      "text/plain": [
       "float"
      ]
     },
     "execution_count": 13,
     "metadata": {},
     "output_type": "execute_result"
    }
   ],
   "source": [
    "birinci_sayi = 4\n",
    "ikinci_sayi = 5\n",
    "ucuncu_sayi=birinci_sayi /ikinci_sayi\n",
    "type(ucuncu_sayi)"
   ]
  },
  {
   "cell_type": "markdown",
   "id": "recognized-tomato",
   "metadata": {},
   "source": [
    "### Tamsayı Bölmesi (//)\n",
    "*//* operatörü,  bir sayının başka bir sayıya bölümünden ortaya çıkan sonucunu **tamsayı** olarak vermektedir. Örneklerimize bakalım."
   ]
  },
  {
   "cell_type": "code",
   "execution_count": 14,
   "id": "trained-immunology",
   "metadata": {},
   "outputs": [
    {
     "data": {
      "text/plain": [
       "3"
      ]
     },
     "execution_count": 14,
     "metadata": {},
     "output_type": "execute_result"
    }
   ],
   "source": [
    "# 13'ün 4 ile bölümünden kalan bölüm sonucu 3tür.\n",
    "13 // 4"
   ]
  },
  {
   "cell_type": "markdown",
   "id": "analyzed-herald",
   "metadata": {},
   "source": [
    "### Kalanı Bulma veya Mod (%)\n",
    "\n",
    "*%* operatörü, bir sayının başka bir sayıya bölümünden **kalan** sonucu bize verir."
   ]
  },
  {
   "cell_type": "code",
   "execution_count": 16,
   "id": "verified-virus",
   "metadata": {},
   "outputs": [
    {
     "data": {
      "text/plain": [
       "1"
      ]
     },
     "execution_count": 16,
     "metadata": {},
     "output_type": "execute_result"
    }
   ],
   "source": [
    "# 13'ün 4 ile bölümünden kalan 1'dir.\n",
    "13 % 4"
   ]
  },
  {
   "cell_type": "code",
   "execution_count": 17,
   "id": "educated-murder",
   "metadata": {},
   "outputs": [
    {
     "data": {
      "text/plain": [
       "108"
      ]
     },
     "execution_count": 17,
     "metadata": {},
     "output_type": "execute_result"
    }
   ],
   "source": [
    "330 % 111"
   ]
  },
  {
   "cell_type": "markdown",
   "id": "registered-space",
   "metadata": {},
   "source": [
    "### Bir sayının kuvveti (**)\n",
    "\n",
    "** operatörü, bir sayının kuvvetini bulmamızı sağlar. Örnek olarak operatörün solundaki sayının sağdaki sayıya göre üssünü ekrana basar."
   ]
  },
  {
   "cell_type": "code",
   "execution_count": 18,
   "id": "powerful-irish",
   "metadata": {},
   "outputs": [
    {
     "data": {
      "text/plain": [
       "64"
      ]
     },
     "execution_count": 18,
     "metadata": {},
     "output_type": "execute_result"
    }
   ],
   "source": [
    "# 4^3\n",
    "4 ** 3"
   ]
  },
  {
   "cell_type": "markdown",
   "id": "substantial-belarus",
   "metadata": {},
   "source": [
    "\n",
    "Peki bir sayının karekökü nasıl bulunur?\n",
    "\n",
    "Sayının *0.5* üssünü alarak kareköküne ulaşabiliriz."
   ]
  },
  {
   "cell_type": "code",
   "execution_count": 20,
   "id": "affecting-thanksgiving",
   "metadata": {},
   "outputs": [
    {
     "data": {
      "text/plain": [
       "8.0"
      ]
     },
     "execution_count": 20,
     "metadata": {},
     "output_type": "execute_result"
    }
   ],
   "source": [
    "# 64'ün karekökü \n",
    "64 ** 0.5"
   ]
  },
  {
   "cell_type": "markdown",
   "id": "mediterranean-august",
   "metadata": {},
   "source": [
    "### İşaret değiştirme (-)\n",
    "Programlarımızda bazen bir sayının işaretini değiştirmek isteyebiliriz.Bunun için de bu operatör işimize yarayabilir."
   ]
  },
  {
   "cell_type": "code",
   "execution_count": 21,
   "id": "rubber-gather",
   "metadata": {},
   "outputs": [
    {
     "data": {
      "text/plain": [
       "-4"
      ]
     },
     "execution_count": 21,
     "metadata": {},
     "output_type": "execute_result"
    }
   ],
   "source": [
    "a = 4\n",
    "-a"
   ]
  },
  {
   "cell_type": "markdown",
   "id": "allied-tulsa",
   "metadata": {},
   "source": [
    "## Operatörleri beraber kullanma ve İşlem sırası\n",
    "\n",
    "Programcılıkta da matematikteki işlem sırası geçerlidir, çünkü Pythondaki işlem sırası matematiktekiyle birebir aynıdır. Kurallar şunlardır ;\n",
    "\n",
    "    1. Parantez içi her zaman önce yapılır.\n",
    "    2. Çarpma ve Bölme her zaman Toplama ve Çıkarma işlemine göre önce yapılır.\n",
    "    3. İşlemler soldan sağa değerlendirilir.\n",
    "    \n",
    "**Ancak, buradaki işlemleri ezberlemeyin. Kafamızın karıştığı yerlerde işlemleri parantez içine alın.**"
   ]
  },
  {
   "cell_type": "code",
   "execution_count": 22,
   "id": "chubby-clarity",
   "metadata": {},
   "outputs": [
    {
     "data": {
      "text/plain": [
       "-4.0"
      ]
     },
     "execution_count": 22,
     "metadata": {},
     "output_type": "execute_result"
    }
   ],
   "source": [
    "8 + 4 * 3 /2 - 18"
   ]
  },
  {
   "cell_type": "code",
   "execution_count": 23,
   "id": "military-artwork",
   "metadata": {},
   "outputs": [
    {
     "data": {
      "text/plain": [
       "0.0"
      ]
     },
     "execution_count": 23,
     "metadata": {},
     "output_type": "execute_result"
    }
   ],
   "source": [
    "(8 + 4) * 3 /2 - 18"
   ]
  },
  {
   "cell_type": "code",
   "execution_count": 24,
   "id": "nominated-tracker",
   "metadata": {},
   "outputs": [
    {
     "data": {
      "text/plain": [
       "7.25"
      ]
     },
     "execution_count": 24,
     "metadata": {},
     "output_type": "execute_result"
    }
   ],
   "source": [
    "8 + 4 * 3 /(2 - 18)"
   ]
  }
 ],
 "metadata": {
  "kernelspec": {
   "display_name": "Python 3 (ipykernel)",
   "language": "python",
   "name": "python3"
  },
  "language_info": {
   "codemirror_mode": {
    "name": "ipython",
    "version": 3
   },
   "file_extension": ".py",
   "mimetype": "text/x-python",
   "name": "python",
   "nbconvert_exporter": "python",
   "pygments_lexer": "ipython3",
   "version": "3.11.4"
  },
  "nbTranslate": {
   "displayLangs": [
    "*"
   ],
   "hotkey": "alt-t",
   "langInMainMenu": true,
   "sourceLang": "en",
   "targetLang": "fr",
   "useGoogleTranslate": true
  }
 },
 "nbformat": 4,
 "nbformat_minor": 5
}
