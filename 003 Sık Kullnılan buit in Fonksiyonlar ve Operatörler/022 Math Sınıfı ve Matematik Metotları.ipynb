{
 "cells": [
  {
   "cell_type": "markdown",
   "id": "chicken-puzzle",
   "metadata": {},
   "source": [
    "# Numerik Metotlar"
   ]
  },
  {
   "cell_type": "markdown",
   "id": "unlikely-alpha",
   "metadata": {},
   "source": [
    "## Numerik Metotlar\n",
    "\n",
    "Python'da numerik metotları kullanabilmemiz için math kütüphanesini eklememiz gerekir. Bu işlem \"modüller\" konusunda detaylı anlatılacaktır. Burada numerik fonksiyonları \"import math\" ile elde ettiğimizi bilmeniz yeterli.\n",
    "\n",
    "\n",
    "Bunun gibi işlemleri yapmak için bir çok fonksiyon bulunmaktadır. Bu fonksiyonlara https://docs.python.org/3/library/math.html sayfasından erişebilirsiniz. Şimdi sizinle bu fonksiyonlardan bazılarını inceleyelim."
   ]
  },
  {
   "cell_type": "markdown",
   "id": "wrong-formula",
   "metadata": {},
   "source": [
    "### math.ceil()"
   ]
  },
  {
   "cell_type": "markdown",
   "id": "usual-roller",
   "metadata": {},
   "source": [
    "Ondalıklı sayıyı tavana yuvarlar."
   ]
  },
  {
   "cell_type": "code",
   "execution_count": 1,
   "id": "vital-attention",
   "metadata": {},
   "outputs": [
    {
     "data": {
      "text/plain": [
       "4"
      ]
     },
     "execution_count": 1,
     "metadata": {},
     "output_type": "execute_result"
    }
   ],
   "source": [
    "import math\n",
    "math.ceil(3.154660)"
   ]
  },
  {
   "cell_type": "markdown",
   "id": "affiliated-astrology",
   "metadata": {},
   "source": [
    "### math.floor(x)"
   ]
  },
  {
   "cell_type": "markdown",
   "id": "eastern-fellowship",
   "metadata": {},
   "source": [
    "Ondalıklı sayıyı tabana yuvarlar."
   ]
  },
  {
   "cell_type": "code",
   "execution_count": 61,
   "id": "compatible-operator",
   "metadata": {},
   "outputs": [
    {
     "data": {
      "text/plain": [
       "3"
      ]
     },
     "execution_count": 61,
     "metadata": {},
     "output_type": "execute_result"
    }
   ],
   "source": [
    "import math\n",
    "math.floor(3.154660)"
   ]
  },
  {
   "cell_type": "markdown",
   "id": "average-physiology",
   "metadata": {},
   "source": [
    "### math.factorial(x)"
   ]
  },
  {
   "cell_type": "markdown",
   "id": "fleet-postcard",
   "metadata": {},
   "source": [
    "Bir tam sayının faktöriyelini alır."
   ]
  },
  {
   "cell_type": "code",
   "execution_count": 63,
   "id": "demonstrated-exclusion",
   "metadata": {},
   "outputs": [
    {
     "data": {
      "text/plain": [
       "120"
      ]
     },
     "execution_count": 63,
     "metadata": {},
     "output_type": "execute_result"
    }
   ],
   "source": [
    "math.factorial(5)"
   ]
  },
  {
   "cell_type": "markdown",
   "id": "typical-eleven",
   "metadata": {},
   "source": [
    "### math.comb(n, k)"
   ]
  },
  {
   "cell_type": "markdown",
   "id": "informational-bride",
   "metadata": {},
   "source": [
    "Verilen iki sayının kombinasyonunu alır."
   ]
  },
  {
   "cell_type": "code",
   "execution_count": 68,
   "id": "hired-gender",
   "metadata": {},
   "outputs": [
    {
     "data": {
      "text/plain": [
       "10"
      ]
     },
     "execution_count": 68,
     "metadata": {},
     "output_type": "execute_result"
    }
   ],
   "source": [
    "math.comb(5,3)"
   ]
  },
  {
   "cell_type": "markdown",
   "id": "turned-affiliate",
   "metadata": {},
   "source": [
    "### math.perm(n, k=None)"
   ]
  },
  {
   "cell_type": "code",
   "execution_count": null,
   "id": "9a7aff96",
   "metadata": {},
   "outputs": [],
   "source": []
  },
  {
   "cell_type": "markdown",
   "id": "known-appreciation",
   "metadata": {},
   "source": [
    "Verilen iki sayının permütasyonunu alır"
   ]
  },
  {
   "cell_type": "code",
   "execution_count": 69,
   "id": "renewable-reducing",
   "metadata": {},
   "outputs": [
    {
     "data": {
      "text/plain": [
       "60"
      ]
     },
     "execution_count": 69,
     "metadata": {},
     "output_type": "execute_result"
    }
   ],
   "source": [
    "math.perm(5,3)"
   ]
  },
  {
   "cell_type": "markdown",
   "id": "ultimate-vampire",
   "metadata": {},
   "source": [
    "### math.gcd(*integers)"
   ]
  },
  {
   "cell_type": "markdown",
   "id": "distributed-sheep",
   "metadata": {},
   "source": [
    "Verilen iki tamsayının en büyük ortak bölenini bulur."
   ]
  },
  {
   "cell_type": "code",
   "execution_count": 75,
   "id": "studied-extreme",
   "metadata": {},
   "outputs": [
    {
     "data": {
      "text/plain": [
       "10"
      ]
     },
     "execution_count": 75,
     "metadata": {},
     "output_type": "execute_result"
    }
   ],
   "source": [
    "math.gcd(20,10)"
   ]
  },
  {
   "cell_type": "markdown",
   "id": "excited-proof",
   "metadata": {},
   "source": [
    "### math.exp(x)"
   ]
  },
  {
   "cell_type": "markdown",
   "id": "rising-asbestos",
   "metadata": {},
   "source": [
    "doğal sayı olan e sayısının üstel fonksiyonudur. "
   ]
  },
  {
   "cell_type": "code",
   "execution_count": 76,
   "id": "whole-gnome",
   "metadata": {},
   "outputs": [
    {
     "data": {
      "text/plain": [
       "7.38905609893065"
      ]
     },
     "execution_count": 76,
     "metadata": {},
     "output_type": "execute_result"
    }
   ],
   "source": [
    "math.exp(2)"
   ]
  },
  {
   "cell_type": "markdown",
   "id": "optional-transaction",
   "metadata": {},
   "source": [
    "### math.log(x[, base])"
   ]
  },
  {
   "cell_type": "markdown",
   "id": "adolescent-viking",
   "metadata": {},
   "source": [
    "logaritma almada kullanılır."
   ]
  },
  {
   "cell_type": "code",
   "execution_count": 78,
   "id": "biological-outside",
   "metadata": {},
   "outputs": [
    {
     "data": {
      "text/plain": [
       "2.0"
      ]
     },
     "execution_count": 78,
     "metadata": {},
     "output_type": "execute_result"
    }
   ],
   "source": [
    "math.log(100,10)"
   ]
  },
  {
   "cell_type": "markdown",
   "id": "noticed-startup",
   "metadata": {},
   "source": [
    "### math.pi"
   ]
  },
  {
   "cell_type": "markdown",
   "id": "polyphonic-rough",
   "metadata": {},
   "source": [
    "Pi sayısıdır. Sabittir."
   ]
  },
  {
   "cell_type": "code",
   "execution_count": 81,
   "id": "upset-challenge",
   "metadata": {},
   "outputs": [
    {
     "data": {
      "text/plain": [
       "3.141592653589793"
      ]
     },
     "execution_count": 81,
     "metadata": {},
     "output_type": "execute_result"
    }
   ],
   "source": [
    "math.pi"
   ]
  },
  {
   "cell_type": "markdown",
   "id": "presidential-tissue",
   "metadata": {},
   "source": [
    "### math.e"
   ]
  },
  {
   "cell_type": "markdown",
   "id": "fresh-roulette",
   "metadata": {},
   "source": [
    "e sayısıdır. Sabittir"
   ]
  },
  {
   "cell_type": "code",
   "execution_count": 84,
   "id": "optional-grass",
   "metadata": {},
   "outputs": [
    {
     "data": {
      "text/plain": [
       "2.718281828459045"
      ]
     },
     "execution_count": 84,
     "metadata": {},
     "output_type": "execute_result"
    }
   ],
   "source": [
    "math.e"
   ]
  },
  {
   "cell_type": "markdown",
   "id": "understanding-bottle",
   "metadata": {},
   "source": [
    "### math.cos(x)"
   ]
  },
  {
   "cell_type": "markdown",
   "id": "introductory-eclipse",
   "metadata": {},
   "source": [
    "cos(x) i verir. x burada radyan cinsindendir."
   ]
  },
  {
   "cell_type": "code",
   "execution_count": 83,
   "id": "spoken-decision",
   "metadata": {},
   "outputs": [
    {
     "data": {
      "text/plain": [
       "-1.0"
      ]
     },
     "execution_count": 83,
     "metadata": {},
     "output_type": "execute_result"
    }
   ],
   "source": [
    "x=math.pi\n",
    "\n",
    "math.cos(x)"
   ]
  },
  {
   "cell_type": "markdown",
   "id": "fitting-municipality",
   "metadata": {},
   "source": [
    "### math.sin(x)"
   ]
  },
  {
   "cell_type": "markdown",
   "id": "better-norwegian",
   "metadata": {},
   "source": [
    "sin(x) i verir. x burada radyan cinsindendir."
   ]
  },
  {
   "cell_type": "code",
   "execution_count": 87,
   "id": "representative-couple",
   "metadata": {},
   "outputs": [
    {
     "data": {
      "text/plain": [
       "1.0"
      ]
     },
     "execution_count": 87,
     "metadata": {},
     "output_type": "execute_result"
    }
   ],
   "source": [
    "x=math.pi/2\n",
    "\n",
    "math.sin(x)"
   ]
  },
  {
   "cell_type": "code",
   "execution_count": null,
   "id": "contemporary-commerce",
   "metadata": {},
   "outputs": [],
   "source": []
  }
 ],
 "metadata": {
  "kernelspec": {
   "display_name": "Python 3 (ipykernel)",
   "language": "python",
   "name": "python3"
  },
  "language_info": {
   "codemirror_mode": {
    "name": "ipython",
    "version": 3
   },
   "file_extension": ".py",
   "mimetype": "text/x-python",
   "name": "python",
   "nbconvert_exporter": "python",
   "pygments_lexer": "ipython3",
   "version": "3.11.4"
  },
  "nbTranslate": {
   "displayLangs": [
    "*"
   ],
   "hotkey": "alt-t",
   "langInMainMenu": true,
   "sourceLang": "en",
   "targetLang": "fr",
   "useGoogleTranslate": true
  }
 },
 "nbformat": 4,
 "nbformat_minor": 5
}
