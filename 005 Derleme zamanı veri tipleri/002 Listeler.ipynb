{
 "cells": [
  {
   "cell_type": "markdown",
   "id": "steady-business",
   "metadata": {},
   "source": [
    "# Listeler"
   ]
  },
  {
   "cell_type": "markdown",
   "id": "treated-combat",
   "metadata": {},
   "source": [
    "Python'da listeler, çok sayıda veriyi saklamak ve işlem yapmak için kullanılan önemli bir veri yapısıdır. Aşağıdaki nedenlerden dolayı listelerle çalışmak çok faydalı olacaktır."
   ]
  },
  {
   "cell_type": "markdown",
   "id": "3b7e985e",
   "metadata": {},
   "source": [
    "**1. Verileri Saklamak:** Listeler, birden çok öğeyi tek bir değişken altında saklamak için kullanılır. Bu sayede farklı türlerdeki verileri (sayılar, metinler, nesneler vb.) aynı liste içinde depolayabilirsiniz."
   ]
  },
  {
   "cell_type": "code",
   "execution_count": 1,
   "id": "4ca3d5b2",
   "metadata": {},
   "outputs": [],
   "source": [
    "names = [\"Ali\", \"Ayşe\", \"Mehmet\", \"Elif\"]\n",
    "points = [85, 92, 78, 88]"
   ]
  },
  {
   "cell_type": "markdown",
   "id": "2970f595",
   "metadata": {},
   "source": [
    "**2. Verilere Erişim:** Listeler, içerdikleri verilere sıralı bir şekilde erişim sağlar. Her öğeye bir indeks numarasıyla ulaşabilirsiniz. Bu, verileri okuma, güncelleme ve işleme açısından çok kullanışlıdır."
   ]
  },
  {
   "cell_type": "code",
   "execution_count": 2,
   "id": "e322dc98",
   "metadata": {},
   "outputs": [
    {
     "name": "stdout",
     "output_type": "stream",
     "text": [
      "Ali\n"
     ]
    }
   ],
   "source": [
    "names = [\"Ali\", \"Ayşe\", \"Mehmet\", \"Elif\"]\n",
    "print(names[0])  # \"Ali\" yazdırılır"
   ]
  },
  {
   "cell_type": "markdown",
   "id": "985562b7",
   "metadata": {},
   "source": [
    "**3. Döngülerle İşleme:** Listeler, döngüler (for veya while döngüleri) kullanarak listeyi gezerek her öğeyi işlemek için idealdir. Bu, tekrarlayan işlemler için çok kullanışlıdır."
   ]
  },
  {
   "cell_type": "code",
   "execution_count": 3,
   "id": "0a850547",
   "metadata": {},
   "outputs": [],
   "source": [
    "puanlar = [85, 92, 78, 88]\n",
    "toplam_puan = 0\n",
    "for puan in puanlar:\n",
    "    toplam_puan += puan"
   ]
  },
  {
   "cell_type": "markdown",
   "id": "84a99a87",
   "metadata": {},
   "source": [
    "**4. Değiştirilebilirlik:** Python listeleri değiştirilebilir (mutable) veri yapısıdır, yani içeriği değiştirilebilir. Bu, yeni öğeler eklemek, öğeleri güncellemek veya öğeleri silmek için kullanılabilir."
   ]
  },
  {
   "cell_type": "markdown",
   "id": "c2800b78",
   "metadata": {},
   "source": [
    "**5. İşlem Kolaylığı:** Listeler, veri işleme ve dönüşüm işlemleri için çok sayıda yerleşik fonksiyon ve metot sağlar. Bu, verileri sıralama, filtreleme, dönüştürme ve diğer çeşitli işlemler için kolaylık sağlar."
   ]
  },
  {
   "cell_type": "code",
   "execution_count": 4,
   "id": "aa9d6cf5",
   "metadata": {},
   "outputs": [
    {
     "data": {
      "text/plain": [
       "3"
      ]
     },
     "execution_count": 4,
     "metadata": {},
     "output_type": "execute_result"
    }
   ],
   "source": [
    "sayilar = [3, 1, 4, 1, 5, 9, 2, 6, 5, 3, 5]\n",
    "sayilar.sort()  # Sayıları sıralar\n",
    "sayi_adedi = sayilar.count(5)  # 5 sayısının kaç kez geçtiğini sayar\n",
    "sayi_adedi"
   ]
  },
  {
   "cell_type": "markdown",
   "id": "selective-entity",
   "metadata": {},
   "source": [
    "## Liste Oluşturma"
   ]
  },
  {
   "cell_type": "code",
   "execution_count": 4,
   "id": "fa5eb3d2",
   "metadata": {
    "scrolled": false
   },
   "outputs": [
    {
     "data": {
      "text/plain": [
       "[]"
      ]
     },
     "execution_count": 4,
     "metadata": {},
     "output_type": "execute_result"
    }
   ],
   "source": [
    "# Boş liste . list() fonksiyonuyla da oluşturulabilir.\n",
    "bos_liste = list()\n",
    "bos_liste"
   ]
  },
  {
   "cell_type": "code",
   "execution_count": null,
   "id": "2f2ed667",
   "metadata": {},
   "outputs": [],
   "source": [
    "# Boş liste köşeli parantezle [] oluşturulabilir.\n",
    "bos_liste = []\n",
    "bos_liste"
   ]
  },
  {
   "cell_type": "code",
   "execution_count": 12,
   "id": "lonely-boost",
   "metadata": {},
   "outputs": [
    {
     "data": {
      "text/plain": [
       "[1, 2, 3, 4, 5, 6, 7]"
      ]
     },
     "execution_count": 12,
     "metadata": {},
     "output_type": "execute_result"
    }
   ],
   "source": [
    "# Dolu liste oluşturma\n",
    "liste = [1,2,3,4,5,6,7]\n",
    "liste"
   ]
  },
  {
   "cell_type": "code",
   "execution_count": 13,
   "id": "eb0ba805",
   "metadata": {},
   "outputs": [
    {
     "data": {
      "text/plain": [
       "[1, 44, 3, 4, 5, 6, 7]"
      ]
     },
     "execution_count": 13,
     "metadata": {},
     "output_type": "execute_result"
    }
   ],
   "source": [
    "# Liste içerisindeki bir elemanı değiştirme\n",
    "liste[1] = 44\n",
    "liste"
   ]
  },
  {
   "cell_type": "code",
   "execution_count": 6,
   "id": "sixth-robert",
   "metadata": {
    "scrolled": true
   },
   "outputs": [
    {
     "data": {
      "text/plain": [
       "[4, 5, 65, 6.25, 'kalem', 3.14, 5.324]"
      ]
     },
     "execution_count": 6,
     "metadata": {},
     "output_type": "execute_result"
    }
   ],
   "source": [
    "# Bir liste değişkeninde değişik veri tiplerinden değerleri saklayabiliyoruz.\n",
    "liste2 =  [4,5,65,6.25,\"kalem\",3.14,5.324]\n",
    "liste2"
   ]
  },
  {
   "cell_type": "code",
   "execution_count": 9,
   "id": "hybrid-title",
   "metadata": {},
   "outputs": [
    {
     "data": {
      "text/plain": [
       "['M', 'e', 'r', 'h', 'a', 'b', 'a']"
      ]
     },
     "execution_count": 9,
     "metadata": {},
     "output_type": "execute_result"
    }
   ],
   "source": [
    "# Bir string list() fonksiyonu yardımıyla listeye dönüştürülebilir.\n",
    "s =  \"Merhaba\"\n",
    "lst =  list(s)\n",
    "lst"
   ]
  },
  {
   "cell_type": "code",
   "execution_count": 10,
   "id": "specified-artwork",
   "metadata": {},
   "outputs": [
    {
     "ename": "TypeError",
     "evalue": "'int' object is not iterable",
     "output_type": "error",
     "traceback": [
      "\u001b[1;31m---------------------------------------------------------------------------\u001b[0m",
      "\u001b[1;31mTypeError\u001b[0m                                 Traceback (most recent call last)",
      "\u001b[1;32m<ipython-input-10-5f5ca40b339d>\u001b[0m in \u001b[0;36m<module>\u001b[1;34m\u001b[0m\n\u001b[0;32m      1\u001b[0m \u001b[1;31m# Fakat sayı tipindeki değerler listeye çevrilemez.\u001b[0m\u001b[1;33m\u001b[0m\u001b[1;33m\u001b[0m\u001b[1;33m\u001b[0m\u001b[0m\n\u001b[0;32m      2\u001b[0m \u001b[0ms\u001b[0m \u001b[1;33m=\u001b[0m  \u001b[1;36m12364\u001b[0m\u001b[1;33m\u001b[0m\u001b[1;33m\u001b[0m\u001b[0m\n\u001b[1;32m----> 3\u001b[1;33m \u001b[0mlst\u001b[0m \u001b[1;33m=\u001b[0m  \u001b[0mlist\u001b[0m\u001b[1;33m(\u001b[0m\u001b[0ms\u001b[0m\u001b[1;33m)\u001b[0m\u001b[1;33m\u001b[0m\u001b[1;33m\u001b[0m\u001b[0m\n\u001b[0m\u001b[0;32m      4\u001b[0m \u001b[0mlst\u001b[0m\u001b[1;33m\u001b[0m\u001b[1;33m\u001b[0m\u001b[0m\n",
      "\u001b[1;31mTypeError\u001b[0m: 'int' object is not iterable"
     ]
    }
   ],
   "source": [
    "# Fakat sayı tipindeki değerler listeye çevrilemez. Aşağıdaki kod hata verecektir.\n",
    "s =  12364\n",
    "lst =  list(s)\n",
    "lst"
   ]
  },
  {
   "cell_type": "markdown",
   "id": "modern-vanilla",
   "metadata": {},
   "source": [
    "## Listeleri Indeksleme ve Parçalama"
   ]
  },
  {
   "cell_type": "markdown",
   "id": "genuine-bargain",
   "metadata": {},
   "source": [
    "İndeksleme ve parçalama işlemlerini stringler konusunda görmüştük. Listelerde de indeksleme ve parçalama işlemleri stringler ile aynıdır."
   ]
  },
  {
   "cell_type": "code",
   "execution_count": 11,
   "id": "united-celebrity",
   "metadata": {},
   "outputs": [],
   "source": [
    "#liste değişkenimizi yeniden oluşturalım.\n",
    "liste=[1,2,3,4,5,6,7,8,9]"
   ]
  },
  {
   "cell_type": "code",
   "execution_count": 12,
   "id": "muslim-rental",
   "metadata": {},
   "outputs": [
    {
     "data": {
      "text/plain": [
       "1"
      ]
     },
     "execution_count": 12,
     "metadata": {},
     "output_type": "execute_result"
    }
   ],
   "source": [
    "# Listenin 0'ıncı elemanı\n",
    "liste[0]"
   ]
  },
  {
   "cell_type": "code",
   "execution_count": 13,
   "id": "tutorial-glenn",
   "metadata": {},
   "outputs": [
    {
     "data": {
      "text/plain": [
       "5"
      ]
     },
     "execution_count": 13,
     "metadata": {},
     "output_type": "execute_result"
    }
   ],
   "source": [
    "# Listenin 4'üncü elemanı\n",
    "liste[4]"
   ]
  },
  {
   "cell_type": "code",
   "execution_count": 14,
   "id": "elegant-bailey",
   "metadata": {},
   "outputs": [
    {
     "data": {
      "text/plain": [
       "9"
      ]
     },
     "execution_count": 14,
     "metadata": {},
     "output_type": "execute_result"
    }
   ],
   "source": [
    "# Listenin sonuncu elelanı\n",
    "liste[-1]"
   ]
  },
  {
   "cell_type": "code",
   "execution_count": 15,
   "id": "demographic-watson",
   "metadata": {},
   "outputs": [
    {
     "data": {
      "text/plain": [
       "9"
      ]
     },
     "execution_count": 15,
     "metadata": {},
     "output_type": "execute_result"
    }
   ],
   "source": [
    "# Listenin sonuncu elelanı\n",
    "liste[len(liste)-1]"
   ]
  },
  {
   "cell_type": "code",
   "execution_count": 16,
   "id": "buried-spoke",
   "metadata": {},
   "outputs": [
    {
     "data": {
      "text/plain": [
       "[1, 2, 3, 4, 5]"
      ]
     },
     "execution_count": 16,
     "metadata": {},
     "output_type": "execute_result"
    }
   ],
   "source": [
    "# Baştan 5. indekse kadar (dahil değil)\n",
    "liste[:5]"
   ]
  },
  {
   "cell_type": "code",
   "execution_count": 17,
   "id": "administrative-exemption",
   "metadata": {},
   "outputs": [
    {
     "data": {
      "text/plain": [
       "[3, 4]"
      ]
     },
     "execution_count": 17,
     "metadata": {},
     "output_type": "execute_result"
    }
   ],
   "source": [
    "# 2.indeksten 4.indekse kadar\n",
    "liste[2:4]"
   ]
  },
  {
   "cell_type": "code",
   "execution_count": 18,
   "id": "worth-clinic",
   "metadata": {},
   "outputs": [
    {
     "data": {
      "text/plain": [
       "[6, 7, 8, 9]"
      ]
     },
     "execution_count": 18,
     "metadata": {},
     "output_type": "execute_result"
    }
   ],
   "source": [
    "#5'inci elemanıdan itibaren alır\n",
    "liste[5:]"
   ]
  },
  {
   "cell_type": "code",
   "execution_count": 19,
   "id": "fancy-character",
   "metadata": {},
   "outputs": [
    {
     "data": {
      "text/plain": [
       "[1, 3, 5, 7, 9]"
      ]
     },
     "execution_count": 19,
     "metadata": {},
     "output_type": "execute_result"
    }
   ],
   "source": [
    "#liste elemanlarını 2'şer atlayarak alır\n",
    "liste[::2]"
   ]
  },
  {
   "cell_type": "code",
   "execution_count": 21,
   "id": "prospective-success",
   "metadata": {},
   "outputs": [
    {
     "data": {
      "text/plain": [
       "[9, 8, 7, 6, 5, 4, 3, 2, 1]"
      ]
     },
     "execution_count": 21,
     "metadata": {},
     "output_type": "execute_result"
    }
   ],
   "source": [
    "# listeyi ters çevirme\n",
    "liste[::-1]"
   ]
  },
  {
   "cell_type": "markdown",
   "id": "controversial-representative",
   "metadata": {},
   "source": [
    "### İç içe Listeler\n",
    "\n",
    "Bir listenin içinde başka bir liste bulundurmak mümkündür. Bunlara Pythonda içiçe listeler denmektedir. Bu tip bir özellik, Pythonda ağaç yapılarında veya matris yapılarında oldukça kullanışlı olmaktadır."
   ]
  },
  {
   "cell_type": "code",
   "execution_count": 22,
   "id": "catholic-yesterday",
   "metadata": {},
   "outputs": [
    {
     "data": {
      "text/plain": [
       "[[1, 2, 3], [4, 5, 6], [7, 8, 9]]"
      ]
     },
     "execution_count": 22,
     "metadata": {},
     "output_type": "execute_result"
    }
   ],
   "source": [
    "# 3 Tane liste oluşturalım.\n",
    "\n",
    "liste1 = [1, 2, 3]\n",
    "liste2 = [4, 5, 6]\n",
    "liste3 = [7, 8, 9]\n",
    "\n",
    "yeniliste = [liste1, liste2, liste3]\n",
    "yeniliste"
   ]
  },
  {
   "cell_type": "code",
   "execution_count": 23,
   "id": "balanced-charity",
   "metadata": {},
   "outputs": [
    {
     "data": {
      "text/plain": [
       "4"
      ]
     },
     "execution_count": 23,
     "metadata": {},
     "output_type": "execute_result"
    }
   ],
   "source": [
    "# 1.elemanın 0.elemanı\n",
    "yeniliste[1][0]"
   ]
  },
  {
   "cell_type": "markdown",
   "id": "67975dc4",
   "metadata": {},
   "source": [
    "## Dizi İşlemleri"
   ]
  },
  {
   "cell_type": "markdown",
   "id": "c952154e",
   "metadata": {},
   "source": [
    "# in operatörü"
   ]
  },
  {
   "cell_type": "markdown",
   "id": "2467ab85",
   "metadata": {},
   "source": [
    "Boolean yani true-false bir ifadedir. **x in s** şeklinde kullanılır. eğer x elemanı s dizisinin içinde ise true, değilse false olarak değer döndürür."
   ]
  },
  {
   "cell_type": "code",
   "execution_count": 14,
   "id": "f223eaed",
   "metadata": {},
   "outputs": [
    {
     "data": {
      "text/plain": [
       "True"
      ]
     },
     "execution_count": 14,
     "metadata": {},
     "output_type": "execute_result"
    }
   ],
   "source": [
    "liste=[1,2,3,4,5,6,7,8,9]\n",
    "\n",
    "1 in liste"
   ]
  },
  {
   "cell_type": "code",
   "execution_count": 15,
   "id": "bd2cfff5",
   "metadata": {},
   "outputs": [
    {
     "data": {
      "text/plain": [
       "False"
      ]
     },
     "execution_count": 15,
     "metadata": {},
     "output_type": "execute_result"
    }
   ],
   "source": [
    "10 in liste"
   ]
  },
  {
   "cell_type": "markdown",
   "id": "870a5b96",
   "metadata": {},
   "source": [
    "### not in operatörü"
   ]
  },
  {
   "cell_type": "markdown",
   "id": "7f4317fb",
   "metadata": {},
   "source": [
    "Bildiğimiz gibi not operatörü tesrliyordu. x not in s şeklinde kullanabiliriz. eğer x elemanı s dizisinin içinde değilse ise true, içindeyse false olarak değer döndürür."
   ]
  },
  {
   "cell_type": "code",
   "execution_count": 16,
   "id": "eb39ff5c",
   "metadata": {},
   "outputs": [
    {
     "data": {
      "text/plain": [
       "False"
      ]
     },
     "execution_count": 16,
     "metadata": {},
     "output_type": "execute_result"
    }
   ],
   "source": [
    "liste=[1,2,3,4,5,6,7,8,9]\n",
    "\n",
    "1 not in liste"
   ]
  },
  {
   "cell_type": "code",
   "execution_count": 17,
   "id": "b24c36a0",
   "metadata": {},
   "outputs": [
    {
     "data": {
      "text/plain": [
       "True"
      ]
     },
     "execution_count": 17,
     "metadata": {},
     "output_type": "execute_result"
    }
   ],
   "source": [
    "10 not in liste"
   ]
  },
  {
   "cell_type": "markdown",
   "id": "9de536b4",
   "metadata": {},
   "source": [
    "### + Operatörü"
   ]
  },
  {
   "cell_type": "markdown",
   "id": "c0058ea9",
   "metadata": {},
   "source": [
    "İki diziyi bitleştirir"
   ]
  },
  {
   "cell_type": "code",
   "execution_count": 18,
   "id": "d53c2e50",
   "metadata": {},
   "outputs": [
    {
     "data": {
      "text/plain": [
       "[1, 2, 3, 4, 5, 6, 'Murat', 'Uğur', 'KİRAZ']"
      ]
     },
     "execution_count": 18,
     "metadata": {},
     "output_type": "execute_result"
    }
   ],
   "source": [
    "liste1 = [1,2,3,4,5,6]\n",
    "liste2 = [\"Murat\", \"Uğur\", \"KİRAZ\"]\n",
    "yeni_liste = liste1 + liste2\n",
    "yeni_liste"
   ]
  },
  {
   "cell_type": "markdown",
   "id": "7cbf1ca6",
   "metadata": {},
   "source": [
    "### * operatörü"
   ]
  },
  {
   "cell_type": "markdown",
   "id": "dda0f477",
   "metadata": {},
   "source": [
    "Gösterimi \"s * n\" dir. n dizisini s defa kopyalar ve aynı listeye ekler"
   ]
  },
  {
   "cell_type": "code",
   "execution_count": 19,
   "id": "5ca3fec9",
   "metadata": {},
   "outputs": [
    {
     "data": {
      "text/plain": [
       "[1, 2, 3, 4, 5, 6, 1, 2, 3, 4, 5, 6, 1, 2, 3, 4, 5, 6]"
      ]
     },
     "execution_count": 19,
     "metadata": {},
     "output_type": "execute_result"
    }
   ],
   "source": [
    "3 * liste1"
   ]
  },
  {
   "cell_type": "code",
   "execution_count": 20,
   "id": "ceab384a",
   "metadata": {},
   "outputs": [
    {
     "data": {
      "text/plain": [
       "[1, 2, 3, 4, 5, 6, 1, 2, 3, 4, 5, 6, 1, 2, 3, 4, 5, 6]"
      ]
     },
     "execution_count": 20,
     "metadata": {},
     "output_type": "execute_result"
    }
   ],
   "source": [
    "liste1 * 3"
   ]
  },
  {
   "cell_type": "markdown",
   "id": "63b87d74",
   "metadata": {},
   "source": [
    "### s[i]"
   ]
  },
  {
   "cell_type": "markdown",
   "id": "5b1cf3f9",
   "metadata": {},
   "source": [
    "Dizinin i inci indis numaralı elemanını verir"
   ]
  },
  {
   "cell_type": "code",
   "execution_count": 21,
   "id": "b01014f6",
   "metadata": {},
   "outputs": [
    {
     "data": {
      "text/plain": [
       "4"
      ]
     },
     "execution_count": 21,
     "metadata": {},
     "output_type": "execute_result"
    }
   ],
   "source": [
    "liste1[3]"
   ]
  },
  {
   "cell_type": "markdown",
   "id": "d25a9760",
   "metadata": {},
   "source": [
    "Önemli Eğer olmayan bir indis numarası verirsek hata alırız."
   ]
  },
  {
   "cell_type": "code",
   "execution_count": 22,
   "id": "de1ed84c",
   "metadata": {},
   "outputs": [
    {
     "ename": "IndexError",
     "evalue": "list index out of range",
     "output_type": "error",
     "traceback": [
      "\u001b[1;31m---------------------------------------------------------------------------\u001b[0m",
      "\u001b[1;31mIndexError\u001b[0m                                Traceback (most recent call last)",
      "Cell \u001b[1;32mIn[22], line 1\u001b[0m\n\u001b[1;32m----> 1\u001b[0m liste1[\u001b[38;5;241m35\u001b[39m]\n",
      "\u001b[1;31mIndexError\u001b[0m: list index out of range"
     ]
    }
   ],
   "source": [
    "liste1[35]"
   ]
  },
  {
   "cell_type": "markdown",
   "id": "43b80a7f",
   "metadata": {},
   "source": [
    "### s[i:j]"
   ]
  },
  {
   "cell_type": "markdown",
   "id": "4cd163c0",
   "metadata": {},
   "source": [
    "Dizinin i-j indis numaraları arasındaki elemanları verir."
   ]
  },
  {
   "cell_type": "code",
   "execution_count": 23,
   "id": "de9ae955",
   "metadata": {},
   "outputs": [
    {
     "data": {
      "text/plain": [
       "[4, 5, 6]"
      ]
     },
     "execution_count": 23,
     "metadata": {},
     "output_type": "execute_result"
    }
   ],
   "source": [
    "liste1[3:6]"
   ]
  },
  {
   "cell_type": "markdown",
   "id": "a78ab2f2",
   "metadata": {},
   "source": [
    "### s[i:j:k]"
   ]
  },
  {
   "cell_type": "markdown",
   "id": "662da9cf",
   "metadata": {},
   "source": [
    "Dizinin i-j indis numaraları arasındaki elemanları k iterasyonuna göre verir."
   ]
  },
  {
   "cell_type": "code",
   "execution_count": 24,
   "id": "69eb5a29",
   "metadata": {},
   "outputs": [
    {
     "data": {
      "text/plain": [
       "[2, 4, 6]"
      ]
     },
     "execution_count": 24,
     "metadata": {},
     "output_type": "execute_result"
    }
   ],
   "source": [
    "liste1[1:6:2]"
   ]
  },
  {
   "cell_type": "markdown",
   "id": "0c1e59c6",
   "metadata": {},
   "source": [
    "## Bir listeden öğeleri kaldırma\n",
    "Listenin herhangi bir öğesi herhangi bir zamanda kaldırılabilir; bu, del (sil) adlı bir talimatla yapılır. \n",
    "**Not:** del bir işlev değil, bir talimattır.\n",
    "\n",
    "Kaldırılacak öğenin üzerine gelmeniz gerekir; listeden kaybolacak ve listenin uzunluğu bir birim kısalacaktır.\n",
    "\n",
    "Aşağıdaki kodu inceleyin:"
   ]
  },
  {
   "cell_type": "code",
   "execution_count": 5,
   "id": "565873b5",
   "metadata": {},
   "outputs": [
    {
     "name": "stdout",
     "output_type": "stream",
     "text": [
      "Orijinal liste içeriği: [10, 5, 7, 2, 1]\n",
      "\n",
      "Önceki liste içeriği: [111, 5, 7, 2, 1]\n",
      "Önceki liste içeriği: [111, 1, 7, 2, 1]\n",
      "\n",
      "Liste Uzunluğu: 5\n",
      "Yeni liste uzunluğu: 4\n",
      "\n",
      "Yeni liste içeriği: [111, 7, 2, 1]\n"
     ]
    }
   ],
   "source": [
    "numbers = [10, 5, 7, 2, 1]\n",
    "print(\"Orijinal liste içeriği:\", numbers)  # Printing original list content.\n",
    "\n",
    "numbers[0] = 111\n",
    "print(\"\\nÖnceki liste içeriği:\", numbers)  # Printing previous list content.\n",
    "\n",
    "numbers[1] = numbers[4]  # Copying value of the fifth element to the second.\n",
    "print(\"Önceki liste içeriği:\", numbers)  # Printing previous list content.\n",
    "\n",
    "print(\"\\nListe Uzunluğu:\", len(numbers))  # Printing previous list length.\n",
    "\n",
    "###\n",
    "\n",
    "del numbers[1]  # Removing the second element from the list.\n",
    "print(\"Yeni liste uzunluğu:\", len(numbers))  # Printing new list length.\n",
    "print(\"\\nYeni liste içeriği:\", numbers)  # Printing current list content.\n"
   ]
  },
  {
   "cell_type": "code",
   "execution_count": null,
   "id": "d8705ab8",
   "metadata": {},
   "outputs": [],
   "source": []
  }
 ],
 "metadata": {
  "kernelspec": {
   "display_name": "Python 3 (ipykernel)",
   "language": "python",
   "name": "python3"
  },
  "language_info": {
   "codemirror_mode": {
    "name": "ipython",
    "version": 3
   },
   "file_extension": ".py",
   "mimetype": "text/x-python",
   "name": "python",
   "nbconvert_exporter": "python",
   "pygments_lexer": "ipython3",
   "version": "3.11.5"
  },
  "nbTranslate": {
   "displayLangs": [
    "*"
   ],
   "hotkey": "alt-t",
   "langInMainMenu": true,
   "sourceLang": "en",
   "targetLang": "fr",
   "useGoogleTranslate": true
  }
 },
 "nbformat": 4,
 "nbformat_minor": 5
}
