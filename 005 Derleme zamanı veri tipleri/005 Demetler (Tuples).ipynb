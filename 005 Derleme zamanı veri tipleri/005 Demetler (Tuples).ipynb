{
 "cells": [
  {
   "cell_type": "markdown",
   "id": "liberal-trail",
   "metadata": {},
   "source": [
    "# Demetler (Tuples)"
   ]
  },
  {
   "cell_type": "markdown",
   "id": "british-footage",
   "metadata": {},
   "source": [
    "Demetler veya İngilizce ismiyle 'tuple' lar listelere oldukça benzer. Fakat liste elemanları değiştirilebilirken, demet elemanları değiştirilemez. Bu sebeple programlarımızda değiştirilmesini istemediğimiz liste değerlerini bir demet içinde depolamayı tercih ederiz."
   ]
  },
  {
   "cell_type": "markdown",
   "id": "three-elements",
   "metadata": {},
   "source": [
    "### Demetleri Ne Zaman Kullanırız?"
   ]
  },
  {
   "cell_type": "markdown",
   "id": "related-union",
   "metadata": {},
   "source": [
    "Python'da demetlerden ziyade listeler daha çok kullanılır. Fakat, eğer ki programınızda değiştirilmesini istemediğiniz bilgiler varsa (Android uygulama sabitleri gibi) bunları demet içinde depolayabilirsiniz. Aynı zamanda, Read Only(Sadece Okuma) bir veritipi olduğu için listelere göre biraz daha hızlı çalışırlar."
   ]
  },
  {
   "cell_type": "markdown",
   "id": "funded-department",
   "metadata": {},
   "source": [
    "## Demet Oluşturma"
   ]
  },
  {
   "cell_type": "code",
   "execution_count": 4,
   "id": "consistent-press",
   "metadata": {},
   "outputs": [
    {
     "data": {
      "text/plain": [
       "(1, 2, 3, 4, 5, 6, 7, 8, 9)"
      ]
     },
     "execution_count": 4,
     "metadata": {},
     "output_type": "execute_result"
    }
   ],
   "source": [
    "# listeler köşeleri parantez [] ile oluşturuyorken, demetleri normal parantez () ile oluştururuz.\n",
    "demet = (1,2,3,4,5,6,7,8,9)\n",
    "demet"
   ]
  },
  {
   "cell_type": "code",
   "execution_count": 5,
   "id": "banned-camera",
   "metadata": {},
   "outputs": [
    {
     "data": {
      "text/plain": [
       "tuple"
      ]
     },
     "execution_count": 5,
     "metadata": {},
     "output_type": "execute_result"
    }
   ],
   "source": [
    "# type() fonksiyonu yardımıyla türünü öğrenebiliriz.\n",
    "type(demet)"
   ]
  },
  {
   "cell_type": "code",
   "execution_count": 14,
   "id": "assigned-depression",
   "metadata": {},
   "outputs": [],
   "source": [
    "#boş demet oluşturma :) oluştururuz ama mantıksızdır :))) çünkü veri ekleyemeyiz.\n",
    "demet = ()"
   ]
  },
  {
   "cell_type": "code",
   "execution_count": 15,
   "id": "suspended-episode",
   "metadata": {},
   "outputs": [
    {
     "data": {
      "text/plain": [
       "tuple"
      ]
     },
     "execution_count": 15,
     "metadata": {},
     "output_type": "execute_result"
    }
   ],
   "source": [
    "# demetin tipini öğrenelim\n",
    "type(demet)"
   ]
  },
  {
   "cell_type": "code",
   "execution_count": 18,
   "id": "expired-homework",
   "metadata": {},
   "outputs": [
    {
     "data": {
      "text/plain": [
       "tuple"
      ]
     },
     "execution_count": 18,
     "metadata": {},
     "output_type": "execute_result"
    }
   ],
   "source": [
    "# bir demet tuple() fonksiyonu ile de oluşturulabilir.\n",
    "demet = tuple()\n",
    "type(demet)"
   ]
  },
  {
   "cell_type": "code",
   "execution_count": 19,
   "id": "disturbed-assault",
   "metadata": {},
   "outputs": [
    {
     "data": {
      "text/plain": [
       "('M', 'e', 'r', 'h', 'a', 'b', 'a')"
      ]
     },
     "execution_count": 19,
     "metadata": {},
     "output_type": "execute_result"
    }
   ],
   "source": [
    "# Bir string tuple() fonksiyonu yardımıyla demete dönüştürülebilir.\n",
    "s =  \"Merhaba\"\n",
    "lst =  tuple(s)\n",
    "lst"
   ]
  },
  {
   "cell_type": "code",
   "execution_count": 29,
   "id": "painted-gibraltar",
   "metadata": {},
   "outputs": [
    {
     "data": {
      "text/plain": [
       "(0, 1, 2, 3, 4, 5, 6, 7, 8, 9, 10)"
      ]
     },
     "execution_count": 29,
     "metadata": {},
     "output_type": "execute_result"
    }
   ],
   "source": [
    "# Bir listeyi aşağıdaki gibi demete çevirebiliriz.\n",
    "liste = [0,1,2,3,4,5,6,7,8,9,10]\n",
    "demet = tuple(liste)\n",
    "demet"
   ]
  },
  {
   "cell_type": "markdown",
   "id": "standing-funds",
   "metadata": {},
   "source": [
    "## Demetleri Indeksleme ve Parçalama"
   ]
  },
  {
   "cell_type": "code",
   "execution_count": 32,
   "id": "distinguished-partition",
   "metadata": {},
   "outputs": [
    {
     "data": {
      "text/plain": [
       "0"
      ]
     },
     "execution_count": 32,
     "metadata": {},
     "output_type": "execute_result"
    }
   ],
   "source": [
    "# Demetin 0'ıncı elemanı\n",
    "demet[0]"
   ]
  },
  {
   "cell_type": "code",
   "execution_count": 33,
   "id": "coordinate-retail",
   "metadata": {},
   "outputs": [
    {
     "data": {
      "text/plain": [
       "0"
      ]
     },
     "execution_count": 33,
     "metadata": {},
     "output_type": "execute_result"
    }
   ],
   "source": [
    "# Demetin 5'inci elemanı\n",
    "demet[0]"
   ]
  },
  {
   "cell_type": "code",
   "execution_count": 34,
   "id": "choice-captain",
   "metadata": {},
   "outputs": [
    {
     "data": {
      "text/plain": [
       "(2, 3, 4)"
      ]
     },
     "execution_count": 34,
     "metadata": {},
     "output_type": "execute_result"
    }
   ],
   "source": [
    "# 2.indeksten 5. indekse kadar\n",
    "demet[2:5]"
   ]
  },
  {
   "cell_type": "code",
   "execution_count": 35,
   "id": "angry-detection",
   "metadata": {},
   "outputs": [
    {
     "data": {
      "text/plain": [
       "(5, 6, 7, 8, 9, 10)"
      ]
     },
     "execution_count": 35,
     "metadata": {},
     "output_type": "execute_result"
    }
   ],
   "source": [
    "#5'inci elemanıdan itibaren alır\n",
    "demet[5:]"
   ]
  },
  {
   "cell_type": "code",
   "execution_count": 36,
   "id": "charged-width",
   "metadata": {},
   "outputs": [
    {
     "data": {
      "text/plain": [
       "(10, 9, 8, 7, 6, 5, 4, 3, 2, 1, 0)"
      ]
     },
     "execution_count": 36,
     "metadata": {},
     "output_type": "execute_result"
    }
   ],
   "source": [
    "# Demeti ters çevirme\n",
    "demet[::-1]"
   ]
  },
  {
   "cell_type": "code",
   "execution_count": 37,
   "id": "terminal-controversy",
   "metadata": {},
   "outputs": [
    {
     "data": {
      "text/plain": [
       "(0, 2, 4, 6, 8, 10)"
      ]
     },
     "execution_count": 37,
     "metadata": {},
     "output_type": "execute_result"
    }
   ],
   "source": [
    "#Demet elemanlarını 2'şer atlayarak alır\n",
    "demet[::2]"
   ]
  },
  {
   "cell_type": "markdown",
   "id": "stretch-knight",
   "metadata": {},
   "source": [
    "## Değiştirilmeme Özelliği"
   ]
  },
  {
   "cell_type": "markdown",
   "id": "accessory-attempt",
   "metadata": {},
   "source": [
    "Demetler değiştirilemezdi. Şimdi bunu görelim."
   ]
  },
  {
   "cell_type": "code",
   "execution_count": 3,
   "id": "personalized-carbon",
   "metadata": {},
   "outputs": [
    {
     "ename": "TypeError",
     "evalue": "'tuple' object does not support item assignment",
     "output_type": "error",
     "traceback": [
      "\u001b[1;31m---------------------------------------------------------------------------\u001b[0m",
      "\u001b[1;31mTypeError\u001b[0m                                 Traceback (most recent call last)",
      "Cell \u001b[1;32mIn[3], line 3\u001b[0m\n\u001b[0;32m      1\u001b[0m son_demet \u001b[38;5;241m=\u001b[39m (\u001b[38;5;241m1\u001b[39m,\u001b[38;5;241m2\u001b[39m,\u001b[38;5;241m3\u001b[39m,\u001b[38;5;241m4\u001b[39m,\u001b[38;5;241m5\u001b[39m,\u001b[38;5;241m6\u001b[39m,\u001b[38;5;241m7\u001b[39m,\u001b[38;5;241m8\u001b[39m,\u001b[38;5;241m9\u001b[39m)\n\u001b[0;32m      2\u001b[0m \u001b[38;5;66;03m#demetin 2'nci indeksini değiştirmeye çalışalım. ###Bu kod hata verir.\u001b[39;00m\n\u001b[1;32m----> 3\u001b[0m son_demet[\u001b[38;5;241m2\u001b[39m] \u001b[38;5;241m=\u001b[39m \u001b[38;5;241m5\u001b[39m\n",
      "\u001b[1;31mTypeError\u001b[0m: 'tuple' object does not support item assignment"
     ]
    }
   ],
   "source": [
    "son_demet = (1,2,3,4,5,6,7,8,9)\n",
    "#demetin 2'nci indeksini değiştirmeye çalışalım. ###Bu kod hata verir.\n",
    "son_demet[2] = 5"
   ]
  },
  {
   "cell_type": "code",
   "execution_count": 4,
   "id": "3c5b215e",
   "metadata": {},
   "outputs": [
    {
     "ename": "AttributeError",
     "evalue": "'tuple' object has no attribute 'append'",
     "output_type": "error",
     "traceback": [
      "\u001b[1;31m---------------------------------------------------------------------------\u001b[0m",
      "\u001b[1;31mAttributeError\u001b[0m                            Traceback (most recent call last)",
      "Cell \u001b[1;32mIn[4], line 2\u001b[0m\n\u001b[0;32m      1\u001b[0m \u001b[38;5;66;03m#demete yeni bir eleman eklemeye çalışalım ###Bu kod hata verir.\u001b[39;00m\n\u001b[1;32m----> 2\u001b[0m son_demet\u001b[38;5;241m.\u001b[39mappend(\u001b[38;5;241m2\u001b[39m)\n",
      "\u001b[1;31mAttributeError\u001b[0m: 'tuple' object has no attribute 'append'"
     ]
    }
   ],
   "source": [
    "#demete yeni bir eleman eklemeye çalışalım ###Bu kod hata verir.\n",
    "son_demet.append(2)"
   ]
  },
  {
   "cell_type": "code",
   "execution_count": 5,
   "id": "f87afebf",
   "metadata": {},
   "outputs": [
    {
     "ename": "AttributeError",
     "evalue": "'tuple' object has no attribute 'pop'",
     "output_type": "error",
     "traceback": [
      "\u001b[1;31m---------------------------------------------------------------------------\u001b[0m",
      "\u001b[1;31mAttributeError\u001b[0m                            Traceback (most recent call last)",
      "Cell \u001b[1;32mIn[5], line 2\u001b[0m\n\u001b[0;32m      1\u001b[0m \u001b[38;5;66;03m#demetteki son veriyi silmeye çalışalım.\u001b[39;00m\n\u001b[1;32m----> 2\u001b[0m son_demet\u001b[38;5;241m.\u001b[39mpop()\n",
      "\u001b[1;31mAttributeError\u001b[0m: 'tuple' object has no attribute 'pop'"
     ]
    }
   ],
   "source": [
    "#demetteki son veriyi silmeye çalışalım.\n",
    "son_demet.pop()"
   ]
  }
 ],
 "metadata": {
  "kernelspec": {
   "display_name": "Python 3 (ipykernel)",
   "language": "python",
   "name": "python3"
  },
  "language_info": {
   "codemirror_mode": {
    "name": "ipython",
    "version": 3
   },
   "file_extension": ".py",
   "mimetype": "text/x-python",
   "name": "python",
   "nbconvert_exporter": "python",
   "pygments_lexer": "ipython3",
   "version": "3.11.4"
  },
  "nbTranslate": {
   "displayLangs": [
    "*"
   ],
   "hotkey": "alt-t",
   "langInMainMenu": true,
   "sourceLang": "en",
   "targetLang": "fr",
   "useGoogleTranslate": true
  }
 },
 "nbformat": 4,
 "nbformat_minor": 5
}
