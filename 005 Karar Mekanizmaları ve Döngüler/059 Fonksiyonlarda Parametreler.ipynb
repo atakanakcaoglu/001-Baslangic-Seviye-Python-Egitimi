{
 "cells": [
  {
   "cell_type": "markdown",
   "id": "local-doubt",
   "metadata": {},
   "source": [
    "# Fonksiyonlarda Parametreler"
   ]
  },
  {
   "cell_type": "markdown",
   "id": "olive-mileage",
   "metadata": {},
   "source": [
    "### Parametrelerin Varsayılan Değerleri\n",
    "\n",
    "Biliyorsunuz önceki konularda şöyle bir fonksiyon tanımlamıştık."
   ]
  },
  {
   "cell_type": "code",
   "execution_count": 1,
   "id": "linear-limitation",
   "metadata": {},
   "outputs": [],
   "source": [
    "def say_hello(name):\n",
    "    print(\"Merhaba\",name)"
   ]
  },
  {
   "cell_type": "code",
   "execution_count": 3,
   "id": "catholic-reaction",
   "metadata": {},
   "outputs": [
    {
     "name": "stdout",
     "output_type": "stream",
     "text": [
      "Merhaba Murat\n"
     ]
    }
   ],
   "source": [
    "say_hello(\"Murat\")"
   ]
  },
  {
   "cell_type": "code",
   "execution_count": 4,
   "id": "inside-debut",
   "metadata": {},
   "outputs": [
    {
     "name": "stdout",
     "output_type": "stream",
     "text": [
      "Merhaba Ayşe\n"
     ]
    }
   ],
   "source": [
    "say_hello(\"Ayşe\")"
   ]
  },
  {
   "cell_type": "code",
   "execution_count": 5,
   "id": "moral-revelation",
   "metadata": {},
   "outputs": [
    {
     "ename": "TypeError",
     "evalue": "say_hello() missing 1 required positional argument: 'name'",
     "output_type": "error",
     "traceback": [
      "\u001b[1;31m---------------------------------------------------------------------------\u001b[0m",
      "\u001b[1;31mTypeError\u001b[0m                                 Traceback (most recent call last)",
      "Cell \u001b[1;32mIn[5], line 1\u001b[0m\n\u001b[1;32m----> 1\u001b[0m say_hello()\n",
      "\u001b[1;31mTypeError\u001b[0m: say_hello() missing 1 required positional argument: 'name'"
     ]
    }
   ],
   "source": [
    "say_hello() # Bu kod hata verir. Tek argüman alan bir fonksiyon"
   ]
  },
  {
   "cell_type": "markdown",
   "id": "chemical-hunter",
   "metadata": {},
   "source": [
    "Ancak biz eğer bir parametrenin değerini varsayılan olarak belirlemek istersek, bunu varsayılan değerler ile yapabiliriz. Varsayılan değerleri anlamak için **say_hello()** fonksiyonunu varsayılan parametre değeri ile yazalım."
   ]
  },
  {
   "cell_type": "code",
   "execution_count": 6,
   "id": "vital-shareware",
   "metadata": {},
   "outputs": [],
   "source": [
    "def say_hello(name = \"İsimsiz\"):\n",
    "    print(\"Selam\",name)"
   ]
  },
  {
   "cell_type": "code",
   "execution_count": 7,
   "id": "referenced-disease",
   "metadata": {},
   "outputs": [
    {
     "name": "stdout",
     "output_type": "stream",
     "text": [
      "Selam İsimsiz\n"
     ]
    }
   ],
   "source": [
    "say_hello()"
   ]
  },
  {
   "cell_type": "code",
   "execution_count": 8,
   "id": "thick-silly",
   "metadata": {},
   "outputs": [
    {
     "name": "stdout",
     "output_type": "stream",
     "text": [
      "Selam Murat\n"
     ]
    }
   ],
   "source": [
    "say_hello(\"Murat\")"
   ]
  },
  {
   "cell_type": "markdown",
   "id": "worldwide-lobby",
   "metadata": {},
   "source": [
    "Peki birçok parametreye sahip olan bir fonksiyon da tanımlayabiliriz."
   ]
  },
  {
   "cell_type": "code",
   "execution_count": 15,
   "id": "changing-breathing",
   "metadata": {},
   "outputs": [],
   "source": [
    "def get_user(name = \"Bilgi Yok \",lastname = \"Bilgi Yok \",phone =  \"Bilgi Yok \"):\n",
    "    print(\"İsim:\",name,\"Soyisim:\",lastname,\"Telefon Numarası:\",phone)"
   ]
  },
  {
   "cell_type": "code",
   "execution_count": 16,
   "id": "worse-turtle",
   "metadata": {},
   "outputs": [
    {
     "name": "stdout",
     "output_type": "stream",
     "text": [
      "İsim: Bilgi Yok  Soyisim: Bilgi Yok  Telefon Numarası: Bilgi Yok \n"
     ]
    }
   ],
   "source": [
    "get_user() # Bütün parametreler varsayılan değerle ekrana basılır"
   ]
  },
  {
   "cell_type": "code",
   "execution_count": 17,
   "id": "talented-cassette",
   "metadata": {},
   "outputs": [
    {
     "name": "stdout",
     "output_type": "stream",
     "text": [
      "İsim: Murat Uğur Soyisim: KİRAZ Telefon Numarası: Bilgi Yok \n"
     ]
    }
   ],
   "source": [
    "get_user(\"Murat Uğur\",\"KİRAZ\")"
   ]
  },
  {
   "cell_type": "markdown",
   "id": "administrative-constant",
   "metadata": {},
   "source": [
    "Ancak böyle bir durumda argümanları gönderirken değerleri **sıralı** vermemiz gerekiyor. Peki sadece **telefon** parametresine değer vermek istersek ne yapacağız ? "
   ]
  },
  {
   "cell_type": "code",
   "execution_count": 13,
   "id": "acute-panama",
   "metadata": {},
   "outputs": [
    {
     "name": "stdout",
     "output_type": "stream",
     "text": [
      "İsim: Bilgi Yok Soyisim: Bilgi Yok Telefon Numarası: 0 123 456 78 90\n"
     ]
    }
   ],
   "source": [
    "get_user(phone=\"0 123 456 78 90\") # numara parametresini özel olarak belirtiyoruz."
   ]
  },
  {
   "cell_type": "code",
   "execution_count": 14,
   "id": "nuclear-reader",
   "metadata": {},
   "outputs": [
    {
     "name": "stdout",
     "output_type": "stream",
     "text": [
      "İsim: Murat Uğur Soyisim: Bilgi Yok Telefon Numarası: 0 123 456 78 90\n"
     ]
    }
   ],
   "source": [
    "get_user(name=\"Murat Uğur\", phone=\"0 123 456 78 90\")"
   ]
  },
  {
   "cell_type": "markdown",
   "id": "southern-marketplace",
   "metadata": {},
   "source": [
    "Örneğin print() fonksiyonunda **sep** parametresi vardır. Bu parametreye değer vermeyince varsayılan değeri boşluktur."
   ]
  },
  {
   "cell_type": "code",
   "execution_count": 20,
   "id": "funny-birth",
   "metadata": {},
   "outputs": [
    {
     "name": "stdout",
     "output_type": "stream",
     "text": [
      "Murat Uğur KİRAZ\n"
     ]
    }
   ],
   "source": [
    "print(\"Murat\",\"Uğur\",\"KİRAZ\")"
   ]
  },
  {
   "cell_type": "code",
   "execution_count": 21,
   "id": "electoral-failing",
   "metadata": {},
   "outputs": [
    {
     "name": "stdout",
     "output_type": "stream",
     "text": [
      "Murat\n",
      "Uğur\n",
      "KİRAZ\n"
     ]
    }
   ],
   "source": [
    "print(\"Murat\",\"Uğur\",\"KİRAZ\",sep=\"\\n\")"
   ]
  },
  {
   "cell_type": "markdown",
   "id": "geological-madagascar",
   "metadata": {},
   "source": [
    "Python'da **help()** fonksiyonu ile bizler başka bir fonksiyonun neler yaptığını görebiliriz. **print()** fonksiyonuna bakarsak,"
   ]
  },
  {
   "cell_type": "code",
   "execution_count": 23,
   "id": "disciplinary-portal",
   "metadata": {},
   "outputs": [
    {
     "name": "stdout",
     "output_type": "stream",
     "text": [
      "Help on built-in function print in module builtins:\n",
      "\n",
      "print(...)\n",
      "    print(value, ..., sep=' ', end='\\n', file=sys.stdout, flush=False)\n",
      "    \n",
      "    Prints the values to a stream, or to sys.stdout by default.\n",
      "    Optional keyword arguments:\n",
      "    file:  a file-like object (stream); defaults to the current sys.stdout.\n",
      "    sep:   string inserted between values, default a space.\n",
      "    end:   string appended after the last value, default a newline.\n",
      "    flush: whether to forcibly flush the stream.\n",
      "\n"
     ]
    }
   ],
   "source": [
    "help(print) # sep parametresinin varsayılan değerinin boşluk olduğunu görebiliyoruz."
   ]
  },
  {
   "cell_type": "markdown",
   "id": "organized-zimbabwe",
   "metadata": {},
   "source": [
    "## Rastgele Sayıda Argüman İçeren Bir İşlevi Tanımlama"
   ]
  },
  {
   "cell_type": "markdown",
   "id": "orange-wells",
   "metadata": {},
   "source": [
    "Bir fonksiyon yazıldığında özel olarak kaç tane parametresi olacağını önceden belirtmemiz gerekiyor."
   ]
  },
  {
   "cell_type": "code",
   "execution_count": 18,
   "id": "fifteen-emerald",
   "metadata": {},
   "outputs": [],
   "source": [
    "def get_sum(a,b,c):\n",
    "    print(a+b+c)"
   ]
  },
  {
   "cell_type": "code",
   "execution_count": 19,
   "id": "federal-exposure",
   "metadata": {},
   "outputs": [
    {
     "name": "stdout",
     "output_type": "stream",
     "text": [
      "18\n"
     ]
    }
   ],
   "source": [
    "get_sum(5,6,7)"
   ]
  },
  {
   "cell_type": "code",
   "execution_count": 20,
   "id": "lined-reset",
   "metadata": {},
   "outputs": [
    {
     "ename": "TypeError",
     "evalue": "get_sum() takes 3 positional arguments but 4 were given",
     "output_type": "error",
     "traceback": [
      "\u001b[1;31m---------------------------------------------------------------------------\u001b[0m",
      "\u001b[1;31mTypeError\u001b[0m                                 Traceback (most recent call last)",
      "Cell \u001b[1;32mIn[20], line 1\u001b[0m\n\u001b[1;32m----> 1\u001b[0m get_sum(\u001b[38;5;241m3\u001b[39m,\u001b[38;5;241m4\u001b[39m,\u001b[38;5;241m5\u001b[39m,\u001b[38;5;241m6\u001b[39m)\n",
      "\u001b[1;31mTypeError\u001b[0m: get_sum() takes 3 positional arguments but 4 were given"
     ]
    }
   ],
   "source": [
    "get_sum(3,4,5,6) # 4 tane argüman veremeyiz."
   ]
  },
  {
   "cell_type": "markdown",
   "id": "seven-constant",
   "metadata": {},
   "source": [
    "Eğer bu fonksiyonu 4 argüman alacak şekilde tanımlamak istersek, tekrardan tanımlamamız gerekiyor."
   ]
  },
  {
   "cell_type": "code",
   "execution_count": 23,
   "id": "honey-median",
   "metadata": {},
   "outputs": [],
   "source": [
    "def get_sum(a,b,c,d):\n",
    "    print(a+b+c+d)"
   ]
  },
  {
   "cell_type": "code",
   "execution_count": 24,
   "id": "wicked-linux",
   "metadata": {},
   "outputs": [
    {
     "name": "stdout",
     "output_type": "stream",
     "text": [
      "13\n"
     ]
    }
   ],
   "source": [
    "get_sum(1,2,4,6)"
   ]
  },
  {
   "cell_type": "code",
   "execution_count": 25,
   "id": "determined-scheduling",
   "metadata": {},
   "outputs": [
    {
     "ename": "TypeError",
     "evalue": "get_sum() missing 1 required positional argument: 'd'",
     "output_type": "error",
     "traceback": [
      "\u001b[1;31m---------------------------------------------------------------------------\u001b[0m",
      "\u001b[1;31mTypeError\u001b[0m                                 Traceback (most recent call last)",
      "Cell \u001b[1;32mIn[25], line 1\u001b[0m\n\u001b[1;32m----> 1\u001b[0m get_sum(\u001b[38;5;241m3\u001b[39m,\u001b[38;5;241m4\u001b[39m,\u001b[38;5;241m5\u001b[39m)\n",
      "\u001b[1;31mTypeError\u001b[0m: get_sum() missing 1 required positional argument: 'd'"
     ]
    }
   ],
   "source": [
    "get_sum(3,4,5) # Ancak bu sefer de 3 argüman veremiyoruz."
   ]
  },
  {
   "cell_type": "markdown",
   "id": "seventh-kidney",
   "metadata": {},
   "source": [
    "**print()** fonksiyonunu tekrar hatırlayacak olursak aslında **print()** fonksiyonu bu şekilde tanımlanmış bir fonksiyondur. Çünkü biz print fonksiyonuna istediğimiz sayıda argüman gönderebiliyorduk."
   ]
  },
  {
   "cell_type": "code",
   "execution_count": 1,
   "id": "hollywood-nicaragua",
   "metadata": {},
   "outputs": [
    {
     "name": "stdout",
     "output_type": "stream",
     "text": [
      "3 4 5 6 3 6 45\n"
     ]
    }
   ],
   "source": [
    "print(3,4,5,6,3,6,45)"
   ]
  },
  {
   "cell_type": "code",
   "execution_count": 54,
   "id": "filled-permission",
   "metadata": {},
   "outputs": [
    {
     "name": "stdout",
     "output_type": "stream",
     "text": [
      "Elma Armut\n"
     ]
    }
   ],
   "source": [
    "print(\"Elma\",\"Armut\")"
   ]
  },
  {
   "cell_type": "markdown",
   "id": "hundred-eugene",
   "metadata": {},
   "source": [
    "### İstenilen sayıda konumsal argüman:"
   ]
  },
  {
   "cell_type": "markdown",
   "id": "native-sleep",
   "metadata": {},
   "source": [
    "Rastgele sayıda argüman alabilen bir işlev tanımlamak, argümanlardan birinin önüne **\" * \"** koyarak yapılabilir."
   ]
  },
  {
   "cell_type": "code",
   "execution_count": 30,
   "id": "palestinian-racing",
   "metadata": {},
   "outputs": [
    {
     "name": "stdout",
     "output_type": "stream",
     "text": [
      "1\n",
      "2\n",
      "3\n"
     ]
    }
   ],
   "source": [
    "def func(*args):\n",
    "    # args, aktarılan tüm değerleri içeren bir demet olacaktır\n",
    "    for i in args:\n",
    "        print(i)\n",
    "func(1, 2, 3) # 3 argümanla çağırma"
   ]
  },
  {
   "cell_type": "code",
   "execution_count": 31,
   "id": "statutory-petersburg",
   "metadata": {},
   "outputs": [
    {
     "name": "stdout",
     "output_type": "stream",
     "text": [
      "1\n",
      "2\n",
      "3\n"
     ]
    }
   ],
   "source": [
    "list_of_arg_values = [1, 2, 3]\n",
    "func(*list_of_arg_values) # Değerler listesi ile adlandırıldığında, listeyi genişletir"
   ]
  },
  {
   "cell_type": "code",
   "execution_count": 32,
   "id": "juvenile-claim",
   "metadata": {},
   "outputs": [],
   "source": [
    "func() #Argümansız çağırma\n",
    "# Çıktı yok"
   ]
  },
  {
   "cell_type": "markdown",
   "id": "impressive-officer",
   "metadata": {},
   "source": [
    "Argümanlar için bir varsayılan değerler atamak istersek,\n",
    "\n",
    "func(*args=[1, 2, 3])\n",
    "\n",
    "bir sözdizimi hatası ortaya çıkarır (hatta derlenmez)."
   ]
  },
  {
   "cell_type": "code",
   "execution_count": 34,
   "id": "pending-amber",
   "metadata": {},
   "outputs": [
    {
     "ename": "SyntaxError",
     "evalue": "invalid syntax (<ipython-input-34-a73cc51f1513>, line 1)",
     "output_type": "error",
     "traceback": [
      "\u001b[1;36m  File \u001b[1;32m\"<ipython-input-34-a73cc51f1513>\"\u001b[1;36m, line \u001b[1;32m1\u001b[0m\n\u001b[1;33m    def func(*args=[1, 2, 3])\u001b[0m\n\u001b[1;37m                  ^\u001b[0m\n\u001b[1;31mSyntaxError\u001b[0m\u001b[1;31m:\u001b[0m invalid syntax\n"
     ]
    }
   ],
   "source": [
    "def func(*args=[1, 2, 3])\n",
    "    for i in args:\n",
    "        print(i)"
   ]
  },
  {
   "cell_type": "markdown",
   "id": "desperate-sitting",
   "metadata": {},
   "source": [
    "### İstenilen sayıda anahtar kelime argümanı"
   ]
  },
  {
   "cell_type": "markdown",
   "id": "committed-settle",
   "metadata": {},
   "source": [
    "Önünde iki * bulunan bir bağımsız değişken tanımlayarak, bir adla rastgele sayıda bağımsız değişken alabilirsiniz"
   ]
  },
  {
   "cell_type": "code",
   "execution_count": 1,
   "id": "rural-olive",
   "metadata": {},
   "outputs": [],
   "source": [
    "def func(**kwargs):\n",
    "# kwargs, isimleri anahtar olarak ve değerleri değer olarak içeren bir sözlük olacaktır.\n",
    "    for name, value in kwargs.items():\n",
    "        print(name, value)"
   ]
  },
  {
   "cell_type": "code",
   "execution_count": 2,
   "id": "sublime-ferry",
   "metadata": {},
   "outputs": [
    {
     "name": "stdout",
     "output_type": "stream",
     "text": [
      "value1 1\n",
      "value2 2\n",
      "value3 3\n"
     ]
    }
   ],
   "source": [
    "func(value1=1, value2=2, value3=3) # 3 argümanla çağırma"
   ]
  },
  {
   "cell_type": "code",
   "execution_count": 50,
   "id": "hourly-native",
   "metadata": {},
   "outputs": [],
   "source": [
    "func() # Argümansız çağırma\n",
    "# Çıktı yok"
   ]
  },
  {
   "cell_type": "code",
   "execution_count": 51,
   "id": "aquatic-airline",
   "metadata": {},
   "outputs": [
    {
     "name": "stdout",
     "output_type": "stream",
     "text": [
      "foo 1\n",
      "bar 2\n"
     ]
    }
   ],
   "source": [
    "my_dict = {'foo': 1, 'bar': 2}\n",
    "func(**my_dict) # Bir sözlükle Çağırma"
   ]
  },
  {
   "cell_type": "markdown",
   "id": "useful-aggregate",
   "metadata": {},
   "source": [
    "Bunları isimsiz sağlayamazsınız, örneğin func(1, 2, 3) bir TypeError oluşturacaktır."
   ]
  },
  {
   "cell_type": "code",
   "execution_count": 52,
   "id": "expired-eclipse",
   "metadata": {},
   "outputs": [
    {
     "ename": "TypeError",
     "evalue": "func() takes 0 positional arguments but 3 were given",
     "output_type": "error",
     "traceback": [
      "\u001b[1;31m---------------------------------------------------------------------------\u001b[0m",
      "\u001b[1;31mTypeError\u001b[0m                                 Traceback (most recent call last)",
      "\u001b[1;32m<ipython-input-52-0b0e6d51b54e>\u001b[0m in \u001b[0;36m<module>\u001b[1;34m\u001b[0m\n\u001b[1;32m----> 1\u001b[1;33m \u001b[0mfunc\u001b[0m\u001b[1;33m(\u001b[0m\u001b[1;36m1\u001b[0m\u001b[1;33m,\u001b[0m \u001b[1;36m2\u001b[0m\u001b[1;33m,\u001b[0m \u001b[1;36m3\u001b[0m\u001b[1;33m)\u001b[0m\u001b[1;33m\u001b[0m\u001b[1;33m\u001b[0m\u001b[0m\n\u001b[0m",
      "\u001b[1;31mTypeError\u001b[0m: func() takes 0 positional arguments but 3 were given"
     ]
    }
   ],
   "source": [
    "func(1, 2, 3)"
   ]
  },
  {
   "cell_type": "markdown",
   "id": "alone-wagner",
   "metadata": {},
   "source": [
    "kwargs, sade bir yerel python sözlüğüdür. Örneğin, args ['değer1'], değer1 bağımsız değişkeninin değerini verecektir. Önceden böyle bir argüman olup olmadığını kontrol ettiğinizden emin olun, aksi takdirde bir KeyError ortaya çıkar."
   ]
  },
  {
   "cell_type": "markdown",
   "id": "pressing-prefix",
   "metadata": {},
   "source": [
    "### Uyarı"
   ]
  },
  {
   "cell_type": "raw",
   "id": "aboriginal-hollow",
   "metadata": {},
   "source": [
    "Bunları diğer isteğe bağlı ve gerekli argümanlarla karıştırabilirsiniz ancak tanımın içindeki sıra önemlidir.\n",
    "\n",
    "Konumsal/anahtar kelime argümanları önce gelir. (Gerekli argümanlar).\n",
    "Ardından keyfi * argümanlar gelir. (İsteğe bağlı).\n",
    "\n",
    "\n",
    "Ardından yalnızca anahtar kelime argümanları gelir. (Gereklidir).\n",
    "Sonunda rastgele anahtar kelime ** kwargs gelir. (İsteğe bağlı).\n",
    "\n",
    "        |-positional-|-optional-|---keyword-only--|-optional-|\n",
    "def func(arg1, arg2=10 , *args, kwarg1, kwarg2=2, **kwargs):\n",
    "pass"
   ]
  },
  {
   "cell_type": "markdown",
   "id": "fc84367a",
   "metadata": {},
   "source": [
    "### Tüm parametrelerin kullanımı"
   ]
  },
  {
   "cell_type": "code",
   "execution_count": 3,
   "id": "e4abbc85",
   "metadata": {},
   "outputs": [],
   "source": [
    "def get_great_total(x, y, z, *args, **kwargs):\n",
    "    \n",
    "    # Here we get x, y, z arguments.\n",
    "    print(x + y + z)\n",
    "    # Here we will sum all args in a loop.\n",
    "    \n",
    "    total = 0\n",
    "    for i in args:\n",
    "        total += i\n",
    "    print(\"args total\", total) # print args total\n",
    "    \n",
    "    # Here we will sum all kwargs in a loop.\n",
    "    total_kwargs = 0\n",
    "    for v in kwargs.values():\n",
    "        total_kwargs += v\n",
    "    print(\"kwargs total\", total_kwargs) # print kwargs total"
   ]
  },
  {
   "cell_type": "code",
   "execution_count": 4,
   "id": "9b6c61a6",
   "metadata": {},
   "outputs": [
    {
     "name": "stdout",
     "output_type": "stream",
     "text": [
      "6\n",
      "args total 116\n",
      "kwargs total 95\n"
     ]
    }
   ],
   "source": [
    "great_function(1,2,3, 4,5,6,7,8,9,7,8,9,5,4,5,6,4,5,5,6,5,8, a=5, b=40, c=50)"
   ]
  }
 ],
 "metadata": {
  "kernelspec": {
   "display_name": "Python 3 (ipykernel)",
   "language": "python",
   "name": "python3"
  },
  "language_info": {
   "codemirror_mode": {
    "name": "ipython",
    "version": 3
   },
   "file_extension": ".py",
   "mimetype": "text/x-python",
   "name": "python",
   "nbconvert_exporter": "python",
   "pygments_lexer": "ipython3",
   "version": "3.11.4"
  },
  "nbTranslate": {
   "displayLangs": [
    "*"
   ],
   "hotkey": "alt-t",
   "langInMainMenu": true,
   "sourceLang": "en",
   "targetLang": "fr",
   "useGoogleTranslate": true
  }
 },
 "nbformat": 4,
 "nbformat_minor": 5
}
