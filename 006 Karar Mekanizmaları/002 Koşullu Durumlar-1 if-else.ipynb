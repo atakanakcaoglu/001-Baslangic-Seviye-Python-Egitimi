{
 "cells": [
  {
   "cell_type": "markdown",
   "id": "tender-marshall",
   "metadata": {},
   "source": [
    "# Koşullu Durumlar-1 \n",
    "\n",
    "# if - else"
   ]
  },
  {
   "cell_type": "markdown",
   "id": "gorgeous-primary",
   "metadata": {},
   "source": [
    "Koşullu durumlar aslında günlük yaşamda sürekli karşılaştığımız durumlardır. Örneğin havanın yağmurlu olma koşuluna göre şemsiyemizi alırız veya uykumuzun gelme koşuluna göre uyuruz. Aslında programlamada da birçok koşullu durumla karşılaşırız. Örneğin , belli koşullara göre belli işlemleri yaparız , belli koşullara göre yapmayız. İşte bunlar koşullu durumların temeli oluşturur. \n",
    "\n",
    "Koşul için boolean ifadelere ihtiyacımız vardır. Boolean ifadeler,\n",
    "and, or gibi mantık oğeratörleri ile veya\n",
    "==, !=, <, <=, >, >= gibi karşılaştırma operatörleri ile sağlandığını önceki derslerde öğrenmiştik.\n",
    "\n",
    "Ancak bu operatörler ve diğer matematiksel operatörlerin öncelikleri vardır.\n",
    "\n",
    "| Öncelik    | Operatör    | İşlem Tipi    |\n",
    "| ----------- | ----------- | ----------- |\n",
    "| 1 | +, - | unary |\n",
    "| 2 | ** |  |\n",
    "| 3 | \\*, /, //, % |  |\n",
    "| 4 | +, - | binary |\n",
    "| 5 | <, <=, >, >= |  |\n",
    "| 6 | ==, != |  |\n",
    "\n",
    "\n",
    "Unary (Tekli):\n",
    "Unary terimi, bir işlemin yalnızca bir tek operand ile çalıştığını ifade eder. Bir operand, işlemin uygulandığı değeri temsil eder. Örneğin, \"-x\" ifadesinde, \"-\" (eksi işareti) unary bir işlemdir çünkü sadece tek bir operand olan \"x\" üzerinde çalışır. Başka bir örnek, bir sayının mutlak değerini hesaplamak için kullanılan \"abs(x)\" işlemidir, burada \"abs\" unary bir işlemdir çünkü yine sadece tek bir operand olan \"x\" üzerinde çalışır.\n",
    "\n",
    "Binary (Çiftli):\n",
    "Binary terimi, bir işlemin iki operand ile çalıştığını ifade eder. İki operand, işlemin uygulandığı değerleri temsil eder. Örneğin, \"x + y\" ifadesinde, \"+\" (artı işareti) binary bir işlemdir çünkü iki operand olan \"x\" ve \"y\" üzerinde çalışır. Başka bir örnek, bir sayının başka bir sayıya böldüğünüzde kullanılan \"/\" işlemidir, burada \"/\" binary bir işlemdir çünkü iki operand arasında çalışır.\n",
    "\n",
    "\n",
    "Koşullu durumları yazmaya **if** blokları ile başlayalım."
   ]
  },
  {
   "cell_type": "markdown",
   "id": "qualified-entrance",
   "metadata": {},
   "source": [
    "## if Bloğu\n",
    "\n",
    "if bloğu programımız içerisinde belli bir koşulu kontrol etmek için kullanılır. Yazımı şu şekildedir;\n",
    "\n",
    "           if (koşul): \n",
    "               # if bloğu - Koşul sağlanınca (True) çalışır. Bu hizadaki her işlem bu if bloğuna ait.\n",
    "               # if bloğu - Girintiyle oluşturulur.\n",
    "               get_something()\n",
    "               \n",
    "**if bloğu** *eğer koşul sağlanırsa anlamı taşır*. *if* kalıbındaki koşul sağlanırsa (True) blok içerisindeki kodlar çalıştırılır, koşul sağlanmazsa (False) çalıştırılmaz.\n",
    "            \n",
    "Hemen bir örnek ile koşullu durumları anlamaya çalışalım. "
   ]
  },
  {
   "cell_type": "code",
   "execution_count": 1,
   "id": "billion-closing",
   "metadata": {},
   "outputs": [
    {
     "name": "stdout",
     "output_type": "stream",
     "text": [
      "Merhaba\n"
     ]
    }
   ],
   "source": [
    "if True:\n",
    "    print(\"Merhaba\")"
   ]
  },
  {
   "cell_type": "markdown",
   "id": "blessed-budapest",
   "metadata": {},
   "source": [
    "Boolean kavramını bir önceki derslerimizde görmüştük. Dolayısıyla if kelimesinin karşısında True ya da False yani boolean bir ifade yer alacaktır."
   ]
  },
  {
   "cell_type": "code",
   "execution_count": 2,
   "id": "identified-international",
   "metadata": {},
   "outputs": [
    {
     "name": "stdout",
     "output_type": "stream",
     "text": [
      "Reşitsiniz\n"
     ]
    }
   ],
   "source": [
    "age = 18\n",
    "\n",
    "#eğer yaş değişkeni 18 ve daha büyükse;\n",
    "if age >= 18:\n",
    "    # if bloğu -  Girinti ile sağlanır.\n",
    "    print(\"Reşitsiniz\")"
   ]
  },
  {
   "cell_type": "code",
   "execution_count": 6,
   "id": "engaging-trader",
   "metadata": {},
   "outputs": [
    {
     "name": "stdout",
     "output_type": "stream",
     "text": [
      "Lütfen yaşınızı giriniz1\n",
      "Program sonlandı\n"
     ]
    }
   ],
   "source": [
    "#Şimdi kullanıcıdan değer alıp bu işlemi yapalım.\n",
    "age = int(input(\"Lütfen yaşınızı giriniz\"))\n",
    "\n",
    "#eğer yaş değişkeni 18 ve daha büyükse;\n",
    "if age >= 18:\n",
    "    # if bloğu -  Girinti ile sağlanır.\n",
    "    print(\"Reşitsiniz\"),\n",
    "print(\"Program sonlandı\")"
   ]
  },
  {
   "cell_type": "markdown",
   "id": "indian-location",
   "metadata": {},
   "source": [
    "Şimdi kullanıcının girdiği bir sayının negatif ya da pozitif olup olmadığına bakalım"
   ]
  },
  {
   "cell_type": "code",
   "execution_count": 8,
   "id": "heavy-bailey",
   "metadata": {},
   "outputs": [
    {
     "name": "stdout",
     "output_type": "stream",
     "text": [
      "Sayıyı giriniz:5\n"
     ]
    }
   ],
   "source": [
    "# Negatif mi değil mi ?\n",
    "int_1 = int (input(\"Sayıyı giriniz:\"))\n",
    "\n",
    "if (int_1 < 0):\n",
    "    print(\"Negatif Sayı\")"
   ]
  },
  {
   "cell_type": "markdown",
   "id": "technological-medicine",
   "metadata": {},
   "source": [
    "## else Bloğu\n",
    "\n",
    "Bir olaya mantıksal olarak baktığımızda \"eğer böyle ise\" kavramının yanında \"eğer böyle değilse\" kavramı da olacaktır. Bu durum **else** ile olur.\n",
    "\n",
    "else blokları  **if koşulu** sağlanmadığı zaman (False) çalışan bloklardır. Kullanımı şu şekildedir;\n",
    "            \n",
    "\n",
    "           else:\n",
    "               # else bloğu - Yukarısındaki herhangi bir if bloğu (veya ilerde göreceğimiz elif bloğu) çalışmadığı\n",
    "               # zaman çalışır. \n",
    "               # else bloğu - Girintiyle oluşturulur.\n",
    "               get_something()\n",
    "               \n",
    "Dikkat ederseniz burada **else** koşulunun yanına herhangi bir koşul yazmadık. Çünkü zaten **else** bloğunun çalışması ondan önce gelen diğer koşulların sağlanmamasına bağlı."
   ]
  },
  {
   "cell_type": "markdown",
   "id": "signal-bible",
   "metadata": {},
   "source": [
    "Şimdi kişinin reşit olup olmadığını yeniden soralım."
   ]
  },
  {
   "cell_type": "code",
   "execution_count": 3,
   "id": "fewer-officer",
   "metadata": {},
   "outputs": [
    {
     "name": "stdout",
     "output_type": "stream",
     "text": [
      "Yaşınızı giriniz:15\n",
      "Henüz reşit değilsiniz\n"
     ]
    }
   ],
   "source": [
    "# 18 yaş kontrolü\n",
    "yaş = int(input(\"Yaşınızı giriniz:\"))\n",
    "\n",
    "if (yaş >= 18):\n",
    "    # if bloğu -  Girinti ile sağlanıyor.\n",
    "    print(\"Reşitsiniz.\")\n",
    "else:\n",
    "    # else bloğu -  if koşulu sağlanmazsa çalışacak.\n",
    "    print(\"Henüz reşit değilsiniz\")"
   ]
  },
  {
   "cell_type": "markdown",
   "id": "neural-cancer",
   "metadata": {},
   "source": [
    "**NOT:** else bloğunu tek başına kullanamazsınız."
   ]
  },
  {
   "cell_type": "code",
   "execution_count": 5,
   "id": "knowing-crazy",
   "metadata": {},
   "outputs": [
    {
     "ename": "SyntaxError",
     "evalue": "invalid syntax (<ipython-input-5-6779ecaa784e>, line 1)",
     "output_type": "error",
     "traceback": [
      "\u001b[1;36m  File \u001b[1;32m\"<ipython-input-5-6779ecaa784e>\"\u001b[1;36m, line \u001b[1;32m1\u001b[0m\n\u001b[1;33m    else:\u001b[0m\n\u001b[1;37m    ^\u001b[0m\n\u001b[1;31mSyntaxError\u001b[0m\u001b[1;31m:\u001b[0m invalid syntax\n"
     ]
    }
   ],
   "source": [
    "else:\n",
    "    print(Merhaba)\n",
    "# Bu kod hata verir"
   ]
  },
  {
   "cell_type": "markdown",
   "id": "b5492171",
   "metadata": {},
   "source": [
    "## İç içe if-else ifadeleri\n",
    "\n",
    "İç içe if-else ifadeleri, Pythonda, bir if-else bloğunun içine başka bir if-else bloğunun yerleştirilmesi anlamına gelir. Bu, koşulların daha karmaşık senaryolarını ele almanıza olanak tanır."
   ]
  },
  {
   "cell_type": "code",
   "execution_count": 1,
   "id": "d270e6d4",
   "metadata": {},
   "outputs": [
    {
     "name": "stdout",
     "output_type": "stream",
     "text": [
      "x, y'den büyük.\n",
      "x 15'ten küçük veya eşit.\n"
     ]
    }
   ],
   "source": [
    "x = 10\n",
    "y = 5\n",
    "\n",
    "if x > y:\n",
    "    print(\"x, y'den büyük.\")\n",
    "    if x > 15:\n",
    "        print(\"x ayrıca 15'ten büyük.\")\n",
    "    else:\n",
    "        print(\"x 15'ten küçük veya eşit.\")\n",
    "else:\n",
    "    print(\"y, x'ten büyük veya eşit.\")"
   ]
  },
  {
   "cell_type": "markdown",
   "id": "5d9ba079",
   "metadata": {},
   "source": [
    "Bu örnekte, ilk if ifadesi x'in y'den büyük olup olmadığını kontrol eder. Eğer bu koşul doğruysa, içinde başka bir if-else bloğu vardır. İçteki if-else bloğu, x'in 15'ten büyük olup olmadığını kontrol eder ve buna göre farklı mesajlar yazdırır. Eğer x 15'ten küçük veya eşitse, içteki else bloğu çalışır.\n",
    "\n",
    "Eğer ilk koşul yanlışsa (yani x küçük veya eşitse), dıştaki else bloğu çalışır ve \"y, x'ten büyük veya eşit.\" mesajı yazdırılır.\n",
    "\n",
    "Sonuç olarak, bu iç içe if-else yapısı, x ve y değerlerine göre farklı mesajları yazdırır ve koşulları daha karmaşık senaryolar için birleştirmenizi sağlar.\n",
    "\n",
    "İstediğimiz kadar iç içe if-else ifadesi oluşturabiliriz.\n",
    "\n",
    "Aşağıdaki 3 örnekteki yorum satırlarını ve kodları inceleyiniz.\n",
    "\n",
    "### Örnek 1:\n",
    "\n",
    "En basit durumla başlayacağız; iki sayıdan büyük olanın nasıl belirleneceği:"
   ]
  },
  {
   "cell_type": "code",
   "execution_count": null,
   "id": "8fa1ed1e",
   "metadata": {},
   "outputs": [],
   "source": [
    "# Read two numbers\n",
    "number1 = int(input(\"Enter the first number: \"))\n",
    "number2 = int(input(\"Enter the second number: \"))\n",
    "\n",
    "# Choose the larger number\n",
    "if number1 > number2:\n",
    "    larger_number = number1\n",
    "else:\n",
    "    larger_number = number2\n",
    "\n",
    "# Print the result\n",
    "print(\"En büyük sayı:\", larger_number)\n"
   ]
  },
  {
   "cell_type": "markdown",
   "id": "e80b74d7",
   "metadata": {},
   "source": [
    "### Örnek 2:\n",
    "\n",
    "Şimdi size ilginç bir gerçeği göstereceğiz. Python'un ilginç bir özelliği var, aşağıdaki koda bakın:"
   ]
  },
  {
   "cell_type": "code",
   "execution_count": null,
   "id": "c6c4cda3",
   "metadata": {},
   "outputs": [],
   "source": [
    "# Read two numbers\n",
    "number1 = int(input(\"Enter the first number: \"))\n",
    "number2 = int(input(\"Enter the second number: \"))\n",
    "\n",
    "# Choose the larger number\n",
    "if number1 > number2: larger_number = number1\n",
    "else: larger_number = number2\n",
    "\n",
    "# Print the result\n",
    "print(\"The larger number is:\", larger_number)"
   ]
  },
  {
   "cell_type": "markdown",
   "id": "b68e6d14",
   "metadata": {},
   "source": [
    "Not: if-elif-else bloklarından herhangi biri yalnızca bir talimat içeriyorsa, onu daha kapsamlı bir biçimde kodlayabilirsiniz (anahtar kelimeden sonra girintili bir satır yapmanıza gerek yoktur, iki nokta üst üste işaretinden sonra satıra devam etmeniz yeterlidir) .\n",
    "\n",
    "Ancak bu tarz yanıltıcı olabilir ve bunu gelecekteki programlarımızda kullanmayacağız, ancak başka birinin programlarını okuyup anlamak isteyip istemediğinizi kesinlikle bilmeye değer.\n",
    "\n",
    "Kodda başka hiçbir fark yoktur.\n",
    "\n",
    "### Örnek 3:\n",
    "\n",
    "Kodu karmaşıklaştırmanın zamanı geldi; üç sayıdan en büyüğünü bulalım. Kodu büyütecek mi? Biraz.\n",
    "\n",
    "İlk değerin en büyük olduğunu varsayıyoruz. Daha sonra bu hipotezi kalan iki değerle doğrularız.\n",
    "\n",
    "Aşağıdaki koda bakın:\n"
   ]
  },
  {
   "cell_type": "code",
   "execution_count": null,
   "id": "71ab7a20",
   "metadata": {},
   "outputs": [],
   "source": [
    "# Read three numbers\n",
    "number1 = int(input(\"Enter the first number: \"))\n",
    "number2 = int(input(\"Enter the second number: \"))\n",
    "number3 = int(input(\"Enter the third number: \"))\n",
    "\n",
    "# We temporarily assume that the first number\n",
    "# is the largest one.\n",
    "# We will verify this soon.\n",
    "largest_number = number1\n",
    "\n",
    "# We check if the second number is larger than current largest_number\n",
    "# and update largest_number if needed.\n",
    "if number2 > largest_number:\n",
    "    largest_number = number2\n",
    "\n",
    "# We check if the third number is larger than current largest_number\n",
    "# and update largest_number if needed.\n",
    "if number3 > largest_number:\n",
    "    largest_number = number3\n",
    "\n",
    "# Print the result\n",
    "print(\"The largest number is:\", largest_number)"
   ]
  },
  {
   "cell_type": "markdown",
   "id": "1e3961f5",
   "metadata": {},
   "source": [
    "Bu yöntem, mümkün olan tüm sayı çiftlerini (örneğin, birinci ile ikinci, ikinci ile üçüncü, üçüncü ile birinci) karşılaştırarak en büyük sayıyı bir kerede bulmaya çalışmaktan önemli ölçüde daha basittir."
   ]
  }
 ],
 "metadata": {
  "kernelspec": {
   "display_name": "Python 3 (ipykernel)",
   "language": "python",
   "name": "python3"
  },
  "language_info": {
   "codemirror_mode": {
    "name": "ipython",
    "version": 3
   },
   "file_extension": ".py",
   "mimetype": "text/x-python",
   "name": "python",
   "nbconvert_exporter": "python",
   "pygments_lexer": "ipython3",
   "version": "3.11.5"
  },
  "nbTranslate": {
   "displayLangs": [
    "*"
   ],
   "hotkey": "alt-t",
   "langInMainMenu": true,
   "sourceLang": "en",
   "targetLang": "fr",
   "useGoogleTranslate": true
  }
 },
 "nbformat": 4,
 "nbformat_minor": 5
}
