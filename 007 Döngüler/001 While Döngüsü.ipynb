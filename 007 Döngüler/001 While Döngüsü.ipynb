{
 "cells": [
  {
   "cell_type": "markdown",
   "id": "located-abraham",
   "metadata": {},
   "source": [
    "# While Döngüsü\n",
    "Bilgisayarda döngü kavramı oldukça basittir."
   ]
  },
  {
   "cell_type": "raw",
   "id": "d24709dd",
   "metadata": {},
   "source": [
    "yapacak bir şey varken     \n",
    "     yap"
   ]
  },
  {
   "cell_type": "markdown",
   "id": "2a006fb5",
   "metadata": {},
   "source": [
    "ya da"
   ]
  },
  {
   "cell_type": "raw",
   "id": "d7eb50e5",
   "metadata": {},
   "source": [
    "while yapılacak bir şey var mı?    \n",
    "    onu yap"
   ]
  },
  {
   "cell_type": "markdown",
   "id": "d709bbed",
   "metadata": {},
   "source": [
    "Bu kaydın aynı zamanda yapılacak bir şey yoksa hiçbir şeyin olmayacağını da beyan ettiğini unutmayın.\n",
    "\n",
    "While döngüsü belli bir koşul sağlandığı sürece bloğundaki işlemleri gerçekleştirmeye devam eden yapıdır. *while* döngülerinin sona ermesi için koşulun **False** olması gereklidir. Yapısı şu şekildedir;\n"
   ]
  },
  {
   "cell_type": "raw",
   "id": "01a5aeff",
   "metadata": {},
   "source": [
    "while (koşul):    \n",
    "    İşlem1\n",
    "    İşlem2\n",
    "    İşlem3\n",
    "    //\n",
    "    //"
   ]
  },
  {
   "cell_type": "markdown",
   "id": "reflected-conducting",
   "metadata": {},
   "source": [
    "Yukarıdaki kurguda koşul **True** olduğu sürece döngü çalışır.\n",
    "\n",
    "If komutuyla bazı benzerlikler fark edebilirsiniz. Aslında sözdizimsel şu fark vardır: \n",
    "\n",
    "if sözcüğü yerine while sözcüğünü kullanırsınız.\n",
    "\n",
    "Anlamsal farklılık daha önemlidir: Koşul karşılandığında, ifadelerini yalnızca bir kez gerçekleştirirse; while koşul True olarak değerlendirildiği sürece yürütmeyi tekrarlar.\n",
    "\n",
    "### Not: \n",
    "Girintiye ilişkin tüm kurallar burada da geçerlidir.\n",
    "\n",
    "* Bir süre içinde birden fazla ifadeyi yürütmek istiyorsanız, (if'te olduğu gibi) tüm talimatları aynı şekilde girintilemeniz gerekir;\n",
    "* While döngüsü içinde yürütülen bir talimat veya talimatlar dizisine **döngünün gövdesi** adı verilir;\n",
    "* Koşul, ilk kez test edildiği anda Yanlış (sıfıra eşit) ise, gövde bir kez bile çalıştırılmaz;\n",
    "* Döngü gövdesindeki koşulun değeri değiştirebilmelidir, çünkü eğer koşul başlangıçta Doğru ise, vücut sürekli olarak sonsuza kadar koşabilir - bir şeyi yapmanın genellikle yapılacak şeylerin sayısını azalttığına dikkat edin)."
   ]
  },
  {
   "cell_type": "code",
   "execution_count": 5,
   "id": "1d3bd0cf",
   "metadata": {},
   "outputs": [
    {
     "name": "stdout",
     "output_type": "stream",
     "text": [
      "döngü 0\n",
      "döngü 1\n",
      "döngü 2\n",
      "döngü 3\n",
      "döngü 4\n"
     ]
    }
   ],
   "source": [
    "count = 0\n",
    "while count < 5:\n",
    "    print(f\"döngü {count}\")\n",
    "    count += 1"
   ]
  },
  {
   "cell_type": "markdown",
   "id": "specified-genre",
   "metadata": {},
   "source": [
    "### Sonsuz Döngü\n",
    "\n",
    "while döngüsü kullanırken dikkatli olmamızda fayda var. Çünkü, while döngüsünde koşulunun bir süre sonra **False** olması gerekir, ancak bu durumda döngü sonlanabilir. Döngü başladıktan sonra koşul hiç bir zaman **True** olmaz ise, sonsuza kadar çalışacaktır. Buna **sonsuz döngü** olayı denir."
   ]
  },
  {
   "cell_type": "code",
   "execution_count": 1,
   "id": "burning-respondent",
   "metadata": {},
   "outputs": [
    {
     "name": "stdout",
     "output_type": "stream",
     "text": [
      "Merhaba\n"
     ]
    }
   ],
   "source": [
    "while True:\n",
    "    print(\"Sonsuz döngü\")\n",
    "    #Yukarıdaki kod bloğu sonsuz döngüye girer."
   ]
  },
  {
   "cell_type": "code",
   "execution_count": 3,
   "id": "dominican-pillow",
   "metadata": {},
   "outputs": [
    {
     "name": "stdout",
     "output_type": "stream",
     "text": [
      "Merhaba\n"
     ]
    }
   ],
   "source": [
    "while 4:\n",
    "    print(\"Sonsuz döngü\")\n",
    "    #Yukarıdaki kod bloğu sonsuz döngüye girer."
   ]
  },
  {
   "cell_type": "code",
   "execution_count": 10,
   "id": "saved-perry",
   "metadata": {},
   "outputs": [
    {
     "name": "stdout",
     "output_type": "stream",
     "text": [
      "Sonsuz döngü 3.0\n"
     ]
    }
   ],
   "source": [
    "karmasik = complex(3,4)\n",
    "while karmasik:\n",
    "    print(\"Sonsuz döngü\",karmasik.real)\n",
    "    #Yukarıdaki kod bloğu sonsuz döngüye girer."
   ]
  },
  {
   "cell_type": "code",
   "execution_count": 8,
   "id": "thrown-grace",
   "metadata": {},
   "outputs": [
    {
     "name": "stdout",
     "output_type": "stream",
     "text": [
      "Merhaba\n"
     ]
    }
   ],
   "source": [
    "while True and True:\n",
    "    print(\"Sonsuz döngü\")\n",
    "    #Yukarıdaki kod bloğu sonsuz döngüye girer."
   ]
  },
  {
   "cell_type": "markdown",
   "id": "underlying-marketing",
   "metadata": {},
   "source": [
    "Programın sonsuz döngüye girmesini engellemek için mutkala while cümlesinin içini false yapacak bir ifade oluşturmalıyız."
   ]
  },
  {
   "cell_type": "code",
   "execution_count": 12,
   "id": "pending-imaging",
   "metadata": {},
   "outputs": [
    {
     "name": "stdout",
     "output_type": "stream",
     "text": [
      "1\n",
      "2\n",
      "3\n",
      "4\n"
     ]
    }
   ],
   "source": [
    "i = 0\n",
    "while i < 4:\n",
    "    #döngü durumu\n",
    "    i += 1\n",
    "    print(i)\n"
   ]
  },
  {
   "cell_type": "markdown",
   "id": "adequate-producer",
   "metadata": {},
   "source": [
    "Yukarıdaki döngü kolayca daha zarif bir for döngüsüne çevrilebilirken, while döngüleri bazı koşulların karşılanıp karşılanmadığını kontrol etmek için kullanışlıdır. For ile döngü oluşturabilmek için \"iterable\" bir nesneye ihtiyaç varken, while döngüsünde bir koşul söz konusudur."
   ]
  },
  {
   "cell_type": "code",
   "execution_count": 15,
   "id": "hollywood-creator",
   "metadata": {},
   "outputs": [
    {
     "name": "stdout",
     "output_type": "stream",
     "text": [
      "1 Python Öğreniyorum\n",
      "2 Python Öğreniyorum\n",
      "3 Python Öğreniyorum\n",
      "4 Python Öğreniyorum\n",
      "5 Python Öğreniyorum\n",
      "6 Python Öğreniyorum\n",
      "7 Python Öğreniyorum\n",
      "8 Python Öğreniyorum\n",
      "9 Python Öğreniyorum\n",
      "10 Python Öğreniyorum\n",
      "11 Python Öğreniyorum\n",
      "12 Python Öğreniyorum\n",
      "13 Python Öğreniyorum\n",
      "14 Python Öğreniyorum\n",
      "15 Python Öğreniyorum\n",
      "16 Python Öğreniyorum\n",
      "17 Python Öğreniyorum\n",
      "18 Python Öğreniyorum\n",
      "19 Python Öğreniyorum\n",
      "20 Python Öğreniyorum\n",
      "21 Python Öğreniyorum\n",
      "22 Python Öğreniyorum\n",
      "23 Python Öğreniyorum\n",
      "24 Python Öğreniyorum\n",
      "25 Python Öğreniyorum\n",
      "26 Python Öğreniyorum\n",
      "27 Python Öğreniyorum\n",
      "28 Python Öğreniyorum\n",
      "29 Python Öğreniyorum\n",
      "30 Python Öğreniyorum\n",
      "31 Python Öğreniyorum\n",
      "32 Python Öğreniyorum\n",
      "33 Python Öğreniyorum\n",
      "34 Python Öğreniyorum\n",
      "35 Python Öğreniyorum\n",
      "36 Python Öğreniyorum\n",
      "37 Python Öğreniyorum\n",
      "38 Python Öğreniyorum\n",
      "39 Python Öğreniyorum\n",
      "40 Python Öğreniyorum\n"
     ]
    }
   ],
   "source": [
    "# Ekrana 40 defa \"Python Öğreniyorum\" yazdıralım.\n",
    "i = 0\n",
    "\n",
    "while (i < 40):\n",
    "    print(i+1,\"Python Öğreniyorum\")\n",
    "    i +=1"
   ]
  },
  {
   "cell_type": "code",
   "execution_count": 16,
   "id": "exact-portrait",
   "metadata": {
    "scrolled": true
   },
   "outputs": [
    {
     "name": "stdout",
     "output_type": "stream",
     "text": [
      "Indeks: 0 Eleman: 1\n",
      "Indeks: 1 Eleman: 2\n",
      "Indeks: 2 Eleman: 3\n",
      "Indeks: 3 Eleman: 4\n",
      "Indeks: 4 Eleman: 5\n"
     ]
    }
   ],
   "source": [
    "# Liste üzerinde indeks ile gezinme\n",
    "liste = [1,2,3,4,5]\n",
    "\n",
    "a = 0 \n",
    "\n",
    "while (a < len(liste)):\n",
    "    print(\"Indeks:\",a,\"Eleman:\",liste[a])\n",
    "    a +=1"
   ]
  },
  {
   "cell_type": "markdown",
   "id": "2624b707",
   "metadata": {},
   "source": [
    "## Örnek\n",
    "Aşağıdaki algoritma kullanıcı tarafından girilen sayılar arasında en büyük sayıyı bulur. Kodu inceleyin. Nasıl buluyor?"
   ]
  },
  {
   "cell_type": "code",
   "execution_count": null,
   "id": "72fa56b7",
   "metadata": {},
   "outputs": [],
   "source": [
    "# Store the current largest number here.\n",
    "largest_number = -999999999\n",
    "\n",
    "# Input the first value.\n",
    "number = int(input(\"Bir sayı girin ya da çıkış için -1 değerini girin: \"))\n",
    "\n",
    "# If the number is not equal to -1, continue.\n",
    "while number != -1:\n",
    "    # Is number larger than largest_number?\n",
    "    if number > largest_number:\n",
    "        # Yes, update largest_number.\n",
    "        largest_number = number\n",
    "    # Input the next number.\n",
    "    number = int(input(\"Bir sayı girin ya da çıkış için -1 değerini girin: \"))\n",
    "\n",
    "# Print the largest number.\n",
    "print(\"En büyük sayı:\", largest_number)"
   ]
  },
  {
   "cell_type": "markdown",
   "id": "46dc78a9",
   "metadata": {},
   "source": [
    "## Örnek\n",
    "Aşağıdaki algoritma kullanıcı tarafından girilen sayılardan kaç adet tek ve kaç adet çift sayı girildiğini bulur. Kodu inceleyin. Nasıl buluyor?"
   ]
  },
  {
   "cell_type": "code",
   "execution_count": null,
   "id": "c32c1f0d",
   "metadata": {},
   "outputs": [],
   "source": [
    "# A program that reads a sequence of numbers\n",
    "# and counts how many numbers are even and how many are odd.\n",
    "# The program terminates when zero is entered.\n",
    "\n",
    "odd_numbers = 0\n",
    "even_numbers = 0\n",
    "\n",
    "# Read the first number.\n",
    "number = int(input(\"Bir sayı girin ya da çıkış için 0 değerini girin: \"))\n",
    "\n",
    "# 0 terminates execution.\n",
    "while number != 0:\n",
    "    # Check if the number is odd.\n",
    "    if number % 2 == 1:\n",
    "        # Increase the odd_numbers counter.\n",
    "        odd_numbers += 1\n",
    "    else:\n",
    "        # Increase the even_numbers counter.\n",
    "        even_numbers += 1\n",
    "    # Read the next number.\n",
    "    number = int(input(\"Bir sayı girin ya da çıkış için 0 değerini girin \"))\n",
    "\n",
    "# Print results.\n",
    "print(\"Tek sayıların sayısı:\", odd_numbers)\n",
    "print(\"Çift sayıların sayısı:\", even_numbers)"
   ]
  },
  {
   "cell_type": "markdown",
   "id": "d3b983c4",
   "metadata": {},
   "source": [
    "## Örnek\n",
    "Aşağıdaki kod bloğunu inceleyin:"
   ]
  },
  {
   "cell_type": "code",
   "execution_count": null,
   "id": "c3da6e4a",
   "metadata": {},
   "outputs": [],
   "source": [
    "counter = 5\n",
    "while counter != 0:\n",
    "    print(\"Döngü içerisinde.\", counter)\n",
    "    counter -= 1\n",
    "print(\"Döngü dışında.\", counter)"
   ]
  },
  {
   "cell_type": "markdown",
   "id": "8a9150ef",
   "metadata": {},
   "source": [
    "Bu kod \"Döngü içerisinde\" dizesini yazdırmak için tasarlanmıştır. Belirli bir döngü sırasında sayaç değişkeninde saklanan 5'dir. Koşul karşılanmadığında (sayaç değişkeni 0'a ulaştığında), döngüden çıkılır ve \"Döngü dışında\" mesajı görüntülenir. Sayaçta saklanan değer aynı zamanda yazdırılır.\n",
    "\n",
    "Ancak daha kısa bir şekilde yazılabilecek bir şey var: while döngüsünün koşulu."
   ]
  },
  {
   "cell_type": "code",
   "execution_count": null,
   "id": "3cbab33d",
   "metadata": {},
   "outputs": [],
   "source": [
    "counter = 5\n",
    "while counter:\n",
    "    print(\"Inside the loop.\", counter)\n",
    "    counter -= 1\n",
    "print(\"Outside the loop.\", counter)"
   ]
  },
  {
   "cell_type": "markdown",
   "id": "4ceacffd",
   "metadata": {},
   "source": [
    "Öncekine göre daha mı karmaşık? Biraz. Daha mı okunaklı? Bu tartışmalı.\n",
    "\n",
    "#### Önemli\n",
    "\n",
    "Programlarınızı her zaman en kısa ve en derli toplu olacak şekilde kodlamak zorunda hissetmeyin. Okunabilirlik daha önemli bir faktör olabilir. Kodunuzu yeni bir programcı için hazır tutun."
   ]
  },
  {
   "cell_type": "markdown",
   "id": "express-glucose",
   "metadata": {},
   "source": [
    "### else sözcüğünün while döngüsü ile kullanımı"
   ]
  },
  {
   "cell_type": "markdown",
   "id": "julian-wales",
   "metadata": {},
   "source": [
    "X cümlesi yalnızca, bir while döngüsü koşullu ifadesinin yanlış olmasıyla sona erdikten sonra yürütülür."
   ]
  },
  {
   "cell_type": "code",
   "execution_count": 18,
   "id": "sixth-programmer",
   "metadata": {},
   "outputs": [
    {
     "name": "stdout",
     "output_type": "stream",
     "text": [
      "0\n",
      "1\n",
      "2\n",
      "Bitti\n"
     ]
    }
   ],
   "source": [
    "i = 0\n",
    "while i < 3:\n",
    "    print(i)\n",
    "    i += 1\n",
    "else:\n",
    "    print('Bitti')"
   ]
  },
  {
   "cell_type": "markdown",
   "id": "indirect-alfred",
   "metadata": {},
   "source": [
    "else cümlesi, döngü başka bir şekilde sona ererse (bir break ifadesiyle veya bir istisna oluşturarak) çalışmaz:"
   ]
  },
  {
   "cell_type": "code",
   "execution_count": null,
   "id": "shared-finish",
   "metadata": {},
   "outputs": [],
   "source": [
    "i = 0\n",
    "while i < 3:\n",
    "    if i == 1:\n",
    "        break\n",
    "else:\n",
    "    print('done')"
   ]
  },
  {
   "cell_type": "markdown",
   "id": "loaded-oxide",
   "metadata": {},
   "source": [
    "### Pass sözcüğünün for döngüsü ile kullanımı"
   ]
  },
  {
   "cell_type": "code",
   "execution_count": null,
   "id": "australian-quebec",
   "metadata": {},
   "outputs": [],
   "source": [
    "x=3\n",
    "y=3\n",
    "while x == y:\n",
    "    pass"
   ]
  }
 ],
 "metadata": {
  "kernelspec": {
   "display_name": "Python 3 (ipykernel)",
   "language": "python",
   "name": "python3"
  },
  "language_info": {
   "codemirror_mode": {
    "name": "ipython",
    "version": 3
   },
   "file_extension": ".py",
   "mimetype": "text/x-python",
   "name": "python",
   "nbconvert_exporter": "python",
   "pygments_lexer": "ipython3",
   "version": "3.11.5"
  },
  "nbTranslate": {
   "displayLangs": [
    "*"
   ],
   "hotkey": "alt-t",
   "langInMainMenu": true,
   "sourceLang": "en",
   "targetLang": "fr",
   "useGoogleTranslate": true
  }
 },
 "nbformat": 4,
 "nbformat_minor": 5
}
