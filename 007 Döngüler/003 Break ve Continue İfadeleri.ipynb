{
 "cells": [
  {
   "cell_type": "markdown",
   "id": "norwegian-jackson",
   "metadata": {},
   "source": [
    "# Break ve Continue İfadeleri"
   ]
  },
  {
   "cell_type": "markdown",
   "id": "environmental-litigation",
   "metadata": {},
   "source": [
    "## break ifadesi"
   ]
  },
  {
   "cell_type": "markdown",
   "id": "personal-egyptian",
   "metadata": {},
   "source": [
    "break ifadesi bir döngü içinde yürütüldüğünde, kontrol akışı hemen döngüden kesilir."
   ]
  },
  {
   "cell_type": "markdown",
   "id": "civic-softball",
   "metadata": {},
   "source": [
    "break ifadesi **sadece ve sadece** içindeki bulunduğu döngüyü sonlandırır. Eğer iç içe döngüler bulunuyorsa ve en içteki döngüde break kullanılmışsa sadece en içteki döngü sona erer."
   ]
  },
  {
   "cell_type": "markdown",
   "id": "paperback-agenda",
   "metadata": {},
   "source": [
    "Bir fonksiyonun içindeki **break** ifadesi, o işlevi çağıran döngüleri sonlandırmak için kullanılamaz."
   ]
  },
  {
   "cell_type": "markdown",
   "id": "welsh-father",
   "metadata": {},
   "source": [
    "### while döngüsü için bir örnek"
   ]
  },
  {
   "cell_type": "code",
   "execution_count": 2,
   "id": "fifth-sword",
   "metadata": {},
   "outputs": [
    {
     "name": "stdout",
     "output_type": "stream",
     "text": [
      "0\n",
      "1\n",
      "2\n",
      "3\n",
      "4\n",
      "Döngüden çıkıyorum\n"
     ]
    }
   ],
   "source": [
    "i = 0\n",
    "while i < 7:\n",
    "    print(i)\n",
    "    if i == 4:\n",
    "        print(\"Döngüden çıkıyorum\")\n",
    "        break\n",
    "    i += 1"
   ]
  },
  {
   "cell_type": "markdown",
   "id": "random-configuration",
   "metadata": {},
   "source": [
    "Yukarıda, i sayısı sırası ile 0,1,2,3,4 değerlerini almış, 4==4 ifadesi ile karşılaşıldığında if cümlesinin bloğuna geçiş yapmış, ekrana \"Döngüden çıkıyorum\" yazdıktan sonra break ifadesi yürütülüğ döngü sonlandırılmıştır. break ifadesi sadece döngülerin içerisinde yer alır."
   ]
  },
  {
   "cell_type": "markdown",
   "id": "lined-responsibility",
   "metadata": {},
   "source": [
    "### for döngüsü için bir örnek"
   ]
  },
  {
   "cell_type": "code",
   "execution_count": 3,
   "id": "massive-complaint",
   "metadata": {},
   "outputs": [
    {
     "name": "stdout",
     "output_type": "stream",
     "text": [
      "0\n",
      "1\n",
      "2\n"
     ]
    }
   ],
   "source": [
    "for i in (0, 1, 2, 3, 4):\n",
    "    print(i)\n",
    "    if i == 2:\n",
    "        break"
   ]
  },
  {
   "cell_type": "code",
   "execution_count": 5,
   "id": "western-comparative",
   "metadata": {},
   "outputs": [
    {
     "name": "stdout",
     "output_type": "stream",
     "text": [
      "İsminiz(Çıkmak için q tuşuna basın.):klş\n",
      "klş\n",
      "İsminiz(Çıkmak için q tuşuna basın.):q\n",
      "Başarı ile çıkış yapıldı...\n"
     ]
    }
   ],
   "source": [
    "# Burada kullanıcı q tuşuna basana kadar döngü devam eder.\n",
    "while True: # Sonsuz döngü. Nasıl sonlandırabiliriz ? \n",
    "    isim = input(\"Çıkmak için q tuşuna basın.\")\n",
    "    if (isim == \"q\"): # break ile tabii ki.\n",
    "        print(\"Başarı ile çıkış yapıldı...\")\n",
    "        break\n",
    "    print(isim)"
   ]
  },
  {
   "cell_type": "markdown",
   "id": "electric-signal",
   "metadata": {},
   "source": [
    "### continue ifadesi\n",
    "*continue* ifadesi *break*' e göre biraz daha az kullanılan bir ifadedir. Anlamı şu şekildedir;\n",
    "            \n",
    "        Döngü herhangi bir yerde ve herhangi bir zamanda continue ifadesiyle karşılaştığı zaman geri kalan işlemlerini\n",
    "        yapmadan direk bloğunun başına döner."
   ]
  },
  {
   "cell_type": "code",
   "execution_count": 5,
   "id": "characteristic-richmond",
   "metadata": {},
   "outputs": [
    {
     "name": "stdout",
     "output_type": "stream",
     "text": [
      "i: 1\n",
      "i: 2\n",
      "   pass 3 ya da 5 geldi!\n",
      "i: 4\n",
      "   pass 3 ya da 5 geldi!\n",
      "i: 6\n",
      "i: 7\n",
      "i: 8\n",
      "i: 9\n"
     ]
    }
   ],
   "source": [
    "liste = [1,2,3,4,5,6,7,8,9] # continue kullanalım.\n",
    "\n",
    "\n",
    "for i in liste:\n",
    "    if (i == 3 or i == 5):\n",
    "        print(\"   pass 3 ya da 5 geldi!\")\n",
    "        continue\n",
    "    print(\"i:\",i)"
   ]
  },
  {
   "cell_type": "code",
   "execution_count": null,
   "id": "44f0705f",
   "metadata": {},
   "outputs": [],
   "source": [
    "i = 0 # Bu kodda Sonsuz döngü olayı neden oluşur ? Bu kodu çalıştırmayalım.\n",
    "\n",
    "\n",
    "while (i < 10):\n",
    "    print(i)\n",
    "    \n",
    "    if (i == 2):\n",
    "        continue\n",
    "        \n",
    "    i += 1"
   ]
  },
  {
   "cell_type": "markdown",
   "id": "experienced-program",
   "metadata": {},
   "source": [
    "*continue* ifadesi while döngüleriyle kullanıldıkları zaman **sonsuz döngü** olayına yol açabilmektedir. Anlamak için örneğimize bakalım."
   ]
  },
  {
   "cell_type": "code",
   "execution_count": 8,
   "id": "fitting-volleyball",
   "metadata": {},
   "outputs": [
    {
     "name": "stdout",
     "output_type": "stream",
     "text": [
      "i: 0\n",
      "i: 1\n",
      "i: 3\n",
      "i: 4\n",
      "i: 5\n",
      "i: 6\n",
      "i: 7\n",
      "i: 8\n",
      "i: 9\n"
     ]
    }
   ],
   "source": [
    "i = 0 # Kodun sorunsuz hali\n",
    "\n",
    "while (i < 10):\n",
    "    \n",
    "    if (i == 2):\n",
    "        i += 1 # Artırma işlemi\n",
    "        continue\n",
    "        \n",
    "    print(\"i:\",i)\n",
    "    i += 1"
   ]
  }
 ],
 "metadata": {
  "kernelspec": {
   "display_name": "Python 3 (ipykernel)",
   "language": "python",
   "name": "python3"
  },
  "language_info": {
   "codemirror_mode": {
    "name": "ipython",
    "version": 3
   },
   "file_extension": ".py",
   "mimetype": "text/x-python",
   "name": "python",
   "nbconvert_exporter": "python",
   "pygments_lexer": "ipython3",
   "version": "3.11.5"
  },
  "nbTranslate": {
   "displayLangs": [
    "*"
   ],
   "hotkey": "alt-t",
   "langInMainMenu": true,
   "sourceLang": "en",
   "targetLang": "fr",
   "useGoogleTranslate": true
  }
 },
 "nbformat": 4,
 "nbformat_minor": 5
}
