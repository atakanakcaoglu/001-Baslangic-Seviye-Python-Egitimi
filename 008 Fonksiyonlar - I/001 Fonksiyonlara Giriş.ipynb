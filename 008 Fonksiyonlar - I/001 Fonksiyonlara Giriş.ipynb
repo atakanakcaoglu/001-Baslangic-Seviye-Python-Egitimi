{
 "cells": [
  {
   "cell_type": "markdown",
   "id": "running-following",
   "metadata": {},
   "source": [
    "# Fonksiyonlara Giriş"
   ]
  },
  {
   "cell_type": "markdown",
   "id": "infinite-voltage",
   "metadata": {},
   "source": [
    "Python' daki fonksiyonlar; belirli bir dizi eylemi gerçekleştirmek için organize edilmiş, yeniden kullanılabilen ve modüler kod yazmayı sağlayan yapılardır. Fonksiyonlar; kodlama sürecini basitleştirir, gereksiz kod yığınlarını önler ve kodun izlenmesini kolaylaştırır.\n",
    "\n",
    "Fonksiyonlar, aslında bir \"matematik\" konusudur. f(x)=x<sup>2</sup> gibi bir ifadesi fonksiyondur. f(x) değeri, x değişkenine bağımlı olarak değer üretir. Aslında fonksiyonları birer makineye de benzetebiliriz. Biz makineye bazen bir değer/değerler veririz ya da içine hammadde koyarız, o da bize bir ürün çıkarır. Örneğin kahve makinesi gibi. Çekilmiş kuru kahveyi haznesine koyduktan sonra işlemler yaparak bize bardakta, buharı üstünde filtre kahve sunar. Aynı şekilde f(x)=x<sup>2</sup> fonksiyonunda da x yerine bir değer girdiğimizde, bu değeri kendisi ile çarparak bize bir sonuç verir. x yerine 0 girdiğimizde 0, 1 girdiğimizde 1, 2 girdiğimizde 4, 3 girdiğimizde 9.... sonuçlarını alırız.\n",
    "\n",
    "Pythonda da fonksiyon mantığı aynıdır. Python, print(), input(), len() gibi birçok yerleşik fonksiyona (built-in function) sahiptir. Yerleşiklerin yanı sıra, daha özel işler yapmak için kendi fonksiyonlarımızı da oluşturabiliriz. Bunlara kullanıcı tanımlı fonksiyonlar (user-defined functions) denir.\n",
    "\n",
    "## Programlama Dillerinde Fonksiyonlar Neden Kullanılır?\n",
    "\n",
    "Programlama dillerinde fonksiyonlar, kodunuzu daha düzenli, okunabilir ve yeniden kullanılabilir hale getirmenize yardımcı olan önemli bir yapıdır. \n",
    "\n",
    "**1. Kodun Yeniden Kullanılabilirliği:** Fonksiyonlar, belirli bir işlemi gerçekleştiren kod parçacıklarını gruplayarak kodunuzu modüler hale getirir. Bu sayede aynı işlemi farklı yerlerde kullanabilirsiniz."
   ]
  },
  {
   "cell_type": "code",
   "execution_count": null,
   "id": "32b5b285",
   "metadata": {},
   "outputs": [],
   "source": [
    "def toplama(a, b):\n",
    "    return a + b\n",
    "\n",
    "sonuc = toplama(5, 3)  # 5 ve 3'ü toplar ve sonucu döndürür, toplama fonksiyonu istenildiği kadar kullanılabilir."
   ]
  },
  {
   "cell_type": "markdown",
   "id": "e474b1fc",
   "metadata": {},
   "source": [
    "**2. Kodun Düzenliği:** Fonksiyonlar, kodunuzu daha düzenli ve okunabilir yapar. Kodunuzun her bölümünü ayrı bir işlev olarak tanımlayarak, kod karmaşıklığını azaltır ve hata ayıklamayı kolaylaştırır."
   ]
  },
  {
   "cell_type": "code",
   "execution_count": null,
   "id": "0af0d9dd",
   "metadata": {},
   "outputs": [],
   "source": [
    "def kullanici_girisi():\n",
    "    # Kullanıcı girişi işlemleri burada gerçekleştirilir\n",
    "    pass\n",
    "\n",
    "# Ana program\n",
    "kullanici_girisi()"
   ]
  },
  {
   "cell_type": "markdown",
   "id": "4b635c56",
   "metadata": {},
   "source": [
    "**3. Kod Tekrarını Azaltma:** Bir işlemi farklı yerlerde yapmanız gerektiğinde, aynı kodu her seferinde yeniden yazmak yerine bir fonksiyon oluşturarak kod tekrarını azaltabilirsiniz."
   ]
  },
  {
   "cell_type": "code",
   "execution_count": null,
   "id": "7f1dab05",
   "metadata": {},
   "outputs": [],
   "source": [
    "def kare_hesapla(sayi):\n",
    "    return sayi * sayi\n",
    "\n",
    "sonuc1 = kare_hesapla(5)  # 5'in karesini hesaplar\n",
    "sonuc2 = kare_hesapla(8)  # 8'in karesini hesaplar"
   ]
  },
  {
   "cell_type": "markdown",
   "id": "270ce284",
   "metadata": {},
   "source": [
    "**4. Hata Ayıklama Kolaylığı:** Fonksiyonlar, belirli bir işlemi izole ederek hata ayıklamayı kolaylaştırır. Her bir fonksiyonun işlevini tek tek test edebilir ve sorunları daha hızlı tespit edebilirsiniz."
   ]
  },
  {
   "cell_type": "code",
   "execution_count": null,
   "id": "d3b74ab8",
   "metadata": {},
   "outputs": [],
   "source": [
    "def bolme(a, b):\n",
    "    try:\n",
    "        return a / b\n",
    "    except ZeroDivisionError:\n",
    "        return \"Sıfıra bölme hatası!\"\n",
    "\n",
    "sonuc = bolme(10, 2)  # 10'u 2'ye böler"
   ]
  },
  {
   "cell_type": "markdown",
   "id": "099ac056",
   "metadata": {},
   "source": [
    "**5. Kodun İyileştirilmesi:** Fonksiyonlar, kodunuzu daha verimli ve optimize edilebilir hale getirmenize yardımcı olur. Aynı işlemi birden fazla kez yapmanız gerektiğinde, tek bir fonksiyon içinde geliştirme yaparak tüm kullanımlarda iyileştirmeler yapabilirsiniz."
   ]
  },
  {
   "cell_type": "markdown",
   "id": "9af1b848",
   "metadata": {},
   "source": [
    "## Fonksiyonlar nereden gelir?\n",
    "\n",
    "Genel olarak fonksiyonlar en az üç yerden gelir:\n",
    "\n",
    "* Python'un kendisinden - çok sayıda fonksiyon (print() gibi) Python'un ayrılmaz bir parçasıdır ve programcı adına herhangi bir ek çaba gerektirmeden her zaman kullanılabilir; bu işlevlere yerleşik işlevler (built-in functions) denir;\n",
    "\n",
    "* Python'un önceden yüklenmiş modüllerinden gelen işlevler, yerleşik olanlardan daha az kullanılan ancak çok faydalı olan birçok işlev içerir. Bu işlevler, Python ile birlikte yüklenen çeşitli modüllerde bulunur. Bu işlevleri tamamen kullanabilmek için programcının ek adımlar atması gerekebilir;\n",
    "\n",
    "* Doğrudan kendi kodunuzdan - kendi işlevlerinizi yazabilir, kodunuzun içine yerleştirebilir ve özgürce kullanabilirsiniz;"
   ]
  },
  {
   "cell_type": "markdown",
   "id": "1cb924f8",
   "metadata": {},
   "source": [
    "## Fonksiyonlar ve metotlar\n",
    "\n",
    "### Fonksiyonlar (Functions):\n",
    "\n",
    "Genel Kullanım: Fonksiyonlar, bağımsız ve yeniden kullanılabilir kod bloklarıdır. Genellikle bir isimle tanımlanır ve bu ismi kullanarak çağrılırlar.\n",
    "Bağımsızlık: Fonksiyonlar, herhangi bir nesne veya veri yapısıyla bağlantılı olmadan çalışabilirler. Global veya yerel değişkenlere erişebilirler, ancak belirli bir nesnenin bir parçası değildirler.\n",
    "Tanımlama: Fonksiyonlar def anahtar kelimesi ile tanımlanır ve genellikle belirli bir işlevi gerçekleştirmek için kullanılırlar."
   ]
  },
  {
   "cell_type": "code",
   "execution_count": null,
   "id": "d2da0d3c",
   "metadata": {},
   "outputs": [],
   "source": [
    "def toplama(a, b):\n",
    "    return a + b\n",
    "    \n",
    "sonuc = toplama(5, 3)  # Fonksiyon çağrısı"
   ]
  },
  {
   "cell_type": "markdown",
   "id": "american-accent",
   "metadata": {},
   "source": [
    "### Metotlar (Methods):\n",
    "\n",
    "Nesneye Bağlılık: Metotlar, bir nesnenin bir özelliği olarak çalışır. Yani, bir sınıfın bir örneği (nesnesi) üzerinde çağrılır ve o sınıfa ait verilere veya davranışlara erişebilirler.\n",
    "Nesne Tabanlı Programlama: Metotlar, nesne tabanlı programlamanın (OOP) temel bir bileşeni olarak kullanılır. Bir sınıfın tanımı içinde bulunurlar ve o sınıfın örneklerinde kullanılırlar.\n",
    "Tanımlama: Metotlar, bir sınıf içinde def anahtar kelimesi ile tanımlanır ve bir sınıfın nesneleri üzerinde kullanılır."
   ]
  },
  {
   "cell_type": "code",
   "execution_count": 1,
   "id": "de4f265c",
   "metadata": {},
   "outputs": [
    {
     "name": "stdout",
     "output_type": "stream",
     "text": [
      "Toyota Corolla arabası\n"
     ]
    }
   ],
   "source": [
    "class Araba:\n",
    "    def __init__(self, marka, model):\n",
    "        self.marka = marka\n",
    "        self.model = model\n",
    "    \n",
    "    def tanit(self):\n",
    "        return f\"{self.marka} {self.model} arabası\"\n",
    "\n",
    "araba1 = Araba(\"Toyota\", \"Corolla\")\n",
    "print(araba1.tanit())  # Metot çağrısı"
   ]
  },
  {
   "cell_type": "markdown",
   "id": "delayed-wheel",
   "metadata": {},
   "source": [
    "## Basit Fonksiyonları Tanımlama ve Çağırma"
   ]
  },
  {
   "cell_type": "raw",
   "id": "tough-donna",
   "metadata": {},
   "source": [
    "def func_name(parameters):\n",
    "    terms(s)"
   ]
  },
  {
   "cell_type": "markdown",
   "id": "fiscal-uniform",
   "metadata": {},
   "source": [
    "* Her zaman def anahtar sözcüğüyle başlar (tanımlamak için)\n",
    "* def'den sonra fonksiyonun adı gelir (fonksiyonları adlandırma kuralları, değişkenleri adlandırma kurallarıyla tamamen aynıdır)\n",
    "* Fonksiyon adından sonra bir çift parantez için yer vardır (burada hiçbir şey içermezler, ancak bu yakında değişecektir)\n",
    "* Satır iki nokta üst üste ile biter\n",
    "* Parametreler, fonksiyon çağrıldığında bağımsız değişken olarak sağlanan değerlere bağlanan isteğe bağlı bir tanımlayıcı listesidir. Bir fonksiyon, virgülle ayrılmış rastgele sayıda argümana sahip olabilir.\n",
    "* Deyimler (terms) fonksiyon gövdesi olarak da bilinir. Fonksiyon her çağrıldığında yürütülen boş olmayan deyimler dizisidir. Bu, herhangi bir girintili blok gibi bir işlev gövdesinin boş olamayacağı anlamına gelir.\n",
    "\n",
    "Aşağıda, amacı her çağrıldığında Hello yazdırmak olan basit bir fonksiyon tanımı örneği verilmiştir:"
   ]
  },
  {
   "cell_type": "code",
   "execution_count": 1,
   "id": "acoustic-statistics",
   "metadata": {},
   "outputs": [],
   "source": [
    "def say_hello():\n",
    "    print(\"Merhaba\")"
   ]
  },
  {
   "cell_type": "markdown",
   "id": "hollow-great",
   "metadata": {},
   "source": [
    "Şimdi oluşturduğumuz fonksiyonu çağıralım."
   ]
  },
  {
   "cell_type": "code",
   "execution_count": 3,
   "id": "mobile-nightmare",
   "metadata": {},
   "outputs": [
    {
     "name": "stdout",
     "output_type": "stream",
     "text": [
      "Merhaba\n"
     ]
    }
   ],
   "source": [
    "say_hello()"
   ]
  },
  {
   "cell_type": "code",
   "execution_count": 4,
   "id": "threatened-milwaukee",
   "metadata": {},
   "outputs": [
    {
     "data": {
      "text/plain": [
       "function"
      ]
     },
     "execution_count": 4,
     "metadata": {},
     "output_type": "execute_result"
    }
   ],
   "source": [
    "type(say_hello) # oluşturduğumuz \"Say_Hello\" isimli fonksiyonun tipini öğrenelim."
   ]
  },
  {
   "cell_type": "markdown",
   "id": "likely-airfare",
   "metadata": {},
   "source": [
    "### Parametreler ve Argümanlar"
   ]
  },
  {
   "cell_type": "markdown",
   "id": "intermediate-tissue",
   "metadata": {},
   "source": [
    "Biliyorsunuz biz *say_hello()* fonksiyonunun içine herhangi bir değer göndermiyorduk ve fonksiyonumuz hep aynı işi yapıyordu. Ancak çoğu zaman fonksiyonlarımız içine gönderdiğimiz değerlerle farklı işlemler yaparlar."
   ]
  },
  {
   "cell_type": "markdown",
   "id": "parental-setup",
   "metadata": {},
   "source": [
    "Aşağıdaki, tek bir bağımsız değişken (argüman) alan ve  fonksiyon her çağrıldığında aktarılan değeri görüntüleyen başka bir  fonksiyon tanımı örneğidir:"
   ]
  },
  {
   "cell_type": "code",
   "execution_count": 5,
   "id": "about-language",
   "metadata": {},
   "outputs": [],
   "source": [
    "def say_hello_2(name):\n",
    "    print(\"Merhaba\",name,\"nasılsın?\")"
   ]
  },
  {
   "cell_type": "markdown",
   "id": "interstate-wilson",
   "metadata": {},
   "source": [
    "Bundan sonra say_hello_2() fonksiyonu bir bağımsız değişkenle çağrılmalıdır:"
   ]
  },
  {
   "cell_type": "code",
   "execution_count": 6,
   "id": "lasting-shaft",
   "metadata": {},
   "outputs": [
    {
     "name": "stdout",
     "output_type": "stream",
     "text": [
      "Merhaba Murat nasılsın?\n"
     ]
    }
   ],
   "source": [
    "say_hello_2(\"Murat\")"
   ]
  },
  {
   "cell_type": "markdown",
   "id": "demographic-howard",
   "metadata": {},
   "source": [
    "Bizim *fonksiyon tanımlarken* tanımladığımız herbir değişken birer **Parametre** , *fonksiyon çağrısı* yaptığımız zaman içine gönderdiğimiz değerler ise **Argüman** olmaktadır. Burada fonksiyonu çağırırken gönderdiğimiz \"Murat\" değeri **\"name\"** isimli parametreye eşit oluyor ve fonksiyonumuz bu değere göre işlem yapıyor. \"Ayşe\" değerini gönderdiğimizde ise fonksiyonumuz bu değere göre işlem yaparak ekrana farklı bir değer yazdırıyor.\n",
    "\n",
    "* **Parametreler** yalnızca tanımlandıkları işlevlerin içinde bulunur ve parametrenin tanımlanabileceği tek yer def ifadesindeki bir çift parantez arasındaki varlıktır;\n",
    "* Parametreye bir değer atamak, fonksiyonun çağrılması sırasında karşılık gelen **argüman** belirtilerek yapılır.\n",
    "\n",
    "* parametreler fonksiyonların içinde yaşar (bu onların doğal ortamıdır)\n",
    "* argümanlar fonksiyonların dışında bulunur ve karşılık gelen parametrelere aktarılan değerlerin taşıyıcılarıdır."
   ]
  },
  {
   "cell_type": "code",
   "execution_count": 7,
   "id": "possible-grant",
   "metadata": {},
   "outputs": [],
   "source": [
    "def say_hello_3(name=\"Murat\"):\n",
    "    print(\"Merhaba\",name,\"nasılsın?\")"
   ]
  },
  {
   "cell_type": "code",
   "execution_count": 8,
   "id": "royal-reader",
   "metadata": {},
   "outputs": [
    {
     "name": "stdout",
     "output_type": "stream",
     "text": [
      "Merhaba Muzaffer nasılsın?\n"
     ]
    }
   ],
   "source": [
    "say_hello_3(\"Muzaffer\")"
   ]
  },
  {
   "cell_type": "code",
   "execution_count": 9,
   "id": "vanilla-thesis",
   "metadata": {},
   "outputs": [
    {
     "name": "stdout",
     "output_type": "stream",
     "text": [
      "Merhaba Murat nasılsın?\n"
     ]
    }
   ],
   "source": [
    "say_hello_3() # argüman vermiyoruz"
   ]
  },
  {
   "cell_type": "markdown",
   "id": "wireless-algorithm",
   "metadata": {},
   "source": [
    "### Geri Dönüş Değeri\n",
    "\n",
    "Python işlevleri, **return** anahtar sözcüğü aracılığıyla herhangi bir türdeki değeri döndürebilir. Bir işlev herhangi bir sayıda farklı türü döndürebilir! \n",
    "\n",
    "Ayrıca Python' da diğer birçok dilden farklı olarak, fonksiyonun dönüş türünü açıkça belirtmenize gerek yoktur."
   ]
  },
  {
   "cell_type": "code",
   "execution_count": 10,
   "id": "great-welding",
   "metadata": {},
   "outputs": [],
   "source": [
    "def any_type(x):\n",
    "    if x < 0:\n",
    "        return \"Hello!\"\n",
    "    else:\n",
    "        return 0"
   ]
  },
  {
   "cell_type": "code",
   "execution_count": 11,
   "id": "sealed-airfare",
   "metadata": {},
   "outputs": [
    {
     "data": {
      "text/plain": [
       "str"
      ]
     },
     "execution_count": 11,
     "metadata": {},
     "output_type": "execute_result"
    }
   ],
   "source": [
    "type(any_type(-1))"
   ]
  },
  {
   "cell_type": "code",
   "execution_count": 12,
   "id": "micro-limitation",
   "metadata": {},
   "outputs": [
    {
     "data": {
      "text/plain": [
       "int"
      ]
     },
     "execution_count": 12,
     "metadata": {},
     "output_type": "execute_result"
    }
   ],
   "source": [
    "type(any_type(3))"
   ]
  },
  {
   "cell_type": "markdown",
   "id": "closed-nigeria",
   "metadata": {},
   "source": [
    "Aşağıdaki kod, çağıran tarafından doğru bir şekilde ele alındığı sürece, tamamen geçerli bir Python kodudur.\n",
    "\n",
    "Fonksiyonu içerisinde return ifadesi bulunmaması halinde, yürütmenin sonuna ulaşan bir fonksiyon her zaman **None** döndürür:"
   ]
  },
  {
   "cell_type": "code",
   "execution_count": 13,
   "id": "northern-friday",
   "metadata": {},
   "outputs": [
    {
     "name": "stdout",
     "output_type": "stream",
     "text": [
      "None\n"
     ]
    }
   ],
   "source": [
    "def do_not_anything():\n",
    "    pass\n",
    "\n",
    "print(do_not_anything())"
   ]
  },
  {
   "cell_type": "markdown",
   "id": "rocky-enforcement",
   "metadata": {},
   "source": [
    "Daha önce bahsedildiği gibi, bir fonksiyon tanımı bir işlev gövdesine, boş olmayan bir ifade dizisine sahip olmalıdır.\n",
    "Bu nedenle, **pass** deyimi ile bir işlem yapmayan işlev gövdesi olarak kullanılır. Çalıştırıldığında hiçbir şey olmaz. Python ne anlama geldiğini yapar ve atlar. Bir ifade sözdizimsel olarak gerekli olduğunda, ancak kodun yürütülmesi gerekmediğinde yer tutucu olarak kullanışlıdır."
   ]
  },
  {
   "attachments": {
    "image.png": {
     "image/png": "[encoded data removed]"
    }
   },
   "cell_type": "markdown",
   "id": "a47978b7",
   "metadata": {},
   "source": [
    "## Fonksiyonlar nasıl çalışır?\n",
    "\n",
    "![image.png](attachment:image.png)\n",
    "\n",
    "Bir fonksiyonu çağırdığınızda, Python olayın gerçekleştiği yeri hatırlar ve çağrılan fonksiyona atlar;\n",
    "daha sonra işlevin gövdesi yürütülür;\n",
    "fonksiyonun sonuna ulaşmak Python'u çağrı noktasından hemen sonraki yere dönmeye zorlar.\n",
    "\n",
    "Çok önemli iki yakalama var. İşte bunlardan ilki:\n",
    "\n",
    "**Çağırma anında bilinmeyen bir işlevi çağırmamalısınız.**\n",
    "\n",
    "Unutmayın - Python kodunuzu yukarıdan aşağıya doğru okur. Doğru yere koymayı unuttuğunuz bir işlevi bulmak için ileriye bakmayacaktır (\"doğru\", \"çağırmadan önce\" anlamına gelir).\n",
    "\n",
    "Aşağıdaki kod hata verir."
   ]
  },
  {
   "cell_type": "code",
   "execution_count": 1,
   "id": "b6a8b3e5",
   "metadata": {},
   "outputs": [
    {
     "name": "stdout",
     "output_type": "stream",
     "text": [
      "We start here.\n"
     ]
    },
    {
     "ename": "NameError",
     "evalue": "name 'message' is not defined",
     "output_type": "error",
     "traceback": [
      "\u001b[1;31m---------------------------------------------------------------------------\u001b[0m",
      "\u001b[1;31mNameError\u001b[0m                                 Traceback (most recent call last)",
      "Cell \u001b[1;32mIn[1], line 2\u001b[0m\n\u001b[0;32m      1\u001b[0m \u001b[38;5;28mprint\u001b[39m(\u001b[38;5;124m\"\u001b[39m\u001b[38;5;124mWe start here.\u001b[39m\u001b[38;5;124m\"\u001b[39m)\n\u001b[1;32m----> 2\u001b[0m message()\n\u001b[0;32m      3\u001b[0m \u001b[38;5;28mprint\u001b[39m(\u001b[38;5;124m\"\u001b[39m\u001b[38;5;124mWe end here.\u001b[39m\u001b[38;5;124m\"\u001b[39m)\n\u001b[0;32m      6\u001b[0m \u001b[38;5;28;01mdef\u001b[39;00m \u001b[38;5;21mmessage\u001b[39m():\n",
      "\u001b[1;31mNameError\u001b[0m: name 'message' is not defined"
     ]
    }
   ],
   "source": [
    "print(\"We start here.\")\n",
    "message()\n",
    "print(\"We end here.\")\n",
    "\n",
    "\n",
    "def message():\n",
    "    print(\"Enter a value: \")"
   ]
  },
  {
   "cell_type": "markdown",
   "id": "2a389cdd",
   "metadata": {},
   "source": [
    "Aynı isimde bir fonksiyonunuz ve değişkeniniz olmamalıdır.\n",
    "\n",
    "Aşağıdaki kod hatalı olur."
   ]
  },
  {
   "cell_type": "code",
   "execution_count": 4,
   "id": "cd4eb83f",
   "metadata": {},
   "outputs": [
    {
     "ename": "TypeError",
     "evalue": "'int' object is not callable",
     "output_type": "error",
     "traceback": [
      "\u001b[1;31m---------------------------------------------------------------------------\u001b[0m",
      "\u001b[1;31mTypeError\u001b[0m                                 Traceback (most recent call last)",
      "Cell \u001b[1;32mIn[4], line 6\u001b[0m\n\u001b[0;32m      2\u001b[0m     \u001b[38;5;28mprint\u001b[39m(\u001b[38;5;124m\"\u001b[39m\u001b[38;5;124mEnter a value: \u001b[39m\u001b[38;5;124m\"\u001b[39m)\n\u001b[0;32m      4\u001b[0m message \u001b[38;5;241m=\u001b[39m \u001b[38;5;241m1\u001b[39m\n\u001b[1;32m----> 6\u001b[0m message()\n",
      "\u001b[1;31mTypeError\u001b[0m: 'int' object is not callable"
     ]
    }
   ],
   "source": [
    "def message():\n",
    "    print(\"Enter a value: \")\n",
    "\n",
    "message = 1\n",
    "\n",
    "message()"
   ]
  },
  {
   "cell_type": "markdown",
   "id": "e4f579f4",
   "metadata": {},
   "source": [
    "İsim mesajına bir değer atanması Python'un önceki rolünü unutmasına neden olur. Mesaj adlı işlev kullanılamaz hale gelir.\n",
    "\n",
    "Aşağıdaki kod hata vermez."
   ]
  },
  {
   "cell_type": "code",
   "execution_count": null,
   "id": "0206d7fe",
   "metadata": {},
   "outputs": [],
   "source": [
    "print(\"We start here.\")\n",
    "\n",
    "\n",
    "def message():\n",
    "    print(\"Enter a value: \")\n",
    "\n",
    "message()\n",
    "\n",
    "print(\"We end here.\")"
   ]
  },
  {
   "cell_type": "markdown",
   "id": "b2fb54b7",
   "metadata": {},
   "source": [
    "Birincil örneğimize dönelim ve işlevi burada olduğu gibi doğru iş için kullanalım:"
   ]
  },
  {
   "cell_type": "code",
   "execution_count": null,
   "id": "8864d2db",
   "metadata": {},
   "outputs": [],
   "source": [
    "def message():\n",
    "    print(\"Enter a value: \")\n",
    "\n",
    "message()\n",
    "a = int(input())\n",
    "message()\n",
    "b = int(input())\n",
    "message()\n",
    "c = int(input())"
   ]
  },
  {
   "cell_type": "markdown",
   "id": "c03722f9",
   "metadata": {},
   "source": [
    "Burada mesajı değiştirmek artık kolay ve anlaşılır; bunu fonksiyonun gövdesindeki tek bir yerden kodu değiştirerek yapabilirsiniz."
   ]
  },
  {
   "cell_type": "code",
   "execution_count": null,
   "id": "f8a27182",
   "metadata": {},
   "outputs": [],
   "source": []
  }
 ],
 "metadata": {
  "kernelspec": {
   "display_name": "Python 3 (ipykernel)",
   "language": "python",
   "name": "python3"
  },
  "language_info": {
   "codemirror_mode": {
    "name": "ipython",
    "version": 3
   },
   "file_extension": ".py",
   "mimetype": "text/x-python",
   "name": "python",
   "nbconvert_exporter": "python",
   "pygments_lexer": "ipython3",
   "version": "3.11.5"
  },
  "nbTranslate": {
   "displayLangs": [
    "*"
   ],
   "hotkey": "alt-t",
   "langInMainMenu": true,
   "sourceLang": "en",
   "targetLang": "fr",
   "useGoogleTranslate": true
  }
 },
 "nbformat": 4,
 "nbformat_minor": 5
}
