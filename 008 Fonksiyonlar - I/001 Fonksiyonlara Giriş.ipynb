{
 "cells": [
  {
   "cell_type": "markdown",
   "id": "running-following",
   "metadata": {},
   "source": [
    "# Fonksiyonlara Giriş"
   ]
  },
  {
   "cell_type": "markdown",
   "id": "infinite-voltage",
   "metadata": {},
   "source": [
    "Python' daki fonksiyonlar; belirli bir dizi eylemi gerçekleştirmek için organize edilmiş, yeniden kullanılabilen ve modüler kod yazmayı sağlayan yapılardır. Fonksiyonlar; kodlama sürecini basitleştirir, gereksiz kod yığınlarını önler ve kodun izlenmesini kolaylaştırır. "
   ]
  },
  {
   "cell_type": "markdown",
   "id": "becoming-helen",
   "metadata": {},
   "source": [
    "Fonksiyonlar, aslında bir \"matematik\" konusudur. f(x)=x<sup>2</sup> gibi bir ifadesi fonksiyondur. f(x) değeri, x değişkenine bağımlı olarak değer üretir. Aslında fonksiyonları birer makineye de benzetebiliriz. Biz makineye bazen bir değer/değerler veririz ya da içine hammadde koyarız, o da bize bir ürün çıkarır. Örneğin kahve makinesi gibi. Çekilmiş kuru kahveyi haznesine koyduktan sonra işlemler yaparak bize bardakta, buharı üstünde filtre kahve sunar. Aynı şekilde f(x)=x<sup>2</sup> fonksiyonunda da x yerine bir değer girdiğimizde, bu değeri kendisi ile çarparak bize bir sonuç verir. x yerine 0 girdiğimizde 0, 1 girdiğimizde 1, 2 girdiğimizde 4, 3 girdiğimizde 9.... sonuçlarını alırız."
   ]
  },
  {
   "cell_type": "markdown",
   "id": "american-accent",
   "metadata": {},
   "source": [
    "Pythonda da fonksiyon mantığı aynıdır. Python, print(), input(), len() gibi birçok yerleşik fonksiyona (built-in function) sahiptir. Yerleşiklerin yanı sıra, daha özel işler yapmak için kendi fonksiyonlarımızı da oluşturabiliriz. Bunlara kullanıcı tanımlı fonksiyonlar (user-defined functions) denir.\n",
    "\n",
    "Örneğin print() fonksiyonu bizim ekrana değer yazdırmamızı sağlıyordu.\n",
    "int(x) fonksiyonu bir x değerini tam sayıya çeviriyordu vs."
   ]
  },
  {
   "cell_type": "markdown",
   "id": "delayed-wheel",
   "metadata": {},
   "source": [
    "## Basit Fonksiyonları Tanımlama ve Çağırma\n",
    "\n",
    "**def** ifadesini kullanmak, python'da bir fonksiyonu tanımlamanın en yaygın yoludur. Bu ifade, aşağıdaki sözdizimine sahip sözde tek cümleli bir bileşik ifadedir:"
   ]
  },
  {
   "cell_type": "raw",
   "id": "tough-donna",
   "metadata": {},
   "source": [
    "def func_name(parameters):\n",
    "    terms(s)"
   ]
  },
  {
   "cell_type": "markdown",
   "id": "fiscal-uniform",
   "metadata": {},
   "source": [
    "**func_name**, fonksiyonun tanımlayıcısı olarak bilinir. Bir fonksiyon tanımı çalıştırılabilir bir ifade olduğundan, çalıştırılması fonksiyon adını, daha sonra tanımlayıcı kullanılarak çağrılabilecek fonksiyon nesnesine bağlar.\n",
    "\n",
    "Parametreler, fonksiyon çağrıldığında bağımsız değişken olarak sağlanan değerlere bağlanan isteğe bağlı bir tanımlayıcı listesidir. Bir fonksiyon, virgülle ayrılmış rastgele sayıda argümana sahip olabilir.\n",
    "Deyimler (terms) fonksiyon gövdesi olarak da bilinir. Fonksiyon her çağrıldığında yürütülen boş olmayan deyimler dizisidir. Bu, herhangi bir girintili blok gibi bir işlev gövdesinin boş olamayacağı anlamına gelir.\n",
    "\n",
    "Aşağıda, amacı her çağrıldığında Hello yazdırmak olan basit bir fonksiyon tanımı örneği verilmiştir:"
   ]
  },
  {
   "cell_type": "code",
   "execution_count": 1,
   "id": "acoustic-statistics",
   "metadata": {},
   "outputs": [],
   "source": [
    "def say_hello():\n",
    "    print(\"Merhaba\")"
   ]
  },
  {
   "cell_type": "markdown",
   "id": "hollow-great",
   "metadata": {},
   "source": [
    "Şimdi oluşturduğumuz fonksiyonu çağıralım."
   ]
  },
  {
   "cell_type": "code",
   "execution_count": 3,
   "id": "mobile-nightmare",
   "metadata": {},
   "outputs": [
    {
     "name": "stdout",
     "output_type": "stream",
     "text": [
      "Merhaba\n"
     ]
    }
   ],
   "source": [
    "say_hello()"
   ]
  },
  {
   "cell_type": "code",
   "execution_count": 4,
   "id": "threatened-milwaukee",
   "metadata": {},
   "outputs": [
    {
     "data": {
      "text/plain": [
       "function"
      ]
     },
     "execution_count": 4,
     "metadata": {},
     "output_type": "execute_result"
    }
   ],
   "source": [
    "type(say_hello) # oluşturduğumuz \"Say_Hello\" isimli fonksiyonun tipini öğrenelim."
   ]
  },
  {
   "cell_type": "markdown",
   "id": "likely-airfare",
   "metadata": {},
   "source": [
    "### Parametreler ve Argümanlar"
   ]
  },
  {
   "cell_type": "markdown",
   "id": "intermediate-tissue",
   "metadata": {},
   "source": [
    "Biliyorsunuz biz *say_hello()* fonksiyonunun içine herhangi bir değer göndermiyorduk ve fonksiyonumuz hep aynı işi yapıyordu. Ancak çoğu zaman fonksiyonlarımız içine gönderdiğimiz değerlerle farklı işlemler yaparlar."
   ]
  },
  {
   "cell_type": "markdown",
   "id": "parental-setup",
   "metadata": {},
   "source": [
    "Aşağıdaki, tek bir bağımsız değişken (argüman) alan ve  fonksiyon her çağrıldığında aktarılan değeri görüntüleyen başka bir  fonksiyon tanımı örneğidir:"
   ]
  },
  {
   "cell_type": "code",
   "execution_count": 5,
   "id": "about-language",
   "metadata": {},
   "outputs": [],
   "source": [
    "def say_hello_2(name):\n",
    "    print(\"Merhaba\",name,\"nasılsın?\")"
   ]
  },
  {
   "cell_type": "markdown",
   "id": "interstate-wilson",
   "metadata": {},
   "source": [
    "Bundan sonra say_hello_2() fonksiyonu bir bağımsız değişkenle çağrılmalıdır:"
   ]
  },
  {
   "cell_type": "code",
   "execution_count": 6,
   "id": "lasting-shaft",
   "metadata": {},
   "outputs": [
    {
     "name": "stdout",
     "output_type": "stream",
     "text": [
      "Merhaba Murat nasılsın?\n"
     ]
    }
   ],
   "source": [
    "say_hello_2(\"Murat\")"
   ]
  },
  {
   "cell_type": "markdown",
   "id": "demographic-howard",
   "metadata": {},
   "source": [
    "Bizim *fonksiyon tanımlarken* tanımladığımız herbir değişken birer **Parametre** , *fonksiyon çağrısı* yaptığımız zaman içine gönderdiğimiz değerler ise **Argüman** olmaktadır. Burada fonksiyonu çağırırken gönderdiğimiz \"Murat\" değeri **\"name\"** isimli parametreye eşit oluyor ve fonksiyonumuz bu değere göre işlem yapıyor. \"Ayşe\" değerini gönderdiğimizde ise fonksiyonumuz bu değere göre işlem yaparak ekrana farklı bir değer yazdırıyor."
   ]
  },
  {
   "cell_type": "code",
   "execution_count": 7,
   "id": "possible-grant",
   "metadata": {},
   "outputs": [],
   "source": [
    "def say_hello_3(name=\"Murat\"):\n",
    "    print(\"Merhaba\",name,\"nasılsın?\")"
   ]
  },
  {
   "cell_type": "code",
   "execution_count": 8,
   "id": "royal-reader",
   "metadata": {},
   "outputs": [
    {
     "name": "stdout",
     "output_type": "stream",
     "text": [
      "Merhaba Muzaffer nasılsın?\n"
     ]
    }
   ],
   "source": [
    "say_hello_3(\"Muzaffer\")"
   ]
  },
  {
   "cell_type": "code",
   "execution_count": 9,
   "id": "vanilla-thesis",
   "metadata": {},
   "outputs": [
    {
     "name": "stdout",
     "output_type": "stream",
     "text": [
      "Merhaba Murat nasılsın?\n"
     ]
    }
   ],
   "source": [
    "say_hello_3() # argüman vermiyoruz"
   ]
  },
  {
   "cell_type": "markdown",
   "id": "wireless-algorithm",
   "metadata": {},
   "source": [
    "### Geri Dönüş Değeri\n",
    "\n",
    "Python işlevleri, **return** anahtar sözcüğü aracılığıyla herhangi bir türdeki değeri döndürebilir. Bir işlev herhangi bir sayıda farklı türü döndürebilir! \n",
    "\n",
    "Ayrıca Python' da diğer birçok dilden farklı olarak, fonksiyonun dönüş türünü açıkça belirtmenize gerek yoktur."
   ]
  },
  {
   "cell_type": "code",
   "execution_count": 10,
   "id": "great-welding",
   "metadata": {},
   "outputs": [],
   "source": [
    "def any_type(x):\n",
    "    if x < 0:\n",
    "        return \"Hello!\"\n",
    "    else:\n",
    "        return 0"
   ]
  },
  {
   "cell_type": "code",
   "execution_count": 11,
   "id": "sealed-airfare",
   "metadata": {},
   "outputs": [
    {
     "data": {
      "text/plain": [
       "str"
      ]
     },
     "execution_count": 11,
     "metadata": {},
     "output_type": "execute_result"
    }
   ],
   "source": [
    "type(any_type(-1))"
   ]
  },
  {
   "cell_type": "code",
   "execution_count": 12,
   "id": "micro-limitation",
   "metadata": {},
   "outputs": [
    {
     "data": {
      "text/plain": [
       "int"
      ]
     },
     "execution_count": 12,
     "metadata": {},
     "output_type": "execute_result"
    }
   ],
   "source": [
    "type(any_type(3))"
   ]
  },
  {
   "cell_type": "markdown",
   "id": "closed-nigeria",
   "metadata": {},
   "source": [
    "Aşağıdaki kod, çağıran tarafından doğru bir şekilde ele alındığı sürece, tamamen geçerli bir Python kodudur.\n",
    "\n",
    "Fonksiyonu içerisinde return ifadesi bulunmaması halinde, yürütmenin sonuna ulaşan bir fonksiyon her zaman **None** döndürür:"
   ]
  },
  {
   "cell_type": "code",
   "execution_count": 13,
   "id": "northern-friday",
   "metadata": {},
   "outputs": [
    {
     "name": "stdout",
     "output_type": "stream",
     "text": [
      "None\n"
     ]
    }
   ],
   "source": [
    "def do_not_anything():\n",
    "    pass\n",
    "\n",
    "print(do_not_anything())"
   ]
  },
  {
   "cell_type": "markdown",
   "id": "rocky-enforcement",
   "metadata": {},
   "source": [
    "Daha önce bahsedildiği gibi, bir fonksiyon tanımı bir işlev gövdesine, boş olmayan bir ifade dizisine sahip olmalıdır.\n",
    "Bu nedenle, **pass** deyimi ile bir işlem yapmayan işlev gövdesi olarak kullanılır. Çalıştırıldığında hiçbir şey olmaz. Python ne anlama geldiğini yapar ve atlar. Bir ifade sözdizimsel olarak gerekli olduğunda, ancak kodun yürütülmesi gerekmediğinde yer tutucu olarak kullanışlıdır."
   ]
  },
  {
   "cell_type": "code",
   "execution_count": null,
   "id": "pursuant-racing",
   "metadata": {},
   "outputs": [],
   "source": []
  }
 ],
 "metadata": {
  "kernelspec": {
   "display_name": "Python 3 (ipykernel)",
   "language": "python",
   "name": "python3"
  },
  "language_info": {
   "codemirror_mode": {
    "name": "ipython",
    "version": 3
   },
   "file_extension": ".py",
   "mimetype": "text/x-python",
   "name": "python",
   "nbconvert_exporter": "python",
   "pygments_lexer": "ipython3",
   "version": "3.11.4"
  },
  "nbTranslate": {
   "displayLangs": [
    "*"
   ],
   "hotkey": "alt-t",
   "langInMainMenu": true,
   "sourceLang": "en",
   "targetLang": "fr",
   "useGoogleTranslate": true
  }
 },
 "nbformat": 4,
 "nbformat_minor": 5
}
