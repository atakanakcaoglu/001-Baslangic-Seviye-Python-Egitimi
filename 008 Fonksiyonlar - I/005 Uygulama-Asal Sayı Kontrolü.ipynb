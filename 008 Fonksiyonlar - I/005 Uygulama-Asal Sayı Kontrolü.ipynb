{
 "cells": [
  {
   "cell_type": "markdown",
   "id": "satellite-flashing",
   "metadata": {},
   "source": [
    "# Asal Sayılar"
   ]
  },
  {
   "cell_type": "markdown",
   "id": "legitimate-brunei",
   "metadata": {},
   "source": [
    "Asal Sayılar, 1'e ve kendisinden başka sayıya bölünmeyen sayılardır."
   ]
  },
  {
   "cell_type": "markdown",
   "id": "moved-dependence",
   "metadata": {},
   "source": [
    "2,3,5,7,11,13,17,19... sayıları asaldır."
   ]
  },
  {
   "cell_type": "markdown",
   "id": "impressed-antigua",
   "metadata": {},
   "source": [
    "Kullanıcı tarafından girilen bir sayının asal olup olmadığını bulan bir program yazalım."
   ]
  },
  {
   "cell_type": "code",
   "execution_count": null,
   "id": "false-neutral",
   "metadata": {},
   "outputs": [
    {
     "name": "stdout",
     "output_type": "stream",
     "text": [
      "\n",
      "****************************************************************************************\n",
      "Bu program kullanıcı tarafından girilen bir sayının asal olup olmadığını kontrol eder.\n",
      "****************************************************************************************\n",
      "\n",
      "Lütfen pozitif bir tamsayı giriniz, çıkmak için q tuşuna basınız100000004987\n"
     ]
    }
   ],
   "source": [
    "from math import sqrt\n",
    "import time\n",
    "\n",
    "print(\"\"\"\n",
    "****************************************************************************************\n",
    "Bu program kullanıcı tarafından girilen bir sayının asal olup olmadığını kontrol eder.\n",
    "****************************************************************************************\n",
    "\"\"\", flush=True)\n",
    "\n",
    "def is_it_prime(number):\n",
    "    start_time = time.process_time()\n",
    "    if number <= 1:\n",
    "        return False\n",
    "    elif number == 2:\n",
    "        return True\n",
    "    else:\n",
    "        for i in range(2, number):\n",
    "            if number % i == 0:\n",
    "                return False\n",
    "        print(\"Process duration:\", time.process_time() - start_time) \n",
    "        return True   \n",
    "\n",
    "while True:\n",
    "    number=input(\"Lütfen pozitif bir tamsayı giriniz, çıkmak için q tuşuna basınız\")\n",
    "    \n",
    "    if number==\"q\":\n",
    "        break\n",
    "    else:\n",
    "        number=int(number)\n",
    "        \n",
    "        if is_it_prime(number):\n",
    "            print(number,\"sayısı asal bir sayıdır\")\n",
    "        else:\n",
    "            print(number,\"sayısı asal sayı değildir\")"
   ]
  },
  {
   "cell_type": "markdown",
   "id": "9f1db57c",
   "metadata": {},
   "source": [
    "Bir sayının asal sayı olup olmadığını kontrol etmek için, bir sayının tam böleni en fazla sayının kare kökü kadardır. Bu yüzden döngüyü sayının kare köküne kadar yapmak yeterli olacaktır. Aşağıda bunun ispatı vardır."
   ]
  },
  {
   "cell_type": "code",
   "execution_count": 1,
   "id": "clear-accident",
   "metadata": {},
   "outputs": [
    {
     "name": "stdout",
     "output_type": "stream",
     "text": [
      "\n",
      "****************************************************************************************\n",
      "Bu program kullanıcı tarafından girilen bir sayının asal olup olmadığını kontrol eder.\n",
      "****************************************************************************************\n",
      "\n",
      "Lütfen pozitif bir tamsayı giriniz, çıkmak için q tuşuna basınız100000004987\n",
      "Process duration: 0.078125\n",
      "100000004987 sayısı asal bir sayıdır\n",
      "Lütfen pozitif bir tamsayı giriniz, çıkmak için q tuşuna basınızq\n"
     ]
    }
   ],
   "source": [
    "from math import sqrt\n",
    "import time\n",
    "\n",
    "print(\"\"\"\n",
    "****************************************************************************************\n",
    "Bu program kullanıcı tarafından girilen bir sayının asal olup olmadığını kontrol eder.\n",
    "****************************************************************************************\n",
    "\"\"\", flush=True)\n",
    "\n",
    "def is_it_prime(number):\n",
    "    start_time = time.process_time()\n",
    "    if number <= 1:\n",
    "        return False\n",
    "    elif number == 2:\n",
    "        return True\n",
    "    else:\n",
    "        for i in range(2, int(sqrt(number)) + 1):\n",
    "            if number % i == 0:\n",
    "                return False\n",
    "        print(\"Process duration:\", time.process_time() - start_time) \n",
    "        return True   \n",
    "\n",
    "while True:\n",
    "    number=input(\"Lütfen pozitif bir tamsayı giriniz, çıkmak için q tuşuna basınız\")\n",
    "    \n",
    "    if number==\"q\":\n",
    "        break\n",
    "    else:\n",
    "        number=int(number)\n",
    "        \n",
    "        if is_it_prime(number):\n",
    "            print(number,\"sayısı asal bir sayıdır\")\n",
    "        else:\n",
    "            print(number,\"sayısı asal sayı değildir\")"
   ]
  },
  {
   "cell_type": "code",
   "execution_count": null,
   "id": "190e85fa",
   "metadata": {},
   "outputs": [],
   "source": []
  }
 ],
 "metadata": {
  "kernelspec": {
   "display_name": "Python 3 (ipykernel)",
   "language": "python",
   "name": "python3"
  },
  "language_info": {
   "codemirror_mode": {
    "name": "ipython",
    "version": 3
   },
   "file_extension": ".py",
   "mimetype": "text/x-python",
   "name": "python",
   "nbconvert_exporter": "python",
   "pygments_lexer": "ipython3",
   "version": "3.11.4"
  },
  "nbTranslate": {
   "displayLangs": [
    "*"
   ],
   "hotkey": "alt-t",
   "langInMainMenu": true,
   "sourceLang": "en",
   "targetLang": "fr",
   "useGoogleTranslate": true
  }
 },
 "nbformat": 4,
 "nbformat_minor": 5
}
