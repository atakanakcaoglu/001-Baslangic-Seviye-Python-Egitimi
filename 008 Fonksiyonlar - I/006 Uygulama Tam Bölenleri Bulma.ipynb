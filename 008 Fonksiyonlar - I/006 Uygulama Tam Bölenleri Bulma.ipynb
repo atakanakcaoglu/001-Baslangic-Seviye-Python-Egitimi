{
 "cells": [
  {
   "cell_type": "code",
   "execution_count": 2,
   "id": "lonely-universal",
   "metadata": {},
   "outputs": [
    {
     "name": "stdout",
     "output_type": "stream",
     "text": [
      "\n",
      "****************************************************************************************\n",
      "Bu program kullanıcı tarafından girilen bir tam bölenlerini ekrana yazdırır.\n",
      "****************************************************************************************\n",
      "\n",
      "Sayı:46\n",
      "Tam bölenler: [2, 23]\n",
      "Sayı:q\n",
      "Program Sonlandırılıyor\n"
     ]
    }
   ],
   "source": [
    "import time\n",
    "print(\"\"\"\n",
    "****************************************************************************************\n",
    "Bu program kullanıcı tarafından girilen bir tam bölenlerini ekrana yazdırır.\n",
    "****************************************************************************************\n",
    "\"\"\")\n",
    "\n",
    "time.sleep(0.2)\n",
    "\n",
    "def find_full_divisor(number):\n",
    "    full_divisor = []\n",
    "\n",
    "    for i in range(2,number):\n",
    "\n",
    "        if (number % i == 0):\n",
    "            full_divisor.append(i)\n",
    "    return full_divisor\n",
    "\n",
    "while True:\n",
    "\n",
    "    number = input(\"Sayı:\")\n",
    "\n",
    "    if (number == \"q\"):\n",
    "        print(\"Program Sonlandırılıyor\")\n",
    "        break\n",
    "    else:\n",
    "        number = int(number)\n",
    "        \n",
    "        \n",
    "        if not find_full_divisor(number):\n",
    "            print(number,\"sayısı asal bir sayıdır.\")\n",
    "        else:\n",
    "            print(\"Tam bölenler:\",find_full_divisor(number))"
   ]
  },
  {
   "cell_type": "code",
   "execution_count": null,
   "id": "champion-engineering",
   "metadata": {},
   "outputs": [],
   "source": []
  }
 ],
 "metadata": {
  "kernelspec": {
   "display_name": "Python 3 (ipykernel)",
   "language": "python",
   "name": "python3"
  },
  "language_info": {
   "codemirror_mode": {
    "name": "ipython",
    "version": 3
   },
   "file_extension": ".py",
   "mimetype": "text/x-python",
   "name": "python",
   "nbconvert_exporter": "python",
   "pygments_lexer": "ipython3",
   "version": "3.11.4"
  },
  "nbTranslate": {
   "displayLangs": [
    "*"
   ],
   "hotkey": "alt-t",
   "langInMainMenu": true,
   "sourceLang": "en",
   "targetLang": "fr",
   "useGoogleTranslate": true
  }
 },
 "nbformat": 4,
 "nbformat_minor": 5
}
