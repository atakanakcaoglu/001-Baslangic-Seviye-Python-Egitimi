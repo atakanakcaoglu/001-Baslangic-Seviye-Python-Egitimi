{
 "cells": [
  {
   "cell_type": "markdown",
   "id": "desperate-boating",
   "metadata": {},
   "source": [
    "# EBOB"
   ]
  },
  {
   "cell_type": "markdown",
   "id": "adjacent-confusion",
   "metadata": {},
   "source": [
    "Kullanıcıdan 2 tane sayı alarak bu sayıların en büyük ortak bölenini (EBOB) dönen bir tane fonksiyon yazalım."
   ]
  },
  {
   "cell_type": "code",
   "execution_count": 1,
   "id": "historical-nirvana",
   "metadata": {},
   "outputs": [
    {
     "name": "stdout",
     "output_type": "stream",
     "text": [
      "\n",
      "**********************************************************************\n",
      "Bu program kullanıcı tarafından girilen iki sayının ortak bölenlerinin\n",
      "en büyüğünü (EBOB) bulur.\n",
      "**********************************************************************\n",
      "\n",
      "Sayı-1:50\n",
      "Sayı-2:30\n",
      "50 ve 30 sayılarının en büyük ortak böleni, 10 olarak kesaplanmıştır\n"
     ]
    }
   ],
   "source": [
    "print(\"\"\"\n",
    "**********************************************************************\n",
    "Bu program kullanıcı tarafından girilen iki sayının ortak bölenlerinin\n",
    "en büyüğünü (EBOB) bulur.\n",
    "**********************************************************************\n",
    "\"\"\", flush = True)\n",
    "\n",
    "\n",
    "def find_ebob(number1, number2):\n",
    "    i = 1\n",
    "    ebob = 1\n",
    "    while i <= number1 and i <= number2:\n",
    "        \n",
    "        if (not number1 % i) and (not number2 % i):\n",
    "            ebob = i        \n",
    "        i += 1\n",
    "    return ebob\n",
    "\n",
    "number1 = int(input(\"Sayı-1:\"))\n",
    "number2 = int(input(\"Sayı-2:\"))\n",
    "\n",
    "ebob = find_ebob(number1,number2)\n",
    "\n",
    "if ebob == 1:\n",
    "    print(\"{} ve {} sayıları aralarında asaldır\".format(number1, number2))\n",
    "else:\n",
    "    print(\"{} ve {} sayılarının en büyük ortak böleni, {} olarak kesaplanmıştır\".format(number1, number2, ebob))"
   ]
  },
  {
   "cell_type": "code",
   "execution_count": 1,
   "id": "identified-boundary",
   "metadata": {},
   "outputs": [
    {
     "name": "stdout",
     "output_type": "stream",
     "text": [
      "deneme\n"
     ]
    }
   ],
   "source": [
    "print(\"deneme\")"
   ]
  },
  {
   "cell_type": "code",
   "execution_count": null,
   "id": "08337116",
   "metadata": {},
   "outputs": [],
   "source": []
  }
 ],
 "metadata": {
  "kernelspec": {
   "display_name": "Python 3 (ipykernel)",
   "language": "python",
   "name": "python3"
  },
  "language_info": {
   "codemirror_mode": {
    "name": "ipython",
    "version": 3
   },
   "file_extension": ".py",
   "mimetype": "text/x-python",
   "name": "python",
   "nbconvert_exporter": "python",
   "pygments_lexer": "ipython3",
   "version": "3.11.4"
  },
  "nbTranslate": {
   "displayLangs": [
    "*"
   ],
   "hotkey": "alt-t",
   "langInMainMenu": true,
   "sourceLang": "en",
   "targetLang": "fr",
   "useGoogleTranslate": true
  }
 },
 "nbformat": 4,
 "nbformat_minor": 5
}
