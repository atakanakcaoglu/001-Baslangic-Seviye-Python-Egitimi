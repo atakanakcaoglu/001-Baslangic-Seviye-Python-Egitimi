{
 "cells": [
  {
   "cell_type": "markdown",
   "id": "uniform-finding",
   "metadata": {},
   "source": [
    "# Lambda Fonksiyonları"
   ]
  },
  {
   "cell_type": "markdown",
   "id": "controversial-strain",
   "metadata": {},
   "source": [
    "Lambda anahtar sözcüğü, tek bir ifade içeren bir satır içi işlev oluşturur. Bu ifadenin değeri, çağrıldığında işlevin döndürdüğü şeydir."
   ]
  },
  {
   "cell_type": "markdown",
   "id": "right-clear",
   "metadata": {},
   "source": [
    "Aşağıdaki fonksiyonu ele alalım."
   ]
  },
  {
   "cell_type": "code",
   "execution_count": 1,
   "id": "confused-apparatus",
   "metadata": {},
   "outputs": [],
   "source": [
    "def say_hello():\n",
    "    return \"Merhaba\""
   ]
  },
  {
   "cell_type": "markdown",
   "id": "falling-rescue",
   "metadata": {},
   "source": [
    "Yukarıdaki fonksiyon çağırıldığı zaman string bir ifade döndürür."
   ]
  },
  {
   "cell_type": "code",
   "execution_count": 2,
   "id": "preceding-square",
   "metadata": {},
   "outputs": [
    {
     "name": "stdout",
     "output_type": "stream",
     "text": [
      "Merhaba\n"
     ]
    }
   ],
   "source": [
    "print(say_hello())"
   ]
  },
  {
   "cell_type": "markdown",
   "id": "asian-event",
   "metadata": {},
   "source": [
    "Bu, aşağıdaki gibi bir lambda işlevi olarak yazılabilir:"
   ]
  },
  {
   "cell_type": "code",
   "execution_count": 4,
   "id": "random-cooler",
   "metadata": {},
   "outputs": [],
   "source": [
    "greet_me = lambda: \"Merhaba\""
   ]
  },
  {
   "cell_type": "code",
   "execution_count": 5,
   "id": "mineral-tunisia",
   "metadata": {},
   "outputs": [
    {
     "name": "stdout",
     "output_type": "stream",
     "text": [
      "Merhaba\n"
     ]
    }
   ],
   "source": [
    "print(greet_me())"
   ]
  },
  {
   "cell_type": "markdown",
   "id": "threaded-complaint",
   "metadata": {},
   "source": [
    "Bu, **greet_me()** adıyla Merhaba döndüren bir satır içi işlev oluşturur. **Lambda** ile bir işlev oluştururken **return** yazılmadığını unutmayın. Değer otomatik olarak döndürülür.\n",
    "Bir değişkene atandıktan sonra, normal bir fonksiyon gibi kullanılabilir."
   ]
  },
  {
   "cell_type": "markdown",
   "id": "developing-coordinate",
   "metadata": {},
   "source": [
    "lambda argümanlar ve parametreler de alabilir."
   ]
  },
  {
   "cell_type": "code",
   "execution_count": 8,
   "id": "external-drink",
   "metadata": {},
   "outputs": [],
   "source": [
    "remove_space_and_get_uppercase = lambda str_value: str_value.strip().upper()"
   ]
  },
  {
   "cell_type": "code",
   "execution_count": 9,
   "id": "instructional-intermediate",
   "metadata": {},
   "outputs": [
    {
     "name": "stdout",
     "output_type": "stream",
     "text": [
      "MERHABA\n"
     ]
    }
   ],
   "source": [
    "print(remove_space_and_get_uppercase(\"     Merhaba     \"))"
   ]
  },
  {
   "cell_type": "markdown",
   "id": "understanding-newsletter",
   "metadata": {},
   "source": [
    "Normal fonksiyonlar gibi rastgele sayıda argüman / anahtar kelime argümanı da alabilirler."
   ]
  },
  {
   "cell_type": "code",
   "execution_count": 10,
   "id": "blessed-evidence",
   "metadata": {},
   "outputs": [
    {
     "name": "stdout",
     "output_type": "stream",
     "text": [
      "merhaba ('dünya',) {'dünya': 'dünya'}\n"
     ]
    }
   ],
   "source": [
    "say_hello = lambda x, *args, **kwargs: print(x, args, kwargs)\n",
    "say_hello('merhaba', 'dünya', dünya='dünya')"
   ]
  },
  {
   "cell_type": "markdown",
   "id": "swedish-documentation",
   "metadata": {},
   "source": [
    "### Bir lambda fonksiyonunun içinden diğer işlevler (bağımsız değişkenli / bağımsız) çağrılması"
   ]
  },
  {
   "cell_type": "code",
   "execution_count": 11,
   "id": "irish-tissue",
   "metadata": {},
   "outputs": [
    {
     "name": "stdout",
     "output_type": "stream",
     "text": [
      "merhaba dünya\n"
     ]
    }
   ],
   "source": [
    "def func(message):\n",
    "    print(message)\n",
    "say_hello = lambda x = \"merhaba dünya\": func(x)\n",
    "say_hello()"
   ]
  },
  {
   "cell_type": "markdown",
   "id": "charged-aggregate",
   "metadata": {},
   "source": [
    "**lambda** yalnızca bir ifade içerebilir ve bir yardımcı işlev kullanılarak birden çok ifade çalıştırılabilir."
   ]
  },
  {
   "cell_type": "markdown",
   "id": "amazing-campbell",
   "metadata": {},
   "source": [
    "**NOT**\n",
    "\n",
    "<a href=\"https://www.python.org/dev/peps/pep-0008/#programming-recommendations\">PEP-8'e göre</a> (resmi Python stil kılavuzu) değişkenlere lambda atanması önerilmemektedir.\n",
    "\n",
    "***say_hello ve remove_space_and_get_uppercase fonksiyonları örnek vermek amacıyla bu şekilde oluşturulmıştur. Programlama yaparken bu şeklide oluşturmayın!!!!**"
   ]
  },
  {
   "cell_type": "markdown",
   "id": "periodic-citation",
   "metadata": {},
   "source": [
    "Lambda ifadesini doğrudan bir tanımlayıcıya bağlayan bir atama ifadesi yerine her zaman bir <strong style=\"color:green\">def</strong> ifadesi kullanın."
   ]
  },
  {
   "cell_type": "markdown",
   "id": "changed-public",
   "metadata": {},
   "source": [
    "# EVET!"
   ]
  },
  {
   "cell_type": "code",
   "execution_count": 14,
   "id": "proper-aaron",
   "metadata": {},
   "outputs": [],
   "source": [
    "def f(x): return 2*x"
   ]
  },
  {
   "cell_type": "markdown",
   "id": "authorized-dallas",
   "metadata": {},
   "source": [
    "# HAYIR!"
   ]
  },
  {
   "cell_type": "code",
   "execution_count": 15,
   "id": "correct-pilot",
   "metadata": {},
   "outputs": [],
   "source": [
    "f = lambda x: 2*x"
   ]
  },
  {
   "cell_type": "markdown",
   "id": "agricultural-thumb",
   "metadata": {},
   "source": [
    "İlk biçim, sonuçta ortaya çıkan fonksiyon nesnesinin adının genel '<lambda>' yerine özellikle 'f' olduğu anlamına gelir. Bu, genel olarak izleme boşlukları (traceback) ve string gösterimleri için daha kullanışlıdır. \n",
    "    \n",
    "Atama ifadesinin kullanılması, bir lambda ifadesinin açık bir def ifadesi üzerinden sunabileceği tek faydayı ortadan kaldırır (yani daha büyük bir ifadenin içine yerleştirilebilir)\n",
    "    \n",
    "<a href=\"https://realpython.com/python-traceback/\">traceback</a> Geri izleme (traceback), kodunuzda belirli bir noktada yapılan işlev çağrılarını içeren bir rapordur. "
   ]
  },
  {
   "cell_type": "markdown",
   "id": "laden-barbados",
   "metadata": {},
   "source": [
    "lambda ifadesini küçük fonksiyonlar için kullanabiliriz. **lambda ifadelerini** özellikle kısa bir fonksiyonu **def** ifadesiyle yazmanın zahmetli olduğu zamanlarda kullanılabilir.\n"
   ]
  },
  {
   "cell_type": "markdown",
   "id": "3ea66dad",
   "metadata": {
    "lang": "tr"
   },
   "source": [
    "### Lambda Fonksiyonlarını Nasıl Kullanmalıyız?\n",
    "\n",
    "Lambda'nın gücü, onları başka bir fonksiyonun içinde anonim bir fonksiyon olarak kullandığınızda daha iyi gösterilir.\n",
    "\n",
    "Diyelim ki bir argüman alan bir fonksiyon tanımınız var ve bu argüman bilinmeyen bir sayıyla çarpılacak:"
   ]
  },
  {
   "cell_type": "code",
   "execution_count": 3,
   "id": "2f685e20",
   "metadata": {},
   "outputs": [
    {
     "name": "stdout",
     "output_type": "stream",
     "text": [
      "<function myfunc.<locals>.<lambda> at 0x000001F7DC26C400>\n",
      "22\n"
     ]
    }
   ],
   "source": [
    "def myfunc(n):\n",
    "    return lambda a : a * n\n",
    "\n",
    "mydoubler = myfunc(2) # Burada mydoubler isimli bir obje tanımladık. Bu obje de aslında bir fonksiyon. \n",
    "                      # Bu fonksiyonda n paramertesine 2 değerini gönderdik\n",
    "\n",
    "# mydoubler objesine bakalım.\n",
    "\n",
    "print(mydoubler) # <function myfunc.<locals>.<lambda> at 0x000001F7DC1D7C40>\n",
    "\n",
    "print(mydoubler(11)) # Burada da a parametresine 11 değerini gönderdik. 2 * 11 = 22 çıktısını aldık"
   ]
  },
  {
   "cell_type": "markdown",
   "id": "apparent-hormone",
   "metadata": {},
   "source": [
    "### Örnekler"
   ]
  },
  {
   "cell_type": "code",
   "execution_count": 12,
   "id": "therapeutic-italian",
   "metadata": {},
   "outputs": [],
   "source": [
    "get_sum = lambda x,y,z : x + y + z"
   ]
  },
  {
   "cell_type": "code",
   "execution_count": 13,
   "id": "behind-swiss",
   "metadata": {},
   "outputs": [
    {
     "name": "stdout",
     "output_type": "stream",
     "text": [
      "6\n"
     ]
    }
   ],
   "source": [
    "print(get_sum(1,2,3))"
   ]
  },
  {
   "cell_type": "code",
   "execution_count": 14,
   "id": "official-moses",
   "metadata": {},
   "outputs": [],
   "source": [
    "reverse_string =  lambda s : s[::-1]"
   ]
  },
  {
   "cell_type": "code",
   "execution_count": 15,
   "id": "collaborative-universal",
   "metadata": {},
   "outputs": [
    {
     "name": "stdout",
     "output_type": "stream",
     "text": [
      "taruM\n"
     ]
    }
   ],
   "source": [
    "print(reverse_string(\"Murat\"))"
   ]
  },
  {
   "cell_type": "code",
   "execution_count": 16,
   "id": "fleet-recording",
   "metadata": {},
   "outputs": [],
   "source": [
    "is_even_number = lambda number :  number % 2 == 0 "
   ]
  },
  {
   "cell_type": "code",
   "execution_count": 17,
   "id": "registered-dialogue",
   "metadata": {},
   "outputs": [
    {
     "name": "stdout",
     "output_type": "stream",
     "text": [
      "True\n"
     ]
    }
   ],
   "source": [
    "print(is_even_number(32))"
   ]
  }
 ],
 "metadata": {
  "kernelspec": {
   "display_name": "Python 3 (ipykernel)",
   "language": "python",
   "name": "python3"
  },
  "language_info": {
   "codemirror_mode": {
    "name": "ipython",
    "version": 3
   },
   "file_extension": ".py",
   "mimetype": "text/x-python",
   "name": "python",
   "nbconvert_exporter": "python",
   "pygments_lexer": "ipython3",
   "version": "3.11.5"
  },
  "nbTranslate": {
   "displayLangs": [
    "tr"
   ],
   "hotkey": "alt-t",
   "langInMainMenu": true,
   "sourceLang": "en",
   "targetLang": "tr",
   "useGoogleTranslate": true
  }
 },
 "nbformat": 4,
 "nbformat_minor": 5
}
