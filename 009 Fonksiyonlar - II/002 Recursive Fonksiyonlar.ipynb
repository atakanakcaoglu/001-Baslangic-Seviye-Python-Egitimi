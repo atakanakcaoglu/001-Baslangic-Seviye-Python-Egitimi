{
 "cells": [
  {
   "cell_type": "markdown",
   "id": "opponent-panama",
   "metadata": {},
   "source": [
    "# Recursive (Özyinelemeli) Fonksiyonlar"
   ]
  },
  {
   "cell_type": "markdown",
   "id": "armed-savings",
   "metadata": {},
   "source": [
    "Özyinelemeli fonksiyon, kendi kendisini tanımında çağıran bir işlevdir. Örneğin, faktöriyel (n) = n * (n-1) * (n-2) * ... * 3 * 2 * 1 ile tanımlanan matematiksel fonksiyon, faktöriyel olarak programlanabilir"
   ]
  },
  {
   "cell_type": "code",
   "execution_count": 3,
   "id": "serial-kazakhstan",
   "metadata": {},
   "outputs": [],
   "source": [
    "def factorial(n: int):\n",
    "    \"\"\"\n",
    "    This function calculates the factorial.\n",
    "    \n",
    "    \"\"\"\n",
    "    if n == 0:\n",
    "        return 1\n",
    "    else:\n",
    "        return n * factorial(n-1)"
   ]
  },
  {
   "cell_type": "code",
   "execution_count": 5,
   "id": "molecular-little",
   "metadata": {},
   "outputs": [
    {
     "name": "stdout",
     "output_type": "stream",
     "text": [
      "120\n"
     ]
    }
   ],
   "source": [
    "print(factorial(5))"
   ]
  },
  {
   "cell_type": "markdown",
   "id": "blocked-studio",
   "metadata": {},
   "source": [
    "Yukarıdaki fonksiyonun özyinelemeli olduğuna dikkat edin, çünkü ikinci dönüş faktöriyel (n-1), burada işlev kendini tanımında çağırır.\n",
    "Bazı recursive fonksiyonlar lambda kullanılarak gerçekleştirilebilir, lambda kullanan faktöriyel işlev şu şekilde olacaktır:\n"
   ]
  },
  {
   "cell_type": "code",
   "execution_count": 3,
   "id": "compact-wheel",
   "metadata": {},
   "outputs": [],
   "source": [
    "factorial_2 = lambda n: 1 if n == 0 else n * factorial_2(n-1)"
   ]
  },
  {
   "cell_type": "code",
   "execution_count": 4,
   "id": "hidden-necessity",
   "metadata": {},
   "outputs": [
    {
     "name": "stdout",
     "output_type": "stream",
     "text": [
      "120\n"
     ]
    }
   ],
   "source": [
    "print(factorial_2(5))"
   ]
  },
  {
   "cell_type": "markdown",
   "id": "mounted-internet",
   "metadata": {},
   "source": [
    "Fonksiyon, yukarıdakiyle aynı çıktıyı verir."
   ]
  },
  {
   "cell_type": "markdown",
   "id": "historic-closing",
   "metadata": {},
   "source": [
    "### Fibonacci serisinin n inci elemanını bulma"
   ]
  },
  {
   "cell_type": "code",
   "execution_count": 7,
   "id": "hawaiian-gardening",
   "metadata": {},
   "outputs": [],
   "source": [
    "def fibonacci(n):    \n",
    "     if n <= 2:        \n",
    "        return 1    \n",
    "     else:        \n",
    "        return fibonacci(n-1) + fibonacci(n-2)"
   ]
  },
  {
   "cell_type": "code",
   "execution_count": 13,
   "id": "funded-fraction",
   "metadata": {},
   "outputs": [
    {
     "name": "stdout",
     "output_type": "stream",
     "text": [
      "21\n"
     ]
    }
   ],
   "source": [
    "print(fibonacci(8))"
   ]
  },
  {
   "cell_type": "markdown",
   "id": "formal-client",
   "metadata": {},
   "source": [
    "### Fibonacci serisinin n inci elemanını bulma-2"
   ]
  },
  {
   "cell_type": "code",
   "execution_count": 16,
   "id": "sustainable-drill",
   "metadata": {},
   "outputs": [],
   "source": [
    "def fibonacci_2(n, old=1, now=1):    \n",
    "     if n <= 2:        \n",
    "        return now    \n",
    "     else:        \n",
    "        return fibonacci_2(n-1, now, old+now)"
   ]
  },
  {
   "cell_type": "code",
   "execution_count": 17,
   "id": "damaged-shooting",
   "metadata": {},
   "outputs": [
    {
     "name": "stdout",
     "output_type": "stream",
     "text": [
      "8\n"
     ]
    }
   ],
   "source": [
    "print(fibonacci_2(6))"
   ]
  },
  {
   "cell_type": "markdown",
   "id": "thick-suspension",
   "metadata": {},
   "source": [
    "### 1'den n e kadar olan sayıların toplamlarını bulma"
   ]
  },
  {
   "cell_type": "code",
   "execution_count": 18,
   "id": "dedicated-andorra",
   "metadata": {},
   "outputs": [
    {
     "name": "stdout",
     "output_type": "stream",
     "text": [
      "55\n"
     ]
    }
   ],
   "source": [
    "def get_sum_n(number):\n",
    "    if number == 1:\n",
    "        return  1\n",
    "    else:\n",
    "        return number + get_sum_n(number - 1)\n",
    "\n",
    "print(get_sum_n(10))"
   ]
  },
  {
   "cell_type": "markdown",
   "id": "chemical-chemical",
   "metadata": {},
   "source": [
    "### Karakter Yazdırma"
   ]
  },
  {
   "cell_type": "code",
   "execution_count": 19,
   "id": "uniform-footage",
   "metadata": {},
   "outputs": [
    {
     "name": "stdout",
     "output_type": "stream",
     "text": [
      "h\n",
      "o\n",
      "n\n",
      "None\n"
     ]
    }
   ],
   "source": [
    "def write_char(word, length):\n",
    "    if length == len(word) - 1:\n",
    "        print(word[length])\n",
    "    else:\n",
    "        print(word[length])\n",
    "        write_char(word, length + 1)\n",
    "        \n",
    "word = \"Python\"\n",
    "print(write_char(word, 3))"
   ]
  },
  {
   "cell_type": "code",
   "execution_count": null,
   "id": "armed-electric",
   "metadata": {},
   "outputs": [],
   "source": []
  }
 ],
 "metadata": {
  "kernelspec": {
   "display_name": "Python 3 (ipykernel)",
   "language": "python",
   "name": "python3"
  },
  "language_info": {
   "codemirror_mode": {
    "name": "ipython",
    "version": 3
   },
   "file_extension": ".py",
   "mimetype": "text/x-python",
   "name": "python",
   "nbconvert_exporter": "python",
   "pygments_lexer": "ipython3",
   "version": "3.11.4"
  },
  "nbTranslate": {
   "displayLangs": [
    "*"
   ],
   "hotkey": "alt-t",
   "langInMainMenu": true,
   "sourceLang": "en",
   "targetLang": "fr",
   "useGoogleTranslate": true
  }
 },
 "nbformat": 4,
 "nbformat_minor": 5
}
