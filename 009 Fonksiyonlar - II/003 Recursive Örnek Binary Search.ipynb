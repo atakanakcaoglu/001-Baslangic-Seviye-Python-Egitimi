{
 "cells": [
  {
   "cell_type": "markdown",
   "id": "55f1ba21",
   "metadata": {},
   "source": [
    "# Binary Search Uygulaması"
   ]
  },
  {
   "cell_type": "code",
   "execution_count": 3,
   "id": "67c750aa",
   "metadata": {},
   "outputs": [
    {
     "name": "stdout",
     "output_type": "stream",
     "text": [
      "Eleman 599 listede bulundu, indeks: 599\n"
     ]
    }
   ],
   "source": [
    "def binary_search_recursive(arr, x, low, high):\n",
    "    if low <= high:\n",
    "        mid = (low + high) // 2\n",
    "\n",
    "        # Eğer x, ortanca elemana eşitse, bulunduğumuz indeksi döndür\n",
    "        if arr[mid] == x:\n",
    "            return mid\n",
    "\n",
    "        # Eğer x, ortanca elemandan küçükse, sağ tarafı kontrol et\n",
    "        elif arr[mid] < x:\n",
    "            return binary_search_recursive(arr, x, mid + 1, high)\n",
    "\n",
    "        # Eğer x, ortanca elemandan büyükse, sol tarafı kontrol et\n",
    "        else:\n",
    "            return binary_search_recursive(arr, x, low, mid - 1)\n",
    "\n",
    "    # Eleman bulunamadıysa -1 döndür\n",
    "    return -1\n",
    "\n",
    "# Örnek kullanım\n",
    "arr = list(range(600)) \n",
    "x = 599\n",
    "\n",
    "# Fonksiyonu çağırarak arama yapın\n",
    "result = binary_search_recursive(arr, x, 0, len(arr) - 1)\n",
    "\n",
    "if result != -1:\n",
    "    print(f\"Eleman {x} listede bulundu, indeks: {result}\")\n",
    "else:\n",
    "    print(f\"Eleman {x} listede bulunamadı.\")"
   ]
  },
  {
   "cell_type": "code",
   "execution_count": null,
   "id": "fb056dbb",
   "metadata": {},
   "outputs": [],
   "source": []
  }
 ],
 "metadata": {
  "kernelspec": {
   "display_name": "Python 3 (ipykernel)",
   "language": "python",
   "name": "python3"
  },
  "language_info": {
   "codemirror_mode": {
    "name": "ipython",
    "version": 3
   },
   "file_extension": ".py",
   "mimetype": "text/x-python",
   "name": "python",
   "nbconvert_exporter": "python",
   "pygments_lexer": "ipython3",
   "version": "3.11.5"
  },
  "nbTranslate": {
   "displayLangs": [
    "*"
   ],
   "hotkey": "alt-t",
   "langInMainMenu": true,
   "sourceLang": "en",
   "targetLang": "fr",
   "useGoogleTranslate": true
  }
 },
 "nbformat": 4,
 "nbformat_minor": 5
}
