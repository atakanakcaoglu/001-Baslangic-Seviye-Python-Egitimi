{
 "cells": [
  {
   "cell_type": "markdown",
   "id": "parliamentary-sender",
   "metadata": {},
   "source": [
    "# Pythonda Kapanışlar (Closure)"
   ]
  },
  {
   "cell_type": "markdown",
   "id": "extreme-yukon",
   "metadata": {},
   "source": [
    "Python'da \"closures\" ya da Türkçe adıyla \"kapanışlar,\" iç içe fonksiyonlar ve fonksiyonların çevrelerini ele alırken karşımıza çıkan bir kavramdır. Bir iç fonksiyon, dış fonksiyonun yerel değişkenlerine ve bağlamına (context) erişebilir ve bu bağlam dış fonksiyon çalışmasını tamamladığında da hala mevcut olabilir. \n",
    "\n",
    "Kapanışlar, genellikle aşağıdaki özellikleri içerir:\n",
    "\n",
    "**1. İç İçe Fonksiyonlar:** Bir iç fonksiyon, başka bir fonksiyonun içinde tanımlanır. Bu iç fonksiyon, dış fonksiyonun içerisinde kullanılabilir.\n",
    "\n",
    "**2. Dış Fonksiyon Bağlamı (Context):** İç fonksiyon, dış fonksiyonun bağlamına erişebilir. Bu, dış fonksiyonun yerel değişkenlerini ve parametrelerini iç fonksiyon içinde kullanabilme anlamına gelir.\n",
    "\n",
    "**3. İç Fonksiyonun Geri Dönüşü:** Dış fonksiyon, iç fonksiyonu geri dönebilir veya başka bir nesneye atayabilir. Bu, iç fonksiyonun dışarıdan kullanılabilir ve çalıştırılabilir olmasını sağlar."
   ]
  },
  {
   "cell_type": "code",
   "execution_count": 2,
   "id": "preceding-crack",
   "metadata": {},
   "outputs": [
    {
     "name": "stdout",
     "output_type": "stream",
     "text": [
      "8\n"
     ]
    }
   ],
   "source": [
    "def outer_function(x):\n",
    "    def inner_function(y):\n",
    "        return x + y\n",
    "    return inner_function\n",
    "\n",
    "# Dış fonksiyonu çağırarak iç fonksiyonu elde ediyoruz.\n",
    "function_1 = outer_function(5)\n",
    "\n",
    "# İç fonksiyonu çağırarak x değerini koruyoruz.\n",
    "result = function_1(3)\n",
    "print(result)  # Output: 8\n"
   ]
  },
  {
   "cell_type": "markdown",
   "id": "bulgarian-parent",
   "metadata": {},
   "source": [
    "Bu örnekte, \"inner_function\" adında bir iç fonksiyon, \"outer_function\" adında bir dış fonksiyonun içinde tanımlanmıştır. İç fonksiyon, dış fonksiyonun bağlamına (x değişkenine) erişir ve bu bağlamı kullanarak işlem yapar. Dış fonksiyon, iç fonksiyonu geri döndürür ve sonuç olarak iç fonksiyonu \"function_1\" adında bir değişkene atarız. Sonrasında \"function_1\" ile iç fonksiyonu çağırarak x değerini koruyarak işlem yapabiliriz.\n",
    "\n",
    "Normal bir kapanışta, kapalı fonksiyonun tüm değişkenleri çevreleyen ortamdan tamamen miras aldığına dikkat edin, bu yapıda kapalı işlevin yalnızca miras alınan değişkenlere okuma erişimi vardır, ancak bunlara atamalar yapamaz."
   ]
  },
  {
   "cell_type": "code",
   "execution_count": 1,
   "id": "maritime-admission",
   "metadata": {},
   "outputs": [
    {
     "ename": "UnboundLocalError",
     "evalue": "cannot access local variable 'x' where it is not associated with a value",
     "output_type": "error",
     "traceback": [
      "\u001b[1;31m---------------------------------------------------------------------------\u001b[0m",
      "\u001b[1;31mUnboundLocalError\u001b[0m                         Traceback (most recent call last)",
      "Cell \u001b[1;32mIn[1], line 9\u001b[0m\n\u001b[0;32m      6\u001b[0m     \u001b[38;5;28;01mreturn\u001b[39;00m get_content\n\u001b[0;32m      8\u001b[0m content_1 \u001b[38;5;241m=\u001b[39m generate_content(\u001b[38;5;241m1\u001b[39m)\n\u001b[1;32m----> 9\u001b[0m content_1(\u001b[38;5;241m5\u001b[39m)\n",
      "Cell \u001b[1;32mIn[1], line 4\u001b[0m, in \u001b[0;36mgenerate_content.<locals>.get_content\u001b[1;34m(y)\u001b[0m\n\u001b[0;32m      2\u001b[0m \u001b[38;5;28;01mdef\u001b[39;00m \u001b[38;5;21mget_content\u001b[39m(y):\n\u001b[0;32m      3\u001b[0m \u001b[38;5;66;03m# x'in artırılmasına müsade edilmez\u001b[39;00m\n\u001b[1;32m----> 4\u001b[0m     x \u001b[38;5;241m=\u001b[39m x \u001b[38;5;241m+\u001b[39m y\n\u001b[0;32m      5\u001b[0m     \u001b[38;5;28;01mreturn\u001b[39;00m y\n",
      "\u001b[1;31mUnboundLocalError\u001b[0m: cannot access local variable 'x' where it is not associated with a value"
     ]
    }
   ],
   "source": [
    "def generate_content(x):\n",
    "    def get_content(y):\n",
    "    # x'in artırılmasına müsade edilmez\n",
    "        x = x + y\n",
    "        return y\n",
    "    return get_content\n",
    "\n",
    "content_1 = generate_content(1)\n",
    "content_1(5) # UnboundLocalError: local variable 'x' referenced before assignment"
   ]
  },
  {
   "cell_type": "markdown",
   "id": "residential-europe",
   "metadata": {},
   "source": [
    "Python 3, iç içe geçmiş işlevlerle tam bir kapanış gerçekleştirmek için yerel olmayan ifadeyi (nonlocal) sunar."
   ]
  },
  {
   "cell_type": "code",
   "execution_count": 5,
   "id": "lesser-outdoors",
   "metadata": {},
   "outputs": [
    {
     "data": {
      "text/plain": [
       "6"
      ]
     },
     "execution_count": 5,
     "metadata": {},
     "output_type": "execute_result"
    }
   ],
   "source": [
    "def generate_content(x):\n",
    "    def get_content(y):\n",
    "        nonlocal x\n",
    "        # şimdi x in atanmasına müsade eder\n",
    "        x += y\n",
    "        return x\n",
    "    return get_content\n",
    "\n",
    "content_1 = generate_content(1)\n",
    "content_1(5)"
   ]
  }
 ],
 "metadata": {
  "kernelspec": {
   "display_name": "Python 3 (ipykernel)",
   "language": "python",
   "name": "python3"
  },
  "language_info": {
   "codemirror_mode": {
    "name": "ipython",
    "version": 3
   },
   "file_extension": ".py",
   "mimetype": "text/x-python",
   "name": "python",
   "nbconvert_exporter": "python",
   "pygments_lexer": "ipython3",
   "version": "3.11.5"
  },
  "nbTranslate": {
   "displayLangs": [
    "*"
   ],
   "hotkey": "alt-t",
   "langInMainMenu": true,
   "sourceLang": "en",
   "targetLang": "fr",
   "useGoogleTranslate": true
  }
 },
 "nbformat": 4,
 "nbformat_minor": 5
}
