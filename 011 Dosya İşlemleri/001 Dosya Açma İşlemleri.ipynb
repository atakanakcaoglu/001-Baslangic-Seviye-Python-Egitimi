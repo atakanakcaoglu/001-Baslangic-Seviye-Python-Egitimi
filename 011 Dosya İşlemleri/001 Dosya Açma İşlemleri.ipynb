{
 "cells": [
  {
   "cell_type": "markdown",
   "id": "vocal-revision",
   "metadata": {},
   "source": [
    "# Dosya Açma İşlemleri"
   ]
  },
  {
   "cell_type": "markdown",
   "id": "compound-least",
   "metadata": {},
   "source": [
    "Python'da `open()` fonksiyonu, dosyaları açmak için kullanılır. İki ana argüman alır: dosya adı (veya yol) ve erişim modu. Erişim modu, dosyanın nasıl açılması gerektiğini, okuma, yazma veya her ikisi için mi olduğunu belirtir. İşte en yaygın kullanılan dosya erişim modları:\n",
    "\n",
    "1. **Okuma Modları:**\n",
    "   - `'r'`: Okuma için aç (varsayılan). Dosya mevcut değilse, bir `IOError` hatası oluşur.\n",
    "\n",
    "   - `'rb'`: İkili dosya olarak okuma için aç.\n",
    "\n",
    "   - `'r+'`: Okuma ve yazma için aç.\n",
    "\n",
    "   - `'rt'`: Metin olarak okuma için aç. Bu, `'r'` kullanıldığında varsayılan moddur.\n",
    "\n",
    "2. **Yazma Modları:**\n",
    "   - `'w'`: Yazma için aç. Eğer dosya zaten varsa, dosyayı kırpacak. Dosya mevcut değilse, yeni bir tane oluşturur.\n",
    "\n",
    "   - `'wb'`: İkili dosya olarak yazma için aç.\n",
    "\n",
    "   - `'w+'`: Okuma ve yazma için aç. `'r+'` ile benzer, ancak dosyayı kırpacak veya yeni bir tane oluşturacak.\n",
    "\n",
    "   - `'wt'`: Metin olarak yazma için aç. Bu, `'w'` kullanıldığında varsayılan moddur.\n",
    "\n",
    "3. **Ekleme Modları:**\n",
    "   - `'a'`: Yazma için aç. Eğer dosya varsa, veriyi dosyanın sonuna ekler.\n",
    "\n",
    "   - `'ab'`: İkili dosya olarak yazma için aç.\n",
    "\n",
    "   - `'a+'`: Okuma ve yazma için aç. Veriyi dosyanın sonuna ekler.\n",
    "\n",
    "   - `'at'`: Metin olarak yazma için aç. Bu, `'a'` kullanıldığında varsayılan moddur.\n",
    "\n",
    "4. **Özel Oluşturma:**\n",
    "   - `'x'`: Özel oluşturma. Eğer dosya varsa, işlem başarısız olur.\n",
    "\n",
    "   - `'xb'`: İkili dosya için özel oluşturma.\n",
    "\n",
    "   - `'xt'`: Metin dosyası için özel oluşturma.\n",
    "\n",
    "5. **İkili ve Metin Modları:**\n",
    "   - `'b'`: İkili mod. Dosyanın ikili bir dosya olarak ele alınması gerektiğini belirtmek için herhangi bir yukarıdaki moda ekleyebilirsiniz.\n",
    "\n",
    "   - `'t'`: Metin modu. Dosyanın bir metin dosyası olarak ele alınması gerektiğini belirtmek için herhangi bir yukarıdaki moda ekleyebilirsiniz.\n",
    "\n",
    "Bir dosyayı açarken, bu modları ihtiyaca göre birleştirebilirsiniz. Örneğin, `'rb'`, bir dosyayı ikili modda okumak için açar, ve `'w+'`, bir dosyayı hem okuma hem de yazma için açar, varsa dosyayı kırpar."
   ]
  },
  {
   "cell_type": "code",
   "execution_count": 1,
   "id": "excess-lindsay",
   "metadata": {},
   "outputs": [
    {
     "data": {
      "text/plain": [
       "<_io.TextIOWrapper name='bilgiler.txt' mode='w' encoding='cp1254'>"
      ]
     },
     "execution_count": 1,
     "metadata": {},
     "output_type": "execute_result"
    }
   ],
   "source": [
    "open(\"bilgiler.txt\",\"w\")"
   ]
  },
  {
   "cell_type": "code",
   "execution_count": 2,
   "id": "purple-bolivia",
   "metadata": {},
   "outputs": [],
   "source": [
    "file = open(\"file.txt\",\"w\")"
   ]
  },
  {
   "cell_type": "markdown",
   "id": "extreme-genius",
   "metadata": {},
   "source": [
    "#### Dosyaları Kapatmak\n",
    "\n",
    "Bir dosya üzerinde işlem yaptığımızda o dosyayı kapatmak sistem kaynaklarının gereksiz kullanılmaması açısından önemlidir. Çünkü programımız bitse bile dosyanın kapanacağı garanti değildir. Bu yüzden işlerimiz bittiği zaman dosyayı kapatmalıyız."
   ]
  },
  {
   "cell_type": "code",
   "execution_count": 3,
   "id": "noted-improvement",
   "metadata": {},
   "outputs": [],
   "source": [
    "file.close()"
   ]
  },
  {
   "cell_type": "markdown",
   "id": "naked-tradition",
   "metadata": {},
   "source": [
    "Eğer bir dosyayı bulunduğumuz dizinde değil de başka bir dizinde açmak istersek, dizinin yolunu özellikle belirtmeliyiz."
   ]
  },
  {
   "cell_type": "code",
   "execution_count": 8,
   "id": "antique-cabin",
   "metadata": {},
   "outputs": [],
   "source": [
    "file=open(\"C:/Users/mukir/OneDrive/Desktop/bilgiler.txt\",\"w\",encoding=\"utf-8\")"
   ]
  },
  {
   "cell_type": "code",
   "execution_count": 9,
   "id": "capable-liability",
   "metadata": {},
   "outputs": [
    {
     "data": {
      "text/plain": [
       "16"
      ]
     },
     "execution_count": 9,
     "metadata": {},
     "output_type": "execute_result"
    }
   ],
   "source": [
    "file.write(\"Murat Uğur KİRAZ\")"
   ]
  },
  {
   "cell_type": "code",
   "execution_count": 10,
   "id": "exceptional-respect",
   "metadata": {},
   "outputs": [],
   "source": [
    "file.close()"
   ]
  },
  {
   "cell_type": "markdown",
   "id": "overhead-valve",
   "metadata": {},
   "source": [
    "Write fonksiyonuyla dosyamıza herhangi bir şey yazabiliyoruz. Ancak \"w\" kipi her seferinde dosyayı tekrar oluşturduğu için dosyayı tekrar açtığımızda bilgiler kaybolacaktır."
   ]
  },
  {
   "cell_type": "code",
   "execution_count": 11,
   "id": "soviet-trick",
   "metadata": {},
   "outputs": [],
   "source": [
    "file = open(\"C:/Users/mukir/OneDrive/Desktop/bilgiler.txt\",\"w\",encoding=\"utf-8\")\n",
    "file.close()"
   ]
  },
  {
   "cell_type": "markdown",
   "id": "sharp-negative",
   "metadata": {},
   "source": [
    "#### \"a\" Kipiyle Dosyalara Yazmak\n",
    "\n",
    "\"append\" (ekleme) kelimesinin kısaltması olan \"a\" kipiyle bir dosyayı açtığımızda , dosya eğer yoksa oluşturulur. Eğer öyle bir dosya mevcut ise, dosya tekrar oluşturulmaz ve dosya imleci dosyanın sonuna giderek dosyaya ekleme yapmamızı sağlar."
   ]
  },
  {
   "cell_type": "code",
   "execution_count": 12,
   "id": "northern-chicago",
   "metadata": {},
   "outputs": [],
   "source": [
    "file = open(\"bilgiler.txt\",\"a\",encoding=\"utf-8\")"
   ]
  },
  {
   "cell_type": "code",
   "execution_count": 13,
   "id": "analyzed-protocol",
   "metadata": {},
   "outputs": [
    {
     "data": {
      "text/plain": [
       "16"
      ]
     },
     "execution_count": 13,
     "metadata": {},
     "output_type": "execute_result"
    }
   ],
   "source": [
    "file.write(\"Murat Uğur KİRAZ\")"
   ]
  },
  {
   "cell_type": "code",
   "execution_count": 14,
   "id": "permanent-encoding",
   "metadata": {},
   "outputs": [],
   "source": [
    "file.close()"
   ]
  },
  {
   "cell_type": "markdown",
   "id": "infectious-deputy",
   "metadata": {},
   "source": [
    "Dosyayı tekrar açalım."
   ]
  },
  {
   "cell_type": "code",
   "execution_count": 1,
   "id": "constitutional-timeline",
   "metadata": {},
   "outputs": [],
   "source": [
    "file = open(\"bilgiler.txt\",\"a\",encoding=\"utf-8\")\n"
   ]
  },
  {
   "cell_type": "code",
   "execution_count": 2,
   "id": "drawn-maryland",
   "metadata": {},
   "outputs": [
    {
     "data": {
      "text/plain": [
       "15"
      ]
     },
     "execution_count": 2,
     "metadata": {},
     "output_type": "execute_result"
    }
   ],
   "source": [
    "file.write(\"Mehmet ÇALIŞKAN\") # Dosyanın sonuna ekledik"
   ]
  },
  {
   "cell_type": "code",
   "execution_count": 17,
   "id": "concerned-parts",
   "metadata": {},
   "outputs": [],
   "source": [
    "file.close()"
   ]
  },
  {
   "cell_type": "markdown",
   "id": "funky-module",
   "metadata": {},
   "source": [
    "Ancak eğer buradaki isimleri dosyalara  alt alta yazmak istersek \"\\n\" karakterini kullanmalıyız."
   ]
  },
  {
   "cell_type": "code",
   "execution_count": 18,
   "id": "chronic-tender",
   "metadata": {},
   "outputs": [],
   "source": [
    "file = open(\"bilgiler.txt\",\"a\",encoding=\"utf-8\")"
   ]
  },
  {
   "cell_type": "code",
   "execution_count": 3,
   "id": "fluid-cooper",
   "metadata": {},
   "outputs": [
    {
     "data": {
      "text/plain": [
       "17"
      ]
     },
     "execution_count": 3,
     "metadata": {},
     "output_type": "execute_result"
    }
   ],
   "source": [
    "file.write(\"Murat Uğur KİRAZ\\n\")"
   ]
  },
  {
   "cell_type": "code",
   "execution_count": 4,
   "id": "limiting-horizontal",
   "metadata": {},
   "outputs": [
    {
     "data": {
      "text/plain": [
       "16"
      ]
     },
     "execution_count": 4,
     "metadata": {},
     "output_type": "execute_result"
    }
   ],
   "source": [
    "file.write(\"Mehmet ÇALIŞKAN\\n\")"
   ]
  },
  {
   "cell_type": "code",
   "execution_count": 5,
   "id": "creative-division",
   "metadata": {},
   "outputs": [],
   "source": [
    "file.close()"
   ]
  }
 ],
 "metadata": {
  "kernelspec": {
   "display_name": "Python 3 (ipykernel)",
   "language": "python",
   "name": "python3"
  },
  "language_info": {
   "codemirror_mode": {
    "name": "ipython",
    "version": 3
   },
   "file_extension": ".py",
   "mimetype": "text/x-python",
   "name": "python",
   "nbconvert_exporter": "python",
   "pygments_lexer": "ipython3",
   "version": "3.11.5"
  },
  "nbTranslate": {
   "displayLangs": [
    "en",
    "tr"
   ],
   "hotkey": "alt-t",
   "langInMainMenu": true,
   "sourceLang": "tr",
   "targetLang": "en",
   "useGoogleTranslate": true
  }
 },
 "nbformat": 4,
 "nbformat_minor": 5
}
