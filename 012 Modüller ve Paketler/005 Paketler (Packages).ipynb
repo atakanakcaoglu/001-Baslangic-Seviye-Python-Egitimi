{
 "cells": [
  {
   "cell_type": "markdown",
   "id": "specific-television",
   "metadata": {},
   "source": [
    "# Paketler\n",
    "\n",
    "Bir paket, birden fazla Python  modülünden oluşur, hatta C veya C ++ ile yazılmış kütüphaneleri de içerebilir.\n",
    "Tek bir dosya olmak yerine, bütün bir klasör yapısıdır.\n",
    "\n",
    "Yine bu jupyter dosyasının olduğu klasöre package klasörü eklenmiştir.\n",
    "\n",
    "\"package\" klasörünün içinde kedi.py , kopek.pi ,keci.py, insan.py modülleri bulunmakyadır. Klasör yapısı aşağıda verilmiştir."
   ]
  },
  {
   "cell_type": "raw",
   "id": "missing-basin",
   "metadata": {},
   "source": [
    "/ package\n",
    "|--cat.py\n",
    "|      def meaw():\n",
    "|          print(\"Miyav...\")\n",
    "|--dog.py\n",
    "|      def bark():\n",
    "|          print(\"Hav Hav\")\n",
    "|--goat.py\n",
    "|      def yell():\n",
    "|          print(\"Mmmmmeeeeee\")\n",
    "|--human.py\n",
    "|      def greet():\n",
    "|          print(\"Merhaba\")"
   ]
  },
  {
   "cell_type": "markdown",
   "id": "eleven-transportation",
   "metadata": {},
   "source": [
    "Şimdi package içerisindeki odüllere ulaşalım"
   ]
  },
  {
   "cell_type": "code",
   "execution_count": 6,
   "id": "friendly-refund",
   "metadata": {},
   "outputs": [],
   "source": [
    "from package import dog\n",
    "from package.cat import meaw"
   ]
  },
  {
   "cell_type": "code",
   "execution_count": 7,
   "id": "enabling-miami",
   "metadata": {},
   "outputs": [
    {
     "name": "stdout",
     "output_type": "stream",
     "text": [
      "Hav Hav\n"
     ]
    }
   ],
   "source": [
    "dog.bark()"
   ]
  },
  {
   "cell_type": "code",
   "execution_count": 8,
   "id": "partial-toyota",
   "metadata": {},
   "outputs": [
    {
     "name": "stdout",
     "output_type": "stream",
     "text": [
      "Miyav...\n"
     ]
    }
   ],
   "source": [
    "meaw()"
   ]
  },
  {
   "cell_type": "code",
   "execution_count": 9,
   "id": "recorded-error",
   "metadata": {},
   "outputs": [
    {
     "data": {
      "text/plain": [
       "['__builtins__',\n",
       " '__cached__',\n",
       " '__doc__',\n",
       " '__file__',\n",
       " '__loader__',\n",
       " '__name__',\n",
       " '__package__',\n",
       " '__spec__',\n",
       " 'bark']"
      ]
     },
     "execution_count": 9,
     "metadata": {},
     "output_type": "execute_result"
    }
   ],
   "source": [
    "dir(dog)"
   ]
  },
  {
   "cell_type": "code",
   "execution_count": null,
   "id": "f49fea31",
   "metadata": {},
   "outputs": [],
   "source": []
  }
 ],
 "metadata": {
  "kernelspec": {
   "display_name": "Python 3 (ipykernel)",
   "language": "python",
   "name": "python3"
  },
  "language_info": {
   "codemirror_mode": {
    "name": "ipython",
    "version": 3
   },
   "file_extension": ".py",
   "mimetype": "text/x-python",
   "name": "python",
   "nbconvert_exporter": "python",
   "pygments_lexer": "ipython3",
   "version": "3.11.5"
  },
  "nbTranslate": {
   "displayLangs": [
    "*"
   ],
   "hotkey": "alt-t",
   "langInMainMenu": true,
   "sourceLang": "en",
   "targetLang": "fr",
   "useGoogleTranslate": true
  }
 },
 "nbformat": 4,
 "nbformat_minor": 5
}
