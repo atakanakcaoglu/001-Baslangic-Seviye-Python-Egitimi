{
 "cells": [
  {
   "cell_type": "markdown",
   "id": "static-segment",
   "metadata": {},
   "source": [
    "# Üçüncü Parti Paketler\n",
    "\n",
    "Python, açık kaynak kodlu bir yazılım olduğu için diğer kişilerin yaptıkları modülleri ve paketleri yaptığımız projelere ekleyebiliriz. Bu modüller ve paketler, github'da veya python'un kendi uzak reposunda bulunurlar.\n",
    "\n",
    "Modülleri eklemek için, projenin olduğu klasöre doğrudan .py dosyası eklenebilir.\n",
    "\n",
    "Fakat uzak repodaki paketler alınacaksa, öncekikle \"pip\" yazılımı kurulmalıdır. Sonrasında ilgili paket pip aracılığı ile indirilir.\n",
    "\n",
    "Anaconda yazılımında bu pip yerine conda anahtar kelimesi ile olmaktadır."
   ]
  }
 ],
 "metadata": {
  "kernelspec": {
   "display_name": "Python 3 (ipykernel)",
   "language": "python",
   "name": "python3"
  },
  "language_info": {
   "codemirror_mode": {
    "name": "ipython",
    "version": 3
   },
   "file_extension": ".py",
   "mimetype": "text/x-python",
   "name": "python",
   "nbconvert_exporter": "python",
   "pygments_lexer": "ipython3",
   "version": "3.11.5"
  },
  "nbTranslate": {
   "displayLangs": [
    "en",
    "tr"
   ],
   "hotkey": "alt-t",
   "langInMainMenu": true,
   "sourceLang": "tr",
   "targetLang": "en",
   "useGoogleTranslate": true
  }
 },
 "nbformat": 4,
 "nbformat_minor": 5
}
