{
 "cells": [
  {
   "cell_type": "markdown",
   "id": "regular-interval",
   "metadata": {},
   "source": [
    "# Metotlar\n",
    "\n",
    "Sınıfların içerisinde tanımlanan fonksiyonlara **metot** denir.\n",
    "\n",
    "Kişi sınıfını yeniden tanımlayalım."
   ]
  },
  {
   "cell_type": "code",
   "execution_count": 3,
   "id": "democratic-bunch",
   "metadata": {},
   "outputs": [],
   "source": [
    "class Person():\n",
    "    def __init__(self, name, surname, departmant, salary):\n",
    "        self.name = name\n",
    "        self.surname = surname\n",
    "        self.departmant = departmant\n",
    "        self.salary = salary\n",
    "        print(name, surname, \"isimli kişi oluşturuldu.\")"
   ]
  },
  {
   "cell_type": "code",
   "execution_count": 5,
   "id": "colonial-vegetation",
   "metadata": {},
   "outputs": [
    {
     "name": "stdout",
     "output_type": "stream",
     "text": [
      "Ali TÜRKOĞLU isimli kişi oluşturuldu.\n"
     ]
    }
   ],
   "source": [
    "# Bir kişi oluşturalım.\n",
    "ali = Person(\"Ali\", \"TÜRKOĞLU\", \"İK\", 1000)"
   ]
  },
  {
   "cell_type": "code",
   "execution_count": 6,
   "id": "eight-packaging",
   "metadata": {},
   "outputs": [
    {
     "name": "stdout",
     "output_type": "stream",
     "text": [
      "Mahmut TUNCER isimli kişi oluşturuldu.\n"
     ]
    }
   ],
   "source": [
    "# Bir kişi daha oluşturalım.\n",
    "mahmut = Person(\"Mahmut\",\"TUNCER\",\"Halay\",2000)"
   ]
  },
  {
   "cell_type": "markdown",
   "id": "cognitive-karen",
   "metadata": {},
   "source": [
    "Biz, ilgili kişinin bilgilerini görmek iztiyoruz. Bunun için ekrana bilgileri gösterecek bir metot tanımlayabiliriz."
   ]
  },
  {
   "cell_type": "code",
   "execution_count": 11,
   "id": "intelligent-harrison",
   "metadata": {},
   "outputs": [],
   "source": [
    "class Person():\n",
    "    def __init__(self, name, surname, departmant, salary):\n",
    "        self.name = name\n",
    "        self.surname = surname\n",
    "        self.departmant = departmant\n",
    "        self.salary = salary\n",
    "        print(name, surname,\"isimli kişi oluşturuldu.\")\n",
    "        \n",
    "    def show_information(self):\n",
    "        print(\"\"\"\n",
    "        Kişi Bilgisi:\n",
    "        \n",
    "        İsim :  {}\n",
    "        \n",
    "        Soyisim : {}\n",
    "        \n",
    "        Departmanı: {}\n",
    "        \n",
    "        Maaşı :  {}\n",
    "        \"\"\".format(self.name, self.surname, self.salary, self.surname))"
   ]
  },
  {
   "cell_type": "code",
   "execution_count": 12,
   "id": "greenhouse-enlargement",
   "metadata": {},
   "outputs": [
    {
     "name": "stdout",
     "output_type": "stream",
     "text": [
      "Ali TÜRKOĞLU isimli kişi oluşturuldu.\n"
     ]
    }
   ],
   "source": [
    "# Bir kişi oluşturalım.\n",
    "ali = Person(\"Ali\",\"TÜRKOĞLU\",\"İK\",1000)"
   ]
  },
  {
   "cell_type": "code",
   "execution_count": 13,
   "id": "representative-queensland",
   "metadata": {},
   "outputs": [
    {
     "name": "stdout",
     "output_type": "stream",
     "text": [
      "\n",
      "        Kişi Bilgisi:\n",
      "        \n",
      "        İsim :  Ali\n",
      "        \n",
      "        Soyisim : TÜRKOĞLU\n",
      "        \n",
      "        Departmanı: 1000\n",
      "        \n",
      "        Maaşı :  TÜRKOĞLU\n",
      "        \n"
     ]
    }
   ],
   "source": [
    "ali.show_information()"
   ]
  },
  {
   "cell_type": "code",
   "execution_count": 14,
   "id": "peaceful-assurance",
   "metadata": {},
   "outputs": [
    {
     "name": "stdout",
     "output_type": "stream",
     "text": [
      "Mahmut TUNCER isimli kişi oluşturuldu.\n",
      "\n",
      "        Kişi Bilgisi:\n",
      "        \n",
      "        İsim :  Mahmut\n",
      "        \n",
      "        Soyisim : TUNCER\n",
      "        \n",
      "        Departmanı: 2000\n",
      "        \n",
      "        Maaşı :  TUNCER\n",
      "        \n"
     ]
    }
   ],
   "source": [
    "# Bir kişi daha oluşturalım.\n",
    "mahmut = Person(\"Mahmut\",\"TUNCER\",\"Halay\",2000)\n",
    "mahmut.show_information()"
   ]
  },
  {
   "cell_type": "markdown",
   "id": "toxic-thought",
   "metadata": {},
   "source": [
    "Maaş yükselten bir metot yazalım."
   ]
  },
  {
   "cell_type": "code",
   "execution_count": 16,
   "id": "asian-machinery",
   "metadata": {},
   "outputs": [],
   "source": [
    "class Person():\n",
    "    def __init__(self, name, surname, departmant, salary):\n",
    "        self.name = name\n",
    "        self.surname = surname\n",
    "        self.departmant = departmant\n",
    "        self.salary = salary\n",
    "        print(name, surname, \"named person created.\")\n",
    "        \n",
    "    def show_information(self):\n",
    "        print(\"\"\"\n",
    "        Person Information:\n",
    "        \n",
    "        Name :  {}\n",
    "        \n",
    "        Surname : {}\n",
    "        \n",
    "        Department: {}\n",
    "        \n",
    "        Salary :  {}\n",
    "        \"\"\".format(self.name, self.surname, self.salary, self.surname))\n",
    "        \n",
    "    def increase_salary(self, increase_amount):      \n",
    "        self.salary += increase_amount\n",
    "        print(\"Salary has been increased, new salary :\", self.salary)\n",
    "    "
   ]
  },
  {
   "cell_type": "code",
   "execution_count": 17,
   "id": "improved-bones",
   "metadata": {},
   "outputs": [
    {
     "name": "stdout",
     "output_type": "stream",
     "text": [
      "Mahmut TUNCER named person created.\n",
      "Salary has been increased, new salary : 2200\n",
      "\n",
      "        Person Information:\n",
      "        \n",
      "        Name :  Mahmut\n",
      "        \n",
      "        Surname : TUNCER\n",
      "        \n",
      "        Department: 2200\n",
      "        \n",
      "        Salary :  TUNCER\n",
      "        \n"
     ]
    }
   ],
   "source": [
    "# Bir kişi daha oluşturalım.\n",
    "mahmut = Person(\"Mahmut\",\"TUNCER\",\"Halay\",2000)\n",
    "mahmut.increase_salary(200)\n",
    "mahmut.show_information()"
   ]
  },
  {
   "cell_type": "markdown",
   "id": "integrated-friendship",
   "metadata": {},
   "source": [
    "Yukarıdaki örneğe bakarken dikkat edilmesi gereken birkaç nokta var.\n",
    "1. Sınıf, özniteliklerden-attribute (veriler) ve metotlardan (fonksiyon) oluşur.\n",
    "2. Nitelikler ve metotlar basitçe normal değişkenler ve fonksiyonlar olarak tanımlanır.\n",
    "3. <span>__init __ ()</span> metodu başlatıcı olarak adlandırılır. Diğer nesne yönelimli dillerdeki yapıcıya eşdeğerdir ve yeni bir nesne veya sınıfın yeni bir örneğini oluşturduğunuzda ilk çalıştırılan yöntemdir.\n",
    "4. Tüm sınıfa uygulanan öznitelikler önce tanımlanır ve bunlar sınıf öznitelikleri olarak adlandırılır.\n",
    "5. Bir sınıfın (bir nesnenin) belirli bir örneğine uygulanan özniteliklere örnek öznitelikleri denir. Genellikle<span>__init __ ()</span> içinde tanımlanırlar; bu gerekli değildir, ancak önerilir <span>__init __()</span> dışında tanımlanan öznitelikler, tanımlanmadan önce erişilme riskini taşır).\n",
    "6. Sınıf tanımına dahil olan her metot, söz konusu nesneyi ilk parametresi olarak iletir. Kendisi kelimesi bu parametre için kullanılır (self kelimesinin Python'da doğası gereği anlamı olmadığı için, aslında geleneksel olarak kullanılır, ancak bu Python'un en saygın geleneklerinden biridir ve her zaman onu takip etmelisiniz).\n",
    "7. Diğer dillerde nesne yönelimli programlamaya alışkın olanlar, birkaç şeyle şaşırabilir. Birincisi, Python'un gerçek bir özel öğe kavramına sahip olmamasıdır, bu nedenle her şey varsayılan olarak C ++ / Java public anahtar kelimesinin davranışını taklit eder.\n",
    "8. Sınıfın yöntemlerinden bazıları şu biçime sahiptir: <span>__fonksiyonismi __ (self, diğer şeyler)</span>. Bu tür yöntemlerin tümü \"sihirli yöntemler\" olarak adlandırılır ve Python'daki sınıfların önemli bir parçasıdır. Örneğin, Python'da operatör aşırı yüklemesi sihirli yöntemlerle gerçekleştirilir."
   ]
  }
 ],
 "metadata": {
  "kernelspec": {
   "display_name": "Python 3 (ipykernel)",
   "language": "python",
   "name": "python3"
  },
  "language_info": {
   "codemirror_mode": {
    "name": "ipython",
    "version": 3
   },
   "file_extension": ".py",
   "mimetype": "text/x-python",
   "name": "python",
   "nbconvert_exporter": "python",
   "pygments_lexer": "ipython3",
   "version": "3.11.5"
  },
  "nbTranslate": {
   "displayLangs": [
    "en",
    "tr"
   ],
   "hotkey": "alt-t",
   "langInMainMenu": true,
   "sourceLang": "tr",
   "targetLang": "en",
   "useGoogleTranslate": true
  }
 },
 "nbformat": 4,
 "nbformat_minor": 5
}
