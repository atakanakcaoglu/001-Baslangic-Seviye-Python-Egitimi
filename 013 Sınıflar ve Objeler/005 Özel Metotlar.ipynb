{
 "cells": [
  {
   "cell_type": "markdown",
   "id": "concerned-today",
   "metadata": {},
   "source": [
    "# Özel Metotlar\n",
    "\n",
    "Özel metodlar, daha önceden de bahsedildiği gibi özel olarak çağırılmayan ancak her sınıfa ait metodlardır. Bunların **çoğu** tanımlanmasa bile Python tarafından varsayılan olarak tanımlanır. Ancak bu metodların bazıları da **özel olarak tanımlanması** gerekmektedir. Daha önceden görülen __init__ metodu bu metodlara bir örnektir."
   ]
  },
  {
   "cell_type": "code",
   "execution_count": 3,
   "id": "acoustic-flour",
   "metadata": {},
   "outputs": [],
   "source": [
    "class Notebook():\n",
    "    pass"
   ]
  },
  {
   "cell_type": "code",
   "execution_count": 8,
   "id": "embedded-spouse",
   "metadata": {},
   "outputs": [],
   "source": [
    "notebook1 = Notebook()"
   ]
  },
  {
   "cell_type": "code",
   "execution_count": 9,
   "id": "bottom-chemical",
   "metadata": {},
   "outputs": [
    {
     "ename": "TypeError",
     "evalue": "object of type 'Notebook' has no len()",
     "output_type": "error",
     "traceback": [
      "\u001b[1;31m---------------------------------------------------------------------------\u001b[0m",
      "\u001b[1;31mTypeError\u001b[0m                                 Traceback (most recent call last)",
      "Cell \u001b[1;32mIn[9], line 1\u001b[0m\n\u001b[1;32m----> 1\u001b[0m \u001b[38;5;28mlen\u001b[39m(notebook1)\n",
      "\u001b[1;31mTypeError\u001b[0m: object of type 'Notebook' has no len()"
     ]
    }
   ],
   "source": [
    "len(notebook1) # __len__ metodu çağırılamıyor çünkü tanımlı değil. Bunu özellikle bizim tanımlamamız gerekiyor."
   ]
  },
  {
   "cell_type": "code",
   "execution_count": 10,
   "id": "established-porcelain",
   "metadata": {},
   "outputs": [
    {
     "name": "stdout",
     "output_type": "stream",
     "text": [
      "<__main__.Notebook object at 0x000001D659238810>\n"
     ]
    }
   ],
   "source": [
    "print(notebook1) # __str__ metodu çağırıldı"
   ]
  },
  {
   "cell_type": "code",
   "execution_count": 11,
   "id": "tender-heavy",
   "metadata": {},
   "outputs": [],
   "source": [
    "del notebook1 # del anahtar kelimesi bir objeyi siler ve __del__ metodu çağrılır. "
   ]
  },
  {
   "cell_type": "code",
   "execution_count": 12,
   "id": "aggregate-swing",
   "metadata": {},
   "outputs": [
    {
     "ename": "NameError",
     "evalue": "name 'notebook1' is not defined",
     "output_type": "error",
     "traceback": [
      "\u001b[1;31m---------------------------------------------------------------------------\u001b[0m",
      "\u001b[1;31mNameError\u001b[0m                                 Traceback (most recent call last)",
      "Cell \u001b[1;32mIn[12], line 1\u001b[0m\n\u001b[1;32m----> 1\u001b[0m notebook1\n",
      "\u001b[1;31mNameError\u001b[0m: name 'notebook1' is not defined"
     ]
    }
   ],
   "source": [
    "notebook1"
   ]
  },
  {
   "cell_type": "markdown",
   "id": "modular-fundamental",
   "metadata": {},
   "source": [
    "## __init__ metodu\n",
    "\n",
    "init metodunu kendimiz tanımlarsak artık kendi init fonksiyonumuz çalışacaktır."
   ]
  },
  {
   "cell_type": "code",
   "execution_count": 15,
   "id": "healthy-farming",
   "metadata": {},
   "outputs": [],
   "source": [
    "class Book():\n",
    "    def __init__(self, name, author, page_number, typ): \n",
    "        print(\"Kitap Objesi oluşuyor....\")\n",
    "        self.name = name\n",
    "        self.author = author\n",
    "        self.page_number = page_number\n",
    "        self.typ = typ\n",
    "        print(\"Kitap Objesi oluşturuldu....\")"
   ]
  },
  {
   "cell_type": "code",
   "execution_count": 16,
   "id": "correct-boston",
   "metadata": {},
   "outputs": [
    {
     "name": "stdout",
     "output_type": "stream",
     "text": [
      "Kitap Objesi oluşuyor....\n",
      "Kitap Objesi oluşturuldu....\n"
     ]
    }
   ],
   "source": [
    "book1 = Book(\"Benim Adım Kırmızı\",\"Orhan Pamuk\",356,\"Roman\") # Kendi metodumuz "
   ]
  },
  {
   "cell_type": "markdown",
   "id": "excess-equipment",
   "metadata": {},
   "source": [
    "## __str__ metodu\n",
    "\n",
    "Normalde **print(kitap1)** ifadesi ekrana şöyle bir yazı yazdırıyor."
   ]
  },
  {
   "cell_type": "code",
   "execution_count": 17,
   "id": "adjusted-checklist",
   "metadata": {},
   "outputs": [
    {
     "name": "stdout",
     "output_type": "stream",
     "text": [
      "<__main__.Book object at 0x000001D65A064B10>\n"
     ]
    }
   ],
   "source": [
    "print(book1)"
   ]
  },
  {
   "cell_type": "markdown",
   "id": "selected-method",
   "metadata": {},
   "source": [
    "Ancak eğer __str__ metodunu kendimiz tanımlarsak artık ekrana **kitap1** in içeriğini daha anlaşılır yazabileceğiz."
   ]
  },
  {
   "cell_type": "code",
   "execution_count": 18,
   "id": "suitable-following",
   "metadata": {},
   "outputs": [],
   "source": [
    "class Book():\n",
    "    def __init__(self, name, author, page_number, typ): \n",
    "        self.name = name\n",
    "        self.author = author\n",
    "        self.page_number = page_number\n",
    "        self.typ = typ\n",
    "        \n",
    "    def __str__(self):\n",
    "        # Return kullanmamız gerekli\n",
    "        return \"İsim: {}\\nYazar: {}\\nSayfa Sayısı: {}\\nTür: {}\".format(self.name, self.author, self.page_number, self.typ)"
   ]
  },
  {
   "cell_type": "code",
   "execution_count": 19,
   "id": "african-defendant",
   "metadata": {},
   "outputs": [
    {
     "name": "stdout",
     "output_type": "stream",
     "text": [
      "İsim: Benim Adım Kırmızı\n",
      "Yazar: Orhan Pamuk\n",
      "Sayfa Sayısı: 356\n",
      "Tür: Roman\n"
     ]
    }
   ],
   "source": [
    "book1 = Book(\"Benim Adım Kırmızı\",\"Orhan Pamuk\",356,\"Roman\")\n",
    "print(book1)"
   ]
  },
  {
   "cell_type": "markdown",
   "id": "threaded-fraction",
   "metadata": {},
   "source": [
    "## len metodu\n",
    "\n",
    "len metodu normalde özel programcı tarafından tanımlanan bir metottur."
   ]
  },
  {
   "cell_type": "code",
   "execution_count": 20,
   "id": "rubber-education",
   "metadata": {},
   "outputs": [
    {
     "ename": "TypeError",
     "evalue": "object of type 'Book' has no len()",
     "output_type": "error",
     "traceback": [
      "\u001b[1;31m---------------------------------------------------------------------------\u001b[0m",
      "\u001b[1;31mTypeError\u001b[0m                                 Traceback (most recent call last)",
      "Cell \u001b[1;32mIn[20], line 1\u001b[0m\n\u001b[1;32m----> 1\u001b[0m \u001b[38;5;28mlen\u001b[39m(book1)\n",
      "\u001b[1;31mTypeError\u001b[0m: object of type 'Book' has no len()"
     ]
    }
   ],
   "source": [
    "len(book1)"
   ]
  },
  {
   "cell_type": "code",
   "execution_count": 22,
   "id": "missing-china",
   "metadata": {},
   "outputs": [],
   "source": [
    "class Book():\n",
    "    def __init__(self, name, author, page_number, typ): \n",
    "        self.name = name\n",
    "        self.author = author\n",
    "        self.page_number = page_number\n",
    "        self.typ = typ\n",
    "        \n",
    "    def __str__(self):\n",
    "        # Return kullanmamız gerekli\n",
    "        return \"İsim: {}\\nYazar: {}\\nSayfa Sayısı: {}\\nTür: {}\".format(self.name, self.author, self.page_number, self.typ)\n",
    "    \n",
    "    def __len__(self):\n",
    "        return self.page_number"
   ]
  },
  {
   "cell_type": "code",
   "execution_count": 23,
   "id": "north-generation",
   "metadata": {},
   "outputs": [
    {
     "data": {
      "text/plain": [
       "356"
      ]
     },
     "execution_count": 23,
     "metadata": {},
     "output_type": "execute_result"
    }
   ],
   "source": [
    "book1 = Book(\"Benim Adım Kırmızı\",\"Orhan Pamuk\",356,\"Roman\")\n",
    "len(book1)"
   ]
  },
  {
   "cell_type": "markdown",
   "id": "numerical-implementation",
   "metadata": {},
   "source": [
    "## del metodu\n",
    "\n",
    "del metodu Pythonda bir objeyi **del** anahtar kelimesiyle sildiğimiz zaman çalıştırılan metoddur. Bu metodu kendimiz tanımlayarak ekstra özellikler ekleyebiliriz."
   ]
  },
  {
   "cell_type": "code",
   "execution_count": 25,
   "id": "periodic-mechanics",
   "metadata": {},
   "outputs": [],
   "source": [
    "book2 = Book(\"İstanbul Hatırası\",\"Ahmet Ümit\",561,\"Polisiye\")"
   ]
  },
  {
   "cell_type": "code",
   "execution_count": 26,
   "id": "drawn-subscriber",
   "metadata": {},
   "outputs": [],
   "source": [
    "del book2"
   ]
  },
  {
   "cell_type": "code",
   "execution_count": 27,
   "id": "electoral-installation",
   "metadata": {},
   "outputs": [
    {
     "ename": "NameError",
     "evalue": "name 'book2' is not defined",
     "output_type": "error",
     "traceback": [
      "\u001b[1;31m---------------------------------------------------------------------------\u001b[0m",
      "\u001b[1;31mNameError\u001b[0m                                 Traceback (most recent call last)",
      "Cell \u001b[1;32mIn[27], line 1\u001b[0m\n\u001b[1;32m----> 1\u001b[0m book2\n",
      "\u001b[1;31mNameError\u001b[0m: name 'book2' is not defined"
     ]
    }
   ],
   "source": [
    "book2"
   ]
  },
  {
   "cell_type": "code",
   "execution_count": 28,
   "id": "sought-kidney",
   "metadata": {},
   "outputs": [],
   "source": [
    "class Book():\n",
    "    def __init__(self, name, author, page_number, typ): \n",
    "        self.name = name\n",
    "        self.author = author\n",
    "        self.page_number = page_number\n",
    "        self.typ = typ\n",
    "        \n",
    "    def __str__(self):\n",
    "        # Return kullanmamız gerekli\n",
    "        return \"İsim: {}\\nYazar: {}\\nSayfa Sayısı: {}\\nTür: {}\".format(self.name, self.author, self.page_number, self.typ)\n",
    "    \n",
    "    def __len__(self):\n",
    "        return self.page_number\n",
    "    \n",
    "    def __del__(self):\n",
    "        print(\"Kitap objesi siliniyor.......\")"
   ]
  },
  {
   "cell_type": "code",
   "execution_count": 29,
   "id": "minimal-danger",
   "metadata": {},
   "outputs": [],
   "source": [
    "book2 = Book(\"Huzur\",\"Ahmet Hamdi Tanmpınar\",561,\"Polisiye\")"
   ]
  },
  {
   "cell_type": "code",
   "execution_count": 30,
   "id": "therapeutic-library",
   "metadata": {},
   "outputs": [
    {
     "name": "stdout",
     "output_type": "stream",
     "text": [
      "İsim: Huzur\n",
      "Yazar: Ahmet Hamdi Tanmpınar\n",
      "Sayfa Sayısı: 561\n",
      "Tür: Polisiye\n"
     ]
    }
   ],
   "source": [
    "print(book2 )"
   ]
  },
  {
   "cell_type": "code",
   "execution_count": 32,
   "id": "suffering-companion",
   "metadata": {},
   "outputs": [
    {
     "name": "stdout",
     "output_type": "stream",
     "text": [
      "Kitap objesi siliniyor.......\n"
     ]
    }
   ],
   "source": [
    "del book2"
   ]
  },
  {
   "cell_type": "code",
   "execution_count": 1,
   "id": "a572f3d4",
   "metadata": {},
   "outputs": [
    {
     "ename": "NameError",
     "evalue": "name 'book2' is not defined",
     "output_type": "error",
     "traceback": [
      "\u001b[1;31m---------------------------------------------------------------------------\u001b[0m",
      "\u001b[1;31mNameError\u001b[0m                                 Traceback (most recent call last)",
      "Cell \u001b[1;32mIn[1], line 1\u001b[0m\n\u001b[1;32m----> 1\u001b[0m \u001b[38;5;28mprint\u001b[39m(book2)\n",
      "\u001b[1;31mNameError\u001b[0m: name 'book2' is not defined"
     ]
    }
   ],
   "source": [
    "print(book2)"
   ]
  },
  {
   "cell_type": "code",
   "execution_count": null,
   "id": "a454a475",
   "metadata": {},
   "outputs": [],
   "source": []
  }
 ],
 "metadata": {
  "kernelspec": {
   "display_name": "Python 3 (ipykernel)",
   "language": "python",
   "name": "python3"
  },
  "language_info": {
   "codemirror_mode": {
    "name": "ipython",
    "version": 3
   },
   "file_extension": ".py",
   "mimetype": "text/x-python",
   "name": "python",
   "nbconvert_exporter": "python",
   "pygments_lexer": "ipython3",
   "version": "3.11.5"
  },
  "nbTranslate": {
   "displayLangs": [
    "en",
    "tr"
   ],
   "hotkey": "alt-t",
   "langInMainMenu": true,
   "sourceLang": "tr",
   "targetLang": "en",
   "useGoogleTranslate": true
  }
 },
 "nbformat": 4,
 "nbformat_minor": 5
}
