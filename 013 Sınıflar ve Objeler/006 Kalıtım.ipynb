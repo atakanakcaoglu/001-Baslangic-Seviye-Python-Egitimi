{
 "cells": [
  {
   "cell_type": "markdown",
   "id": "departmental-problem",
   "metadata": {},
   "source": [
    "# Nesne Tabanlı Programlama - Kalıtım (Inheritance)\n",
    "\n",
    "Inheritance veya kalıtım bir sınıfa başka bir sınıftan özelliklerini(**attribute** ) ve metodlarını miras almaktır.\n",
    "\n",
    "Bunu biyolojideki genetik miras olarak düşünebiliriz.\n",
    "\n",
    "Peki inheritance nerede işimize yarar ? Örneğin, bir şirketin çalışanlarını tasarlamak için sınıflar oluşturuyoruz. Bunun için Yönetici, Proje Direktörü, İşçi gibi sınıflar oluşturmamız gerekiyor. Aslında baktığımız zaman bu sınıfların hepsinin belli ortak metodları ve özellikleri bulunuyor. O zaman bu ortak özellikleri ve metodları tekrar tekrar bu sınıfların içinde tanımlamak yerine, bir tane ana class tanımlayıp bu classların bu classın özelliklerini ve metodlarını almalarını sağlayabiliriz. **Inheritance'ın veya Kalıtım'ın** temel mantığı budur.\n",
    "\n",
    "Miras almanın yolu aşağıdaki gibidir.\n"
   ]
  },
  {
   "cell_type": "raw",
   "id": "adolescent-justice",
   "metadata": {},
   "source": [
    "class TemelSınıf(object):\n",
    "    pass\n",
    "    \n",
    "class Türetilmişınıf(TemelSınıf):\n",
    "    pass"
   ]
  },
  {
   "cell_type": "markdown",
   "id": "documented-campaign",
   "metadata": {},
   "source": [
    "TemelSınıf zaten var olan (ebeveyn) sınıftır ve Türetilmişınıf, TemelSınıf'tan nitelikleri devralan (veya alt sınıfları) yeni (alt) sınıftır.\n",
    "\n",
    "Bir dikdörtgen sınıfı oluşturalım."
   ]
  },
  {
   "cell_type": "code",
   "execution_count": 1,
   "id": "linear-progress",
   "metadata": {},
   "outputs": [],
   "source": [
    "class Rectangle():\n",
    "    def __init__(self, height, length):\n",
    "        self.height = height\n",
    "        self.length = length\n",
    "        \n",
    "    def area(self):\n",
    "        return self.height * self.length\n",
    "    \n",
    "    def perimeter(self):\n",
    "        return 2 * (self.height + self.length)"
   ]
  },
  {
   "cell_type": "markdown",
   "id": "quick-applicant",
   "metadata": {},
   "source": [
    "\"Kare\", matematiksel olarak, her kenarı eşit dikdörtgendir."
   ]
  },
  {
   "cell_type": "code",
   "execution_count": 2,
   "id": "local-sheffield",
   "metadata": {},
   "outputs": [],
   "source": [
    "class Square(Rectangle):\n",
    "    def __init__(self, height):\n",
    "        super ().__init__(height, height)\n",
    "        self.height = height"
   ]
  },
  {
   "cell_type": "markdown",
   "id": "personalized-still",
   "metadata": {},
   "source": [
    "Kare sınıfı, Dikdortgen sınıfının yanı sıra nesne sınıfının tüm niteliklerini otomatik olarak devralır. super(), Dikdortgen sınıfının __init__() yöntemini çağırmak için kullanılır ve esas olarak temel sınıfın geçersiz kılınan herhangi bir yöntemini çağırır."
   ]
  },
  {
   "cell_type": "code",
   "execution_count": 12,
   "id": "equal-pierce",
   "metadata": {},
   "outputs": [
    {
     "name": "stdout",
     "output_type": "stream",
     "text": [
      "9\n"
     ]
    }
   ],
   "source": [
    "k=Kare(3)\n",
    "print(k.alan())\n"
   ]
  },
  {
   "cell_type": "code",
   "execution_count": 18,
   "id": "mechanical-amplifier",
   "metadata": {},
   "outputs": [],
   "source": [
    "class Personnel():\n",
    "    def __init__(self, name, salary, department):        \n",
    "        self.name = name\n",
    "        self.salary = salary\n",
    "        self.department = department\n",
    "        \n",
    "    def __str__(self):        \n",
    "        \n",
    "        return \"\"\"\n",
    "İsim : {}\n",
    "Maaş: {}\n",
    "Departman: {}\"\"\".format(self.name,\n",
    "                        self.salary,\n",
    "                        self.department)\n",
    "    \n",
    "    def change_department(self, new_department):\n",
    "        self.department = new_department"
   ]
  },
  {
   "cell_type": "code",
   "execution_count": 19,
   "id": "touched-longer",
   "metadata": {},
   "outputs": [],
   "source": [
    "class Manager(Personnel): # Çalışan sınıfı miras alınmıştır.\n",
    "    pass "
   ]
  },
  {
   "cell_type": "markdown",
   "id": "spoken-america",
   "metadata": {},
   "source": [
    "Çalışan sınıfının bütün özellikleri Yönetici sınıfına da geçmiştir."
   ]
  },
  {
   "cell_type": "code",
   "execution_count": 20,
   "id": "level-lottery",
   "metadata": {},
   "outputs": [],
   "source": [
    "manager1 = Manager(\"Esra ALTINOK\", 3000, \"Muhasebe\") # yönetici objesi;"
   ]
  },
  {
   "cell_type": "code",
   "execution_count": 21,
   "id": "personalized-myrtle",
   "metadata": {},
   "outputs": [
    {
     "name": "stdout",
     "output_type": "stream",
     "text": [
      "\n",
      "İsim : Esra ALTINOK\n",
      "Maaş: 3000\n",
      "Departman: Muhasebe\n"
     ]
    }
   ],
   "source": [
    "print(manager1)"
   ]
  },
  {
   "cell_type": "code",
   "execution_count": 17,
   "id": "honest-friend",
   "metadata": {},
   "outputs": [
    {
     "name": "stdout",
     "output_type": "stream",
     "text": [
      "Departman değişiyor....\n"
     ]
    }
   ],
   "source": [
    "manager1.change_department(\"Halkla İlişkiler\")"
   ]
  },
  {
   "cell_type": "code",
   "execution_count": 22,
   "id": "detailed-reaction",
   "metadata": {},
   "outputs": [
    {
     "name": "stdout",
     "output_type": "stream",
     "text": [
      "\n",
      "İsim : Esra ALTINOK\n",
      "Maaş: 3000\n",
      "Departman: Muhasebe\n"
     ]
    }
   ],
   "source": [
    "print(manager1)"
   ]
  },
  {
   "cell_type": "markdown",
   "id": "applied-small",
   "metadata": {},
   "source": [
    "Burada gördüğümüz gibi bütün özellikleri ve metodları Çalışan sınıfından miras aldığımız için kullanabiliyoruz. Bunu dir() fonksiyonu ile de görebiliriz."
   ]
  },
  {
   "cell_type": "code",
   "execution_count": 23,
   "id": "intended-highlight",
   "metadata": {},
   "outputs": [
    {
     "data": {
      "text/plain": [
       "['__class__',\n",
       " '__delattr__',\n",
       " '__dict__',\n",
       " '__dir__',\n",
       " '__doc__',\n",
       " '__eq__',\n",
       " '__format__',\n",
       " '__ge__',\n",
       " '__getattribute__',\n",
       " '__getstate__',\n",
       " '__gt__',\n",
       " '__hash__',\n",
       " '__init__',\n",
       " '__init_subclass__',\n",
       " '__le__',\n",
       " '__lt__',\n",
       " '__module__',\n",
       " '__ne__',\n",
       " '__new__',\n",
       " '__reduce__',\n",
       " '__reduce_ex__',\n",
       " '__repr__',\n",
       " '__setattr__',\n",
       " '__sizeof__',\n",
       " '__str__',\n",
       " '__subclasshook__',\n",
       " '__weakref__',\n",
       " 'department',\n",
       " 'name',\n",
       " 'salary',\n",
       " 'shange_department']"
      ]
     },
     "execution_count": 23,
     "metadata": {},
     "output_type": "execute_result"
    }
   ],
   "source": [
    "dir(manager1)"
   ]
  },
  {
   "cell_type": "markdown",
   "id": "electronic-senator",
   "metadata": {},
   "source": [
    "Peki biz Yönetici sınıfına ekstra fonksiyonlar ve özellikler ekleyebiliyor muyuz ? Örnek olması açısından **increase_salary** isimli bir metod ekleyelim."
   ]
  },
  {
   "cell_type": "code",
   "execution_count": 24,
   "id": "eight-webmaster",
   "metadata": {},
   "outputs": [],
   "source": [
    "class Manager(Personnel):\n",
    "    def increase_salary(self, increase_amount):\n",
    "        self.salary += increase_amount"
   ]
  },
  {
   "cell_type": "code",
   "execution_count": 25,
   "id": "charged-morning",
   "metadata": {},
   "outputs": [],
   "source": [
    "manager2 = Manager(\"Murat Uğur KİRAZ\", 3000, \"IT\") # yönetici objesi"
   ]
  },
  {
   "cell_type": "code",
   "execution_count": 27,
   "id": "piano-glasgow",
   "metadata": {},
   "outputs": [
    {
     "name": "stdout",
     "output_type": "stream",
     "text": [
      "\n",
      "İsim : Murat Uğur KİRAZ\n",
      "Maaş: 3000\n",
      "Departman: IT\n"
     ]
    }
   ],
   "source": [
    "print(manager2)"
   ]
  },
  {
   "cell_type": "markdown",
   "id": "loose-chrome",
   "metadata": {},
   "source": [
    "### Overriding (İptal Etme)\n",
    "\n",
    "Eğer miras alınan metodlar **aynı isimle** sınıf içinde tekrar tanımlanırsa ,  artık metot çağırıldığı zaman**sınıf içindeki belirlenen metod çalışacaktır.** Buna Nesne Tabanlı Programlamada bir metodu override etmek (ezmek) denmektedir.\n",
    "\n",
    "Örneğin artık Çalışan sınıfının **init** metodunu kullanmak yerine Yönetici sınıfında **init** metodunu override edebiliriz. Böylelikle Yönetici sınıfına ekstra özellikler(**attribute**) ekleyebiliriz."
   ]
  },
  {
   "cell_type": "code",
   "execution_count": 28,
   "id": "agricultural-consideration",
   "metadata": {},
   "outputs": [],
   "source": [
    "class Personnel():\n",
    "    def __init__(self, name, salary, department):        \n",
    "        self.name = name\n",
    "        self.salary = salary\n",
    "        self.department = department\n",
    "        \n",
    "    def __str__(self):        \n",
    "        \n",
    "        return \"\"\"\n",
    "İsim : {}\n",
    "Maaş: {}\n",
    "Departman: {}\"\"\".format(self.name,\n",
    "                        self.salary,\n",
    "                        self.department)\n",
    "    \n",
    "    def change_department(self, new_department):\n",
    "        self.department = new_department"
   ]
  },
  {
   "cell_type": "code",
   "execution_count": 29,
   "id": "elder-intake",
   "metadata": {},
   "outputs": [],
   "source": [
    "class Manager(Personnel):\n",
    "    \n",
    "    def __init__(self, name, salary, department, personnel_number): \n",
    "        print(\"Yönetici sınıfının init fonksiyonu\")\n",
    "        self.name = name\n",
    "        self.salary = salary\n",
    "        self.department = department\n",
    "        self.personnel_number = personnel_number # Yeni eklenen özellik\n",
    "    \n",
    "    def increase_salary(self, increase_amount):\n",
    "        self.maaş += increase_amount"
   ]
  },
  {
   "cell_type": "code",
   "execution_count": 30,
   "id": "criminal-windsor",
   "metadata": {},
   "outputs": [
    {
     "name": "stdout",
     "output_type": "stream",
     "text": [
      "Yönetici sınıfının init fonksiyonu\n"
     ]
    }
   ],
   "source": [
    "a = Manager(\"Murat Uğur KİRAZ\",3000,\"Bilişim\",10) # Yönetici sınıfının init fonksiyonu. Override edildi."
   ]
  },
  {
   "cell_type": "code",
   "execution_count": 31,
   "id": "stuck-tuition",
   "metadata": {},
   "outputs": [
    {
     "data": {
      "text/plain": [
       "['__class__',\n",
       " '__delattr__',\n",
       " '__dict__',\n",
       " '__dir__',\n",
       " '__doc__',\n",
       " '__eq__',\n",
       " '__format__',\n",
       " '__ge__',\n",
       " '__getattribute__',\n",
       " '__getstate__',\n",
       " '__gt__',\n",
       " '__hash__',\n",
       " '__init__',\n",
       " '__init_subclass__',\n",
       " '__le__',\n",
       " '__lt__',\n",
       " '__module__',\n",
       " '__ne__',\n",
       " '__new__',\n",
       " '__reduce__',\n",
       " '__reduce_ex__',\n",
       " '__repr__',\n",
       " '__setattr__',\n",
       " '__sizeof__',\n",
       " '__str__',\n",
       " '__subclasshook__',\n",
       " '__weakref__',\n",
       " 'change_department',\n",
       " 'department',\n",
       " 'increase_salary',\n",
       " 'name',\n",
       " 'personnel_number',\n",
       " 'salary']"
      ]
     },
     "execution_count": 31,
     "metadata": {},
     "output_type": "execute_result"
    }
   ],
   "source": [
    "dir(a)"
   ]
  },
  {
   "cell_type": "markdown",
   "id": "according-hearing",
   "metadata": {},
   "source": [
    "**give_information** metodunun override edilmesi."
   ]
  },
  {
   "cell_type": "code",
   "execution_count": 45,
   "id": "dressed-belly",
   "metadata": {},
   "outputs": [],
   "source": [
    "class Personnel():\n",
    "    def __init__(self, name, salary, department):        \n",
    "        self.name = name\n",
    "        self.salary = salary\n",
    "        self.department = department\n",
    "        \n",
    "    def give_information(self):\n",
    "        return self.name, self.salary, self.department\n",
    "        \n",
    "    def __str__(self):        \n",
    "        \n",
    "        return \"\"\"\n",
    "İsim : {}\n",
    "Maaş: {}\n",
    "Departman: {}\"\"\".format(self.name,\n",
    "                        self.salary,\n",
    "                        self.department)\n",
    "    \n",
    "    def change_department(self, new_department):\n",
    "        self.department = new_department"
   ]
  },
  {
   "cell_type": "code",
   "execution_count": 46,
   "id": "industrial-hampshire",
   "metadata": {},
   "outputs": [],
   "source": [
    "class Manager(Personnel):\n",
    "    \n",
    "    def __init__(self, name, salary, department, personnel_number): \n",
    "        print(\"Yönetici sınıfının init fonksiyonu\")\n",
    "        self.name = name\n",
    "        self.salary = salary\n",
    "        self.department = department\n",
    "        self.personnel_number = personnel_number # Yeni eklenen özellik\n",
    "    \n",
    "    def give_information(self):\n",
    "        return self.name, self.salary, self.department, self.personnel_number\n",
    "    \n",
    "    def increase_salary(self, increase_amount):\n",
    "        self.maaş += increase_amount"
   ]
  },
  {
   "cell_type": "code",
   "execution_count": 47,
   "id": "dimensional-telephone",
   "metadata": {},
   "outputs": [
    {
     "name": "stdout",
     "output_type": "stream",
     "text": [
      "Yönetici sınıfının init fonksiyonu\n"
     ]
    }
   ],
   "source": [
    "b =  Manager(\"Ahmet AKIN\", 2500, \"Pazarlama\", 5)"
   ]
  },
  {
   "cell_type": "code",
   "execution_count": 48,
   "id": "welcome-debate",
   "metadata": {},
   "outputs": [
    {
     "data": {
      "text/plain": [
       "('Ahmet AKIN', 2500, 'Pazarlama', 5)"
      ]
     },
     "execution_count": 48,
     "metadata": {},
     "output_type": "execute_result"
    }
   ],
   "source": [
    "b.give_information() #override edilmiş hali"
   ]
  },
  {
   "cell_type": "markdown",
   "id": "broke-visiting",
   "metadata": {},
   "source": [
    "# Super Anahtar Kelimesi\n",
    "\n",
    "**super** anahtar kelimesi özellikle override ettiğimiz bir metodun içinde aynı zamanda miras aldığımız bir metodu kullanmak istersek kullanılabilir. Yani **super** en genel anlamıyla miras aldığımız sınıfın metodlarını alt sınıflardan kullanmamızı sağlar. Hemen örnek üzerinden anlamaya çalışalım."
   ]
  },
  {
   "cell_type": "code",
   "execution_count": 49,
   "id": "compound-development",
   "metadata": {},
   "outputs": [],
   "source": [
    "class Personnel():\n",
    "    def __init__(self, name, salary, department):        \n",
    "        self.name = name\n",
    "        self.salary = salary\n",
    "        self.department = department\n",
    "        \n",
    "    def give_information(self):\n",
    "        return self.name, self.salary, self.department\n",
    "        \n",
    "    def __str__(self):        \n",
    "        \n",
    "        return \"\"\"\n",
    "İsim : {}\n",
    "Maaş: {}\n",
    "Departman: {}\"\"\".format(self.name,\n",
    "                        self.salary,\n",
    "                        self.department)\n",
    "    \n",
    "    def change_department(self, new_department):\n",
    "        self.department = new_department"
   ]
  },
  {
   "cell_type": "code",
   "execution_count": 50,
   "id": "sudden-squad",
   "metadata": {},
   "outputs": [],
   "source": [
    "class Manager(Personnel):\n",
    "    \n",
    "    def __init__(self, name, salary, department, personnel_number): \n",
    "        super().__init__(name, salary, department)\n",
    "        self.personnel_number = personnel_number # Yeni eklenen özellik\n",
    "    \n",
    "    def give_information(self):\n",
    "        return self.name, self.salary, self.department, self.personnel_number\n",
    "    \n",
    "    def increase_salary(self, increase_amount):\n",
    "        self.maaş += increase_amount"
   ]
  },
  {
   "cell_type": "markdown",
   "id": "younger-mounting",
   "metadata": {},
   "source": [
    "Burada **super().\\__init\\__()** diyerek Çalışan sınıfının metodunu **özel olarak çağırarak** isim, maaş , departman özelliklerini bu metodla belirledik."
   ]
  },
  {
   "cell_type": "code",
   "execution_count": 51,
   "id": "regulated-sense",
   "metadata": {},
   "outputs": [
    {
     "data": {
      "text/plain": [
       "('Oğuz Artıran', 3000, 'İnsan Kaynakları', 4)"
      ]
     },
     "execution_count": 51,
     "metadata": {},
     "output_type": "execute_result"
    }
   ],
   "source": [
    "c = Manager(\"Oğuz Artıran\", 3000, \"İnsan Kaynakları\", 4)\n",
    "c.give_information()"
   ]
  }
 ],
 "metadata": {
  "kernelspec": {
   "display_name": "Python 3 (ipykernel)",
   "language": "python",
   "name": "python3"
  },
  "language_info": {
   "codemirror_mode": {
    "name": "ipython",
    "version": 3
   },
   "file_extension": ".py",
   "mimetype": "text/x-python",
   "name": "python",
   "nbconvert_exporter": "python",
   "pygments_lexer": "ipython3",
   "version": "3.11.5"
  },
  "nbTranslate": {
   "displayLangs": [
    "en",
    "tr"
   ],
   "hotkey": "alt-t",
   "langInMainMenu": true,
   "sourceLang": "tr",
   "targetLang": "en",
   "useGoogleTranslate": true
  }
 },
 "nbformat": 4,
 "nbformat_minor": 5
}
