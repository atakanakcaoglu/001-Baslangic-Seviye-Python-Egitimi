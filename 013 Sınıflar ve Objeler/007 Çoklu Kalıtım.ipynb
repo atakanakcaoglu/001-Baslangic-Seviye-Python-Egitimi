{
 "cells": [
  {
   "cell_type": "markdown",
   "id": "470b163b",
   "metadata": {},
   "source": [
    "# Çoklu Kalıtım\n",
    "\n",
    "Python'da çoklu miras, bir sınıfın birden fazla temel sınıftan özellikler ve metotlar miras alabilme özelliğini ifade eder. Bu, yeni bir sınıfın birden çok ana sınıftan türetilebileceği anlamına gelir. Python çoklu mirası destekler ve dikkatlice kullanıldığında güçlü bir araç olabilir, çünkü bir sınıfa farklı sınıflardan özellikleri birleştirme imkanı tanır.\n",
    "\n",
    "İşte çoklu mirası açıklamak için temel bir örnek:"
   ]
  },
  {
   "cell_type": "code",
   "execution_count": 1,
   "id": "b9c5de4c",
   "metadata": {},
   "outputs": [
    {
     "name": "stdout",
     "output_type": "stream",
     "text": [
      "ClassA metodu\n",
      "ClassB metodu\n",
      "ClassC metodu\n"
     ]
    }
   ],
   "source": [
    "class ClassA:\n",
    "    def method_A(self):\n",
    "        print(\"ClassA metodu\")\n",
    "\n",
    "class ClassB:\n",
    "    def method_B(self):\n",
    "        print(\"ClassB metodu\")\n",
    "\n",
    "class ClassC(ClassA, ClassB):\n",
    "    def method_C(self):\n",
    "        print(\"ClassC metodu\")\n",
    "\n",
    "# ClassC örneğini oluşturma\n",
    "obj_C = ClassC()\n",
    "\n",
    "# Birden fazla ebeveyn sınıfından yöntemlere erişme\n",
    "obj_C.method_A()  # Çıktı: ClassA metodu\n",
    "obj_C.method_B()  # Çıktı: ClassB metodu\n",
    "obj_C.method_C()  # Çıktı: ClassC metodu"
   ]
  },
  {
   "cell_type": "markdown",
   "id": "2e3b2d79",
   "metadata": {},
   "source": [
    "Bu örnekte, **ClassC**, hem **ClassA** hem de **ClassB** sınıflarından türetilmiştir. Sonuç olarak, **ClassC**'nin bir nesnesi, hem **ClassA**'dan hem de **ClassB**'den metodlara erişebilir. Bu, çoklu mirasın temel fikrini gösterir.\n",
    "\n",
    "Ancak, çoklu miras, aynı metodun miras alınan birden çok yoldan gelmesine neden olabilecek zorluklara yol açabilir. Python, metodun çözümleme sırasını belirleyen bir yöntem olan \"Method Resolution Order\" (MRO) sağlar. **super()** fonksiyonu, MRO'yu gözeterek bir türetilmiş sınıftan üst sınıflardan metodları çağırmak için kullanılabilir.\n",
    "\n",
    "Çoklu mirasın kullanımında kodun okunabilirliğini, potansiyel çatışmaları ve karmaşık sistemleri tasarlarken miras yerine kompozisyon ilkesini göz önünde bulundurmak önemlidir."
   ]
  }
 ],
 "metadata": {
  "kernelspec": {
   "display_name": "Python 3 (ipykernel)",
   "language": "python",
   "name": "python3"
  },
  "language_info": {
   "codemirror_mode": {
    "name": "ipython",
    "version": 3
   },
   "file_extension": ".py",
   "mimetype": "text/x-python",
   "name": "python",
   "nbconvert_exporter": "python",
   "pygments_lexer": "ipython3",
   "version": "3.11.5"
  },
  "nbTranslate": {
   "displayLangs": [
    "en",
    "tr"
   ],
   "hotkey": "alt-t",
   "langInMainMenu": true,
   "sourceLang": "tr",
   "targetLang": "en",
   "useGoogleTranslate": true
  }
 },
 "nbformat": 4,
 "nbformat_minor": 5
}
